{
 "cells": [
  {
   "cell_type": "code",
   "execution_count": 1,
   "id": "dd9bd814",
   "metadata": {},
   "outputs": [],
   "source": [
    "import numpy as np\n",
    "import matplotlib.pyplot as plt\n",
    "import inspect"
   ]
  },
  {
   "cell_type": "code",
   "execution_count": 2,
   "id": "2439de23",
   "metadata": {},
   "outputs": [
    {
     "name": "stdout",
     "output_type": "stream",
     "text": [
      "['/Users/gali/anaconda3/envs/LIMEtf/lib/python310.zip', '/Users/gali/anaconda3/envs/LIMEtf/lib/python3.10', '/Users/gali/anaconda3/envs/LIMEtf/lib/python3.10/lib-dynload', '', '/Users/gali/anaconda3/envs/LIMEtf/lib/python3.10/site-packages', '/Users/gali/anaconda3/envs/LIMEtf/lib/python3.10/site-packages/setuptools/_vendor', '../', '../']\n"
     ]
    }
   ],
   "source": [
    "import importlib\n",
    "import sys\n",
    "sys.path.append('../')\n",
    "from Utils.perturbationsnew import RBPIndividual, RBPIndividualNew1, RBPIndividualNew1fast, RBPIndividualNew2, zeroPerturb, noisePerturb, blurPerturb,multisamplebackgroundIdentification\n",
    "from Utils.models import *\n",
    "from Utils.data import perturb, generateSynthetic, generateSyntheticPerturbReal,ReadTS\n",
    "\n",
    "print(sys.path)\n"
   ]
  },
  {
   "cell_type": "markdown",
   "id": "62b11ea0",
   "metadata": {},
   "source": [
    "## Test important content removal (accuracy decrease)"
   ]
  },
  {
   "cell_type": "markdown",
   "id": "5567ae62",
   "metadata": {},
   "source": [
    "### Load synthetic dataset and train CNN model "
   ]
  },
  {
   "cell_type": "code",
   "execution_count": 3,
   "id": "812c0d59",
   "metadata": {},
   "outputs": [
    {
     "name": "stdout",
     "output_type": "stream",
     "text": [
      "(200, 131, 1)\n"
     ]
    }
   ],
   "source": [
    "x_train, y_train,x_test_original, y_test_original = ReadTS('FacesUCR')\n",
    "y_train = y_train - 1\n",
    "y_test_original = y_test_original - 1\n",
    "print(x_train.shape)\n",
    "#print(y_train)"
   ]
  },
  {
   "cell_type": "code",
   "execution_count": 4,
   "id": "e74e1ca3-8fd2-4e4a-96a1-2ac583496cd7",
   "metadata": {},
   "outputs": [],
   "source": [
    "from sklearn.preprocessing import StandardScaler\n",
    "def normalize(TS):\n",
    "    # 获取原始数据集的形状\n",
    "    original_shape = TS.shape\n",
    "    \n",
    "    # 将数据集reshape成二维数组\n",
    "    TS_2d = TS.reshape(original_shape[0] , original_shape[1])\n",
    "    \n",
    "    # 初始化StandardScaler\n",
    "    scaler = StandardScaler()\n",
    "    \n",
    "    # 对数据集进行标准化\n",
    "    TS_normalized = scaler.fit_transform(TS_2d)\n",
    "    \n",
    "    # 将标准化后的数据集reshape回原始形状\n",
    "    TS = TS_normalized.reshape(original_shape)\n",
    "    \n",
    "    return TS\n",
    "\n",
    "x_train = normalize(x_train)\n",
    "x_test_original = normalize(x_test_original)\n",
    "#print(x_train)"
   ]
  },
  {
   "cell_type": "code",
   "execution_count": 5,
   "id": "c9911722",
   "metadata": {},
   "outputs": [
    {
     "name": "stdout",
     "output_type": "stream",
     "text": [
      "Epoch 1/100\n"
     ]
    },
    {
     "name": "stderr",
     "output_type": "stream",
     "text": [
      "2024-11-27 22:13:40.799615: W tensorflow/tsl/platform/profile_utils/cpu_utils.cc:128] Failed to get CPU frequency: 0 Hz\n"
     ]
    },
    {
     "name": "stdout",
     "output_type": "stream",
     "text": [
      "5/5 [==============================] - 0s 33ms/step - loss: 2.6774 - sparse_categorical_accuracy: 0.0938 - val_loss: 2.6256 - val_sparse_categorical_accuracy: 0.1250\n",
      "Epoch 2/100\n",
      "5/5 [==============================] - 0s 13ms/step - loss: 2.4765 - sparse_categorical_accuracy: 0.1625 - val_loss: 2.6126 - val_sparse_categorical_accuracy: 0.1250\n",
      "Epoch 3/100\n",
      "5/5 [==============================] - 0s 14ms/step - loss: 2.3697 - sparse_categorical_accuracy: 0.2250 - val_loss: 2.5984 - val_sparse_categorical_accuracy: 0.3250\n",
      "Epoch 4/100\n",
      "5/5 [==============================] - 0s 14ms/step - loss: 2.2957 - sparse_categorical_accuracy: 0.2688 - val_loss: 2.5828 - val_sparse_categorical_accuracy: 0.2750\n",
      "Epoch 5/100\n",
      "5/5 [==============================] - 0s 14ms/step - loss: 2.2330 - sparse_categorical_accuracy: 0.3250 - val_loss: 2.5665 - val_sparse_categorical_accuracy: 0.2000\n",
      "Epoch 6/100\n",
      "5/5 [==============================] - 0s 14ms/step - loss: 2.1809 - sparse_categorical_accuracy: 0.3562 - val_loss: 2.5496 - val_sparse_categorical_accuracy: 0.2000\n",
      "Epoch 7/100\n",
      "5/5 [==============================] - 0s 13ms/step - loss: 2.1133 - sparse_categorical_accuracy: 0.3625 - val_loss: 2.5348 - val_sparse_categorical_accuracy: 0.2000\n",
      "Epoch 8/100\n",
      "5/5 [==============================] - 0s 14ms/step - loss: 2.0769 - sparse_categorical_accuracy: 0.3500 - val_loss: 2.5195 - val_sparse_categorical_accuracy: 0.2000\n",
      "Epoch 9/100\n",
      "5/5 [==============================] - 0s 15ms/step - loss: 2.0377 - sparse_categorical_accuracy: 0.3625 - val_loss: 2.5097 - val_sparse_categorical_accuracy: 0.2000\n",
      "Epoch 10/100\n",
      "5/5 [==============================] - 0s 14ms/step - loss: 2.0219 - sparse_categorical_accuracy: 0.3500 - val_loss: 2.5034 - val_sparse_categorical_accuracy: 0.2000\n",
      "Epoch 11/100\n",
      "5/5 [==============================] - 0s 10ms/step - loss: 1.9739 - sparse_categorical_accuracy: 0.3750 - val_loss: 2.5090 - val_sparse_categorical_accuracy: 0.2000\n",
      "Epoch 12/100\n",
      "5/5 [==============================] - 0s 10ms/step - loss: 1.9491 - sparse_categorical_accuracy: 0.3812 - val_loss: 2.5235 - val_sparse_categorical_accuracy: 0.2000\n",
      "Epoch 13/100\n",
      "5/5 [==============================] - 0s 11ms/step - loss: 1.9184 - sparse_categorical_accuracy: 0.3938 - val_loss: 2.5497 - val_sparse_categorical_accuracy: 0.2000\n",
      "Epoch 14/100\n",
      "5/5 [==============================] - 0s 10ms/step - loss: 1.9029 - sparse_categorical_accuracy: 0.4250 - val_loss: 2.5871 - val_sparse_categorical_accuracy: 0.2000\n",
      "Epoch 15/100\n",
      "5/5 [==============================] - 0s 11ms/step - loss: 1.8760 - sparse_categorical_accuracy: 0.3875 - val_loss: 2.6289 - val_sparse_categorical_accuracy: 0.2000\n",
      "Epoch 16/100\n",
      "5/5 [==============================] - 0s 10ms/step - loss: 1.8702 - sparse_categorical_accuracy: 0.4187 - val_loss: 2.6776 - val_sparse_categorical_accuracy: 0.2000\n",
      "Epoch 17/100\n",
      "5/5 [==============================] - 0s 12ms/step - loss: 1.8346 - sparse_categorical_accuracy: 0.4250 - val_loss: 2.7407 - val_sparse_categorical_accuracy: 0.2000\n",
      "Epoch 18/100\n",
      "5/5 [==============================] - 0s 10ms/step - loss: 1.8049 - sparse_categorical_accuracy: 0.4375 - val_loss: 2.8035 - val_sparse_categorical_accuracy: 0.2000\n",
      "Epoch 19/100\n",
      "5/5 [==============================] - 0s 10ms/step - loss: 1.7929 - sparse_categorical_accuracy: 0.4250 - val_loss: 2.8587 - val_sparse_categorical_accuracy: 0.2000\n",
      "Epoch 20/100\n",
      "5/5 [==============================] - 0s 11ms/step - loss: 1.7805 - sparse_categorical_accuracy: 0.4500 - val_loss: 2.9041 - val_sparse_categorical_accuracy: 0.2000\n",
      "Epoch 21/100\n",
      "5/5 [==============================] - 0s 11ms/step - loss: 1.7698 - sparse_categorical_accuracy: 0.4563 - val_loss: 2.9787 - val_sparse_categorical_accuracy: 0.2000\n",
      "Epoch 22/100\n",
      "5/5 [==============================] - 0s 11ms/step - loss: 1.7403 - sparse_categorical_accuracy: 0.4812 - val_loss: 3.0621 - val_sparse_categorical_accuracy: 0.2000\n",
      "Epoch 23/100\n",
      "5/5 [==============================] - 0s 10ms/step - loss: 1.7445 - sparse_categorical_accuracy: 0.4500 - val_loss: 3.1268 - val_sparse_categorical_accuracy: 0.2000\n",
      "Epoch 24/100\n",
      "5/5 [==============================] - 0s 11ms/step - loss: 1.7046 - sparse_categorical_accuracy: 0.4375 - val_loss: 3.1883 - val_sparse_categorical_accuracy: 0.2000\n",
      "Epoch 25/100\n",
      "5/5 [==============================] - 0s 12ms/step - loss: 1.7005 - sparse_categorical_accuracy: 0.5312 - val_loss: 3.2605 - val_sparse_categorical_accuracy: 0.2000\n",
      "Epoch 26/100\n",
      "5/5 [==============================] - 0s 11ms/step - loss: 1.6686 - sparse_categorical_accuracy: 0.4812 - val_loss: 3.3433 - val_sparse_categorical_accuracy: 0.2000\n",
      "Epoch 27/100\n",
      "5/5 [==============================] - 0s 11ms/step - loss: 1.6721 - sparse_categorical_accuracy: 0.4875 - val_loss: 3.3932 - val_sparse_categorical_accuracy: 0.2000\n",
      "Epoch 28/100\n",
      "5/5 [==============================] - 0s 11ms/step - loss: 1.6371 - sparse_categorical_accuracy: 0.5250 - val_loss: 3.4569 - val_sparse_categorical_accuracy: 0.2000\n",
      "Epoch 29/100\n",
      "5/5 [==============================] - 0s 11ms/step - loss: 1.6191 - sparse_categorical_accuracy: 0.5063 - val_loss: 3.5509 - val_sparse_categorical_accuracy: 0.2000\n",
      "Epoch 30/100\n",
      "5/5 [==============================] - 0s 11ms/step - loss: 1.6309 - sparse_categorical_accuracy: 0.5125 - val_loss: 3.6067 - val_sparse_categorical_accuracy: 0.2000\n",
      "Epoch 31/100\n",
      "5/5 [==============================] - 0s 10ms/step - loss: 1.6189 - sparse_categorical_accuracy: 0.5125 - val_loss: 3.6634 - val_sparse_categorical_accuracy: 0.2000\n",
      "Epoch 32/100\n",
      "5/5 [==============================] - 0s 11ms/step - loss: 1.5861 - sparse_categorical_accuracy: 0.5437 - val_loss: 3.7069 - val_sparse_categorical_accuracy: 0.2000\n",
      "Epoch 33/100\n",
      "5/5 [==============================] - 0s 11ms/step - loss: 1.5875 - sparse_categorical_accuracy: 0.5312 - val_loss: 3.6685 - val_sparse_categorical_accuracy: 0.2000\n",
      "Epoch 34/100\n",
      "5/5 [==============================] - 0s 11ms/step - loss: 1.5707 - sparse_categorical_accuracy: 0.5437 - val_loss: 3.7330 - val_sparse_categorical_accuracy: 0.2000\n",
      "Epoch 35/100\n",
      "5/5 [==============================] - 0s 11ms/step - loss: 1.5484 - sparse_categorical_accuracy: 0.5750 - val_loss: 3.8025 - val_sparse_categorical_accuracy: 0.2000\n",
      "Epoch 36/100\n",
      "5/5 [==============================] - 0s 14ms/step - loss: 1.5192 - sparse_categorical_accuracy: 0.5875 - val_loss: 3.7889 - val_sparse_categorical_accuracy: 0.2000\n",
      "Epoch 37/100\n",
      "5/5 [==============================] - 0s 12ms/step - loss: 1.5061 - sparse_categorical_accuracy: 0.5688 - val_loss: 3.8280 - val_sparse_categorical_accuracy: 0.2000\n",
      "Epoch 38/100\n",
      "5/5 [==============================] - 0s 10ms/step - loss: 1.5086 - sparse_categorical_accuracy: 0.6187 - val_loss: 3.7716 - val_sparse_categorical_accuracy: 0.2000\n",
      "Epoch 39/100\n",
      "5/5 [==============================] - 0s 12ms/step - loss: 1.4800 - sparse_categorical_accuracy: 0.5938 - val_loss: 3.9023 - val_sparse_categorical_accuracy: 0.2000\n",
      "Epoch 40/100\n",
      "5/5 [==============================] - 0s 12ms/step - loss: 1.4747 - sparse_categorical_accuracy: 0.5938 - val_loss: 3.8537 - val_sparse_categorical_accuracy: 0.2000\n",
      "Epoch 41/100\n",
      "5/5 [==============================] - 0s 10ms/step - loss: 1.4707 - sparse_categorical_accuracy: 0.6187 - val_loss: 3.9028 - val_sparse_categorical_accuracy: 0.2000\n",
      "Epoch 42/100\n",
      "5/5 [==============================] - 0s 10ms/step - loss: 1.4775 - sparse_categorical_accuracy: 0.6500 - val_loss: 3.9859 - val_sparse_categorical_accuracy: 0.2000\n",
      "Epoch 43/100\n",
      "5/5 [==============================] - 0s 10ms/step - loss: 1.4253 - sparse_categorical_accuracy: 0.6812 - val_loss: 3.7721 - val_sparse_categorical_accuracy: 0.2000\n",
      "Epoch 44/100\n",
      "5/5 [==============================] - 0s 12ms/step - loss: 1.4182 - sparse_categorical_accuracy: 0.6375 - val_loss: 3.8362 - val_sparse_categorical_accuracy: 0.2000\n",
      "Epoch 45/100\n",
      "5/5 [==============================] - 0s 12ms/step - loss: 1.3936 - sparse_categorical_accuracy: 0.6750 - val_loss: 3.9023 - val_sparse_categorical_accuracy: 0.2000\n",
      "Epoch 46/100\n",
      "5/5 [==============================] - 0s 11ms/step - loss: 1.3992 - sparse_categorical_accuracy: 0.6375 - val_loss: 3.9129 - val_sparse_categorical_accuracy: 0.2000\n",
      "Epoch 47/100\n",
      "5/5 [==============================] - 0s 12ms/step - loss: 1.3813 - sparse_categorical_accuracy: 0.6562 - val_loss: 3.7439 - val_sparse_categorical_accuracy: 0.2000\n",
      "Epoch 48/100\n",
      "5/5 [==============================] - 0s 11ms/step - loss: 1.4111 - sparse_categorical_accuracy: 0.6687 - val_loss: 3.7981 - val_sparse_categorical_accuracy: 0.2000\n",
      "Epoch 49/100\n",
      "5/5 [==============================] - 0s 12ms/step - loss: 1.4119 - sparse_categorical_accuracy: 0.6438 - val_loss: 3.7991 - val_sparse_categorical_accuracy: 0.2000\n",
      "Epoch 50/100\n",
      "5/5 [==============================] - 0s 11ms/step - loss: 1.3683 - sparse_categorical_accuracy: 0.6750 - val_loss: 3.6975 - val_sparse_categorical_accuracy: 0.2000\n",
      "Epoch 51/100\n",
      "5/5 [==============================] - 0s 11ms/step - loss: 1.3315 - sparse_categorical_accuracy: 0.6750 - val_loss: 3.7163 - val_sparse_categorical_accuracy: 0.2250\n",
      "Epoch 52/100\n",
      "5/5 [==============================] - 0s 11ms/step - loss: 1.3392 - sparse_categorical_accuracy: 0.6812 - val_loss: 3.8363 - val_sparse_categorical_accuracy: 0.2250\n",
      "Epoch 53/100\n",
      "5/5 [==============================] - 0s 11ms/step - loss: 1.3226 - sparse_categorical_accuracy: 0.7063 - val_loss: 3.7108 - val_sparse_categorical_accuracy: 0.2250\n",
      "Epoch 54/100\n",
      "5/5 [==============================] - 0s 11ms/step - loss: 1.3386 - sparse_categorical_accuracy: 0.6625 - val_loss: 3.6156 - val_sparse_categorical_accuracy: 0.2250\n",
      "Epoch 55/100\n",
      "5/5 [==============================] - 0s 11ms/step - loss: 1.2942 - sparse_categorical_accuracy: 0.7125 - val_loss: 3.8061 - val_sparse_categorical_accuracy: 0.2250\n",
      "Epoch 56/100\n",
      "5/5 [==============================] - 0s 10ms/step - loss: 1.2573 - sparse_categorical_accuracy: 0.7125 - val_loss: 3.5335 - val_sparse_categorical_accuracy: 0.2500\n",
      "Epoch 57/100\n",
      "5/5 [==============================] - 0s 11ms/step - loss: 1.2718 - sparse_categorical_accuracy: 0.7125 - val_loss: 3.4555 - val_sparse_categorical_accuracy: 0.2250\n",
      "Epoch 58/100\n",
      "5/5 [==============================] - 0s 10ms/step - loss: 1.2428 - sparse_categorical_accuracy: 0.7312 - val_loss: 3.6698 - val_sparse_categorical_accuracy: 0.2250\n",
      "Epoch 59/100\n",
      "5/5 [==============================] - 0s 11ms/step - loss: 1.2422 - sparse_categorical_accuracy: 0.7125 - val_loss: 3.5524 - val_sparse_categorical_accuracy: 0.2250\n",
      "Epoch 60/100\n",
      "5/5 [==============================] - 0s 11ms/step - loss: 1.2258 - sparse_categorical_accuracy: 0.7250 - val_loss: 3.4470 - val_sparse_categorical_accuracy: 0.2250\n",
      "Epoch 61/100\n",
      "5/5 [==============================] - 0s 11ms/step - loss: 1.2120 - sparse_categorical_accuracy: 0.7312 - val_loss: 3.4749 - val_sparse_categorical_accuracy: 0.2500\n",
      "Epoch 62/100\n",
      "5/5 [==============================] - 0s 11ms/step - loss: 1.2092 - sparse_categorical_accuracy: 0.7063 - val_loss: 3.5208 - val_sparse_categorical_accuracy: 0.2500\n",
      "Epoch 63/100\n",
      "5/5 [==============================] - 0s 11ms/step - loss: 1.1737 - sparse_categorical_accuracy: 0.7688 - val_loss: 3.2899 - val_sparse_categorical_accuracy: 0.2250\n",
      "Epoch 64/100\n",
      "5/5 [==============================] - 0s 11ms/step - loss: 1.1583 - sparse_categorical_accuracy: 0.7437 - val_loss: 3.4320 - val_sparse_categorical_accuracy: 0.2500\n",
      "Epoch 65/100\n",
      "5/5 [==============================] - 0s 11ms/step - loss: 1.1894 - sparse_categorical_accuracy: 0.7500 - val_loss: 3.3685 - val_sparse_categorical_accuracy: 0.2500\n",
      "Epoch 66/100\n",
      "5/5 [==============================] - 0s 11ms/step - loss: 1.1527 - sparse_categorical_accuracy: 0.7500 - val_loss: 3.2802 - val_sparse_categorical_accuracy: 0.2500\n",
      "Epoch 67/100\n",
      "5/5 [==============================] - 0s 11ms/step - loss: 1.1264 - sparse_categorical_accuracy: 0.7625 - val_loss: 3.1352 - val_sparse_categorical_accuracy: 0.2500\n",
      "Epoch 68/100\n",
      "5/5 [==============================] - 0s 11ms/step - loss: 1.1440 - sparse_categorical_accuracy: 0.7437 - val_loss: 3.0571 - val_sparse_categorical_accuracy: 0.2500\n",
      "Epoch 69/100\n",
      "5/5 [==============================] - 0s 11ms/step - loss: 1.1204 - sparse_categorical_accuracy: 0.7688 - val_loss: 3.0592 - val_sparse_categorical_accuracy: 0.2250\n",
      "Epoch 70/100\n",
      "5/5 [==============================] - 0s 11ms/step - loss: 1.1462 - sparse_categorical_accuracy: 0.7375 - val_loss: 2.9567 - val_sparse_categorical_accuracy: 0.2500\n",
      "Epoch 71/100\n",
      "5/5 [==============================] - 0s 12ms/step - loss: 1.1031 - sparse_categorical_accuracy: 0.7812 - val_loss: 3.0074 - val_sparse_categorical_accuracy: 0.2250\n",
      "Epoch 72/100\n",
      "5/5 [==============================] - 0s 12ms/step - loss: 1.0745 - sparse_categorical_accuracy: 0.7875 - val_loss: 2.9443 - val_sparse_categorical_accuracy: 0.2250\n",
      "Epoch 73/100\n",
      "5/5 [==============================] - 0s 12ms/step - loss: 1.0895 - sparse_categorical_accuracy: 0.7750 - val_loss: 2.9714 - val_sparse_categorical_accuracy: 0.1000\n",
      "Epoch 74/100\n",
      "5/5 [==============================] - 0s 12ms/step - loss: 1.0835 - sparse_categorical_accuracy: 0.7625 - val_loss: 2.8590 - val_sparse_categorical_accuracy: 0.2250\n",
      "Epoch 75/100\n",
      "5/5 [==============================] - 0s 12ms/step - loss: 1.0613 - sparse_categorical_accuracy: 0.7312 - val_loss: 2.8938 - val_sparse_categorical_accuracy: 0.1500\n",
      "Epoch 76/100\n",
      "5/5 [==============================] - 0s 11ms/step - loss: 1.0545 - sparse_categorical_accuracy: 0.7875 - val_loss: 2.6538 - val_sparse_categorical_accuracy: 0.1750\n",
      "Epoch 77/100\n",
      "5/5 [==============================] - 0s 11ms/step - loss: 1.0322 - sparse_categorical_accuracy: 0.8000 - val_loss: 2.5970 - val_sparse_categorical_accuracy: 0.1500\n",
      "Epoch 78/100\n",
      "5/5 [==============================] - 0s 11ms/step - loss: 1.0053 - sparse_categorical_accuracy: 0.8062 - val_loss: 2.7500 - val_sparse_categorical_accuracy: 0.1500\n",
      "Epoch 79/100\n",
      "5/5 [==============================] - 0s 14ms/step - loss: 1.0010 - sparse_categorical_accuracy: 0.7937 - val_loss: 2.4541 - val_sparse_categorical_accuracy: 0.1750\n",
      "Epoch 80/100\n",
      "5/5 [==============================] - 0s 11ms/step - loss: 1.0548 - sparse_categorical_accuracy: 0.7563 - val_loss: 2.5048 - val_sparse_categorical_accuracy: 0.2250\n",
      "Epoch 81/100\n",
      "5/5 [==============================] - 0s 11ms/step - loss: 0.9736 - sparse_categorical_accuracy: 0.8125 - val_loss: 2.5256 - val_sparse_categorical_accuracy: 0.1500\n",
      "Epoch 82/100\n",
      "5/5 [==============================] - 0s 14ms/step - loss: 0.9572 - sparse_categorical_accuracy: 0.7875 - val_loss: 2.2238 - val_sparse_categorical_accuracy: 0.2500\n",
      "Epoch 83/100\n",
      "5/5 [==============================] - 0s 17ms/step - loss: 0.9877 - sparse_categorical_accuracy: 0.8000 - val_loss: 2.2307 - val_sparse_categorical_accuracy: 0.2500\n",
      "Epoch 84/100\n",
      "5/5 [==============================] - 0s 11ms/step - loss: 0.9581 - sparse_categorical_accuracy: 0.7750 - val_loss: 2.2882 - val_sparse_categorical_accuracy: 0.1750\n",
      "Epoch 85/100\n",
      "5/5 [==============================] - 0s 14ms/step - loss: 0.9563 - sparse_categorical_accuracy: 0.8250 - val_loss: 2.1748 - val_sparse_categorical_accuracy: 0.1500\n",
      "Epoch 86/100\n",
      "5/5 [==============================] - 0s 12ms/step - loss: 0.9518 - sparse_categorical_accuracy: 0.8062 - val_loss: 2.2671 - val_sparse_categorical_accuracy: 0.2500\n",
      "Epoch 87/100\n",
      "5/5 [==============================] - 0s 11ms/step - loss: 0.9344 - sparse_categorical_accuracy: 0.7875 - val_loss: 2.4851 - val_sparse_categorical_accuracy: 0.2250\n",
      "Epoch 88/100\n",
      "5/5 [==============================] - 0s 15ms/step - loss: 0.9617 - sparse_categorical_accuracy: 0.7937 - val_loss: 2.1329 - val_sparse_categorical_accuracy: 0.2000\n",
      "Epoch 89/100\n",
      "5/5 [==============================] - 0s 17ms/step - loss: 0.9369 - sparse_categorical_accuracy: 0.7812 - val_loss: 2.0790 - val_sparse_categorical_accuracy: 0.3250\n",
      "Epoch 90/100\n",
      "5/5 [==============================] - 0s 12ms/step - loss: 0.8964 - sparse_categorical_accuracy: 0.7812 - val_loss: 2.1493 - val_sparse_categorical_accuracy: 0.3000\n",
      "Epoch 91/100\n",
      "5/5 [==============================] - 0s 12ms/step - loss: 0.9316 - sparse_categorical_accuracy: 0.7937 - val_loss: 2.4527 - val_sparse_categorical_accuracy: 0.1750\n",
      "Epoch 92/100\n",
      "5/5 [==============================] - 0s 14ms/step - loss: 0.8898 - sparse_categorical_accuracy: 0.8250 - val_loss: 2.0392 - val_sparse_categorical_accuracy: 0.3500\n",
      "Epoch 93/100\n",
      "5/5 [==============================] - 0s 11ms/step - loss: 0.8745 - sparse_categorical_accuracy: 0.8062 - val_loss: 2.1016 - val_sparse_categorical_accuracy: 0.3250\n",
      "Epoch 94/100\n",
      "5/5 [==============================] - 0s 15ms/step - loss: 0.8631 - sparse_categorical_accuracy: 0.8188 - val_loss: 1.9764 - val_sparse_categorical_accuracy: 0.3750\n",
      "Epoch 95/100\n",
      "5/5 [==============================] - 0s 11ms/step - loss: 0.8594 - sparse_categorical_accuracy: 0.8250 - val_loss: 2.1551 - val_sparse_categorical_accuracy: 0.3250\n",
      "Epoch 96/100\n",
      "5/5 [==============================] - 0s 11ms/step - loss: 0.8452 - sparse_categorical_accuracy: 0.8500 - val_loss: 2.1674 - val_sparse_categorical_accuracy: 0.3500\n",
      "Epoch 97/100\n",
      "5/5 [==============================] - 0s 11ms/step - loss: 0.8179 - sparse_categorical_accuracy: 0.8375 - val_loss: 2.0656 - val_sparse_categorical_accuracy: 0.4000\n",
      "Epoch 98/100\n",
      "5/5 [==============================] - 0s 11ms/step - loss: 0.8585 - sparse_categorical_accuracy: 0.7937 - val_loss: 2.1549 - val_sparse_categorical_accuracy: 0.3250\n",
      "Epoch 99/100\n",
      "5/5 [==============================] - 0s 12ms/step - loss: 0.8459 - sparse_categorical_accuracy: 0.8188 - val_loss: 2.3320 - val_sparse_categorical_accuracy: 0.3500\n",
      "Epoch 100/100\n",
      "5/5 [==============================] - 0s 11ms/step - loss: 0.8281 - sparse_categorical_accuracy: 0.8375 - val_loss: 1.9864 - val_sparse_categorical_accuracy: 0.4250\n"
     ]
    }
   ],
   "source": [
    "model = make_CNN_model(x_train.shape[1:],num_classes = 14)\n",
    "trained_model, history = train_CNN_model(model, x_train, y_train, epochs=100, batch_size=32)"
   ]
  },
  {
   "cell_type": "code",
   "execution_count": 6,
   "id": "227e6120",
   "metadata": {},
   "outputs": [
    {
     "name": "stdout",
     "output_type": "stream",
     "text": [
      "65/65 [==============================] - 0s 2ms/step - loss: 2.1411 - sparse_categorical_accuracy: 0.3478\n",
      "Test accuracy 0.34780487418174744\n",
      "Test loss 2.1410679817199707\n"
     ]
    }
   ],
   "source": [
    "test_loss, test_acc = trained_model.evaluate(x_test_original, y_test_original)\n",
    "\n",
    "print(\"Test accuracy\", test_acc)\n",
    "print(\"Test loss\", test_loss)"
   ]
  },
  {
   "cell_type": "markdown",
   "id": "4773dace",
   "metadata": {},
   "source": [
    "### Create perturbed test sets and calculate decrease in accuracy"
   ]
  },
  {
   "cell_type": "code",
   "execution_count": 7,
   "id": "b854bfe4-2303-44a0-bef5-eb3c738da9e9",
   "metadata": {},
   "outputs": [
    {
     "name": "stdout",
     "output_type": "stream",
     "text": [
      "(2050,)\n"
     ]
    }
   ],
   "source": [
    "print(y_test_original.shape)"
   ]
  },
  {
   "cell_type": "code",
   "execution_count": 8,
   "id": "ffd7c678-03f4-47ae-a1f9-45e0c185580e",
   "metadata": {},
   "outputs": [
    {
     "name": "stdout",
     "output_type": "stream",
     "text": [
      "def perturb(perturbation_strategy, ts, index0, index1, global_ts = [],bg = []):\n",
      "    if perturbation_strategy == 'RBP':\n",
      "        return RBPIndividual(ts, index0, index1)\n",
      "    if perturbation_strategy == 'zero':\n",
      "        return zeroPerturb(ts, index0, index1)\n",
      "    if perturbation_strategy == 'noise':\n",
      "        return noisePerturb(ts, index0, index1)\n",
      "    if perturbation_strategy == 'blur':\n",
      "        return blurPerturb(ts, index0, index1)\n",
      "    if perturbation_strategy == 'RBP1':\n",
      "        return RBPIndividualNew1(global_ts, ts, index0, index1) \n",
      "    if perturbation_strategy == 'RBP1fast':\n",
      "        return RBPIndividualNew1fast(bg, ts, index0, index1)  \n",
      "    if perturbation_strategy == 'RBP2':\n",
      "        return RBPIndividualNew2(global_ts, ts, index0, index1)    \n",
      "\n",
      "(perturbation_strategy, ts, index0, index1, global_ts=[], bg=[])\n"
     ]
    }
   ],
   "source": [
    "print(inspect.getsource(perturb))\n",
    "print(inspect.signature(perturb))"
   ]
  },
  {
   "cell_type": "code",
   "execution_count": 15,
   "id": "4c579fb7",
   "metadata": {},
   "outputs": [
    {
     "name": "stdout",
     "output_type": "stream",
     "text": [
      "65/65 [==============================] - 0s 2ms/step\n",
      "65/65 [==============================] - 0s 2ms/step\n",
      "65/65 [==============================] - 0s 2ms/step\n",
      "65/65 [==============================] - 0s 2ms/step\n",
      "65/65 [==============================] - 0s 2ms/step\n",
      "65/65 [==============================] - 0s 2ms/step\n"
     ]
    }
   ],
   "source": [
    "predictions_original = model.predict(x_test_original)\n",
    "perturb_test_set = x_test_original.copy()\n",
    "perturb_test_set = perturb_test_set.reshape(x_test_original.shape[0:2])\n",
    "index_0 = 50\n",
    "index_1 = 130\n",
    "x_test_rbp = np.asarray([perturb('RBP',x,index_0,index_1) for x in perturb_test_set])\n",
    "x_test_rbp = np.expand_dims(x_test_rbp, axis=-1)\n",
    "predictions_rbp = model.predict(x_test_rbp)\n",
    "\n",
    "bg = multisamplebackgroundIdentification(perturb_test_set)\n",
    "x_test_new1 = np.asarray([perturb('RBP1fast',x,index_0,index_1, bg = bg) for x in perturb_test_set])\n",
    "x_test_new1 = np.expand_dims(x_test_new1, axis=-1)\n",
    "predictions_new1 = model.predict(x_test_new1)\n",
    "\n",
    "#x_test_new2 = np.asarray([perturb('RBP2',x,400,500, global_ts = perturb_test_set) for x in perturb_test_set])\n",
    "#x_test_new2 = np.expand_dims(x_test_new2, axis=-1)\n",
    "#predictions_new2 = model.predict(x_test_new2)\n",
    "\n",
    "x_test_zero = np.asarray([perturb('zero',x,index_0,index_1) for x in perturb_test_set])\n",
    "x_test_zero = np.expand_dims(x_test_zero, axis=-1)\n",
    "predictions_zero = model.predict(x_test_zero)\n",
    "\n",
    "x_test_noise = np.asarray([perturb('noise',x,index_0,index_1) for x in perturb_test_set])\n",
    "x_test_noise = np.expand_dims(x_test_noise, axis=-1)\n",
    "predictions_noise = model.predict(x_test_noise)\n",
    "\n",
    "x_test_blur = np.asarray([perturb('blur',x,index_0,index_1) for x in perturb_test_set])\n",
    "x_test_blur = np.expand_dims(x_test_blur, axis=-1)\n",
    "predictions_blur = model.predict(x_test_blur)"
   ]
  },
  {
   "cell_type": "code",
   "execution_count": 16,
   "id": "069af343-0cfa-4787-b5d4-170f885bb59d",
   "metadata": {},
   "outputs": [
    {
     "name": "stdout",
     "output_type": "stream",
     "text": [
      "8.544493105814473\n",
      "9.051165714831782\n",
      "8.767890334563674\n",
      "15.249271813083359\n",
      "2.0248742069757024\n"
     ]
    }
   ],
   "source": [
    "def l2norm(perturb):\n",
    "    # 计算两个数组之间的差\n",
    "    difference = perturb - x_test_original\n",
    "    \n",
    "    # 计算差的平方\n",
    "    squared_difference = np.square(difference)\n",
    "    \n",
    "    # 计算平方和，沿着特征维度（axis=1），因为每个时间序列样本是一行\n",
    "    sum_of_squares = np.sum(squared_difference, axis=1)\n",
    "    \n",
    "    # 计算平方和的平方根，即l2范数\n",
    "    l2_norms = np.sqrt(sum_of_squares)\n",
    "    \n",
    "    average_l2_norm = np.mean(l2_norms)\n",
    "    \n",
    "    # l2_norms现在是一个形状为(467,)的数组，其中每个元素代表\n",
    "    # 对应时间序列样本之间的l2范数\n",
    "    print(average_l2_norm)  # 输出: (467,)\n",
    "\n",
    "l2norm(x_test_rbp)\n",
    "l2norm(x_test_new1)\n",
    "l2norm(x_test_zero)\n",
    "l2norm(x_test_noise)\n",
    "l2norm(x_test_blur)"
   ]
  },
  {
   "cell_type": "code",
   "execution_count": 17,
   "id": "b5d3f821",
   "metadata": {},
   "outputs": [],
   "source": [
    "def accuracy(predictions, labels):\n",
    "    hits = 0\n",
    "    for i in range(0,len(predictions)):\n",
    "        if predictions[i] == labels[i]:\n",
    "            hits += 1\n",
    "    return hits/len(predictions)"
   ]
  },
  {
   "cell_type": "code",
   "execution_count": 18,
   "id": "89f21d47",
   "metadata": {},
   "outputs": [],
   "source": [
    "original_accuracy = accuracy(np.argmax(predictions_original,axis=1), y_test_original)\n",
    "rbp_accuracy = accuracy(np.argmax(predictions_rbp,axis=1), y_test_original)\n",
    "new1_accuracy = accuracy(np.argmax(predictions_new1,axis=1), y_test_original)\n",
    "#new2_accuracy = accuracy(np.argmax(predictions_new2,axis=1), y_test_original)\n",
    "zero_accuracy = accuracy(np.argmax(predictions_zero,axis=1), y_test_original)\n",
    "noise_accuracy = accuracy(np.argmax(predictions_noise,axis=1), y_test_original)\n",
    "blur_accuracy = accuracy(np.argmax(predictions_blur,axis=1), y_test_original)"
   ]
  },
  {
   "cell_type": "code",
   "execution_count": 19,
   "id": "e52c9d2e",
   "metadata": {},
   "outputs": [
    {
     "name": "stdout",
     "output_type": "stream",
     "text": [
      " Original Accuracy: 0.34780487804878046\n",
      " RBP Accuracy: 0.21073170731707316\n",
      " RBP1 Accuracy: 0.22585365853658537\n",
      " Zero Accuracy: 0.22682926829268293\n",
      " Noise Accuracy: 0.21073170731707316\n",
      " Blur Accuracy: 0.2990243902439024\n",
      "\n"
     ]
    }
   ],
   "source": [
    "print(\" Original Accuracy: \" + str(original_accuracy) + \"\\n\"+\n",
    "    \" RBP Accuracy: \" + str(rbp_accuracy) + \"\\n\"+\n",
    "    \" RBP1 Accuracy: \" + str(new1_accuracy) + \"\\n\"+\n",
    "    #\" RBP2 Accuracy: \" + str(new2_accuracy) + \"\\n\"+\n",
    "      \n",
    "    \" Zero Accuracy: \" + str(zero_accuracy) + \"\\n\"+\n",
    "    \" Noise Accuracy: \" + str(noise_accuracy) + \"\\n\"+\n",
    "    \" Blur Accuracy: \" + str(blur_accuracy) + \"\\n\")"
   ]
  },
  {
   "cell_type": "code",
   "execution_count": 14,
   "id": "e18874a3-32bc-4bb2-bacc-39a08199afe1",
   "metadata": {},
   "outputs": [
    {
     "name": "stdout",
     "output_type": "stream",
     "text": [
      "[7 2 2 ... 2 7 2]\n"
     ]
    }
   ],
   "source": [
    "print(np.argmax(predictions_new1,axis=1))"
   ]
  },
  {
   "cell_type": "code",
   "execution_count": null,
   "id": "99c74079-57bd-4e84-8e1a-aafa1704e5a9",
   "metadata": {},
   "outputs": [],
   "source": []
  }
 ],
 "metadata": {
  "kernelspec": {
   "display_name": "lime_tf",
   "language": "python",
   "name": "limetf"
  },
  "language_info": {
   "codemirror_mode": {
    "name": "ipython",
    "version": 3
   },
   "file_extension": ".py",
   "mimetype": "text/x-python",
   "name": "python",
   "nbconvert_exporter": "python",
   "pygments_lexer": "ipython3",
   "version": "3.10.13"
  }
 },
 "nbformat": 4,
 "nbformat_minor": 5
}
