{
 "cells": [
  {
   "cell_type": "code",
   "execution_count": 1,
   "id": "dd9bd814",
   "metadata": {},
   "outputs": [],
   "source": [
    "import numpy as np\n",
    "import matplotlib.pyplot as plt\n",
    "import inspect"
   ]
  },
  {
   "cell_type": "code",
   "execution_count": 2,
   "id": "2439de23",
   "metadata": {},
   "outputs": [
    {
     "name": "stdout",
     "output_type": "stream",
     "text": [
      "['/Users/gali/anaconda3/envs/LIMEtf/lib/python310.zip', '/Users/gali/anaconda3/envs/LIMEtf/lib/python3.10', '/Users/gali/anaconda3/envs/LIMEtf/lib/python3.10/lib-dynload', '', '/Users/gali/anaconda3/envs/LIMEtf/lib/python3.10/site-packages', '/Users/gali/anaconda3/envs/LIMEtf/lib/python3.10/site-packages/setuptools/_vendor', '../', '../']\n"
     ]
    }
   ],
   "source": [
    "import importlib\n",
    "import sys\n",
    "sys.path.append('../')\n",
    "from Utils.perturbationsnew import RBPIndividual, RBPIndividualNew1, RBPIndividualNew2, zeroPerturb, noisePerturb, blurPerturb\n",
    "from Utils.models import *\n",
    "from Utils.data import perturb, generateSynthetic, generateSyntheticPerturbReal,ReadTS\n",
    "\n",
    "print(sys.path)\n"
   ]
  },
  {
   "cell_type": "markdown",
   "id": "62b11ea0",
   "metadata": {},
   "source": [
    "## Test important content removal (accuracy decrease)"
   ]
  },
  {
   "cell_type": "markdown",
   "id": "5567ae62",
   "metadata": {},
   "source": [
    "### Load synthetic dataset and train CNN model "
   ]
  },
  {
   "cell_type": "code",
   "execution_count": 3,
   "id": "812c0d59",
   "metadata": {},
   "outputs": [
    {
     "name": "stdout",
     "output_type": "stream",
     "text": [
      "(390, 300, 1)\n",
      "[11.  8. 11.  8.  8.  0.  4. 11.  5.  0.  9.  9.  0.  3. 10.  4.  6.  8.\n",
      "  6.  1.  5.  0.  4.  2.  8.  3.  6.  2.  5.  8. 11.  7. 11.  5.  1.  2.\n",
      "  4.  3.  7.  5. 11.  7.  0.  0.  2. 10.  6. 11.  7.  6.  0.  5.  8.  9.\n",
      " 10. 10.  6.  5.  5.  5.  9.  3.  1.  4. 10.  9.  1.  6.  7.  4. 10.  3.\n",
      "  4.  1.  2.  5.  5.  2.  7. 10. 11.  9.  7.  9.  0. 10.  3.  8.  5.  6.\n",
      "  6. 11.  3.  5.  6. 10.  9.  9.  6.  0.  8.  6.  2.  4. 11.  3.  0.  1.\n",
      "  8.  0. 11. 10.  4.  0. 10.  2. 10.  8. 10.  0. 11.  4.  3. 11.  6.  9.\n",
      "  7.  3.  5.  0.  8.  0. 10.  4.  1.  1.  8.  1. 10. 10.  9.  2.  8.  5.\n",
      "  3.  9.  3.  5.  8.  8.  1.  2. 11.  0.  0.  9.  2. 10.  0.  4.  4. 10.\n",
      "  1.  2.  6.  3.  3.  1.  5.  7. 11. 10.  0.  7.  7.  2. 11. 11.  1.  5.\n",
      "  6.  0.  3.  6.  4.  7.  5.  3.  3.  2.  6.  1.  3.  0.  9.  6. 10.  7.\n",
      "  3.  7.  5.  3.  6. 11.  4.  4. 10.  0.  4.  2.  0.  4.  7.  0.  9.  1.\n",
      "  2.  7.  4.  0.  6.  3. 11.  1.  7. 10.  5.  1.  3.  3.  7.  3.  2.  3.\n",
      "  5. 10.  2.  1. 10. 11.  2.  5.  1.  0.  3. 10.  6.  4.  6.  3.  8.  0.\n",
      "  9.  0.  9. 11. 11.  9. 10.  7.  7.  1.  4.  9.  9. 10. 10. 11.  6.  5.\n",
      "  5.  9. 11.  2.  6.  1.  7.  7.  2.  5. 11.  7. 10.  5.  7.  8.  8.  9.\n",
      "  1.  0.  3.  5. 10.  2.  2.  1.  3.  0.  4.  3.  3. 10.  5.  2.  7.  0.\n",
      " 11.  4.  5.  9.  1.  9.  3.  1.  6.  7.  1.  2.  0.  1.  8.  7.  2.  1.\n",
      " 10.  6.  2.  0. 11. 10.  2.  1.  6.  9.  9. 10.  3.  8.  7.  5.  4. 10.\n",
      "  8.  7. 11.  0. 11.  1.  8.  0.  5.  4.  6.  2.  8.  8.  7.  2.  5.  2.\n",
      "  5.  2.  3.  0.  2.  0. 11. 11. 10.  6.  6. 10.  9.  1.  4.  6.  6.  6.\n",
      "  3.  4. 10.  7.  9.  6.  6.  2. 10.  6. 11.  0.]\n"
     ]
    }
   ],
   "source": [
    "x_train, y_train,x_test_original, y_test_original = ReadTS('CricketX')\n",
    "y_train = y_train - 1\n",
    "y_test_original = y_test_original - 1\n",
    "print(x_train.shape)\n",
    "print(y_train)"
   ]
  },
  {
   "cell_type": "code",
   "execution_count": 4,
   "id": "c9911722",
   "metadata": {},
   "outputs": [
    {
     "name": "stdout",
     "output_type": "stream",
     "text": [
      "Epoch 1/100\n"
     ]
    },
    {
     "name": "stderr",
     "output_type": "stream",
     "text": [
      "2024-11-13 21:08:28.654220: W tensorflow/tsl/platform/profile_utils/cpu_utils.cc:128] Failed to get CPU frequency: 0 Hz\n"
     ]
    },
    {
     "name": "stdout",
     "output_type": "stream",
     "text": [
      "10/10 [==============================] - 1s 38ms/step - loss: 2.4038 - sparse_categorical_accuracy: 0.1186 - val_loss: 2.4773 - val_sparse_categorical_accuracy: 0.1026\n",
      "Epoch 2/100\n",
      "10/10 [==============================] - 0s 19ms/step - loss: 2.2378 - sparse_categorical_accuracy: 0.2244 - val_loss: 2.4684 - val_sparse_categorical_accuracy: 0.1026\n",
      "Epoch 3/100\n",
      "10/10 [==============================] - 0s 17ms/step - loss: 2.1614 - sparse_categorical_accuracy: 0.3365 - val_loss: 2.4608 - val_sparse_categorical_accuracy: 0.0769\n",
      "Epoch 4/100\n",
      "10/10 [==============================] - 0s 18ms/step - loss: 2.1037 - sparse_categorical_accuracy: 0.4006 - val_loss: 2.4577 - val_sparse_categorical_accuracy: 0.1410\n",
      "Epoch 5/100\n",
      "10/10 [==============================] - 0s 17ms/step - loss: 2.0561 - sparse_categorical_accuracy: 0.4006 - val_loss: 2.4587 - val_sparse_categorical_accuracy: 0.2051\n",
      "Epoch 6/100\n",
      "10/10 [==============================] - 0s 14ms/step - loss: 2.0084 - sparse_categorical_accuracy: 0.4295 - val_loss: 2.4685 - val_sparse_categorical_accuracy: 0.1923\n",
      "Epoch 7/100\n",
      "10/10 [==============================] - 0s 15ms/step - loss: 1.9644 - sparse_categorical_accuracy: 0.4712 - val_loss: 2.4831 - val_sparse_categorical_accuracy: 0.2179\n",
      "Epoch 8/100\n",
      "10/10 [==============================] - 0s 15ms/step - loss: 1.9135 - sparse_categorical_accuracy: 0.5064 - val_loss: 2.5001 - val_sparse_categorical_accuracy: 0.1923\n",
      "Epoch 9/100\n",
      "10/10 [==============================] - 0s 15ms/step - loss: 1.8743 - sparse_categorical_accuracy: 0.4936 - val_loss: 2.5328 - val_sparse_categorical_accuracy: 0.1795\n",
      "Epoch 10/100\n",
      "10/10 [==============================] - 0s 15ms/step - loss: 1.8536 - sparse_categorical_accuracy: 0.4872 - val_loss: 2.5701 - val_sparse_categorical_accuracy: 0.1667\n",
      "Epoch 11/100\n",
      "10/10 [==============================] - 0s 16ms/step - loss: 1.8155 - sparse_categorical_accuracy: 0.5160 - val_loss: 2.6144 - val_sparse_categorical_accuracy: 0.1795\n",
      "Epoch 12/100\n",
      "10/10 [==============================] - 0s 16ms/step - loss: 1.7821 - sparse_categorical_accuracy: 0.5417 - val_loss: 2.6504 - val_sparse_categorical_accuracy: 0.1667\n",
      "Epoch 13/100\n",
      "10/10 [==============================] - 0s 16ms/step - loss: 1.7546 - sparse_categorical_accuracy: 0.5385 - val_loss: 2.7104 - val_sparse_categorical_accuracy: 0.1795\n",
      "Epoch 14/100\n",
      "10/10 [==============================] - 0s 16ms/step - loss: 1.7170 - sparse_categorical_accuracy: 0.5545 - val_loss: 2.7618 - val_sparse_categorical_accuracy: 0.1923\n",
      "Epoch 15/100\n",
      "10/10 [==============================] - 0s 16ms/step - loss: 1.7022 - sparse_categorical_accuracy: 0.5545 - val_loss: 2.8114 - val_sparse_categorical_accuracy: 0.1667\n",
      "Epoch 16/100\n",
      "10/10 [==============================] - 0s 16ms/step - loss: 1.6656 - sparse_categorical_accuracy: 0.5545 - val_loss: 2.8427 - val_sparse_categorical_accuracy: 0.2051\n",
      "Epoch 17/100\n",
      "10/10 [==============================] - 0s 15ms/step - loss: 1.6280 - sparse_categorical_accuracy: 0.5673 - val_loss: 2.8607 - val_sparse_categorical_accuracy: 0.1667\n",
      "Epoch 18/100\n",
      "10/10 [==============================] - 0s 16ms/step - loss: 1.6106 - sparse_categorical_accuracy: 0.5673 - val_loss: 2.8723 - val_sparse_categorical_accuracy: 0.1795\n",
      "Epoch 19/100\n",
      "10/10 [==============================] - 0s 16ms/step - loss: 1.5931 - sparse_categorical_accuracy: 0.5769 - val_loss: 2.8760 - val_sparse_categorical_accuracy: 0.2179\n",
      "Epoch 20/100\n",
      "10/10 [==============================] - 0s 18ms/step - loss: 1.5675 - sparse_categorical_accuracy: 0.5705 - val_loss: 2.8922 - val_sparse_categorical_accuracy: 0.2051\n",
      "Epoch 21/100\n",
      "10/10 [==============================] - 0s 18ms/step - loss: 1.5440 - sparse_categorical_accuracy: 0.5865 - val_loss: 2.9062 - val_sparse_categorical_accuracy: 0.2051\n",
      "Epoch 22/100\n",
      "10/10 [==============================] - 0s 17ms/step - loss: 1.5282 - sparse_categorical_accuracy: 0.5833 - val_loss: 2.8668 - val_sparse_categorical_accuracy: 0.2051\n",
      "Epoch 23/100\n",
      "10/10 [==============================] - 0s 17ms/step - loss: 1.5178 - sparse_categorical_accuracy: 0.5801 - val_loss: 2.8237 - val_sparse_categorical_accuracy: 0.2051\n",
      "Epoch 24/100\n",
      "10/10 [==============================] - 0s 17ms/step - loss: 1.4881 - sparse_categorical_accuracy: 0.6058 - val_loss: 2.8412 - val_sparse_categorical_accuracy: 0.2308\n",
      "Epoch 25/100\n",
      "10/10 [==============================] - 0s 18ms/step - loss: 1.4838 - sparse_categorical_accuracy: 0.5865 - val_loss: 2.8341 - val_sparse_categorical_accuracy: 0.2436\n",
      "Epoch 26/100\n",
      "10/10 [==============================] - 0s 18ms/step - loss: 1.4594 - sparse_categorical_accuracy: 0.6282 - val_loss: 2.7196 - val_sparse_categorical_accuracy: 0.2179\n",
      "Epoch 27/100\n",
      "10/10 [==============================] - 0s 19ms/step - loss: 1.4531 - sparse_categorical_accuracy: 0.6186 - val_loss: 2.7309 - val_sparse_categorical_accuracy: 0.2436\n",
      "Epoch 28/100\n",
      "10/10 [==============================] - 0s 17ms/step - loss: 1.4415 - sparse_categorical_accuracy: 0.6186 - val_loss: 2.7094 - val_sparse_categorical_accuracy: 0.2308\n",
      "Epoch 29/100\n",
      "10/10 [==============================] - 0s 17ms/step - loss: 1.4113 - sparse_categorical_accuracy: 0.6218 - val_loss: 2.6451 - val_sparse_categorical_accuracy: 0.2179\n",
      "Epoch 30/100\n",
      "10/10 [==============================] - 0s 17ms/step - loss: 1.3828 - sparse_categorical_accuracy: 0.6314 - val_loss: 2.5945 - val_sparse_categorical_accuracy: 0.2564\n",
      "Epoch 31/100\n",
      "10/10 [==============================] - 0s 17ms/step - loss: 1.3885 - sparse_categorical_accuracy: 0.6442 - val_loss: 2.4768 - val_sparse_categorical_accuracy: 0.2692\n",
      "Epoch 32/100\n",
      "10/10 [==============================] - 0s 18ms/step - loss: 1.3571 - sparse_categorical_accuracy: 0.6378 - val_loss: 2.4296 - val_sparse_categorical_accuracy: 0.2692\n",
      "Epoch 33/100\n",
      "10/10 [==============================] - 0s 17ms/step - loss: 1.3370 - sparse_categorical_accuracy: 0.6378 - val_loss: 2.4524 - val_sparse_categorical_accuracy: 0.2692\n",
      "Epoch 34/100\n",
      "10/10 [==============================] - 0s 17ms/step - loss: 1.3146 - sparse_categorical_accuracy: 0.6410 - val_loss: 2.4376 - val_sparse_categorical_accuracy: 0.2564\n",
      "Epoch 35/100\n",
      "10/10 [==============================] - 0s 18ms/step - loss: 1.2898 - sparse_categorical_accuracy: 0.6474 - val_loss: 2.2979 - val_sparse_categorical_accuracy: 0.2949\n",
      "Epoch 36/100\n",
      "10/10 [==============================] - 0s 20ms/step - loss: 1.2782 - sparse_categorical_accuracy: 0.6635 - val_loss: 2.2976 - val_sparse_categorical_accuracy: 0.3205\n",
      "Epoch 37/100\n",
      "10/10 [==============================] - 0s 19ms/step - loss: 1.2759 - sparse_categorical_accuracy: 0.6571 - val_loss: 2.2325 - val_sparse_categorical_accuracy: 0.3205\n",
      "Epoch 38/100\n",
      "10/10 [==============================] - 0s 18ms/step - loss: 1.2536 - sparse_categorical_accuracy: 0.6571 - val_loss: 2.1872 - val_sparse_categorical_accuracy: 0.2821\n",
      "Epoch 39/100\n",
      "10/10 [==============================] - 0s 17ms/step - loss: 1.2540 - sparse_categorical_accuracy: 0.6571 - val_loss: 2.1898 - val_sparse_categorical_accuracy: 0.2949\n",
      "Epoch 40/100\n",
      "10/10 [==============================] - 0s 18ms/step - loss: 1.2211 - sparse_categorical_accuracy: 0.6763 - val_loss: 2.0308 - val_sparse_categorical_accuracy: 0.3718\n",
      "Epoch 41/100\n",
      "10/10 [==============================] - 0s 18ms/step - loss: 1.2276 - sparse_categorical_accuracy: 0.6859 - val_loss: 1.9563 - val_sparse_categorical_accuracy: 0.3846\n",
      "Epoch 42/100\n",
      "10/10 [==============================] - 0s 19ms/step - loss: 1.2132 - sparse_categorical_accuracy: 0.6346 - val_loss: 1.9172 - val_sparse_categorical_accuracy: 0.3974\n",
      "Epoch 43/100\n",
      "10/10 [==============================] - 0s 19ms/step - loss: 1.1953 - sparse_categorical_accuracy: 0.6635 - val_loss: 1.9050 - val_sparse_categorical_accuracy: 0.3333\n",
      "Epoch 44/100\n",
      "10/10 [==============================] - 0s 18ms/step - loss: 1.1674 - sparse_categorical_accuracy: 0.6923 - val_loss: 1.8275 - val_sparse_categorical_accuracy: 0.3974\n",
      "Epoch 45/100\n",
      "10/10 [==============================] - 0s 17ms/step - loss: 1.1708 - sparse_categorical_accuracy: 0.6795 - val_loss: 1.8331 - val_sparse_categorical_accuracy: 0.3974\n",
      "Epoch 46/100\n",
      "10/10 [==============================] - 0s 18ms/step - loss: 1.1593 - sparse_categorical_accuracy: 0.6859 - val_loss: 1.7687 - val_sparse_categorical_accuracy: 0.3846\n",
      "Epoch 47/100\n",
      "10/10 [==============================] - 0s 19ms/step - loss: 1.1469 - sparse_categorical_accuracy: 0.6891 - val_loss: 1.7422 - val_sparse_categorical_accuracy: 0.3974\n",
      "Epoch 48/100\n",
      "10/10 [==============================] - 0s 18ms/step - loss: 1.1633 - sparse_categorical_accuracy: 0.6699 - val_loss: 1.7032 - val_sparse_categorical_accuracy: 0.4487\n",
      "Epoch 49/100\n",
      "10/10 [==============================] - 0s 19ms/step - loss: 1.1192 - sparse_categorical_accuracy: 0.6955 - val_loss: 1.5734 - val_sparse_categorical_accuracy: 0.4744\n",
      "Epoch 50/100\n",
      "10/10 [==============================] - 0s 19ms/step - loss: 1.1103 - sparse_categorical_accuracy: 0.6795 - val_loss: 1.5138 - val_sparse_categorical_accuracy: 0.5256\n",
      "Epoch 51/100\n",
      "10/10 [==============================] - 0s 18ms/step - loss: 1.0865 - sparse_categorical_accuracy: 0.6987 - val_loss: 1.5549 - val_sparse_categorical_accuracy: 0.5128\n",
      "Epoch 52/100\n",
      "10/10 [==============================] - 0s 19ms/step - loss: 1.0714 - sparse_categorical_accuracy: 0.7147 - val_loss: 1.6954 - val_sparse_categorical_accuracy: 0.3590\n",
      "Epoch 53/100\n",
      "10/10 [==============================] - 0s 18ms/step - loss: 1.0777 - sparse_categorical_accuracy: 0.7051 - val_loss: 1.5438 - val_sparse_categorical_accuracy: 0.5128\n",
      "Epoch 54/100\n",
      "10/10 [==============================] - 0s 18ms/step - loss: 1.0517 - sparse_categorical_accuracy: 0.7083 - val_loss: 1.5587 - val_sparse_categorical_accuracy: 0.5256\n",
      "Epoch 55/100\n",
      "10/10 [==============================] - 0s 18ms/step - loss: 1.0489 - sparse_categorical_accuracy: 0.7244 - val_loss: 1.5714 - val_sparse_categorical_accuracy: 0.4231\n",
      "Epoch 56/100\n",
      "10/10 [==============================] - 0s 19ms/step - loss: 1.0966 - sparse_categorical_accuracy: 0.6891 - val_loss: 1.7851 - val_sparse_categorical_accuracy: 0.3846\n",
      "Epoch 57/100\n",
      "10/10 [==============================] - 0s 18ms/step - loss: 1.0313 - sparse_categorical_accuracy: 0.7115 - val_loss: 1.6898 - val_sparse_categorical_accuracy: 0.4744\n",
      "Epoch 58/100\n",
      "10/10 [==============================] - 0s 18ms/step - loss: 1.0236 - sparse_categorical_accuracy: 0.7147 - val_loss: 1.8033 - val_sparse_categorical_accuracy: 0.3846\n",
      "Epoch 59/100\n",
      "10/10 [==============================] - 0s 19ms/step - loss: 1.0245 - sparse_categorical_accuracy: 0.7308 - val_loss: 1.8272 - val_sparse_categorical_accuracy: 0.3846\n",
      "Epoch 60/100\n",
      "10/10 [==============================] - 0s 19ms/step - loss: 1.0367 - sparse_categorical_accuracy: 0.7308 - val_loss: 1.7472 - val_sparse_categorical_accuracy: 0.3590\n",
      "Epoch 61/100\n",
      "10/10 [==============================] - 0s 17ms/step - loss: 0.9947 - sparse_categorical_accuracy: 0.7244 - val_loss: 1.6918 - val_sparse_categorical_accuracy: 0.3590\n",
      "Epoch 62/100\n",
      "10/10 [==============================] - 0s 18ms/step - loss: 0.9987 - sparse_categorical_accuracy: 0.7276 - val_loss: 1.7706 - val_sparse_categorical_accuracy: 0.3333\n",
      "Epoch 63/100\n",
      "10/10 [==============================] - 0s 19ms/step - loss: 0.9777 - sparse_categorical_accuracy: 0.7628 - val_loss: 1.9730 - val_sparse_categorical_accuracy: 0.2821\n",
      "Epoch 64/100\n",
      "10/10 [==============================] - 0s 17ms/step - loss: 0.9957 - sparse_categorical_accuracy: 0.7212 - val_loss: 1.8766 - val_sparse_categorical_accuracy: 0.2564\n",
      "Epoch 65/100\n",
      "10/10 [==============================] - 0s 18ms/step - loss: 0.9830 - sparse_categorical_accuracy: 0.7212 - val_loss: 1.6413 - val_sparse_categorical_accuracy: 0.4359\n",
      "Epoch 66/100\n",
      "10/10 [==============================] - 0s 19ms/step - loss: 0.9478 - sparse_categorical_accuracy: 0.7500 - val_loss: 1.8111 - val_sparse_categorical_accuracy: 0.3590\n",
      "Epoch 67/100\n",
      "10/10 [==============================] - 0s 19ms/step - loss: 0.9283 - sparse_categorical_accuracy: 0.7564 - val_loss: 1.5560 - val_sparse_categorical_accuracy: 0.4615\n",
      "Epoch 68/100\n",
      "10/10 [==============================] - 0s 20ms/step - loss: 0.9447 - sparse_categorical_accuracy: 0.7564 - val_loss: 1.4281 - val_sparse_categorical_accuracy: 0.5897\n",
      "Epoch 69/100\n",
      "10/10 [==============================] - 0s 20ms/step - loss: 0.9437 - sparse_categorical_accuracy: 0.7276 - val_loss: 1.3606 - val_sparse_categorical_accuracy: 0.5641\n",
      "Epoch 70/100\n",
      "10/10 [==============================] - 0s 20ms/step - loss: 0.9054 - sparse_categorical_accuracy: 0.7596 - val_loss: 1.4375 - val_sparse_categorical_accuracy: 0.5000\n",
      "Epoch 71/100\n",
      "10/10 [==============================] - 0s 19ms/step - loss: 0.9378 - sparse_categorical_accuracy: 0.7596 - val_loss: 1.3884 - val_sparse_categorical_accuracy: 0.5641\n",
      "Epoch 72/100\n",
      "10/10 [==============================] - 0s 18ms/step - loss: 0.9051 - sparse_categorical_accuracy: 0.7340 - val_loss: 1.5796 - val_sparse_categorical_accuracy: 0.4872\n",
      "Epoch 73/100\n",
      "10/10 [==============================] - 0s 19ms/step - loss: 0.9108 - sparse_categorical_accuracy: 0.7500 - val_loss: 1.4273 - val_sparse_categorical_accuracy: 0.5000\n",
      "Epoch 74/100\n",
      "10/10 [==============================] - 0s 20ms/step - loss: 0.9136 - sparse_categorical_accuracy: 0.7596 - val_loss: 1.3739 - val_sparse_categorical_accuracy: 0.5641\n",
      "Epoch 75/100\n",
      "10/10 [==============================] - 0s 21ms/step - loss: 0.9018 - sparse_categorical_accuracy: 0.7628 - val_loss: 1.1963 - val_sparse_categorical_accuracy: 0.6026\n",
      "Epoch 76/100\n",
      "10/10 [==============================] - 0s 20ms/step - loss: 0.8738 - sparse_categorical_accuracy: 0.7468 - val_loss: 1.3720 - val_sparse_categorical_accuracy: 0.5769\n",
      "Epoch 77/100\n",
      "10/10 [==============================] - 0s 20ms/step - loss: 0.8624 - sparse_categorical_accuracy: 0.7756 - val_loss: 1.0992 - val_sparse_categorical_accuracy: 0.7051\n",
      "Epoch 78/100\n",
      "10/10 [==============================] - 0s 20ms/step - loss: 0.8732 - sparse_categorical_accuracy: 0.7564 - val_loss: 1.1833 - val_sparse_categorical_accuracy: 0.6410\n",
      "Epoch 79/100\n",
      "10/10 [==============================] - 0s 19ms/step - loss: 0.8531 - sparse_categorical_accuracy: 0.7564 - val_loss: 1.3437 - val_sparse_categorical_accuracy: 0.6154\n",
      "Epoch 80/100\n",
      "10/10 [==============================] - 0s 20ms/step - loss: 0.8561 - sparse_categorical_accuracy: 0.7692 - val_loss: 1.3297 - val_sparse_categorical_accuracy: 0.5769\n",
      "Epoch 81/100\n",
      "10/10 [==============================] - 0s 21ms/step - loss: 0.8490 - sparse_categorical_accuracy: 0.7692 - val_loss: 1.2747 - val_sparse_categorical_accuracy: 0.6282\n",
      "Epoch 82/100\n",
      "10/10 [==============================] - 0s 20ms/step - loss: 0.8290 - sparse_categorical_accuracy: 0.7756 - val_loss: 1.2266 - val_sparse_categorical_accuracy: 0.6282\n",
      "Epoch 83/100\n",
      "10/10 [==============================] - 0s 20ms/step - loss: 0.8275 - sparse_categorical_accuracy: 0.7917 - val_loss: 1.3883 - val_sparse_categorical_accuracy: 0.5000\n",
      "Epoch 84/100\n",
      "10/10 [==============================] - 0s 20ms/step - loss: 0.8098 - sparse_categorical_accuracy: 0.7853 - val_loss: 1.1048 - val_sparse_categorical_accuracy: 0.6282\n",
      "Epoch 85/100\n",
      "10/10 [==============================] - 0s 22ms/step - loss: 0.8392 - sparse_categorical_accuracy: 0.7596 - val_loss: 1.4993 - val_sparse_categorical_accuracy: 0.4872\n",
      "Epoch 86/100\n",
      "10/10 [==============================] - 0s 20ms/step - loss: 0.8245 - sparse_categorical_accuracy: 0.7628 - val_loss: 1.3469 - val_sparse_categorical_accuracy: 0.5769\n",
      "Epoch 87/100\n",
      "10/10 [==============================] - 0s 21ms/step - loss: 0.8391 - sparse_categorical_accuracy: 0.7692 - val_loss: 1.1027 - val_sparse_categorical_accuracy: 0.6667\n",
      "Epoch 88/100\n",
      "10/10 [==============================] - 0s 20ms/step - loss: 0.8056 - sparse_categorical_accuracy: 0.7788 - val_loss: 1.0722 - val_sparse_categorical_accuracy: 0.6282\n",
      "Epoch 89/100\n",
      "10/10 [==============================] - 0s 21ms/step - loss: 0.8157 - sparse_categorical_accuracy: 0.7532 - val_loss: 1.0653 - val_sparse_categorical_accuracy: 0.6667\n",
      "Epoch 90/100\n",
      "10/10 [==============================] - 0s 20ms/step - loss: 0.7968 - sparse_categorical_accuracy: 0.7756 - val_loss: 1.1147 - val_sparse_categorical_accuracy: 0.6667\n",
      "Epoch 91/100\n",
      "10/10 [==============================] - 0s 22ms/step - loss: 0.7863 - sparse_categorical_accuracy: 0.7692 - val_loss: 1.0498 - val_sparse_categorical_accuracy: 0.6795\n",
      "Epoch 92/100\n",
      "10/10 [==============================] - 0s 23ms/step - loss: 0.8072 - sparse_categorical_accuracy: 0.7788 - val_loss: 1.0258 - val_sparse_categorical_accuracy: 0.6667\n",
      "Epoch 93/100\n",
      "10/10 [==============================] - 0s 21ms/step - loss: 0.8042 - sparse_categorical_accuracy: 0.8013 - val_loss: 1.1369 - val_sparse_categorical_accuracy: 0.6538\n",
      "Epoch 94/100\n",
      "10/10 [==============================] - 0s 21ms/step - loss: 0.7888 - sparse_categorical_accuracy: 0.7788 - val_loss: 1.0442 - val_sparse_categorical_accuracy: 0.6282\n",
      "Epoch 95/100\n",
      "10/10 [==============================] - 0s 21ms/step - loss: 0.7461 - sparse_categorical_accuracy: 0.8141 - val_loss: 1.2768 - val_sparse_categorical_accuracy: 0.5769\n",
      "Epoch 96/100\n",
      "10/10 [==============================] - 0s 21ms/step - loss: 0.7603 - sparse_categorical_accuracy: 0.7885 - val_loss: 1.1466 - val_sparse_categorical_accuracy: 0.6667\n",
      "Epoch 97/100\n",
      "10/10 [==============================] - 0s 21ms/step - loss: 0.7719 - sparse_categorical_accuracy: 0.8045 - val_loss: 1.0715 - val_sparse_categorical_accuracy: 0.6538\n",
      "Epoch 98/100\n",
      "10/10 [==============================] - 0s 21ms/step - loss: 0.7562 - sparse_categorical_accuracy: 0.7917 - val_loss: 1.2299 - val_sparse_categorical_accuracy: 0.6026\n",
      "Epoch 99/100\n",
      "10/10 [==============================] - 0s 21ms/step - loss: 0.7417 - sparse_categorical_accuracy: 0.7917 - val_loss: 1.1327 - val_sparse_categorical_accuracy: 0.6410\n",
      "Epoch 100/100\n",
      "10/10 [==============================] - 0s 20ms/step - loss: 0.7528 - sparse_categorical_accuracy: 0.7981 - val_loss: 1.2463 - val_sparse_categorical_accuracy: 0.6026\n"
     ]
    }
   ],
   "source": [
    "model = make_CNN_model(x_train.shape[1:],num_classes = 12)\n",
    "trained_model, history = train_CNN_model(model, x_train, y_train, epochs=100, batch_size=32)"
   ]
  },
  {
   "cell_type": "code",
   "execution_count": 5,
   "id": "227e6120",
   "metadata": {},
   "outputs": [
    {
     "name": "stdout",
     "output_type": "stream",
     "text": [
      "13/13 [==============================] - 0s 5ms/step - loss: 1.2430 - sparse_categorical_accuracy: 0.5615\n",
      "Test accuracy 0.5615384578704834\n",
      "Test loss 1.2429851293563843\n"
     ]
    }
   ],
   "source": [
    "test_loss, test_acc = trained_model.evaluate(x_test_original, y_test_original)\n",
    "\n",
    "print(\"Test accuracy\", test_acc)\n",
    "print(\"Test loss\", test_loss)"
   ]
  },
  {
   "cell_type": "markdown",
   "id": "4773dace",
   "metadata": {},
   "source": [
    "### Create perturbed test sets and calculate decrease in accuracy"
   ]
  },
  {
   "cell_type": "code",
   "execution_count": 6,
   "id": "b854bfe4-2303-44a0-bef5-eb3c738da9e9",
   "metadata": {},
   "outputs": [
    {
     "name": "stdout",
     "output_type": "stream",
     "text": [
      "(390,)\n"
     ]
    }
   ],
   "source": [
    "print(y_test_original.shape)"
   ]
  },
  {
   "cell_type": "code",
   "execution_count": 7,
   "id": "ffd7c678-03f4-47ae-a1f9-45e0c185580e",
   "metadata": {},
   "outputs": [
    {
     "name": "stdout",
     "output_type": "stream",
     "text": [
      "def perturb(perturbation_strategy, ts, index0, index1, global_ts = []):\n",
      "    if perturbation_strategy == 'RBP':\n",
      "        return RBPIndividual(ts, index0, index1)\n",
      "    if perturbation_strategy == 'zero':\n",
      "        return zeroPerturb(ts, index0, index1)\n",
      "    if perturbation_strategy == 'noise':\n",
      "        return noisePerturb(ts, index0, index1)\n",
      "    if perturbation_strategy == 'blur':\n",
      "        return blurPerturb(ts, index0, index1)\n",
      "    if perturbation_strategy == 'RBP1':\n",
      "        return RBPIndividualNew1(global_ts, ts, index0, index1)    \n",
      "    if perturbation_strategy == 'RBP2':\n",
      "        return RBPIndividualNew2(global_ts, ts, index0, index1)    \n",
      "\n",
      "(perturbation_strategy, ts, index0, index1, global_ts=[])\n"
     ]
    }
   ],
   "source": [
    "print(inspect.getsource(perturb))\n",
    "print(inspect.signature(perturb))"
   ]
  },
  {
   "cell_type": "code",
   "execution_count": 46,
   "id": "4c579fb7",
   "metadata": {},
   "outputs": [
    {
     "name": "stdout",
     "output_type": "stream",
     "text": [
      "13/13 [==============================] - 0s 4ms/step\n",
      "13/13 [==============================] - 0s 3ms/step\n",
      "13/13 [==============================] - 0s 3ms/step\n",
      "13/13 [==============================] - 0s 3ms/step\n",
      "13/13 [==============================] - 0s 3ms/step\n",
      "13/13 [==============================] - 0s 3ms/step\n"
     ]
    }
   ],
   "source": [
    "predictions_original = model.predict(x_test_original)\n",
    "perturb_test_set = x_test_original.copy()\n",
    "perturb_test_set = perturb_test_set.reshape(x_test_original.shape[0:2])\n",
    "\n",
    "x_test_rbp = np.asarray([perturb('RBP',x,200,300) for x in perturb_test_set])\n",
    "x_test_rbp = np.expand_dims(x_test_rbp, axis=-1)\n",
    "predictions_rbp = model.predict(x_test_rbp)\n",
    "\n",
    "x_test_new1 = np.asarray([perturb('RBP1',x,200,300, global_ts = perturb_test_set) for x in perturb_test_set])\n",
    "x_test_new1 = np.expand_dims(x_test_new1, axis=-1)\n",
    "predictions_new1 = model.predict(x_test_new1)\n",
    "\n",
    "#x_test_new2 = np.asarray([perturb('RBP2',x,400,500, global_ts = perturb_test_set) for x in perturb_test_set])\n",
    "#x_test_new2 = np.expand_dims(x_test_new2, axis=-1)\n",
    "#predictions_new2 = model.predict(x_test_new2)\n",
    "\n",
    "x_test_zero = np.asarray([perturb('zero',x,200,300) for x in perturb_test_set])\n",
    "x_test_zero = np.expand_dims(x_test_zero, axis=-1)\n",
    "predictions_zero = model.predict(x_test_zero)\n",
    "\n",
    "x_test_noise = np.asarray([perturb('noise',x,200,300) for x in perturb_test_set])\n",
    "x_test_noise = np.expand_dims(x_test_noise, axis=-1)\n",
    "predictions_noise = model.predict(x_test_noise)\n",
    "\n",
    "x_test_blur = np.asarray([perturb('blur',x,200,300) for x in perturb_test_set])\n",
    "x_test_blur = np.expand_dims(x_test_blur, axis=-1)\n",
    "predictions_blur = model.predict(x_test_blur)"
   ]
  },
  {
   "cell_type": "code",
   "execution_count": 51,
   "id": "ece09cdc-a939-4742-aeb6-e7607ec7d118",
   "metadata": {},
   "outputs": [
    {
     "name": "stdout",
     "output_type": "stream",
     "text": [
      "4.706377790583573\n",
      "6.123060780654926\n",
      "6.123108872982574\n",
      "20.269838439841497\n",
      "0.5591433678978074\n"
     ]
    }
   ],
   "source": [
    "def l2norm(perturb):\n",
    "    # 计算两个数组之间的差\n",
    "    difference = perturb - x_test_original\n",
    "    \n",
    "    # 计算差的平方\n",
    "    squared_difference = np.square(difference)\n",
    "    \n",
    "    # 计算平方和，沿着特征维度（axis=1），因为每个时间序列样本是一行\n",
    "    sum_of_squares = np.sum(squared_difference, axis=1)\n",
    "    \n",
    "    # 计算平方和的平方根，即l2范数\n",
    "    l2_norms = np.sqrt(sum_of_squares)\n",
    "    \n",
    "    average_l2_norm = np.mean(l2_norms)\n",
    "    \n",
    "    # l2_norms现在是一个形状为(467,)的数组，其中每个元素代表\n",
    "    # 对应时间序列样本之间的l2范数\n",
    "    print(average_l2_norm)  # 输出: (467,)\n",
    "\n",
    "l2norm(x_test_rbp)\n",
    "l2norm(x_test_new1)\n",
    "l2norm(x_test_zero)\n",
    "l2norm(x_test_noise)\n",
    "l2norm(x_test_blur)"
   ]
  },
  {
   "cell_type": "code",
   "execution_count": 48,
   "id": "b5d3f821",
   "metadata": {},
   "outputs": [],
   "source": [
    "def accuracy(predictions, labels):\n",
    "    hits = 0\n",
    "    for i in range(0,len(predictions)):\n",
    "        if predictions[i] == labels[i]:\n",
    "            hits += 1\n",
    "    return hits/len(predictions)"
   ]
  },
  {
   "cell_type": "code",
   "execution_count": 49,
   "id": "89f21d47",
   "metadata": {},
   "outputs": [],
   "source": [
    "original_accuracy = accuracy(np.argmax(predictions_original,axis=1), y_test_original)\n",
    "rbp_accuracy = accuracy(np.argmax(predictions_rbp,axis=1), y_test_original)\n",
    "new1_accuracy = accuracy(np.argmax(predictions_new1,axis=1), y_test_original)\n",
    "#new2_accuracy = accuracy(np.argmax(predictions_new2,axis=1), y_test_original)\n",
    "zero_accuracy = accuracy(np.argmax(predictions_zero,axis=1), y_test_original)\n",
    "noise_accuracy = accuracy(np.argmax(predictions_noise,axis=1), y_test_original)\n",
    "blur_accuracy = accuracy(np.argmax(predictions_blur,axis=1), y_test_original)"
   ]
  },
  {
   "cell_type": "code",
   "execution_count": 50,
   "id": "e52c9d2e",
   "metadata": {},
   "outputs": [
    {
     "name": "stdout",
     "output_type": "stream",
     "text": [
      " Original Accuracy: 219\n",
      " RBP Accuracy: 219\n",
      " RBP1 Accuracy: 221\n",
      " Zero Accuracy: 221\n",
      " Noise Accuracy: 31\n",
      " Blur Accuracy: 240\n",
      "\n"
     ]
    }
   ],
   "source": [
    "print(\" Original Accuracy: \" + str(original_accuracy) + \"\\n\"+\n",
    "    \" RBP Accuracy: \" + str(rbp_accuracy) + \"\\n\"+\n",
    "    \" RBP1 Accuracy: \" + str(new1_accuracy) + \"\\n\"+\n",
    "    #\" RBP2 Accuracy: \" + str(new2_accuracy) + \"\\n\"+\n",
    "      \n",
    "    \" Zero Accuracy: \" + str(zero_accuracy) + \"\\n\"+\n",
    "    \" Noise Accuracy: \" + str(noise_accuracy) + \"\\n\"+\n",
    "    \" Blur Accuracy: \" + str(blur_accuracy) + \"\\n\")"
   ]
  },
  {
   "cell_type": "code",
   "execution_count": 45,
   "id": "dcadedb5-9676-442a-a992-76de99d1d01f",
   "metadata": {},
   "outputs": [
    {
     "data": {
      "image/png": "[encoded data removed]",
      "text/plain": [
       "<Figure size 1000x500 with 1 Axes>"
      ]
     },
     "metadata": {},
     "output_type": "display_data"
    }
   ],
   "source": [
    "import numpy as np\n",
    "import matplotlib.pyplot as plt\n",
    "\n",
    "new1 = x_test_zero[2]\n",
    "orig = x_test_original[2]\n",
    "\n",
    "# 创建一个时间轴，对应于时间序列的索引\n",
    "time_axis = np.arange(len(new1))\n",
    "\n",
    "# 使用matplotlib绘制时间序列\n",
    "plt.figure(figsize=(10, 5))  # 设置图形的大小\n",
    "plt.plot(time_axis, new1, label='Time Series 1')  # 绘制第一个时间序列\n",
    "plt.plot(time_axis, orig, label='Time Series 2')  # 绘制第二个时间序列\n",
    "\n",
    "# 添加图例\n",
    "plt.legend()\n",
    "\n",
    "# 添加标题和轴标签\n",
    "plt.title('Time Series Visualization')\n",
    "plt.xlabel('Time')\n",
    "plt.ylabel('Value')\n",
    "\n",
    "# 显示网格\n",
    "plt.grid(True)\n",
    "\n",
    "# 显示图形\n",
    "plt.show()"
   ]
  },
  {
   "cell_type": "code",
   "execution_count": null,
   "id": "9fd92a52-cf81-4ca6-9f20-a1cd430ff000",
   "metadata": {},
   "outputs": [],
   "source": []
  }
 ],
 "metadata": {
  "kernelspec": {
   "display_name": "lime_tf",
   "language": "python",
   "name": "limetf"
  },
  "language_info": {
   "codemirror_mode": {
    "name": "ipython",
    "version": 3
   },
   "file_extension": ".py",
   "mimetype": "text/x-python",
   "name": "python",
   "nbconvert_exporter": "python",
   "pygments_lexer": "ipython3",
   "version": "3.10.13"
  }
 },
 "nbformat": 4,
 "nbformat_minor": 5
}
