{
 "cells": [
  {
   "cell_type": "code",
   "execution_count": 18,
   "id": "dd9bd814",
   "metadata": {},
   "outputs": [],
   "source": [
    "import numpy as np\n",
    "import matplotlib.pyplot as plt\n",
    "import inspect"
   ]
  },
  {
   "cell_type": "code",
   "execution_count": 19,
   "id": "2439de23",
   "metadata": {},
   "outputs": [
    {
     "name": "stdout",
     "output_type": "stream",
     "text": [
      "['/Users/gali/anaconda3/envs/LIMEtf/lib/python310.zip', '/Users/gali/anaconda3/envs/LIMEtf/lib/python3.10', '/Users/gali/anaconda3/envs/LIMEtf/lib/python3.10/lib-dynload', '', '/Users/gali/anaconda3/envs/LIMEtf/lib/python3.10/site-packages', '/Users/gali/anaconda3/envs/LIMEtf/lib/python3.10/site-packages/setuptools/_vendor', '../', '../', '../']\n"
     ]
    }
   ],
   "source": [
    "import importlib\n",
    "import sys\n",
    "sys.path.append('../')\n",
    "from Utils.perturbationsnew import RBPIndividual, RBPIndividualNew1, RBPIndividualNew2, zeroPerturb, noisePerturb, blurPerturb\n",
    "from Utils.models import *\n",
    "from Utils.data import perturb, generateSynthetic, generateSyntheticPerturbReal,ReadTS\n",
    "\n",
    "print(sys.path)\n"
   ]
  },
  {
   "cell_type": "markdown",
   "id": "62b11ea0",
   "metadata": {},
   "source": [
    "## Test important content removal (accuracy decrease)"
   ]
  },
  {
   "cell_type": "markdown",
   "id": "5567ae62",
   "metadata": {},
   "source": [
    "### Load synthetic dataset and train CNN model "
   ]
  },
  {
   "cell_type": "code",
   "execution_count": 33,
   "id": "812c0d59",
   "metadata": {},
   "outputs": [
    {
     "name": "stdout",
     "output_type": "stream",
     "text": [
      "(390, 300, 1)\n",
      "[ 1.  3.  2.  2.  4.  0.  7.  9.  3.  4.  9.  1.  8.  4.  4.  9.  6. 10.\n",
      "  6.  4.  1.  2.  2.  6.  0.  8.  5.  7. 11.  3. 10.  9.  8.  6.  4.  5.\n",
      " 10.  7.  7.  9.  9. 11.  6.  2.  3.  6.  0. 11. 10. 11. 11.  8.  9.  3.\n",
      "  1.  4.  1.  6.  4.  6. 11.  3.  2. 11.  7.  2.  9.  3.  6.  6.  0.  3.\n",
      " 10.  7.  5.  2.  5.  0.  4.  8.  9. 11. 10.  4.  8.  4.  7. 10.  8. 11.\n",
      "  1.  4. 10.  9.  3.  3.  6.  9.  9.  8.  0.  5.  4.  9.  7. 10. 11.  8.\n",
      "  4. 11.  0.  0. 11. 11.  4.  2.  1.  6.  8.  6.  5.  2.  0. 10.  1.  1.\n",
      "  9. 10.  7. 10.  4.  7.  7. 11.  1.  2.  3.  9.  2.  6.  8.  5.  6.  2.\n",
      "  8.  8.  3.  2. 11.  3.  5.  9.  0.  5.  0.  0.  0.  3.  4.  4. 11. 10.\n",
      " 11.  9.  0.  2.  6. 11.  4.  8.  1.  5.  9. 11.  5. 10.  0.  0.  5.  5.\n",
      "  4.  9.  9.  1.  3.  4. 10.  9. 11.  2.  3.  2.  0.  3.  4.  6.  8.  3.\n",
      "  7.  2.  6.  7.  8. 11.  7.  6.  0.  9.  8.  5.  4.  1.  3.  9.  6.  4.\n",
      "  0.  1.  6.  5.  7. 10.  3.  1.  4. 10.  7.  8.  5. 10.  1. 10. 11.  7.\n",
      "  2.  6.  1.  4.  4.  8.  2.  3.  5.  6.  6.  3.  9.  4.  3.  1.  2.  5.\n",
      "  8.  4.  6.  7. 10.  5.  2.  8.  1.  4. 11.  1.  1.  1.  7.  5. 11.  2.\n",
      "  8. 10.  8. 11.  5.  0.  9.  2.  1.  2.  7.  4. 11. 11. 11.  1. 10.  8.\n",
      "  9.  5.  6.  7.  3.  1. 10.  0. 10.  1.  2.  0.  5.  6.  6. 11.  5.  7.\n",
      "  0.  0.  7.  4.  5.  7.  5.  2.  6.  8.  5.  3. 11.  7.  7.  7.  5.  6.\n",
      "  3.  1.  3.  2. 10.  8.  9.  8.  5.  8.  3.  8.  1.  5.  9. 11.  1.  5.\n",
      "  9.  4.  8.  0.  2.  6.  1. 10.  1.  1. 11.  7. 11.  2.  2.  2.  2.  3.\n",
      "  9.  9. 10. 10.  7.  4.  4.  0.  4. 11.  7.  3. 10.  2. 10.  0. 10.  9.\n",
      "  5.  7.  7.  0.  1.  2.  8.  1.  7.  2.  6. 10.]\n"
     ]
    }
   ],
   "source": [
    "x_train, y_train,x_test_original, y_test_original = ReadTS('CricketY')\n",
    "y_train = y_train - 1\n",
    "y_test_original = y_test_original - 1\n",
    "print(x_train.shape)\n",
    "print(y_train)"
   ]
  },
  {
   "cell_type": "code",
   "execution_count": 34,
   "id": "e74e1ca3-8fd2-4e4a-96a1-2ac583496cd7",
   "metadata": {},
   "outputs": [
    {
     "name": "stdout",
     "output_type": "stream",
     "text": [
      "[[[ 0.76395937]\n",
      "  [ 0.73633328]\n",
      "  [ 0.98299782]\n",
      "  ...\n",
      "  [ 0.24789194]\n",
      "  [ 0.24236887]\n",
      "  [ 0.24657619]]\n",
      "\n",
      " [[-0.53869465]\n",
      "  [-0.40487069]\n",
      "  [-0.55319388]\n",
      "  ...\n",
      "  [-0.66187984]\n",
      "  [-0.66843458]\n",
      "  [-0.66360391]]\n",
      "\n",
      " [[ 0.67348101]\n",
      "  [ 0.52468589]\n",
      "  [ 0.72692282]\n",
      "  ...\n",
      "  [ 1.6691223 ]\n",
      "  [ 1.52290119]\n",
      "  [ 1.52755027]]\n",
      "\n",
      " ...\n",
      "\n",
      " [[ 0.47439437]\n",
      "  [ 0.59786604]\n",
      "  [ 0.48204727]\n",
      "  ...\n",
      "  [ 1.69007314]\n",
      "  [ 1.69732912]\n",
      "  [ 1.70613567]]\n",
      "\n",
      " [[-0.89067676]\n",
      "  [-0.691681  ]\n",
      "  [-1.0586737 ]\n",
      "  ...\n",
      "  [-1.68305609]\n",
      "  [-1.68589033]\n",
      "  [-1.67739208]]\n",
      "\n",
      " [[-0.10764922]\n",
      "  [-0.24146336]\n",
      "  [-0.41105556]\n",
      "  ...\n",
      "  [ 0.23232486]\n",
      "  [ 0.23569501]\n",
      "  [ 0.6101929 ]]]\n"
     ]
    }
   ],
   "source": [
    "from sklearn.preprocessing import StandardScaler\n",
    "def normalize(TS):\n",
    "    # 获取原始数据集的形状\n",
    "    original_shape = TS.shape\n",
    "    \n",
    "    # 将数据集reshape成二维数组\n",
    "    TS_2d = TS.reshape(original_shape[0] , original_shape[1])\n",
    "    \n",
    "    # 初始化StandardScaler\n",
    "    scaler = StandardScaler()\n",
    "    \n",
    "    # 对数据集进行标准化\n",
    "    TS_normalized = scaler.fit_transform(TS_2d)\n",
    "    \n",
    "    # 将标准化后的数据集reshape回原始形状\n",
    "    TS = TS_normalized.reshape(original_shape)\n",
    "    \n",
    "    return TS\n",
    "\n",
    "x_train = normalize(x_train)\n",
    "x_test_original = normalize(x_test_original)\n",
    "print(x_train)"
   ]
  },
  {
   "cell_type": "code",
   "execution_count": 22,
   "id": "c9911722",
   "metadata": {},
   "outputs": [
    {
     "name": "stdout",
     "output_type": "stream",
     "text": [
      "Epoch 1/100\n",
      "10/10 [==============================] - 1s 26ms/step - loss: 2.4956 - sparse_categorical_accuracy: 0.1538 - val_loss: 2.4780 - val_sparse_categorical_accuracy: 0.1538\n",
      "Epoch 2/100\n",
      "10/10 [==============================] - 0s 19ms/step - loss: 2.3201 - sparse_categorical_accuracy: 0.2853 - val_loss: 2.4672 - val_sparse_categorical_accuracy: 0.1282\n",
      "Epoch 3/100\n",
      "10/10 [==============================] - 0s 18ms/step - loss: 2.2363 - sparse_categorical_accuracy: 0.3045 - val_loss: 2.4620 - val_sparse_categorical_accuracy: 0.1410\n",
      "Epoch 4/100\n",
      "10/10 [==============================] - 0s 20ms/step - loss: 2.1714 - sparse_categorical_accuracy: 0.3077 - val_loss: 2.4618 - val_sparse_categorical_accuracy: 0.1154\n",
      "Epoch 5/100\n",
      "10/10 [==============================] - 0s 17ms/step - loss: 2.1124 - sparse_categorical_accuracy: 0.3718 - val_loss: 2.4685 - val_sparse_categorical_accuracy: 0.1410\n",
      "Epoch 6/100\n",
      "10/10 [==============================] - 0s 17ms/step - loss: 2.0732 - sparse_categorical_accuracy: 0.3750 - val_loss: 2.4783 - val_sparse_categorical_accuracy: 0.1538\n",
      "Epoch 7/100\n",
      "10/10 [==============================] - 0s 17ms/step - loss: 2.0247 - sparse_categorical_accuracy: 0.4231 - val_loss: 2.5047 - val_sparse_categorical_accuracy: 0.1410\n",
      "Epoch 8/100\n",
      "10/10 [==============================] - 0s 17ms/step - loss: 1.9918 - sparse_categorical_accuracy: 0.4519 - val_loss: 2.5363 - val_sparse_categorical_accuracy: 0.1923\n",
      "Epoch 9/100\n",
      "10/10 [==============================] - 0s 18ms/step - loss: 1.9640 - sparse_categorical_accuracy: 0.4327 - val_loss: 2.5862 - val_sparse_categorical_accuracy: 0.1795\n",
      "Epoch 10/100\n",
      "10/10 [==============================] - 0s 17ms/step - loss: 1.9284 - sparse_categorical_accuracy: 0.4295 - val_loss: 2.6222 - val_sparse_categorical_accuracy: 0.1923\n",
      "Epoch 11/100\n",
      "10/10 [==============================] - 0s 17ms/step - loss: 1.9054 - sparse_categorical_accuracy: 0.4455 - val_loss: 2.6925 - val_sparse_categorical_accuracy: 0.1795\n",
      "Epoch 12/100\n",
      "10/10 [==============================] - 0s 17ms/step - loss: 1.8714 - sparse_categorical_accuracy: 0.4776 - val_loss: 2.7550 - val_sparse_categorical_accuracy: 0.1923\n",
      "Epoch 13/100\n",
      "10/10 [==============================] - 0s 17ms/step - loss: 1.8442 - sparse_categorical_accuracy: 0.4776 - val_loss: 2.8032 - val_sparse_categorical_accuracy: 0.2051\n",
      "Epoch 14/100\n",
      "10/10 [==============================] - 0s 17ms/step - loss: 1.8105 - sparse_categorical_accuracy: 0.4936 - val_loss: 2.8805 - val_sparse_categorical_accuracy: 0.1538\n",
      "Epoch 15/100\n",
      "10/10 [==============================] - 0s 17ms/step - loss: 1.7912 - sparse_categorical_accuracy: 0.4904 - val_loss: 2.9112 - val_sparse_categorical_accuracy: 0.1795\n",
      "Epoch 16/100\n",
      "10/10 [==============================] - 0s 17ms/step - loss: 1.7585 - sparse_categorical_accuracy: 0.5385 - val_loss: 2.9718 - val_sparse_categorical_accuracy: 0.1282\n",
      "Epoch 17/100\n",
      "10/10 [==============================] - 0s 17ms/step - loss: 1.7380 - sparse_categorical_accuracy: 0.5096 - val_loss: 3.0474 - val_sparse_categorical_accuracy: 0.1795\n",
      "Epoch 18/100\n",
      "10/10 [==============================] - 0s 17ms/step - loss: 1.7343 - sparse_categorical_accuracy: 0.5288 - val_loss: 3.0937 - val_sparse_categorical_accuracy: 0.1538\n",
      "Epoch 19/100\n",
      "10/10 [==============================] - 0s 17ms/step - loss: 1.7102 - sparse_categorical_accuracy: 0.5513 - val_loss: 3.1125 - val_sparse_categorical_accuracy: 0.1538\n",
      "Epoch 20/100\n",
      "10/10 [==============================] - 0s 16ms/step - loss: 1.6799 - sparse_categorical_accuracy: 0.5449 - val_loss: 3.1524 - val_sparse_categorical_accuracy: 0.1538\n",
      "Epoch 21/100\n",
      "10/10 [==============================] - 0s 17ms/step - loss: 1.6792 - sparse_categorical_accuracy: 0.5353 - val_loss: 3.2024 - val_sparse_categorical_accuracy: 0.1538\n",
      "Epoch 22/100\n",
      "10/10 [==============================] - 0s 17ms/step - loss: 1.6575 - sparse_categorical_accuracy: 0.5833 - val_loss: 3.1804 - val_sparse_categorical_accuracy: 0.2051\n",
      "Epoch 23/100\n",
      "10/10 [==============================] - 0s 16ms/step - loss: 1.6442 - sparse_categorical_accuracy: 0.5481 - val_loss: 3.1773 - val_sparse_categorical_accuracy: 0.1538\n",
      "Epoch 24/100\n",
      "10/10 [==============================] - 0s 17ms/step - loss: 1.6102 - sparse_categorical_accuracy: 0.5929 - val_loss: 3.1505 - val_sparse_categorical_accuracy: 0.1795\n",
      "Epoch 25/100\n",
      "10/10 [==============================] - 0s 17ms/step - loss: 1.5831 - sparse_categorical_accuracy: 0.5801 - val_loss: 3.1545 - val_sparse_categorical_accuracy: 0.1538\n",
      "Epoch 26/100\n",
      "10/10 [==============================] - 0s 17ms/step - loss: 1.5708 - sparse_categorical_accuracy: 0.5705 - val_loss: 3.1073 - val_sparse_categorical_accuracy: 0.2051\n",
      "Epoch 27/100\n",
      "10/10 [==============================] - 0s 17ms/step - loss: 1.5690 - sparse_categorical_accuracy: 0.5962 - val_loss: 3.1296 - val_sparse_categorical_accuracy: 0.1538\n",
      "Epoch 28/100\n",
      "10/10 [==============================] - 0s 17ms/step - loss: 1.5410 - sparse_categorical_accuracy: 0.5962 - val_loss: 3.0347 - val_sparse_categorical_accuracy: 0.2179\n",
      "Epoch 29/100\n",
      "10/10 [==============================] - 0s 17ms/step - loss: 1.5357 - sparse_categorical_accuracy: 0.6026 - val_loss: 3.1024 - val_sparse_categorical_accuracy: 0.1795\n",
      "Epoch 30/100\n",
      "10/10 [==============================] - 0s 17ms/step - loss: 1.5117 - sparse_categorical_accuracy: 0.6122 - val_loss: 2.9357 - val_sparse_categorical_accuracy: 0.2308\n",
      "Epoch 31/100\n",
      "10/10 [==============================] - 0s 16ms/step - loss: 1.5054 - sparse_categorical_accuracy: 0.5897 - val_loss: 3.0422 - val_sparse_categorical_accuracy: 0.1538\n",
      "Epoch 32/100\n",
      "10/10 [==============================] - 0s 16ms/step - loss: 1.4829 - sparse_categorical_accuracy: 0.6442 - val_loss: 2.8861 - val_sparse_categorical_accuracy: 0.2051\n",
      "Epoch 33/100\n",
      "10/10 [==============================] - 0s 17ms/step - loss: 1.4635 - sparse_categorical_accuracy: 0.6314 - val_loss: 2.9753 - val_sparse_categorical_accuracy: 0.1923\n",
      "Epoch 34/100\n",
      "10/10 [==============================] - 0s 17ms/step - loss: 1.4582 - sparse_categorical_accuracy: 0.6282 - val_loss: 2.8006 - val_sparse_categorical_accuracy: 0.1410\n",
      "Epoch 35/100\n",
      "10/10 [==============================] - 0s 17ms/step - loss: 1.4415 - sparse_categorical_accuracy: 0.6154 - val_loss: 2.7187 - val_sparse_categorical_accuracy: 0.2051\n",
      "Epoch 36/100\n",
      "10/10 [==============================] - 0s 17ms/step - loss: 1.4351 - sparse_categorical_accuracy: 0.6474 - val_loss: 2.5715 - val_sparse_categorical_accuracy: 0.2179\n",
      "Epoch 37/100\n",
      "10/10 [==============================] - 0s 19ms/step - loss: 1.3996 - sparse_categorical_accuracy: 0.6538 - val_loss: 2.5987 - val_sparse_categorical_accuracy: 0.1795\n",
      "Epoch 38/100\n",
      "10/10 [==============================] - 0s 17ms/step - loss: 1.4182 - sparse_categorical_accuracy: 0.6218 - val_loss: 2.4861 - val_sparse_categorical_accuracy: 0.1795\n",
      "Epoch 39/100\n",
      "10/10 [==============================] - 0s 18ms/step - loss: 1.3850 - sparse_categorical_accuracy: 0.6474 - val_loss: 2.4100 - val_sparse_categorical_accuracy: 0.2179\n",
      "Epoch 40/100\n",
      "10/10 [==============================] - 0s 17ms/step - loss: 1.3761 - sparse_categorical_accuracy: 0.6442 - val_loss: 2.5588 - val_sparse_categorical_accuracy: 0.1923\n",
      "Epoch 41/100\n",
      "10/10 [==============================] - 0s 17ms/step - loss: 1.3784 - sparse_categorical_accuracy: 0.6378 - val_loss: 2.6207 - val_sparse_categorical_accuracy: 0.1667\n",
      "Epoch 42/100\n",
      "10/10 [==============================] - 0s 16ms/step - loss: 1.3790 - sparse_categorical_accuracy: 0.6218 - val_loss: 2.5295 - val_sparse_categorical_accuracy: 0.1795\n",
      "Epoch 43/100\n",
      "10/10 [==============================] - 0s 17ms/step - loss: 1.3405 - sparse_categorical_accuracy: 0.6378 - val_loss: 2.4818 - val_sparse_categorical_accuracy: 0.1795\n",
      "Epoch 44/100\n",
      "10/10 [==============================] - 0s 19ms/step - loss: 1.3487 - sparse_categorical_accuracy: 0.6474 - val_loss: 2.2133 - val_sparse_categorical_accuracy: 0.2308\n",
      "Epoch 45/100\n",
      "10/10 [==============================] - 0s 17ms/step - loss: 1.3099 - sparse_categorical_accuracy: 0.6731 - val_loss: 2.4818 - val_sparse_categorical_accuracy: 0.1923\n",
      "Epoch 46/100\n",
      "10/10 [==============================] - 0s 19ms/step - loss: 1.3065 - sparse_categorical_accuracy: 0.6442 - val_loss: 2.0200 - val_sparse_categorical_accuracy: 0.3333\n",
      "Epoch 47/100\n",
      "10/10 [==============================] - 0s 18ms/step - loss: 1.2926 - sparse_categorical_accuracy: 0.6667 - val_loss: 2.2892 - val_sparse_categorical_accuracy: 0.2308\n",
      "Epoch 48/100\n",
      "10/10 [==============================] - 0s 19ms/step - loss: 1.2994 - sparse_categorical_accuracy: 0.6506 - val_loss: 1.7963 - val_sparse_categorical_accuracy: 0.4615\n",
      "Epoch 49/100\n",
      "10/10 [==============================] - 0s 17ms/step - loss: 1.2917 - sparse_categorical_accuracy: 0.6603 - val_loss: 2.0650 - val_sparse_categorical_accuracy: 0.3205\n",
      "Epoch 50/100\n",
      "10/10 [==============================] - 0s 16ms/step - loss: 1.2815 - sparse_categorical_accuracy: 0.6731 - val_loss: 1.9003 - val_sparse_categorical_accuracy: 0.4231\n",
      "Epoch 51/100\n",
      "10/10 [==============================] - 0s 17ms/step - loss: 1.2827 - sparse_categorical_accuracy: 0.6538 - val_loss: 1.8390 - val_sparse_categorical_accuracy: 0.3974\n",
      "Epoch 52/100\n",
      "10/10 [==============================] - 0s 17ms/step - loss: 1.2550 - sparse_categorical_accuracy: 0.6731 - val_loss: 1.8535 - val_sparse_categorical_accuracy: 0.4103\n",
      "Epoch 53/100\n",
      "10/10 [==============================] - 0s 17ms/step - loss: 1.2303 - sparse_categorical_accuracy: 0.6571 - val_loss: 1.9242 - val_sparse_categorical_accuracy: 0.3077\n",
      "Epoch 54/100\n",
      "10/10 [==============================] - 0s 17ms/step - loss: 1.2501 - sparse_categorical_accuracy: 0.6987 - val_loss: 1.7995 - val_sparse_categorical_accuracy: 0.4359\n",
      "Epoch 55/100\n",
      "10/10 [==============================] - 0s 18ms/step - loss: 1.2221 - sparse_categorical_accuracy: 0.6827 - val_loss: 1.7347 - val_sparse_categorical_accuracy: 0.4231\n",
      "Epoch 56/100\n",
      "10/10 [==============================] - 0s 18ms/step - loss: 1.2294 - sparse_categorical_accuracy: 0.6667 - val_loss: 1.6869 - val_sparse_categorical_accuracy: 0.5128\n",
      "Epoch 57/100\n",
      "10/10 [==============================] - 0s 18ms/step - loss: 1.1938 - sparse_categorical_accuracy: 0.6795 - val_loss: 1.7594 - val_sparse_categorical_accuracy: 0.3718\n",
      "Epoch 58/100\n",
      "10/10 [==============================] - 0s 17ms/step - loss: 1.1852 - sparse_categorical_accuracy: 0.6474 - val_loss: 1.7486 - val_sparse_categorical_accuracy: 0.4231\n",
      "Epoch 59/100\n",
      "10/10 [==============================] - 0s 17ms/step - loss: 1.2077 - sparse_categorical_accuracy: 0.6763 - val_loss: 1.7233 - val_sparse_categorical_accuracy: 0.3846\n",
      "Epoch 60/100\n",
      "10/10 [==============================] - 0s 19ms/step - loss: 1.1654 - sparse_categorical_accuracy: 0.7115 - val_loss: 1.6340 - val_sparse_categorical_accuracy: 0.5128\n",
      "Epoch 61/100\n",
      "10/10 [==============================] - 0s 17ms/step - loss: 1.1746 - sparse_categorical_accuracy: 0.6859 - val_loss: 1.8506 - val_sparse_categorical_accuracy: 0.3590\n",
      "Epoch 62/100\n",
      "10/10 [==============================] - 0s 17ms/step - loss: 1.1538 - sparse_categorical_accuracy: 0.7147 - val_loss: 1.8109 - val_sparse_categorical_accuracy: 0.4103\n",
      "Epoch 63/100\n",
      "10/10 [==============================] - 0s 17ms/step - loss: 1.1418 - sparse_categorical_accuracy: 0.6955 - val_loss: 1.7036 - val_sparse_categorical_accuracy: 0.4103\n",
      "Epoch 64/100\n",
      "10/10 [==============================] - 0s 18ms/step - loss: 1.1155 - sparse_categorical_accuracy: 0.6955 - val_loss: 1.8427 - val_sparse_categorical_accuracy: 0.4103\n",
      "Epoch 65/100\n",
      "10/10 [==============================] - 0s 17ms/step - loss: 1.1311 - sparse_categorical_accuracy: 0.6795 - val_loss: 2.0557 - val_sparse_categorical_accuracy: 0.2821\n",
      "Epoch 66/100\n",
      "10/10 [==============================] - 0s 17ms/step - loss: 1.1602 - sparse_categorical_accuracy: 0.7083 - val_loss: 1.9109 - val_sparse_categorical_accuracy: 0.3590\n",
      "Epoch 67/100\n",
      "10/10 [==============================] - 0s 18ms/step - loss: 1.1302 - sparse_categorical_accuracy: 0.7147 - val_loss: 1.5795 - val_sparse_categorical_accuracy: 0.4872\n",
      "Epoch 68/100\n",
      "10/10 [==============================] - 0s 17ms/step - loss: 1.1134 - sparse_categorical_accuracy: 0.7115 - val_loss: 1.7913 - val_sparse_categorical_accuracy: 0.4487\n",
      "Epoch 69/100\n",
      "10/10 [==============================] - 0s 21ms/step - loss: 1.0999 - sparse_categorical_accuracy: 0.7179 - val_loss: 1.5573 - val_sparse_categorical_accuracy: 0.5000\n",
      "Epoch 70/100\n",
      "10/10 [==============================] - 0s 18ms/step - loss: 1.0836 - sparse_categorical_accuracy: 0.7147 - val_loss: 1.8380 - val_sparse_categorical_accuracy: 0.3590\n",
      "Epoch 71/100\n",
      "10/10 [==============================] - 0s 18ms/step - loss: 1.1235 - sparse_categorical_accuracy: 0.7276 - val_loss: 1.6402 - val_sparse_categorical_accuracy: 0.3846\n",
      "Epoch 72/100\n",
      "10/10 [==============================] - 0s 17ms/step - loss: 1.0717 - sparse_categorical_accuracy: 0.7083 - val_loss: 1.7960 - val_sparse_categorical_accuracy: 0.4231\n",
      "Epoch 73/100\n",
      "10/10 [==============================] - 0s 20ms/step - loss: 1.0727 - sparse_categorical_accuracy: 0.7147 - val_loss: 1.5420 - val_sparse_categorical_accuracy: 0.4615\n",
      "Epoch 74/100\n",
      "10/10 [==============================] - 0s 18ms/step - loss: 1.0593 - sparse_categorical_accuracy: 0.7212 - val_loss: 1.5825 - val_sparse_categorical_accuracy: 0.4615\n",
      "Epoch 75/100\n",
      "10/10 [==============================] - 0s 18ms/step - loss: 1.1018 - sparse_categorical_accuracy: 0.7083 - val_loss: 1.6257 - val_sparse_categorical_accuracy: 0.4872\n",
      "Epoch 76/100\n",
      "10/10 [==============================] - 0s 19ms/step - loss: 1.0656 - sparse_categorical_accuracy: 0.7115 - val_loss: 1.4229 - val_sparse_categorical_accuracy: 0.5256\n",
      "Epoch 77/100\n",
      "10/10 [==============================] - 0s 18ms/step - loss: 1.0204 - sparse_categorical_accuracy: 0.7436 - val_loss: 1.5418 - val_sparse_categorical_accuracy: 0.4359\n",
      "Epoch 78/100\n",
      "10/10 [==============================] - 0s 17ms/step - loss: 1.0183 - sparse_categorical_accuracy: 0.7436 - val_loss: 1.9056 - val_sparse_categorical_accuracy: 0.2949\n",
      "Epoch 79/100\n",
      "10/10 [==============================] - 0s 18ms/step - loss: 1.0033 - sparse_categorical_accuracy: 0.7244 - val_loss: 2.0878 - val_sparse_categorical_accuracy: 0.3205\n",
      "Epoch 80/100\n",
      "10/10 [==============================] - 0s 18ms/step - loss: 1.0194 - sparse_categorical_accuracy: 0.7083 - val_loss: 1.9034 - val_sparse_categorical_accuracy: 0.2949\n",
      "Epoch 81/100\n",
      "10/10 [==============================] - 0s 18ms/step - loss: 1.0105 - sparse_categorical_accuracy: 0.7212 - val_loss: 2.4585 - val_sparse_categorical_accuracy: 0.2179\n",
      "Epoch 82/100\n",
      "10/10 [==============================] - 0s 18ms/step - loss: 0.9962 - sparse_categorical_accuracy: 0.7244 - val_loss: 1.9609 - val_sparse_categorical_accuracy: 0.2821\n",
      "Epoch 83/100\n",
      "10/10 [==============================] - 0s 17ms/step - loss: 1.0010 - sparse_categorical_accuracy: 0.7179 - val_loss: 2.5689 - val_sparse_categorical_accuracy: 0.2051\n",
      "Epoch 84/100\n",
      "10/10 [==============================] - 0s 17ms/step - loss: 0.9421 - sparse_categorical_accuracy: 0.7724 - val_loss: 1.6779 - val_sparse_categorical_accuracy: 0.3974\n",
      "Epoch 85/100\n",
      "10/10 [==============================] - 0s 17ms/step - loss: 0.9636 - sparse_categorical_accuracy: 0.7308 - val_loss: 2.1507 - val_sparse_categorical_accuracy: 0.2949\n",
      "Epoch 86/100\n",
      "10/10 [==============================] - 0s 18ms/step - loss: 0.9506 - sparse_categorical_accuracy: 0.7500 - val_loss: 1.8607 - val_sparse_categorical_accuracy: 0.3333\n",
      "Epoch 87/100\n",
      "10/10 [==============================] - 0s 17ms/step - loss: 0.9817 - sparse_categorical_accuracy: 0.7308 - val_loss: 1.7393 - val_sparse_categorical_accuracy: 0.3590\n",
      "Epoch 88/100\n",
      "10/10 [==============================] - 0s 17ms/step - loss: 0.9800 - sparse_categorical_accuracy: 0.7147 - val_loss: 2.3092 - val_sparse_categorical_accuracy: 0.2692\n",
      "Epoch 89/100\n",
      "10/10 [==============================] - 0s 17ms/step - loss: 0.9796 - sparse_categorical_accuracy: 0.7404 - val_loss: 1.7870 - val_sparse_categorical_accuracy: 0.3333\n",
      "Epoch 90/100\n",
      "10/10 [==============================] - 0s 23ms/step - loss: 0.9779 - sparse_categorical_accuracy: 0.7372 - val_loss: 2.4008 - val_sparse_categorical_accuracy: 0.2308\n",
      "Epoch 91/100\n",
      "10/10 [==============================] - 0s 18ms/step - loss: 0.9422 - sparse_categorical_accuracy: 0.7660 - val_loss: 1.9617 - val_sparse_categorical_accuracy: 0.3333\n",
      "Epoch 92/100\n",
      "10/10 [==============================] - 0s 18ms/step - loss: 0.9154 - sparse_categorical_accuracy: 0.7564 - val_loss: 1.5564 - val_sparse_categorical_accuracy: 0.4487\n",
      "Epoch 93/100\n",
      "10/10 [==============================] - 0s 18ms/step - loss: 0.9313 - sparse_categorical_accuracy: 0.7372 - val_loss: 1.8375 - val_sparse_categorical_accuracy: 0.3718\n",
      "Epoch 94/100\n",
      "10/10 [==============================] - 0s 18ms/step - loss: 0.9085 - sparse_categorical_accuracy: 0.7340 - val_loss: 1.9038 - val_sparse_categorical_accuracy: 0.3077\n",
      "Epoch 95/100\n",
      "10/10 [==============================] - 0s 19ms/step - loss: 0.8911 - sparse_categorical_accuracy: 0.7596 - val_loss: 1.6143 - val_sparse_categorical_accuracy: 0.3846\n",
      "Epoch 96/100\n",
      "10/10 [==============================] - 0s 20ms/step - loss: 0.8961 - sparse_categorical_accuracy: 0.7532 - val_loss: 1.4299 - val_sparse_categorical_accuracy: 0.4744\n",
      "Epoch 97/100\n",
      "10/10 [==============================] - 0s 19ms/step - loss: 0.8919 - sparse_categorical_accuracy: 0.7756 - val_loss: 1.8824 - val_sparse_categorical_accuracy: 0.3205\n",
      "Epoch 98/100\n",
      "10/10 [==============================] - 0s 19ms/step - loss: 0.8771 - sparse_categorical_accuracy: 0.7885 - val_loss: 1.9270 - val_sparse_categorical_accuracy: 0.3333\n",
      "Epoch 99/100\n",
      "10/10 [==============================] - 0s 19ms/step - loss: 0.8591 - sparse_categorical_accuracy: 0.7788 - val_loss: 1.6207 - val_sparse_categorical_accuracy: 0.4231\n",
      "Epoch 100/100\n",
      "10/10 [==============================] - 0s 19ms/step - loss: 0.8678 - sparse_categorical_accuracy: 0.7692 - val_loss: 1.5111 - val_sparse_categorical_accuracy: 0.4103\n"
     ]
    }
   ],
   "source": [
    "model = make_CNN_model(x_train.shape[1:],num_classes = 12)\n",
    "trained_model, history = train_CNN_model(model, x_train, y_train, epochs=100, batch_size=32)"
   ]
  },
  {
   "cell_type": "code",
   "execution_count": 23,
   "id": "227e6120",
   "metadata": {},
   "outputs": [
    {
     "name": "stdout",
     "output_type": "stream",
     "text": [
      "13/13 [==============================] - 0s 5ms/step - loss: 1.4823 - sparse_categorical_accuracy: 0.4590\n",
      "Test accuracy 0.45897436141967773\n",
      "Test loss 1.4822789430618286\n"
     ]
    }
   ],
   "source": [
    "test_loss, test_acc = trained_model.evaluate(x_test_original, y_test_original)\n",
    "\n",
    "print(\"Test accuracy\", test_acc)\n",
    "print(\"Test loss\", test_loss)"
   ]
  },
  {
   "cell_type": "markdown",
   "id": "4773dace",
   "metadata": {},
   "source": [
    "### Create perturbed test sets and calculate decrease in accuracy"
   ]
  },
  {
   "cell_type": "code",
   "execution_count": 24,
   "id": "b854bfe4-2303-44a0-bef5-eb3c738da9e9",
   "metadata": {},
   "outputs": [
    {
     "name": "stdout",
     "output_type": "stream",
     "text": [
      "(390,)\n"
     ]
    }
   ],
   "source": [
    "print(y_test_original.shape)"
   ]
  },
  {
   "cell_type": "code",
   "execution_count": 25,
   "id": "ffd7c678-03f4-47ae-a1f9-45e0c185580e",
   "metadata": {},
   "outputs": [
    {
     "name": "stdout",
     "output_type": "stream",
     "text": [
      "def perturb(perturbation_strategy, ts, index0, index1, global_ts = []):\n",
      "    if perturbation_strategy == 'RBP':\n",
      "        return RBPIndividual(ts, index0, index1)\n",
      "    if perturbation_strategy == 'zero':\n",
      "        return zeroPerturb(ts, index0, index1)\n",
      "    if perturbation_strategy == 'noise':\n",
      "        return noisePerturb(ts, index0, index1)\n",
      "    if perturbation_strategy == 'blur':\n",
      "        return blurPerturb(ts, index0, index1)\n",
      "    if perturbation_strategy == 'RBP1':\n",
      "        return RBPIndividualNew1(global_ts, ts, index0, index1)    \n",
      "    if perturbation_strategy == 'RBP2':\n",
      "        return RBPIndividualNew2(global_ts, ts, index0, index1)    \n",
      "\n",
      "(perturbation_strategy, ts, index0, index1, global_ts=[])\n"
     ]
    }
   ],
   "source": [
    "print(inspect.getsource(perturb))\n",
    "print(inspect.signature(perturb))"
   ]
  },
  {
   "cell_type": "code",
   "execution_count": 26,
   "id": "4c579fb7",
   "metadata": {},
   "outputs": [
    {
     "name": "stdout",
     "output_type": "stream",
     "text": [
      "13/13 [==============================] - 0s 4ms/step\n",
      "13/13 [==============================] - 0s 4ms/step\n",
      "13/13 [==============================] - 0s 4ms/step\n",
      "13/13 [==============================] - 0s 4ms/step\n",
      "13/13 [==============================] - 0s 3ms/step\n",
      "13/13 [==============================] - 0s 4ms/step\n"
     ]
    }
   ],
   "source": [
    "predictions_original = model.predict(x_test_original)\n",
    "perturb_test_set = x_test_original.copy()\n",
    "perturb_test_set = perturb_test_set.reshape(x_test_original.shape[0:2])\n",
    "\n",
    "x_test_rbp = np.asarray([perturb('RBP',x,200,300) for x in perturb_test_set])\n",
    "x_test_rbp = np.expand_dims(x_test_rbp, axis=-1)\n",
    "predictions_rbp = model.predict(x_test_rbp)\n",
    "\n",
    "pert1 = perturb('RBP1',perturb_test_set[0],200,300, global_ts = perturb_test_set)\n",
    "x_test_new1 = np.asarray([perturb('RBP1',x,60,160, global_ts = perturb_test_set) for x in perturb_test_set])\n",
    "x_test_new1 = np.expand_dims(x_test_new1, axis=-1)\n",
    "predictions_new1 = model.predict(x_test_new1)\n",
    "\n",
    "#x_test_new2 = np.asarray([perturb('RBP2',x,400,500, global_ts = perturb_test_set) for x in perturb_test_set])\n",
    "#x_test_new2 = np.expand_dims(x_test_new2, axis=-1)\n",
    "#predictions_new2 = model.predict(x_test_new2)\n",
    "\n",
    "x_test_zero = np.asarray([perturb('zero',x,200,300) for x in perturb_test_set])\n",
    "x_test_zero = np.expand_dims(x_test_zero, axis=-1)\n",
    "predictions_zero = model.predict(x_test_zero)\n",
    "\n",
    "x_test_noise = np.asarray([perturb('noise',x,200,300) for x in perturb_test_set])\n",
    "x_test_noise = np.expand_dims(x_test_noise, axis=-1)\n",
    "predictions_noise = model.predict(x_test_noise)\n",
    "\n",
    "x_test_blur = np.asarray([perturb('blur',x,200,300) for x in perturb_test_set])\n",
    "x_test_blur = np.expand_dims(x_test_blur, axis=-1)\n",
    "predictions_blur = model.predict(x_test_blur)"
   ]
  },
  {
   "cell_type": "code",
   "execution_count": 35,
   "id": "069af343-0cfa-4787-b5d4-170f885bb59d",
   "metadata": {},
   "outputs": [
    {
     "name": "stdout",
     "output_type": "stream",
     "text": [
      "8.239141124031118\n",
      "10.600143258233262\n",
      "9.523537269023088\n",
      "22.264487458736603\n",
      "4.596424258228867\n"
     ]
    }
   ],
   "source": [
    "def l2norm(perturb):\n",
    "    # 计算两个数组之间的差\n",
    "    difference = perturb - x_test_original\n",
    "    \n",
    "    # 计算差的平方\n",
    "    squared_difference = np.square(difference)\n",
    "    \n",
    "    # 计算平方和，沿着特征维度（axis=1），因为每个时间序列样本是一行\n",
    "    sum_of_squares = np.sum(squared_difference, axis=1)\n",
    "    \n",
    "    # 计算平方和的平方根，即l2范数\n",
    "    l2_norms = np.sqrt(sum_of_squares)\n",
    "    \n",
    "    average_l2_norm = np.mean(l2_norms)\n",
    "    \n",
    "    # l2_norms现在是一个形状为(467,)的数组，其中每个元素代表\n",
    "    # 对应时间序列样本之间的l2范数\n",
    "    print(average_l2_norm)  # 输出: (467,)\n",
    "\n",
    "l2norm(x_test_rbp)\n",
    "l2norm(x_test_new1)\n",
    "l2norm(x_test_zero)\n",
    "l2norm(x_test_noise)\n",
    "l2norm(x_test_blur)"
   ]
  },
  {
   "cell_type": "code",
   "execution_count": 9,
   "id": "b5d3f821",
   "metadata": {},
   "outputs": [],
   "source": [
    "def accuracy(predictions, labels):\n",
    "    hits = 0\n",
    "    for i in range(0,len(predictions)):\n",
    "        if predictions[i] == labels[i]:\n",
    "            hits += 1\n",
    "    return hits/len(predictions)"
   ]
  },
  {
   "cell_type": "code",
   "execution_count": 10,
   "id": "89f21d47",
   "metadata": {},
   "outputs": [],
   "source": [
    "original_accuracy = accuracy(np.argmax(predictions_original,axis=1), y_test_original)\n",
    "rbp_accuracy = accuracy(np.argmax(predictions_rbp,axis=1), y_test_original)\n",
    "new1_accuracy = accuracy(np.argmax(predictions_new1,axis=1), y_test_original)\n",
    "#new2_accuracy = accuracy(np.argmax(predictions_new2,axis=1), y_test_original)\n",
    "zero_accuracy = accuracy(np.argmax(predictions_zero,axis=1), y_test_original)\n",
    "noise_accuracy = accuracy(np.argmax(predictions_noise,axis=1), y_test_original)\n",
    "blur_accuracy = accuracy(np.argmax(predictions_blur,axis=1), y_test_original)"
   ]
  },
  {
   "cell_type": "code",
   "execution_count": 11,
   "id": "e52c9d2e",
   "metadata": {},
   "outputs": [
    {
     "name": "stdout",
     "output_type": "stream",
     "text": [
      " Original Accuracy: 0.3641025641025641\n",
      " RBP Accuracy: 0.26666666666666666\n",
      " RBP1 Accuracy: 0.11794871794871795\n",
      " Zero Accuracy: 0.21794871794871795\n",
      " Noise Accuracy: 0.1\n",
      " Blur Accuracy: 0.30256410256410254\n",
      "\n"
     ]
    }
   ],
   "source": [
    "print(\" Original Accuracy: \" + str(original_accuracy) + \"\\n\"+\n",
    "    \" RBP Accuracy: \" + str(rbp_accuracy) + \"\\n\"+\n",
    "    \" RBP1 Accuracy: \" + str(new1_accuracy) + \"\\n\"+\n",
    "    #\" RBP2 Accuracy: \" + str(new2_accuracy) + \"\\n\"+\n",
    "      \n",
    "    \" Zero Accuracy: \" + str(zero_accuracy) + \"\\n\"+\n",
    "    \" Noise Accuracy: \" + str(noise_accuracy) + \"\\n\"+\n",
    "    \" Blur Accuracy: \" + str(blur_accuracy) + \"\\n\")"
   ]
  },
  {
   "cell_type": "code",
   "execution_count": 15,
   "id": "eeab6bc4-d45e-45bb-8fcf-5a24b8ddceb4",
   "metadata": {},
   "outputs": [
    {
     "name": "stdout",
     "output_type": "stream",
     "text": [
      "[ 3  3  3  3 10 10  3  3  3 10 10  3  4 10  3  4  3 10  3  3  3  3  3 10\n",
      "  3 10 10 10 10  3  9  3  3  3  3  3  3  9  4  3  3  9 10 10  3  3 10  9\n",
      " 10  9  1 10 10  9 10  3  4  9  3 10 10 10  9  3  3 10 10  1 10  4 10  3\n",
      "  3  3  3  3  3 10  3  3  3  3  9  3  4 10  3 10  3  3  3 10 10  3  3 10\n",
      " 10  3 10  3  3  9 10  4  3  3 10  3  3  3  3  9  3  3  3  3  3  9 10  3\n",
      "  3  3 10  3  3  3  3 10  3  3  3 10 10  3 10  3  3  9 10  4 10  3  3  3\n",
      " 10  3  3 10  3  9  3 10  9  3  3  3  9  3  3  3  1  9  3  3 10 10  3 10\n",
      " 10  3  3 10  3 10 10  9  4  9  3  3 10  3  3  5  3  3  3  3  9 10  9  3\n",
      "  1  9  3 10  3 10  9 10 10  3  3  3  3 10  3  9  9  3 10 10  3  3 10  4\n",
      "  9  9 10 10  9  3  3  3 10  9  3  3  3 10  9  3 10 10 10 10 10  3  3  3\n",
      "  3  9 10  3 10 10  3  3 10  3  3 10 10  4 10  3  3  3 10  9 10  3  3 10\n",
      "  3 10  3 10 10 10 10  3  3  3  3 10  3 10 10 10  9 10  3  3  6  3  4 10\n",
      "  3  9 10  3 10  3 10  9  3 10 10  3  3 10  9  5  4 10  3  3  3 10  3  9\n",
      " 10  3  3  3 10  4  1  3  3  3  3  3  3  9 10 10  3  3  9  3  3  3  9 10\n",
      " 10  3  3 10  3 10  3  3 10  3  3 10  4  3  3  4 10  1  9 10  3 10  3 10\n",
      "  5  3  3  1 10  3  3  1 10  9 10  3  3 10  3 10 10  3  3 10  3  3  3  3\n",
      " 10  3 10  3  9  3]\n"
     ]
    }
   ],
   "source": [
    "print(np.argmax(predictions_rbp,axis=1))"
   ]
  },
  {
   "cell_type": "code",
   "execution_count": null,
   "id": "e18874a3-32bc-4bb2-bacc-39a08199afe1",
   "metadata": {},
   "outputs": [],
   "source": []
  }
 ],
 "metadata": {
  "kernelspec": {
   "display_name": "lime_tf",
   "language": "python",
   "name": "limetf"
  },
  "language_info": {
   "codemirror_mode": {
    "name": "ipython",
    "version": 3
   },
   "file_extension": ".py",
   "mimetype": "text/x-python",
   "name": "python",
   "nbconvert_exporter": "python",
   "pygments_lexer": "ipython3",
   "version": "3.10.13"
  }
 },
 "nbformat": 4,
 "nbformat_minor": 5
}
