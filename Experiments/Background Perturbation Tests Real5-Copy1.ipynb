{
 "cells": [
  {
   "cell_type": "code",
   "execution_count": 1,
   "id": "dd9bd814",
   "metadata": {},
   "outputs": [],
   "source": [
    "import numpy as np\n",
    "import matplotlib.pyplot as plt\n",
    "import inspect"
   ]
  },
  {
   "cell_type": "code",
   "execution_count": 2,
   "id": "2439de23",
   "metadata": {},
   "outputs": [
    {
     "name": "stdout",
     "output_type": "stream",
     "text": [
      "['/Users/gali/anaconda3/envs/LIMEtf/lib/python310.zip', '/Users/gali/anaconda3/envs/LIMEtf/lib/python3.10', '/Users/gali/anaconda3/envs/LIMEtf/lib/python3.10/lib-dynload', '', '/Users/gali/anaconda3/envs/LIMEtf/lib/python3.10/site-packages', '/Users/gali/anaconda3/envs/LIMEtf/lib/python3.10/site-packages/setuptools/_vendor', '../', '../']\n"
     ]
    }
   ],
   "source": [
    "import importlib\n",
    "import sys\n",
    "sys.path.append('../')\n",
    "from Utils.perturbationsnew import RBPIndividual, RBPIndividualNew1, RBPIndividualNew2, zeroPerturb, noisePerturb, blurPerturb\n",
    "from Utils.models import *\n",
    "from Utils.data import perturb, generateSynthetic, generateSyntheticPerturbReal,ReadTS\n",
    "\n",
    "print(sys.path)\n"
   ]
  },
  {
   "cell_type": "markdown",
   "id": "62b11ea0",
   "metadata": {},
   "source": [
    "## Test important content removal (accuracy decrease)"
   ]
  },
  {
   "cell_type": "markdown",
   "id": "5567ae62",
   "metadata": {},
   "source": [
    "### Load synthetic dataset and train CNN model "
   ]
  },
  {
   "cell_type": "code",
   "execution_count": 12,
   "id": "812c0d59",
   "metadata": {},
   "outputs": [
    {
     "name": "stdout",
     "output_type": "stream",
     "text": [
      "(390, 300, 1)\n",
      "[ 1.  3.  2.  2.  4.  0.  7.  9.  3.  4.  9.  1.  8.  4.  4.  9.  6. 10.\n",
      "  6.  4.  1.  2.  2.  6.  0.  8.  5.  7. 11.  3. 10.  9.  8.  6.  4.  5.\n",
      " 10.  7.  7.  9.  9. 11.  6.  2.  3.  6.  0. 11. 10. 11. 11.  8.  9.  3.\n",
      "  1.  4.  1.  6.  4.  6. 11.  3.  2. 11.  7.  2.  9.  3.  6.  6.  0.  3.\n",
      " 10.  7.  5.  2.  5.  0.  4.  8.  9. 11. 10.  4.  8.  4.  7. 10.  8. 11.\n",
      "  1.  4. 10.  9.  3.  3.  6.  9.  9.  8.  0.  5.  4.  9.  7. 10. 11.  8.\n",
      "  4. 11.  0.  0. 11. 11.  4.  2.  1.  6.  8.  6.  5.  2.  0. 10.  1.  1.\n",
      "  9. 10.  7. 10.  4.  7.  7. 11.  1.  2.  3.  9.  2.  6.  8.  5.  6.  2.\n",
      "  8.  8.  3.  2. 11.  3.  5.  9.  0.  5.  0.  0.  0.  3.  4.  4. 11. 10.\n",
      " 11.  9.  0.  2.  6. 11.  4.  8.  1.  5.  9. 11.  5. 10.  0.  0.  5.  5.\n",
      "  4.  9.  9.  1.  3.  4. 10.  9. 11.  2.  3.  2.  0.  3.  4.  6.  8.  3.\n",
      "  7.  2.  6.  7.  8. 11.  7.  6.  0.  9.  8.  5.  4.  1.  3.  9.  6.  4.\n",
      "  0.  1.  6.  5.  7. 10.  3.  1.  4. 10.  7.  8.  5. 10.  1. 10. 11.  7.\n",
      "  2.  6.  1.  4.  4.  8.  2.  3.  5.  6.  6.  3.  9.  4.  3.  1.  2.  5.\n",
      "  8.  4.  6.  7. 10.  5.  2.  8.  1.  4. 11.  1.  1.  1.  7.  5. 11.  2.\n",
      "  8. 10.  8. 11.  5.  0.  9.  2.  1.  2.  7.  4. 11. 11. 11.  1. 10.  8.\n",
      "  9.  5.  6.  7.  3.  1. 10.  0. 10.  1.  2.  0.  5.  6.  6. 11.  5.  7.\n",
      "  0.  0.  7.  4.  5.  7.  5.  2.  6.  8.  5.  3. 11.  7.  7.  7.  5.  6.\n",
      "  3.  1.  3.  2. 10.  8.  9.  8.  5.  8.  3.  8.  1.  5.  9. 11.  1.  5.\n",
      "  9.  4.  8.  0.  2.  6.  1. 10.  1.  1. 11.  7. 11.  2.  2.  2.  2.  3.\n",
      "  9.  9. 10. 10.  7.  4.  4.  0.  4. 11.  7.  3. 10.  2. 10.  0. 10.  9.\n",
      "  5.  7.  7.  0.  1.  2.  8.  1.  7.  2.  6. 10.]\n"
     ]
    }
   ],
   "source": [
    "x_train, y_train,x_test_original, y_test_original = ReadTS('CricketY')\n",
    "y_train = y_train - 1\n",
    "y_test_original = y_test_original - 1\n",
    "print(x_train.shape)\n",
    "print(y_train)"
   ]
  },
  {
   "cell_type": "code",
   "execution_count": 4,
   "id": "c9911722",
   "metadata": {},
   "outputs": [
    {
     "name": "stdout",
     "output_type": "stream",
     "text": [
      "Epoch 1/100\n"
     ]
    },
    {
     "name": "stderr",
     "output_type": "stream",
     "text": [
      "2024-11-13 21:46:08.790274: W tensorflow/tsl/platform/profile_utils/cpu_utils.cc:128] Failed to get CPU frequency: 0 Hz\n"
     ]
    },
    {
     "name": "stdout",
     "output_type": "stream",
     "text": [
      "10/10 [==============================] - 1s 26ms/step - loss: 2.4401 - sparse_categorical_accuracy: 0.1250 - val_loss: 2.4809 - val_sparse_categorical_accuracy: 0.0641\n",
      "Epoch 2/100\n",
      "10/10 [==============================] - 0s 16ms/step - loss: 2.2736 - sparse_categorical_accuracy: 0.2372 - val_loss: 2.4680 - val_sparse_categorical_accuracy: 0.0769\n",
      "Epoch 3/100\n",
      "10/10 [==============================] - 0s 16ms/step - loss: 2.1904 - sparse_categorical_accuracy: 0.2788 - val_loss: 2.4584 - val_sparse_categorical_accuracy: 0.1538\n",
      "Epoch 4/100\n",
      "10/10 [==============================] - 0s 16ms/step - loss: 2.1316 - sparse_categorical_accuracy: 0.2917 - val_loss: 2.4550 - val_sparse_categorical_accuracy: 0.0897\n",
      "Epoch 5/100\n",
      "10/10 [==============================] - 0s 16ms/step - loss: 2.0755 - sparse_categorical_accuracy: 0.3301 - val_loss: 2.4612 - val_sparse_categorical_accuracy: 0.0897\n",
      "Epoch 6/100\n",
      "10/10 [==============================] - 0s 15ms/step - loss: 2.0288 - sparse_categorical_accuracy: 0.3237 - val_loss: 2.4786 - val_sparse_categorical_accuracy: 0.0769\n",
      "Epoch 7/100\n",
      "10/10 [==============================] - 0s 15ms/step - loss: 1.9819 - sparse_categorical_accuracy: 0.3654 - val_loss: 2.5044 - val_sparse_categorical_accuracy: 0.0769\n",
      "Epoch 8/100\n",
      "10/10 [==============================] - 0s 16ms/step - loss: 1.9366 - sparse_categorical_accuracy: 0.3846 - val_loss: 2.5317 - val_sparse_categorical_accuracy: 0.0769\n",
      "Epoch 9/100\n",
      "10/10 [==============================] - 0s 15ms/step - loss: 1.9112 - sparse_categorical_accuracy: 0.4231 - val_loss: 2.5799 - val_sparse_categorical_accuracy: 0.0769\n",
      "Epoch 10/100\n",
      "10/10 [==============================] - 0s 15ms/step - loss: 1.8801 - sparse_categorical_accuracy: 0.4551 - val_loss: 2.6402 - val_sparse_categorical_accuracy: 0.0769\n",
      "Epoch 11/100\n",
      "10/10 [==============================] - 0s 15ms/step - loss: 1.8416 - sparse_categorical_accuracy: 0.4615 - val_loss: 2.6948 - val_sparse_categorical_accuracy: 0.0769\n",
      "Epoch 12/100\n",
      "10/10 [==============================] - 0s 15ms/step - loss: 1.8146 - sparse_categorical_accuracy: 0.4808 - val_loss: 2.7616 - val_sparse_categorical_accuracy: 0.0769\n",
      "Epoch 13/100\n",
      "10/10 [==============================] - 0s 19ms/step - loss: 1.7944 - sparse_categorical_accuracy: 0.4936 - val_loss: 2.8186 - val_sparse_categorical_accuracy: 0.0769\n",
      "Epoch 14/100\n",
      "10/10 [==============================] - 0s 17ms/step - loss: 1.7831 - sparse_categorical_accuracy: 0.4904 - val_loss: 2.8858 - val_sparse_categorical_accuracy: 0.0769\n",
      "Epoch 15/100\n",
      "10/10 [==============================] - 0s 17ms/step - loss: 1.7441 - sparse_categorical_accuracy: 0.4904 - val_loss: 2.9329 - val_sparse_categorical_accuracy: 0.0769\n",
      "Epoch 16/100\n",
      "10/10 [==============================] - 0s 18ms/step - loss: 1.7216 - sparse_categorical_accuracy: 0.5256 - val_loss: 2.9494 - val_sparse_categorical_accuracy: 0.0769\n",
      "Epoch 17/100\n",
      "10/10 [==============================] - 0s 20ms/step - loss: 1.7021 - sparse_categorical_accuracy: 0.5160 - val_loss: 2.9797 - val_sparse_categorical_accuracy: 0.0769\n",
      "Epoch 18/100\n",
      "10/10 [==============================] - 0s 17ms/step - loss: 1.6925 - sparse_categorical_accuracy: 0.5353 - val_loss: 3.0195 - val_sparse_categorical_accuracy: 0.0769\n",
      "Epoch 19/100\n",
      "10/10 [==============================] - 0s 16ms/step - loss: 1.6856 - sparse_categorical_accuracy: 0.4936 - val_loss: 3.0047 - val_sparse_categorical_accuracy: 0.0897\n",
      "Epoch 20/100\n",
      "10/10 [==============================] - 0s 17ms/step - loss: 1.6483 - sparse_categorical_accuracy: 0.5288 - val_loss: 3.0251 - val_sparse_categorical_accuracy: 0.1154\n",
      "Epoch 21/100\n",
      "10/10 [==============================] - 0s 17ms/step - loss: 1.6178 - sparse_categorical_accuracy: 0.5513 - val_loss: 3.0791 - val_sparse_categorical_accuracy: 0.0769\n",
      "Epoch 22/100\n",
      "10/10 [==============================] - 0s 27ms/step - loss: 1.6158 - sparse_categorical_accuracy: 0.5417 - val_loss: 2.9829 - val_sparse_categorical_accuracy: 0.1154\n",
      "Epoch 23/100\n",
      "10/10 [==============================] - 0s 16ms/step - loss: 1.6057 - sparse_categorical_accuracy: 0.5353 - val_loss: 2.9333 - val_sparse_categorical_accuracy: 0.1282\n",
      "Epoch 24/100\n",
      "10/10 [==============================] - 0s 15ms/step - loss: 1.5576 - sparse_categorical_accuracy: 0.5641 - val_loss: 2.9042 - val_sparse_categorical_accuracy: 0.1410\n",
      "Epoch 25/100\n",
      "10/10 [==============================] - 0s 15ms/step - loss: 1.5649 - sparse_categorical_accuracy: 0.5417 - val_loss: 2.9148 - val_sparse_categorical_accuracy: 0.1154\n",
      "Epoch 26/100\n",
      "10/10 [==============================] - 0s 15ms/step - loss: 1.5302 - sparse_categorical_accuracy: 0.5609 - val_loss: 2.9058 - val_sparse_categorical_accuracy: 0.0897\n",
      "Epoch 27/100\n",
      "10/10 [==============================] - 0s 15ms/step - loss: 1.5487 - sparse_categorical_accuracy: 0.5673 - val_loss: 2.7518 - val_sparse_categorical_accuracy: 0.1538\n",
      "Epoch 28/100\n",
      "10/10 [==============================] - 0s 15ms/step - loss: 1.4952 - sparse_categorical_accuracy: 0.5897 - val_loss: 2.6948 - val_sparse_categorical_accuracy: 0.1282\n",
      "Epoch 29/100\n",
      "10/10 [==============================] - 0s 15ms/step - loss: 1.4896 - sparse_categorical_accuracy: 0.5865 - val_loss: 2.6834 - val_sparse_categorical_accuracy: 0.1410\n",
      "Epoch 30/100\n",
      "10/10 [==============================] - 0s 16ms/step - loss: 1.4708 - sparse_categorical_accuracy: 0.5833 - val_loss: 2.5740 - val_sparse_categorical_accuracy: 0.1410\n",
      "Epoch 31/100\n",
      "10/10 [==============================] - 0s 15ms/step - loss: 1.4596 - sparse_categorical_accuracy: 0.5897 - val_loss: 2.5438 - val_sparse_categorical_accuracy: 0.1538\n",
      "Epoch 32/100\n",
      "10/10 [==============================] - 0s 16ms/step - loss: 1.4441 - sparse_categorical_accuracy: 0.5833 - val_loss: 2.4919 - val_sparse_categorical_accuracy: 0.1667\n",
      "Epoch 33/100\n",
      "10/10 [==============================] - 0s 17ms/step - loss: 1.4524 - sparse_categorical_accuracy: 0.5577 - val_loss: 2.4560 - val_sparse_categorical_accuracy: 0.1410\n",
      "Epoch 34/100\n",
      "10/10 [==============================] - 0s 19ms/step - loss: 1.4053 - sparse_categorical_accuracy: 0.5962 - val_loss: 2.3710 - val_sparse_categorical_accuracy: 0.1923\n",
      "Epoch 35/100\n",
      "10/10 [==============================] - 0s 18ms/step - loss: 1.3952 - sparse_categorical_accuracy: 0.6026 - val_loss: 2.3647 - val_sparse_categorical_accuracy: 0.1538\n",
      "Epoch 36/100\n",
      "10/10 [==============================] - 0s 17ms/step - loss: 1.3981 - sparse_categorical_accuracy: 0.5865 - val_loss: 2.3332 - val_sparse_categorical_accuracy: 0.2051\n",
      "Epoch 37/100\n",
      "10/10 [==============================] - 0s 17ms/step - loss: 1.3832 - sparse_categorical_accuracy: 0.5994 - val_loss: 2.1731 - val_sparse_categorical_accuracy: 0.2949\n",
      "Epoch 38/100\n",
      "10/10 [==============================] - 0s 16ms/step - loss: 1.3737 - sparse_categorical_accuracy: 0.6250 - val_loss: 2.2120 - val_sparse_categorical_accuracy: 0.2051\n",
      "Epoch 39/100\n",
      "10/10 [==============================] - 0s 17ms/step - loss: 1.3599 - sparse_categorical_accuracy: 0.5865 - val_loss: 2.1197 - val_sparse_categorical_accuracy: 0.3077\n",
      "Epoch 40/100\n",
      "10/10 [==============================] - 0s 16ms/step - loss: 1.3351 - sparse_categorical_accuracy: 0.6026 - val_loss: 2.1508 - val_sparse_categorical_accuracy: 0.3462\n",
      "Epoch 41/100\n",
      "10/10 [==============================] - 0s 18ms/step - loss: 1.3492 - sparse_categorical_accuracy: 0.5994 - val_loss: 2.0169 - val_sparse_categorical_accuracy: 0.3462\n",
      "Epoch 42/100\n",
      "10/10 [==============================] - 0s 16ms/step - loss: 1.3353 - sparse_categorical_accuracy: 0.6346 - val_loss: 2.0597 - val_sparse_categorical_accuracy: 0.3974\n",
      "Epoch 43/100\n",
      "10/10 [==============================] - 0s 17ms/step - loss: 1.3174 - sparse_categorical_accuracy: 0.6218 - val_loss: 1.8540 - val_sparse_categorical_accuracy: 0.4231\n",
      "Epoch 44/100\n",
      "10/10 [==============================] - 0s 16ms/step - loss: 1.2869 - sparse_categorical_accuracy: 0.6122 - val_loss: 2.0145 - val_sparse_categorical_accuracy: 0.4103\n",
      "Epoch 45/100\n",
      "10/10 [==============================] - 0s 17ms/step - loss: 1.2831 - sparse_categorical_accuracy: 0.6378 - val_loss: 1.8561 - val_sparse_categorical_accuracy: 0.4231\n",
      "Epoch 46/100\n",
      "10/10 [==============================] - 0s 18ms/step - loss: 1.2770 - sparse_categorical_accuracy: 0.6410 - val_loss: 1.8002 - val_sparse_categorical_accuracy: 0.4487\n",
      "Epoch 47/100\n",
      "10/10 [==============================] - 0s 17ms/step - loss: 1.2661 - sparse_categorical_accuracy: 0.6378 - val_loss: 1.9010 - val_sparse_categorical_accuracy: 0.3718\n",
      "Epoch 48/100\n",
      "10/10 [==============================] - 0s 17ms/step - loss: 1.2388 - sparse_categorical_accuracy: 0.6346 - val_loss: 1.7759 - val_sparse_categorical_accuracy: 0.3718\n",
      "Epoch 49/100\n",
      "10/10 [==============================] - 0s 16ms/step - loss: 1.2221 - sparse_categorical_accuracy: 0.6474 - val_loss: 1.8849 - val_sparse_categorical_accuracy: 0.3974\n",
      "Epoch 50/100\n",
      "10/10 [==============================] - 0s 18ms/step - loss: 1.2304 - sparse_categorical_accuracy: 0.6506 - val_loss: 1.6587 - val_sparse_categorical_accuracy: 0.4872\n",
      "Epoch 51/100\n",
      "10/10 [==============================] - 0s 16ms/step - loss: 1.2019 - sparse_categorical_accuracy: 0.6506 - val_loss: 1.7724 - val_sparse_categorical_accuracy: 0.3974\n",
      "Epoch 52/100\n",
      "10/10 [==============================] - 0s 18ms/step - loss: 1.1993 - sparse_categorical_accuracy: 0.6699 - val_loss: 1.6365 - val_sparse_categorical_accuracy: 0.5256\n",
      "Epoch 53/100\n",
      "10/10 [==============================] - 0s 17ms/step - loss: 1.2024 - sparse_categorical_accuracy: 0.6250 - val_loss: 1.7566 - val_sparse_categorical_accuracy: 0.3974\n",
      "Epoch 54/100\n",
      "10/10 [==============================] - 0s 19ms/step - loss: 1.1921 - sparse_categorical_accuracy: 0.6635 - val_loss: 1.5403 - val_sparse_categorical_accuracy: 0.4744\n",
      "Epoch 55/100\n",
      "10/10 [==============================] - 0s 17ms/step - loss: 1.1665 - sparse_categorical_accuracy: 0.6442 - val_loss: 1.6008 - val_sparse_categorical_accuracy: 0.4872\n",
      "Epoch 56/100\n",
      "10/10 [==============================] - 0s 18ms/step - loss: 1.1510 - sparse_categorical_accuracy: 0.6827 - val_loss: 1.7527 - val_sparse_categorical_accuracy: 0.4359\n",
      "Epoch 57/100\n",
      "10/10 [==============================] - 0s 18ms/step - loss: 1.1488 - sparse_categorical_accuracy: 0.6955 - val_loss: 1.5879 - val_sparse_categorical_accuracy: 0.4487\n",
      "Epoch 58/100\n",
      "10/10 [==============================] - 0s 18ms/step - loss: 1.1944 - sparse_categorical_accuracy: 0.6442 - val_loss: 1.6915 - val_sparse_categorical_accuracy: 0.4359\n",
      "Epoch 59/100\n",
      "10/10 [==============================] - 0s 18ms/step - loss: 1.1232 - sparse_categorical_accuracy: 0.6506 - val_loss: 1.6222 - val_sparse_categorical_accuracy: 0.4231\n",
      "Epoch 60/100\n",
      "10/10 [==============================] - 0s 18ms/step - loss: 1.1365 - sparse_categorical_accuracy: 0.6795 - val_loss: 1.5807 - val_sparse_categorical_accuracy: 0.4487\n",
      "Epoch 61/100\n",
      "10/10 [==============================] - 0s 18ms/step - loss: 1.1075 - sparse_categorical_accuracy: 0.6731 - val_loss: 1.6281 - val_sparse_categorical_accuracy: 0.5000\n",
      "Epoch 62/100\n",
      "10/10 [==============================] - 0s 17ms/step - loss: 1.1018 - sparse_categorical_accuracy: 0.6955 - val_loss: 1.7951 - val_sparse_categorical_accuracy: 0.3462\n",
      "Epoch 63/100\n",
      "10/10 [==============================] - 0s 17ms/step - loss: 1.0836 - sparse_categorical_accuracy: 0.7083 - val_loss: 1.7543 - val_sparse_categorical_accuracy: 0.3846\n",
      "Epoch 64/100\n",
      "10/10 [==============================] - 0s 18ms/step - loss: 1.0741 - sparse_categorical_accuracy: 0.6731 - val_loss: 1.7047 - val_sparse_categorical_accuracy: 0.3462\n",
      "Epoch 65/100\n",
      "10/10 [==============================] - 0s 18ms/step - loss: 1.1061 - sparse_categorical_accuracy: 0.6891 - val_loss: 1.6878 - val_sparse_categorical_accuracy: 0.4359\n",
      "Epoch 66/100\n",
      "10/10 [==============================] - 0s 19ms/step - loss: 1.0759 - sparse_categorical_accuracy: 0.7051 - val_loss: 1.6571 - val_sparse_categorical_accuracy: 0.4103\n",
      "Epoch 67/100\n",
      "10/10 [==============================] - 0s 18ms/step - loss: 1.0397 - sparse_categorical_accuracy: 0.6955 - val_loss: 1.5594 - val_sparse_categorical_accuracy: 0.4872\n",
      "Epoch 68/100\n",
      "10/10 [==============================] - 0s 19ms/step - loss: 1.0409 - sparse_categorical_accuracy: 0.6923 - val_loss: 1.4814 - val_sparse_categorical_accuracy: 0.5128\n",
      "Epoch 69/100\n",
      "10/10 [==============================] - 0s 19ms/step - loss: 1.0503 - sparse_categorical_accuracy: 0.7051 - val_loss: 1.4162 - val_sparse_categorical_accuracy: 0.4744\n",
      "Epoch 70/100\n",
      "10/10 [==============================] - 0s 19ms/step - loss: 1.0117 - sparse_categorical_accuracy: 0.7308 - val_loss: 1.4933 - val_sparse_categorical_accuracy: 0.4487\n",
      "Epoch 71/100\n",
      "10/10 [==============================] - 0s 18ms/step - loss: 1.0251 - sparse_categorical_accuracy: 0.6923 - val_loss: 1.5868 - val_sparse_categorical_accuracy: 0.4487\n",
      "Epoch 72/100\n",
      "10/10 [==============================] - 0s 18ms/step - loss: 1.0239 - sparse_categorical_accuracy: 0.7372 - val_loss: 1.4180 - val_sparse_categorical_accuracy: 0.5513\n",
      "Epoch 73/100\n",
      "10/10 [==============================] - 0s 20ms/step - loss: 1.0211 - sparse_categorical_accuracy: 0.6667 - val_loss: 1.3941 - val_sparse_categorical_accuracy: 0.4872\n",
      "Epoch 74/100\n",
      "10/10 [==============================] - 0s 19ms/step - loss: 0.9934 - sparse_categorical_accuracy: 0.7083 - val_loss: 1.3565 - val_sparse_categorical_accuracy: 0.5641\n",
      "Epoch 75/100\n",
      "10/10 [==============================] - 0s 18ms/step - loss: 1.0119 - sparse_categorical_accuracy: 0.6859 - val_loss: 1.4849 - val_sparse_categorical_accuracy: 0.4359\n",
      "Epoch 76/100\n",
      "10/10 [==============================] - 0s 19ms/step - loss: 0.9890 - sparse_categorical_accuracy: 0.7308 - val_loss: 1.3612 - val_sparse_categorical_accuracy: 0.5769\n",
      "Epoch 77/100\n",
      "10/10 [==============================] - 0s 19ms/step - loss: 0.9736 - sparse_categorical_accuracy: 0.7244 - val_loss: 1.4465 - val_sparse_categorical_accuracy: 0.4487\n",
      "Epoch 78/100\n",
      "10/10 [==============================] - 0s 19ms/step - loss: 0.9425 - sparse_categorical_accuracy: 0.7500 - val_loss: 1.5434 - val_sparse_categorical_accuracy: 0.4615\n",
      "Epoch 79/100\n",
      "10/10 [==============================] - 0s 19ms/step - loss: 0.9433 - sparse_categorical_accuracy: 0.7115 - val_loss: 1.5458 - val_sparse_categorical_accuracy: 0.4359\n",
      "Epoch 80/100\n",
      "10/10 [==============================] - 0s 21ms/step - loss: 0.9550 - sparse_categorical_accuracy: 0.7115 - val_loss: 1.3301 - val_sparse_categorical_accuracy: 0.5769\n",
      "Epoch 81/100\n",
      "10/10 [==============================] - 0s 19ms/step - loss: 0.9238 - sparse_categorical_accuracy: 0.7404 - val_loss: 1.6487 - val_sparse_categorical_accuracy: 0.4103\n",
      "Epoch 82/100\n",
      "10/10 [==============================] - 0s 19ms/step - loss: 0.9503 - sparse_categorical_accuracy: 0.7115 - val_loss: 1.9814 - val_sparse_categorical_accuracy: 0.2436\n",
      "Epoch 83/100\n",
      "10/10 [==============================] - 0s 19ms/step - loss: 0.9204 - sparse_categorical_accuracy: 0.7756 - val_loss: 1.6293 - val_sparse_categorical_accuracy: 0.4103\n",
      "Epoch 84/100\n",
      "10/10 [==============================] - 0s 20ms/step - loss: 0.9787 - sparse_categorical_accuracy: 0.6763 - val_loss: 1.4918 - val_sparse_categorical_accuracy: 0.4231\n",
      "Epoch 85/100\n",
      "10/10 [==============================] - 0s 20ms/step - loss: 0.9136 - sparse_categorical_accuracy: 0.7596 - val_loss: 1.6076 - val_sparse_categorical_accuracy: 0.3974\n",
      "Epoch 86/100\n",
      "10/10 [==============================] - 0s 18ms/step - loss: 0.9025 - sparse_categorical_accuracy: 0.7660 - val_loss: 1.4814 - val_sparse_categorical_accuracy: 0.4231\n",
      "Epoch 87/100\n",
      "10/10 [==============================] - 0s 19ms/step - loss: 0.9054 - sparse_categorical_accuracy: 0.7436 - val_loss: 1.4274 - val_sparse_categorical_accuracy: 0.5000\n",
      "Epoch 88/100\n",
      "10/10 [==============================] - 0s 19ms/step - loss: 0.9239 - sparse_categorical_accuracy: 0.7500 - val_loss: 1.4863 - val_sparse_categorical_accuracy: 0.4103\n",
      "Epoch 89/100\n",
      "10/10 [==============================] - 0s 18ms/step - loss: 0.8948 - sparse_categorical_accuracy: 0.7372 - val_loss: 1.5754 - val_sparse_categorical_accuracy: 0.3590\n",
      "Epoch 90/100\n",
      "10/10 [==============================] - 0s 18ms/step - loss: 0.8892 - sparse_categorical_accuracy: 0.7244 - val_loss: 1.3393 - val_sparse_categorical_accuracy: 0.5256\n",
      "Epoch 91/100\n",
      "10/10 [==============================] - 0s 26ms/step - loss: 0.8678 - sparse_categorical_accuracy: 0.7660 - val_loss: 1.4636 - val_sparse_categorical_accuracy: 0.4359\n",
      "Epoch 92/100\n",
      "10/10 [==============================] - 0s 21ms/step - loss: 0.8678 - sparse_categorical_accuracy: 0.7660 - val_loss: 1.4305 - val_sparse_categorical_accuracy: 0.5000\n",
      "Epoch 93/100\n",
      "10/10 [==============================] - 0s 17ms/step - loss: 0.8616 - sparse_categorical_accuracy: 0.7564 - val_loss: 1.3506 - val_sparse_categorical_accuracy: 0.5128\n",
      "Epoch 94/100\n",
      "10/10 [==============================] - 0s 17ms/step - loss: 0.8601 - sparse_categorical_accuracy: 0.7660 - val_loss: 1.4414 - val_sparse_categorical_accuracy: 0.4359\n",
      "Epoch 95/100\n",
      "10/10 [==============================] - 0s 18ms/step - loss: 0.8399 - sparse_categorical_accuracy: 0.7532 - val_loss: 1.4322 - val_sparse_categorical_accuracy: 0.5000\n",
      "Epoch 96/100\n",
      "10/10 [==============================] - 0s 17ms/step - loss: 0.8564 - sparse_categorical_accuracy: 0.7596 - val_loss: 1.4787 - val_sparse_categorical_accuracy: 0.4872\n",
      "Epoch 97/100\n",
      "10/10 [==============================] - 0s 17ms/step - loss: 0.8255 - sparse_categorical_accuracy: 0.7853 - val_loss: 1.5252 - val_sparse_categorical_accuracy: 0.5128\n",
      "Epoch 98/100\n",
      "10/10 [==============================] - 0s 17ms/step - loss: 0.7929 - sparse_categorical_accuracy: 0.7981 - val_loss: 1.5679 - val_sparse_categorical_accuracy: 0.4615\n",
      "Epoch 99/100\n",
      "10/10 [==============================] - 0s 18ms/step - loss: 0.8141 - sparse_categorical_accuracy: 0.7532 - val_loss: 1.4819 - val_sparse_categorical_accuracy: 0.4615\n",
      "Epoch 100/100\n",
      "10/10 [==============================] - 0s 17ms/step - loss: 0.8134 - sparse_categorical_accuracy: 0.7853 - val_loss: 2.1962 - val_sparse_categorical_accuracy: 0.3333\n"
     ]
    }
   ],
   "source": [
    "model = make_CNN_model(x_train.shape[1:],num_classes = 12)\n",
    "trained_model, history = train_CNN_model(model, x_train, y_train, epochs=100, batch_size=32)"
   ]
  },
  {
   "cell_type": "code",
   "execution_count": 5,
   "id": "227e6120",
   "metadata": {},
   "outputs": [
    {
     "name": "stdout",
     "output_type": "stream",
     "text": [
      "13/13 [==============================] - 0s 4ms/step - loss: 2.2960 - sparse_categorical_accuracy: 0.3641\n",
      "Test accuracy 0.3641025722026825\n",
      "Test loss 2.2959907054901123\n"
     ]
    }
   ],
   "source": [
    "test_loss, test_acc = trained_model.evaluate(x_test_original, y_test_original)\n",
    "\n",
    "print(\"Test accuracy\", test_acc)\n",
    "print(\"Test loss\", test_loss)"
   ]
  },
  {
   "cell_type": "markdown",
   "id": "4773dace",
   "metadata": {},
   "source": [
    "### Create perturbed test sets and calculate decrease in accuracy"
   ]
  },
  {
   "cell_type": "code",
   "execution_count": 6,
   "id": "b854bfe4-2303-44a0-bef5-eb3c738da9e9",
   "metadata": {},
   "outputs": [
    {
     "name": "stdout",
     "output_type": "stream",
     "text": [
      "(390,)\n"
     ]
    }
   ],
   "source": [
    "print(y_test_original.shape)"
   ]
  },
  {
   "cell_type": "code",
   "execution_count": 7,
   "id": "ffd7c678-03f4-47ae-a1f9-45e0c185580e",
   "metadata": {},
   "outputs": [
    {
     "name": "stdout",
     "output_type": "stream",
     "text": [
      "def perturb(perturbation_strategy, ts, index0, index1, global_ts = []):\n",
      "    if perturbation_strategy == 'RBP':\n",
      "        return RBPIndividual(ts, index0, index1)\n",
      "    if perturbation_strategy == 'zero':\n",
      "        return zeroPerturb(ts, index0, index1)\n",
      "    if perturbation_strategy == 'noise':\n",
      "        return noisePerturb(ts, index0, index1)\n",
      "    if perturbation_strategy == 'blur':\n",
      "        return blurPerturb(ts, index0, index1)\n",
      "    if perturbation_strategy == 'RBP1':\n",
      "        return RBPIndividualNew1(global_ts, ts, index0, index1)    \n",
      "    if perturbation_strategy == 'RBP2':\n",
      "        return RBPIndividualNew2(global_ts, ts, index0, index1)    \n",
      "\n",
      "(perturbation_strategy, ts, index0, index1, global_ts=[])\n"
     ]
    }
   ],
   "source": [
    "print(inspect.getsource(perturb))\n",
    "print(inspect.signature(perturb))"
   ]
  },
  {
   "cell_type": "code",
   "execution_count": 8,
   "id": "4c579fb7",
   "metadata": {},
   "outputs": [
    {
     "name": "stdout",
     "output_type": "stream",
     "text": [
      "13/13 [==============================] - 0s 4ms/step\n",
      "13/13 [==============================] - 0s 4ms/step\n",
      "13/13 [==============================] - 0s 4ms/step\n",
      "13/13 [==============================] - 0s 4ms/step\n",
      "13/13 [==============================] - 0s 3ms/step\n",
      "13/13 [==============================] - 0s 3ms/step\n"
     ]
    }
   ],
   "source": [
    "predictions_original = model.predict(x_test_original)\n",
    "perturb_test_set = x_test_original.copy()\n",
    "perturb_test_set = perturb_test_set.reshape(x_test_original.shape[0:2])\n",
    "\n",
    "x_test_rbp = np.asarray([perturb('RBP',x,200,300) for x in perturb_test_set])\n",
    "x_test_rbp = np.expand_dims(x_test_rbp, axis=-1)\n",
    "predictions_rbp = model.predict(x_test_rbp)\n",
    "\n",
    "pert1 = perturb('RBP1',perturb_test_set[0],200,300, global_ts = perturb_test_set)\n",
    "x_test_new1 = np.asarray([perturb('RBP1',x,60,160, global_ts = perturb_test_set) for x in perturb_test_set])\n",
    "x_test_new1 = np.expand_dims(x_test_new1, axis=-1)\n",
    "predictions_new1 = model.predict(x_test_new1)\n",
    "\n",
    "#x_test_new2 = np.asarray([perturb('RBP2',x,400,500, global_ts = perturb_test_set) for x in perturb_test_set])\n",
    "#x_test_new2 = np.expand_dims(x_test_new2, axis=-1)\n",
    "#predictions_new2 = model.predict(x_test_new2)\n",
    "\n",
    "x_test_zero = np.asarray([perturb('zero',x,200,300) for x in perturb_test_set])\n",
    "x_test_zero = np.expand_dims(x_test_zero, axis=-1)\n",
    "predictions_zero = model.predict(x_test_zero)\n",
    "\n",
    "x_test_noise = np.asarray([perturb('noise',x,200,300) for x in perturb_test_set])\n",
    "x_test_noise = np.expand_dims(x_test_noise, axis=-1)\n",
    "predictions_noise = model.predict(x_test_noise)\n",
    "\n",
    "x_test_blur = np.asarray([perturb('blur',x,200,300) for x in perturb_test_set])\n",
    "x_test_blur = np.expand_dims(x_test_blur, axis=-1)\n",
    "predictions_blur = model.predict(x_test_blur)"
   ]
  },
  {
   "cell_type": "code",
   "execution_count": 16,
   "id": "069af343-0cfa-4787-b5d4-170f885bb59d",
   "metadata": {},
   "outputs": [
    {
     "name": "stdout",
     "output_type": "stream",
     "text": [
      "4.724730047290539\n",
      "11.258677143050921\n",
      "6.046103068098732\n",
      "20.7296495710107\n",
      "0.6819394890242894\n"
     ]
    }
   ],
   "source": [
    "def l2norm(perturb):\n",
    "    # 计算两个数组之间的差\n",
    "    difference = perturb - x_test_original\n",
    "    \n",
    "    # 计算差的平方\n",
    "    squared_difference = np.square(difference)\n",
    "    \n",
    "    # 计算平方和，沿着特征维度（axis=1），因为每个时间序列样本是一行\n",
    "    sum_of_squares = np.sum(squared_difference, axis=1)\n",
    "    \n",
    "    # 计算平方和的平方根，即l2范数\n",
    "    l2_norms = np.sqrt(sum_of_squares)\n",
    "    \n",
    "    average_l2_norm = np.mean(l2_norms)\n",
    "    \n",
    "    # l2_norms现在是一个形状为(467,)的数组，其中每个元素代表\n",
    "    # 对应时间序列样本之间的l2范数\n",
    "    print(average_l2_norm)  # 输出: (467,)\n",
    "\n",
    "l2norm(x_test_rbp)\n",
    "l2norm(x_test_new1)\n",
    "l2norm(x_test_zero)\n",
    "l2norm(x_test_noise)\n",
    "l2norm(x_test_blur)"
   ]
  },
  {
   "cell_type": "code",
   "execution_count": 9,
   "id": "b5d3f821",
   "metadata": {},
   "outputs": [],
   "source": [
    "def accuracy(predictions, labels):\n",
    "    hits = 0\n",
    "    for i in range(0,len(predictions)):\n",
    "        if predictions[i] == labels[i]:\n",
    "            hits += 1\n",
    "    return hits/len(predictions)"
   ]
  },
  {
   "cell_type": "code",
   "execution_count": 10,
   "id": "89f21d47",
   "metadata": {},
   "outputs": [],
   "source": [
    "original_accuracy = accuracy(np.argmax(predictions_original,axis=1), y_test_original)\n",
    "rbp_accuracy = accuracy(np.argmax(predictions_rbp,axis=1), y_test_original)\n",
    "new1_accuracy = accuracy(np.argmax(predictions_new1,axis=1), y_test_original)\n",
    "#new2_accuracy = accuracy(np.argmax(predictions_new2,axis=1), y_test_original)\n",
    "zero_accuracy = accuracy(np.argmax(predictions_zero,axis=1), y_test_original)\n",
    "noise_accuracy = accuracy(np.argmax(predictions_noise,axis=1), y_test_original)\n",
    "blur_accuracy = accuracy(np.argmax(predictions_blur,axis=1), y_test_original)"
   ]
  },
  {
   "cell_type": "code",
   "execution_count": 11,
   "id": "e52c9d2e",
   "metadata": {},
   "outputs": [
    {
     "name": "stdout",
     "output_type": "stream",
     "text": [
      " Original Accuracy: 0.3641025641025641\n",
      " RBP Accuracy: 0.26666666666666666\n",
      " RBP1 Accuracy: 0.11794871794871795\n",
      " Zero Accuracy: 0.21794871794871795\n",
      " Noise Accuracy: 0.1\n",
      " Blur Accuracy: 0.30256410256410254\n",
      "\n"
     ]
    }
   ],
   "source": [
    "print(\" Original Accuracy: \" + str(original_accuracy) + \"\\n\"+\n",
    "    \" RBP Accuracy: \" + str(rbp_accuracy) + \"\\n\"+\n",
    "    \" RBP1 Accuracy: \" + str(new1_accuracy) + \"\\n\"+\n",
    "    #\" RBP2 Accuracy: \" + str(new2_accuracy) + \"\\n\"+\n",
    "      \n",
    "    \" Zero Accuracy: \" + str(zero_accuracy) + \"\\n\"+\n",
    "    \" Noise Accuracy: \" + str(noise_accuracy) + \"\\n\"+\n",
    "    \" Blur Accuracy: \" + str(blur_accuracy) + \"\\n\")"
   ]
  },
  {
   "cell_type": "code",
   "execution_count": 15,
   "id": "eeab6bc4-d45e-45bb-8fcf-5a24b8ddceb4",
   "metadata": {},
   "outputs": [
    {
     "name": "stdout",
     "output_type": "stream",
     "text": [
      "[ 3  3  3  3 10 10  3  3  3 10 10  3  4 10  3  4  3 10  3  3  3  3  3 10\n",
      "  3 10 10 10 10  3  9  3  3  3  3  3  3  9  4  3  3  9 10 10  3  3 10  9\n",
      " 10  9  1 10 10  9 10  3  4  9  3 10 10 10  9  3  3 10 10  1 10  4 10  3\n",
      "  3  3  3  3  3 10  3  3  3  3  9  3  4 10  3 10  3  3  3 10 10  3  3 10\n",
      " 10  3 10  3  3  9 10  4  3  3 10  3  3  3  3  9  3  3  3  3  3  9 10  3\n",
      "  3  3 10  3  3  3  3 10  3  3  3 10 10  3 10  3  3  9 10  4 10  3  3  3\n",
      " 10  3  3 10  3  9  3 10  9  3  3  3  9  3  3  3  1  9  3  3 10 10  3 10\n",
      " 10  3  3 10  3 10 10  9  4  9  3  3 10  3  3  5  3  3  3  3  9 10  9  3\n",
      "  1  9  3 10  3 10  9 10 10  3  3  3  3 10  3  9  9  3 10 10  3  3 10  4\n",
      "  9  9 10 10  9  3  3  3 10  9  3  3  3 10  9  3 10 10 10 10 10  3  3  3\n",
      "  3  9 10  3 10 10  3  3 10  3  3 10 10  4 10  3  3  3 10  9 10  3  3 10\n",
      "  3 10  3 10 10 10 10  3  3  3  3 10  3 10 10 10  9 10  3  3  6  3  4 10\n",
      "  3  9 10  3 10  3 10  9  3 10 10  3  3 10  9  5  4 10  3  3  3 10  3  9\n",
      " 10  3  3  3 10  4  1  3  3  3  3  3  3  9 10 10  3  3  9  3  3  3  9 10\n",
      " 10  3  3 10  3 10  3  3 10  3  3 10  4  3  3  4 10  1  9 10  3 10  3 10\n",
      "  5  3  3  1 10  3  3  1 10  9 10  3  3 10  3 10 10  3  3 10  3  3  3  3\n",
      " 10  3 10  3  9  3]\n"
     ]
    }
   ],
   "source": [
    "print(np.argmax(predictions_rbp,axis=1))"
   ]
  },
  {
   "cell_type": "code",
   "execution_count": null,
   "id": "e18874a3-32bc-4bb2-bacc-39a08199afe1",
   "metadata": {},
   "outputs": [],
   "source": []
  }
 ],
 "metadata": {
  "kernelspec": {
   "display_name": "lime_tf",
   "language": "python",
   "name": "limetf"
  },
  "language_info": {
   "codemirror_mode": {
    "name": "ipython",
    "version": 3
   },
   "file_extension": ".py",
   "mimetype": "text/x-python",
   "name": "python",
   "nbconvert_exporter": "python",
   "pygments_lexer": "ipython3",
   "version": "3.10.13"
  }
 },
 "nbformat": 4,
 "nbformat_minor": 5
}
