{
 "cells": [
  {
   "cell_type": "code",
   "execution_count": 3,
   "id": "dd9bd814",
   "metadata": {},
   "outputs": [],
   "source": [
    "import numpy as np\n",
    "import matplotlib.pyplot as plt\n",
    "import inspect"
   ]
  },
  {
   "cell_type": "code",
   "execution_count": 2,
   "id": "2439de23",
   "metadata": {},
   "outputs": [
    {
     "name": "stdout",
     "output_type": "stream",
     "text": [
      "['/Users/gali/anaconda3/envs/LIMEtf/lib/python310.zip', '/Users/gali/anaconda3/envs/LIMEtf/lib/python3.10', '/Users/gali/anaconda3/envs/LIMEtf/lib/python3.10/lib-dynload', '', '/Users/gali/anaconda3/envs/LIMEtf/lib/python3.10/site-packages', '/Users/gali/anaconda3/envs/LIMEtf/lib/python3.10/site-packages/setuptools/_vendor', '../', '../']\n"
     ]
    }
   ],
   "source": [
    "import importlib\n",
    "import sys\n",
    "sys.path.append('../')\n",
    "from Utils.perturbationsnew import RBPIndividual, RBPIndividualNew1, RBPIndividualNew2, zeroPerturb, noisePerturb, blurPerturb\n",
    "from Utils.models import *\n",
    "from Utils.data import perturb, generateSynthetic, generateSyntheticPerturbReal,ReadTS\n",
    "\n",
    "print(sys.path)\n"
   ]
  },
  {
   "cell_type": "markdown",
   "id": "62b11ea0",
   "metadata": {},
   "source": [
    "## Test important content removal (accuracy decrease)"
   ]
  },
  {
   "cell_type": "markdown",
   "id": "5567ae62",
   "metadata": {},
   "source": [
    "### Load synthetic dataset and train CNN model "
   ]
  },
  {
   "cell_type": "code",
   "execution_count": 4,
   "id": "812c0d59",
   "metadata": {},
   "outputs": [
    {
     "name": "stdout",
     "output_type": "stream",
     "text": [
      "(3840, 166, 1)\n",
      "[1. 1. 0. ... 2. 2. 2.]\n"
     ]
    }
   ],
   "source": [
    "x_test_original, y_test_original,x_train, y_train = ReadTS('ChlorineConcentration')\n",
    "y_train = y_train - 1\n",
    "y_test_original = y_test_original - 1\n",
    "print(x_train.shape)\n",
    "print(y_train)"
   ]
  },
  {
   "cell_type": "code",
   "execution_count": 5,
   "id": "c9911722",
   "metadata": {},
   "outputs": [
    {
     "name": "stdout",
     "output_type": "stream",
     "text": [
      "Epoch 1/100\n"
     ]
    },
    {
     "name": "stderr",
     "output_type": "stream",
     "text": [
      "2024-10-30 20:16:19.685876: W tensorflow/tsl/platform/profile_utils/cpu_utils.cc:128] Failed to get CPU frequency: 0 Hz\n"
     ]
    },
    {
     "name": "stdout",
     "output_type": "stream",
     "text": [
      "96/96 [==============================] - 1s 9ms/step - loss: 1.0096 - sparse_categorical_accuracy: 0.5286 - val_loss: 1.0969 - val_sparse_categorical_accuracy: 0.2578\n",
      "Epoch 2/100\n",
      "96/96 [==============================] - 1s 8ms/step - loss: 0.9811 - sparse_categorical_accuracy: 0.5586 - val_loss: 1.1046 - val_sparse_categorical_accuracy: 0.3568\n",
      "Epoch 3/100\n",
      "96/96 [==============================] - 1s 9ms/step - loss: 0.9733 - sparse_categorical_accuracy: 0.5612 - val_loss: 1.0663 - val_sparse_categorical_accuracy: 0.4453\n",
      "Epoch 4/100\n",
      "96/96 [==============================] - 1s 9ms/step - loss: 0.9626 - sparse_categorical_accuracy: 0.5632 - val_loss: 0.9954 - val_sparse_categorical_accuracy: 0.5560\n",
      "Epoch 5/100\n",
      "96/96 [==============================] - 1s 9ms/step - loss: 0.9577 - sparse_categorical_accuracy: 0.5632 - val_loss: 1.0807 - val_sparse_categorical_accuracy: 0.3893\n",
      "Epoch 6/100\n",
      "96/96 [==============================] - 1s 9ms/step - loss: 0.9549 - sparse_categorical_accuracy: 0.5674 - val_loss: 0.9863 - val_sparse_categorical_accuracy: 0.5638\n",
      "Epoch 7/100\n",
      "96/96 [==============================] - 1s 10ms/step - loss: 0.9498 - sparse_categorical_accuracy: 0.5684 - val_loss: 0.9612 - val_sparse_categorical_accuracy: 0.5885\n",
      "Epoch 8/100\n",
      "96/96 [==============================] - 1s 10ms/step - loss: 0.9446 - sparse_categorical_accuracy: 0.5697 - val_loss: 0.9517 - val_sparse_categorical_accuracy: 0.5742\n",
      "Epoch 9/100\n",
      "96/96 [==============================] - 1s 10ms/step - loss: 0.9421 - sparse_categorical_accuracy: 0.5674 - val_loss: 0.9721 - val_sparse_categorical_accuracy: 0.5677\n",
      "Epoch 10/100\n",
      "96/96 [==============================] - 1s 10ms/step - loss: 0.9398 - sparse_categorical_accuracy: 0.5719 - val_loss: 0.9334 - val_sparse_categorical_accuracy: 0.5794\n",
      "Epoch 11/100\n",
      "96/96 [==============================] - 1s 10ms/step - loss: 0.9336 - sparse_categorical_accuracy: 0.5719 - val_loss: 1.0259 - val_sparse_categorical_accuracy: 0.4727\n",
      "Epoch 12/100\n",
      "96/96 [==============================] - 1s 11ms/step - loss: 0.9319 - sparse_categorical_accuracy: 0.5684 - val_loss: 0.9277 - val_sparse_categorical_accuracy: 0.5807\n",
      "Epoch 13/100\n",
      "96/96 [==============================] - 1s 11ms/step - loss: 0.9276 - sparse_categorical_accuracy: 0.5716 - val_loss: 1.2789 - val_sparse_categorical_accuracy: 0.5638\n",
      "Epoch 14/100\n",
      "96/96 [==============================] - 1s 11ms/step - loss: 0.9319 - sparse_categorical_accuracy: 0.5713 - val_loss: 0.9541 - val_sparse_categorical_accuracy: 0.5768\n",
      "Epoch 15/100\n",
      "96/96 [==============================] - 1s 12ms/step - loss: 0.9183 - sparse_categorical_accuracy: 0.5785 - val_loss: 0.9049 - val_sparse_categorical_accuracy: 0.5807\n",
      "Epoch 16/100\n",
      "96/96 [==============================] - 1s 12ms/step - loss: 0.9114 - sparse_categorical_accuracy: 0.5752 - val_loss: 1.1165 - val_sparse_categorical_accuracy: 0.3802\n",
      "Epoch 17/100\n",
      "96/96 [==============================] - 1s 12ms/step - loss: 0.9153 - sparse_categorical_accuracy: 0.5778 - val_loss: 1.0819 - val_sparse_categorical_accuracy: 0.5703\n",
      "Epoch 18/100\n",
      "96/96 [==============================] - 1s 12ms/step - loss: 0.9068 - sparse_categorical_accuracy: 0.5771 - val_loss: 1.3168 - val_sparse_categorical_accuracy: 0.3099\n",
      "Epoch 19/100\n",
      "96/96 [==============================] - 1s 12ms/step - loss: 0.9020 - sparse_categorical_accuracy: 0.5801 - val_loss: 1.2215 - val_sparse_categorical_accuracy: 0.2591\n",
      "Epoch 20/100\n",
      "96/96 [==============================] - 1s 13ms/step - loss: 0.9020 - sparse_categorical_accuracy: 0.5830 - val_loss: 1.1667 - val_sparse_categorical_accuracy: 0.5638\n",
      "Epoch 21/100\n",
      "96/96 [==============================] - 1s 13ms/step - loss: 0.8959 - sparse_categorical_accuracy: 0.5843 - val_loss: 0.8838 - val_sparse_categorical_accuracy: 0.5885\n",
      "Epoch 22/100\n",
      "96/96 [==============================] - 1s 13ms/step - loss: 0.8863 - sparse_categorical_accuracy: 0.5843 - val_loss: 0.9835 - val_sparse_categorical_accuracy: 0.5781\n",
      "Epoch 23/100\n",
      "96/96 [==============================] - 1s 14ms/step - loss: 0.8789 - sparse_categorical_accuracy: 0.5892 - val_loss: 1.0148 - val_sparse_categorical_accuracy: 0.5794\n",
      "Epoch 24/100\n",
      "96/96 [==============================] - 1s 14ms/step - loss: 0.8741 - sparse_categorical_accuracy: 0.5856 - val_loss: 1.8518 - val_sparse_categorical_accuracy: 0.2500\n",
      "Epoch 25/100\n",
      "96/96 [==============================] - 1s 14ms/step - loss: 0.8695 - sparse_categorical_accuracy: 0.5944 - val_loss: 1.0671 - val_sparse_categorical_accuracy: 0.5820\n",
      "Epoch 26/100\n",
      "96/96 [==============================] - 1s 13ms/step - loss: 0.8678 - sparse_categorical_accuracy: 0.5902 - val_loss: 1.5007 - val_sparse_categorical_accuracy: 0.5638\n",
      "Epoch 27/100\n",
      "96/96 [==============================] - 1s 13ms/step - loss: 0.8581 - sparse_categorical_accuracy: 0.5993 - val_loss: 1.7007 - val_sparse_categorical_accuracy: 0.5638\n",
      "Epoch 28/100\n",
      "96/96 [==============================] - 1s 13ms/step - loss: 0.8611 - sparse_categorical_accuracy: 0.5924 - val_loss: 1.3629 - val_sparse_categorical_accuracy: 0.5794\n",
      "Epoch 29/100\n",
      "96/96 [==============================] - 1s 13ms/step - loss: 0.8459 - sparse_categorical_accuracy: 0.6074 - val_loss: 0.8642 - val_sparse_categorical_accuracy: 0.6211\n",
      "Epoch 30/100\n",
      "96/96 [==============================] - 1s 13ms/step - loss: 0.8398 - sparse_categorical_accuracy: 0.6006 - val_loss: 1.5706 - val_sparse_categorical_accuracy: 0.2643\n",
      "Epoch 31/100\n",
      "96/96 [==============================] - 1s 13ms/step - loss: 0.8541 - sparse_categorical_accuracy: 0.5986 - val_loss: 1.2283 - val_sparse_categorical_accuracy: 0.2904\n",
      "Epoch 32/100\n",
      "96/96 [==============================] - 1s 13ms/step - loss: 0.8307 - sparse_categorical_accuracy: 0.6048 - val_loss: 1.0542 - val_sparse_categorical_accuracy: 0.5872\n",
      "Epoch 33/100\n",
      "96/96 [==============================] - 1s 13ms/step - loss: 0.8270 - sparse_categorical_accuracy: 0.6126 - val_loss: 1.7287 - val_sparse_categorical_accuracy: 0.2565\n",
      "Epoch 34/100\n",
      "96/96 [==============================] - 1s 13ms/step - loss: 0.8186 - sparse_categorical_accuracy: 0.6224 - val_loss: 1.1777 - val_sparse_categorical_accuracy: 0.3346\n",
      "Epoch 35/100\n",
      "96/96 [==============================] - 1s 13ms/step - loss: 0.8005 - sparse_categorical_accuracy: 0.6361 - val_loss: 2.4358 - val_sparse_categorical_accuracy: 0.5612\n",
      "Epoch 36/100\n",
      "96/96 [==============================] - 1s 14ms/step - loss: 0.8023 - sparse_categorical_accuracy: 0.6354 - val_loss: 1.3853 - val_sparse_categorical_accuracy: 0.5690\n",
      "Epoch 37/100\n",
      "96/96 [==============================] - 1s 13ms/step - loss: 0.7917 - sparse_categorical_accuracy: 0.6455 - val_loss: 0.8749 - val_sparse_categorical_accuracy: 0.5703\n",
      "Epoch 38/100\n",
      "96/96 [==============================] - 1s 13ms/step - loss: 0.7747 - sparse_categorical_accuracy: 0.6478 - val_loss: 1.9938 - val_sparse_categorical_accuracy: 0.5638\n",
      "Epoch 39/100\n",
      "96/96 [==============================] - 1s 13ms/step - loss: 0.7735 - sparse_categorical_accuracy: 0.6533 - val_loss: 1.3224 - val_sparse_categorical_accuracy: 0.2682\n",
      "Epoch 40/100\n",
      "96/96 [==============================] - 1s 13ms/step - loss: 0.7604 - sparse_categorical_accuracy: 0.6706 - val_loss: 1.4862 - val_sparse_categorical_accuracy: 0.5716\n",
      "Epoch 41/100\n",
      "96/96 [==============================] - 1s 13ms/step - loss: 0.7459 - sparse_categorical_accuracy: 0.6738 - val_loss: 1.5290 - val_sparse_categorical_accuracy: 0.5768\n",
      "Epoch 42/100\n",
      "96/96 [==============================] - 1s 13ms/step - loss: 0.7358 - sparse_categorical_accuracy: 0.6855 - val_loss: 1.5858 - val_sparse_categorical_accuracy: 0.6771\n",
      "Epoch 43/100\n",
      "96/96 [==============================] - 1s 13ms/step - loss: 0.7388 - sparse_categorical_accuracy: 0.6846 - val_loss: 1.8389 - val_sparse_categorical_accuracy: 0.3346\n",
      "Epoch 44/100\n",
      "96/96 [==============================] - 1s 13ms/step - loss: 0.7398 - sparse_categorical_accuracy: 0.6826 - val_loss: 1.2612 - val_sparse_categorical_accuracy: 0.3737\n",
      "Epoch 45/100\n",
      "96/96 [==============================] - 1s 13ms/step - loss: 0.7319 - sparse_categorical_accuracy: 0.6755 - val_loss: 2.9135 - val_sparse_categorical_accuracy: 0.3099\n",
      "Epoch 46/100\n",
      "96/96 [==============================] - 1s 12ms/step - loss: 0.7159 - sparse_categorical_accuracy: 0.6976 - val_loss: 3.3908 - val_sparse_categorical_accuracy: 0.3112\n",
      "Epoch 47/100\n",
      "96/96 [==============================] - 1s 13ms/step - loss: 0.7138 - sparse_categorical_accuracy: 0.7021 - val_loss: 2.8059 - val_sparse_categorical_accuracy: 0.2552\n",
      "Epoch 48/100\n",
      "96/96 [==============================] - 1s 13ms/step - loss: 0.6932 - sparse_categorical_accuracy: 0.7158 - val_loss: 1.3477 - val_sparse_categorical_accuracy: 0.5794\n",
      "Epoch 49/100\n",
      "96/96 [==============================] - 1s 13ms/step - loss: 0.6846 - sparse_categorical_accuracy: 0.7243 - val_loss: 1.0597 - val_sparse_categorical_accuracy: 0.6354\n",
      "Epoch 50/100\n",
      "96/96 [==============================] - 1s 13ms/step - loss: 0.6866 - sparse_categorical_accuracy: 0.7165 - val_loss: 2.2307 - val_sparse_categorical_accuracy: 0.2799\n",
      "Epoch 51/100\n",
      "96/96 [==============================] - 1s 13ms/step - loss: 0.6715 - sparse_categorical_accuracy: 0.7321 - val_loss: 3.1107 - val_sparse_categorical_accuracy: 0.2695\n",
      "Epoch 52/100\n",
      "96/96 [==============================] - 1s 13ms/step - loss: 0.6540 - sparse_categorical_accuracy: 0.7380 - val_loss: 0.8475 - val_sparse_categorical_accuracy: 0.6029\n",
      "Epoch 53/100\n",
      "96/96 [==============================] - 1s 13ms/step - loss: 0.6515 - sparse_categorical_accuracy: 0.7298 - val_loss: 1.3951 - val_sparse_categorical_accuracy: 0.5846\n",
      "Epoch 54/100\n",
      "96/96 [==============================] - 1s 13ms/step - loss: 0.6537 - sparse_categorical_accuracy: 0.7334 - val_loss: 2.7808 - val_sparse_categorical_accuracy: 0.5586\n",
      "Epoch 55/100\n",
      "96/96 [==============================] - 1s 14ms/step - loss: 0.6447 - sparse_categorical_accuracy: 0.7461 - val_loss: 2.2687 - val_sparse_categorical_accuracy: 0.3698\n",
      "Epoch 56/100\n",
      "96/96 [==============================] - 1s 13ms/step - loss: 0.6422 - sparse_categorical_accuracy: 0.7441 - val_loss: 0.9449 - val_sparse_categorical_accuracy: 0.6484\n",
      "Epoch 57/100\n",
      "96/96 [==============================] - 1s 13ms/step - loss: 0.6285 - sparse_categorical_accuracy: 0.7451 - val_loss: 1.9304 - val_sparse_categorical_accuracy: 0.5742\n",
      "Epoch 58/100\n",
      "96/96 [==============================] - 1s 14ms/step - loss: 0.6389 - sparse_categorical_accuracy: 0.7438 - val_loss: 0.7861 - val_sparse_categorical_accuracy: 0.6445\n",
      "Epoch 59/100\n",
      "96/96 [==============================] - 1s 14ms/step - loss: 0.6074 - sparse_categorical_accuracy: 0.7643 - val_loss: 1.2858 - val_sparse_categorical_accuracy: 0.4076\n",
      "Epoch 60/100\n",
      "96/96 [==============================] - 1s 14ms/step - loss: 0.6080 - sparse_categorical_accuracy: 0.7581 - val_loss: 1.3403 - val_sparse_categorical_accuracy: 0.4505\n",
      "Epoch 61/100\n",
      "96/96 [==============================] - 1s 14ms/step - loss: 0.6192 - sparse_categorical_accuracy: 0.7523 - val_loss: 1.3803 - val_sparse_categorical_accuracy: 0.3594\n",
      "Epoch 62/100\n",
      "96/96 [==============================] - 1s 14ms/step - loss: 0.6176 - sparse_categorical_accuracy: 0.7445 - val_loss: 1.9938 - val_sparse_categorical_accuracy: 0.3763\n",
      "Epoch 63/100\n",
      "96/96 [==============================] - 1s 14ms/step - loss: 0.6175 - sparse_categorical_accuracy: 0.7575 - val_loss: 2.6124 - val_sparse_categorical_accuracy: 0.2669\n",
      "Epoch 64/100\n",
      "96/96 [==============================] - 1s 13ms/step - loss: 0.5692 - sparse_categorical_accuracy: 0.7702 - val_loss: 1.1812 - val_sparse_categorical_accuracy: 0.4036\n",
      "Epoch 65/100\n",
      "96/96 [==============================] - 1s 14ms/step - loss: 0.5891 - sparse_categorical_accuracy: 0.7617 - val_loss: 2.7524 - val_sparse_categorical_accuracy: 0.3932\n",
      "Epoch 66/100\n",
      "96/96 [==============================] - 1s 13ms/step - loss: 0.5651 - sparse_categorical_accuracy: 0.7852 - val_loss: 1.8471 - val_sparse_categorical_accuracy: 0.6198\n",
      "Epoch 67/100\n",
      "96/96 [==============================] - 1s 14ms/step - loss: 0.5627 - sparse_categorical_accuracy: 0.7809 - val_loss: 0.6185 - val_sparse_categorical_accuracy: 0.7604\n",
      "Epoch 68/100\n",
      "96/96 [==============================] - 1s 12ms/step - loss: 0.5447 - sparse_categorical_accuracy: 0.7988 - val_loss: 0.7890 - val_sparse_categorical_accuracy: 0.7044\n",
      "Epoch 69/100\n",
      "96/96 [==============================] - 1s 12ms/step - loss: 0.5364 - sparse_categorical_accuracy: 0.7979 - val_loss: 1.4469 - val_sparse_categorical_accuracy: 0.6159\n",
      "Epoch 70/100\n",
      "96/96 [==============================] - 1s 12ms/step - loss: 0.5430 - sparse_categorical_accuracy: 0.7855 - val_loss: 1.8614 - val_sparse_categorical_accuracy: 0.5755\n",
      "Epoch 71/100\n",
      "96/96 [==============================] - 1s 12ms/step - loss: 0.5485 - sparse_categorical_accuracy: 0.7858 - val_loss: 1.0614 - val_sparse_categorical_accuracy: 0.6016\n",
      "Epoch 72/100\n",
      "96/96 [==============================] - 1s 13ms/step - loss: 0.5459 - sparse_categorical_accuracy: 0.7803 - val_loss: 2.4024 - val_sparse_categorical_accuracy: 0.2878\n",
      "Epoch 73/100\n",
      "96/96 [==============================] - 1s 13ms/step - loss: 0.5241 - sparse_categorical_accuracy: 0.8011 - val_loss: 1.7205 - val_sparse_categorical_accuracy: 0.5807\n",
      "Epoch 74/100\n",
      "96/96 [==============================] - 1s 13ms/step - loss: 0.5076 - sparse_categorical_accuracy: 0.8145 - val_loss: 1.6935 - val_sparse_categorical_accuracy: 0.6589\n",
      "Epoch 75/100\n",
      "96/96 [==============================] - 1s 13ms/step - loss: 0.5154 - sparse_categorical_accuracy: 0.7985 - val_loss: 1.0328 - val_sparse_categorical_accuracy: 0.6901\n",
      "Epoch 76/100\n",
      "96/96 [==============================] - 1s 13ms/step - loss: 0.5271 - sparse_categorical_accuracy: 0.7969 - val_loss: 2.1157 - val_sparse_categorical_accuracy: 0.6224\n",
      "Epoch 77/100\n",
      "96/96 [==============================] - 1s 13ms/step - loss: 0.5170 - sparse_categorical_accuracy: 0.7910 - val_loss: 0.8768 - val_sparse_categorical_accuracy: 0.6615\n",
      "Epoch 78/100\n",
      "96/96 [==============================] - 1s 14ms/step - loss: 0.4896 - sparse_categorical_accuracy: 0.8083 - val_loss: 3.6901 - val_sparse_categorical_accuracy: 0.2591\n",
      "Epoch 79/100\n",
      "96/96 [==============================] - 1s 13ms/step - loss: 0.5051 - sparse_categorical_accuracy: 0.8066 - val_loss: 0.5802 - val_sparse_categorical_accuracy: 0.7357\n",
      "Epoch 80/100\n",
      "96/96 [==============================] - 1s 14ms/step - loss: 0.4964 - sparse_categorical_accuracy: 0.8092 - val_loss: 1.7815 - val_sparse_categorical_accuracy: 0.3503\n",
      "Epoch 81/100\n",
      "96/96 [==============================] - 1s 13ms/step - loss: 0.4904 - sparse_categorical_accuracy: 0.8112 - val_loss: 0.9340 - val_sparse_categorical_accuracy: 0.6641\n",
      "Epoch 82/100\n",
      "96/96 [==============================] - 1s 13ms/step - loss: 0.4953 - sparse_categorical_accuracy: 0.8083 - val_loss: 1.1721 - val_sparse_categorical_accuracy: 0.5846\n",
      "Epoch 83/100\n",
      "96/96 [==============================] - 1s 13ms/step - loss: 0.4794 - sparse_categorical_accuracy: 0.8148 - val_loss: 1.2531 - val_sparse_categorical_accuracy: 0.4271\n",
      "Epoch 84/100\n",
      "96/96 [==============================] - 1s 14ms/step - loss: 0.4719 - sparse_categorical_accuracy: 0.8145 - val_loss: 2.0757 - val_sparse_categorical_accuracy: 0.3398\n",
      "Epoch 85/100\n",
      "96/96 [==============================] - 1s 14ms/step - loss: 0.4635 - sparse_categorical_accuracy: 0.8268 - val_loss: 0.8741 - val_sparse_categorical_accuracy: 0.6602\n",
      "Epoch 86/100\n",
      "96/96 [==============================] - 1s 14ms/step - loss: 0.4362 - sparse_categorical_accuracy: 0.8438 - val_loss: 1.4740 - val_sparse_categorical_accuracy: 0.6133\n",
      "Epoch 87/100\n",
      "96/96 [==============================] - 1s 14ms/step - loss: 0.4598 - sparse_categorical_accuracy: 0.8239 - val_loss: 3.8972 - val_sparse_categorical_accuracy: 0.4036\n",
      "Epoch 88/100\n",
      "96/96 [==============================] - 1s 14ms/step - loss: 0.4823 - sparse_categorical_accuracy: 0.8122 - val_loss: 1.5373 - val_sparse_categorical_accuracy: 0.6953\n",
      "Epoch 89/100\n",
      "96/96 [==============================] - 1s 14ms/step - loss: 0.4476 - sparse_categorical_accuracy: 0.8356 - val_loss: 1.3284 - val_sparse_categorical_accuracy: 0.6081\n",
      "Epoch 90/100\n",
      "96/96 [==============================] - 1s 14ms/step - loss: 0.4491 - sparse_categorical_accuracy: 0.8258 - val_loss: 1.0823 - val_sparse_categorical_accuracy: 0.6341\n",
      "Epoch 91/100\n",
      "96/96 [==============================] - 1s 14ms/step - loss: 0.4366 - sparse_categorical_accuracy: 0.8372 - val_loss: 5.0903 - val_sparse_categorical_accuracy: 0.2799\n",
      "Epoch 92/100\n",
      "96/96 [==============================] - 1s 15ms/step - loss: 0.4145 - sparse_categorical_accuracy: 0.8454 - val_loss: 2.1834 - val_sparse_categorical_accuracy: 0.5026\n",
      "Epoch 93/100\n",
      "96/96 [==============================] - 1s 14ms/step - loss: 0.4166 - sparse_categorical_accuracy: 0.8493 - val_loss: 0.7496 - val_sparse_categorical_accuracy: 0.6823\n",
      "Epoch 94/100\n",
      "96/96 [==============================] - 1s 14ms/step - loss: 0.4171 - sparse_categorical_accuracy: 0.8464 - val_loss: 1.7964 - val_sparse_categorical_accuracy: 0.4128\n",
      "Epoch 95/100\n",
      "96/96 [==============================] - 1s 14ms/step - loss: 0.4235 - sparse_categorical_accuracy: 0.8343 - val_loss: 2.0995 - val_sparse_categorical_accuracy: 0.4518\n",
      "Epoch 96/100\n",
      "96/96 [==============================] - 1s 14ms/step - loss: 0.4041 - sparse_categorical_accuracy: 0.8577 - val_loss: 3.4361 - val_sparse_categorical_accuracy: 0.5560\n",
      "Epoch 97/100\n",
      "96/96 [==============================] - 1s 14ms/step - loss: 0.4101 - sparse_categorical_accuracy: 0.8486 - val_loss: 7.6317 - val_sparse_categorical_accuracy: 0.2526\n",
      "Epoch 98/100\n",
      "96/96 [==============================] - 1s 15ms/step - loss: 0.4156 - sparse_categorical_accuracy: 0.8506 - val_loss: 1.7534 - val_sparse_categorical_accuracy: 0.5781\n",
      "Epoch 99/100\n",
      "96/96 [==============================] - 1s 14ms/step - loss: 0.4217 - sparse_categorical_accuracy: 0.8385 - val_loss: 4.1977 - val_sparse_categorical_accuracy: 0.2539\n",
      "Epoch 100/100\n",
      "96/96 [==============================] - 1s 14ms/step - loss: 0.3885 - sparse_categorical_accuracy: 0.8607 - val_loss: 2.4998 - val_sparse_categorical_accuracy: 0.5703\n"
     ]
    }
   ],
   "source": [
    "model = make_CNN_model(x_train.shape[1:],num_classes = 3)\n",
    "trained_model, history = train_CNN_model(model, x_train, y_train, epochs=100, batch_size=32)"
   ]
  },
  {
   "cell_type": "code",
   "execution_count": 6,
   "id": "227e6120",
   "metadata": {},
   "outputs": [
    {
     "name": "stdout",
     "output_type": "stream",
     "text": [
      "15/15 [==============================] - 0s 3ms/step - loss: 2.4619 - sparse_categorical_accuracy: 0.5931\n",
      "Test accuracy 0.5931477546691895\n",
      "Test loss 2.4619076251983643\n"
     ]
    }
   ],
   "source": [
    "test_loss, test_acc = trained_model.evaluate(x_test_original, y_test_original)\n",
    "\n",
    "print(\"Test accuracy\", test_acc)\n",
    "print(\"Test loss\", test_loss)"
   ]
  },
  {
   "cell_type": "markdown",
   "id": "4773dace",
   "metadata": {},
   "source": [
    "### Create perturbed test sets and calculate decrease in accuracy"
   ]
  },
  {
   "cell_type": "code",
   "execution_count": 63,
   "id": "b854bfe4-2303-44a0-bef5-eb3c738da9e9",
   "metadata": {},
   "outputs": [
    {
     "name": "stdout",
     "output_type": "stream",
     "text": [
      "(3840,)\n"
     ]
    }
   ],
   "source": [
    "print(y_test_original.shape)"
   ]
  },
  {
   "cell_type": "code",
   "execution_count": 50,
   "id": "ffd7c678-03f4-47ae-a1f9-45e0c185580e",
   "metadata": {},
   "outputs": [
    {
     "name": "stdout",
     "output_type": "stream",
     "text": [
      "def perturb(perturbation_strategy, ts, index0, index1, global_ts = []):\n",
      "    if perturbation_strategy == 'RBP':\n",
      "        return RBPIndividual(ts, index0, index1)\n",
      "    if perturbation_strategy == 'zero':\n",
      "        return zeroPerturb(ts, index0, index1)\n",
      "    if perturbation_strategy == 'noise':\n",
      "        return noisePerturb(ts, index0, index1)\n",
      "    if perturbation_strategy == 'blur':\n",
      "        return blurPerturb(ts, index0, index1)\n",
      "    if perturbation_strategy == 'RBP1':\n",
      "        return RBPIndividualNew1(global_ts, ts, index0, index1)    \n",
      "    if perturbation_strategy == 'RBP2':\n",
      "        return RBPIndividualNew2(global_ts, ts, index0, index1)    \n",
      "\n",
      "(perturbation_strategy, ts, index0, index1, global_ts=[])\n"
     ]
    }
   ],
   "source": [
    "print(inspect.getsource(perturb))\n",
    "print(inspect.signature(perturb))"
   ]
  },
  {
   "cell_type": "code",
   "execution_count": 12,
   "id": "4c579fb7",
   "metadata": {},
   "outputs": [
    {
     "name": "stdout",
     "output_type": "stream",
     "text": [
      "15/15 [==============================] - 0s 3ms/step\n",
      "15/15 [==============================] - 0s 3ms/step\n",
      "15/15 [==============================] - 0s 2ms/step\n",
      "15/15 [==============================] - 0s 3ms/step\n",
      "15/15 [==============================] - 0s 3ms/step\n",
      "15/15 [==============================] - 0s 2ms/step\n"
     ]
    }
   ],
   "source": [
    "predictions_original = model.predict(x_test_original)\n",
    "perturb_test_set = x_test_original.copy()\n",
    "perturb_test_set = perturb_test_set.reshape(x_test_original.shape[0:2])\n",
    "\n",
    "x_test_rbp = np.asarray([perturb('RBP',x,60,160) for x in perturb_test_set])\n",
    "x_test_rbp = np.expand_dims(x_test_rbp, axis=-1)\n",
    "predictions_rbp = model.predict(x_test_rbp)\n",
    "\n",
    "pert1 = perturb('RBP1',perturb_test_set[0],60,160, global_ts = perturb_test_set)\n",
    "x_test_new1 = np.asarray([pert1 for x in perturb_test_set])\n",
    "x_test_new1 = np.expand_dims(x_test_new1, axis=-1)\n",
    "predictions_new1 = model.predict(x_test_new1)\n",
    "\n",
    "#x_test_new2 = np.asarray([perturb('RBP2',x,400,500, global_ts = perturb_test_set) for x in perturb_test_set])\n",
    "#x_test_new2 = np.expand_dims(x_test_new2, axis=-1)\n",
    "#predictions_new2 = model.predict(x_test_new2)\n",
    "\n",
    "x_test_zero = np.asarray([perturb('zero',x,60,160) for x in perturb_test_set])\n",
    "x_test_zero = np.expand_dims(x_test_zero, axis=-1)\n",
    "predictions_zero = model.predict(x_test_zero)\n",
    "\n",
    "x_test_noise = np.asarray([perturb('noise',x,60,160) for x in perturb_test_set])\n",
    "x_test_noise = np.expand_dims(x_test_noise, axis=-1)\n",
    "predictions_noise = model.predict(x_test_noise)\n",
    "\n",
    "x_test_blur = np.asarray([perturb('blur',x,60,160) for x in perturb_test_set])\n",
    "x_test_blur = np.expand_dims(x_test_blur, axis=-1)\n",
    "predictions_blur = model.predict(x_test_blur)"
   ]
  },
  {
   "cell_type": "code",
   "execution_count": 13,
   "id": "b5d3f821",
   "metadata": {},
   "outputs": [],
   "source": [
    "def accuracy(predictions, labels):\n",
    "    hits = 0\n",
    "    for i in range(0,len(predictions)):\n",
    "        if predictions[i] == labels[i]:\n",
    "            hits += 1\n",
    "    return hits/len(predictions)"
   ]
  },
  {
   "cell_type": "code",
   "execution_count": 15,
   "id": "89f21d47",
   "metadata": {},
   "outputs": [],
   "source": [
    "original_accuracy = accuracy(np.argmax(predictions_original,axis=1), y_test_original)\n",
    "rbp_accuracy = accuracy(np.argmax(predictions_rbp,axis=1), y_test_original)\n",
    "new1_accuracy = accuracy(np.argmax(predictions_new1,axis=1), y_test_original)\n",
    "#new2_accuracy = accuracy(np.argmax(predictions_new2,axis=1), y_test_original)\n",
    "zero_accuracy = accuracy(np.argmax(predictions_zero,axis=1), y_test_original)\n",
    "noise_accuracy = accuracy(np.argmax(predictions_noise,axis=1), y_test_original)\n",
    "blur_accuracy = accuracy(np.argmax(predictions_blur,axis=1), y_test_original)"
   ]
  },
  {
   "cell_type": "code",
   "execution_count": 17,
   "id": "e52c9d2e",
   "metadata": {},
   "outputs": [
    {
     "name": "stdout",
     "output_type": "stream",
     "text": [
      " Original Accuracy: 0.5931477516059958\n",
      " RBP Accuracy: 0.4004282655246253\n",
      " RBP1 Accuracy: 0.24411134903640258\n",
      " Zero Accuracy: 0.278372591006424\n",
      " Noise Accuracy: 0.24411134903640258\n",
      " Blur Accuracy: 0.5182012847965739\n",
      "\n"
     ]
    }
   ],
   "source": [
    "print(\" Original Accuracy: \" + str(original_accuracy) + \"\\n\"+\n",
    "    \" RBP Accuracy: \" + str(rbp_accuracy) + \"\\n\"+\n",
    "    \" RBP1 Accuracy: \" + str(new1_accuracy) + \"\\n\"+\n",
    "    #\" RBP2 Accuracy: \" + str(new2_accuracy) + \"\\n\"+\n",
    "      \n",
    "    \" Zero Accuracy: \" + str(zero_accuracy) + \"\\n\"+\n",
    "    \" Noise Accuracy: \" + str(noise_accuracy) + \"\\n\"+\n",
    "    \" Blur Accuracy: \" + str(blur_accuracy) + \"\\n\")"
   ]
  }
 ],
 "metadata": {
  "kernelspec": {
   "display_name": "lime_tf",
   "language": "python",
   "name": "limetf"
  },
  "language_info": {
   "codemirror_mode": {
    "name": "ipython",
    "version": 3
   },
   "file_extension": ".py",
   "mimetype": "text/x-python",
   "name": "python",
   "nbconvert_exporter": "python",
   "pygments_lexer": "ipython3",
   "version": "3.10.13"
  }
 },
 "nbformat": 4,
 "nbformat_minor": 5
}
