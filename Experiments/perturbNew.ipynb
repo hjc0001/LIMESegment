{
 "cells": [
  {
   "cell_type": "code",
   "execution_count": 1,
   "id": "684ff903-8f19-4c84-890b-3e50af7d9781",
   "metadata": {},
   "outputs": [],
   "source": [
    "from scipy import signal\n",
    "import numpy as np\n",
    "from scipy.ndimage import gaussian_filter\n",
    "import numpy as np\n",
    "import matplotlib.pyplot as plt\n",
    "import numpy as np\n",
    "import os\n",
    "import pandas as pd\n",
    "from sklearn.utils import shuffle\n",
    "\n",
    "\n",
    "import sys\n",
    "sys.path.append('../')\n",
    "from Utils.constants import TRAIN_FILES, TEST_FILES\n",
    "from Utils.perturbations import RBPIndividual, zeroPerturb, noisePerturb, blurPerturb\n",
    "from Utils.data import *"
   ]
  },
  {
   "cell_type": "code",
   "execution_count": 2,
   "id": "acba9b22-6f05-4e71-8415-008a7751e7fd",
   "metadata": {},
   "outputs": [
    {
     "name": "stdout",
     "output_type": "stream",
     "text": [
      "Loading train / test dataset :  ../Data/Coffee_TRAIN ../Data/Coffee_TEST\n"
     ]
    }
   ],
   "source": [
    "X_train, y_train, X_test, y_test, nb_classes = loadUCRDataID(0)"
   ]
  },
  {
   "cell_type": "code",
   "execution_count": 3,
   "id": "3c6b03db-deaf-46a9-a496-3365d48c565d",
   "metadata": {},
   "outputs": [],
   "source": [
    "#The first multisample background generation approac. \n",
    "#All spectral matrixs are superpositioned and treated as a single sample.\n",
    "\n",
    "def multisamplebackgroundIdentification(global_signals):\n",
    "    test_sig = global_signals[0].flatten()\n",
    "    f, t, Zxx = signal.stft(test_sig,1,nperseg=40)\n",
    "    for i in range(1,len(global_signals)):\n",
    "        test_sig = global_signals[i].flatten()\n",
    "        f0, t0, Zxx0 = signal.stft(test_sig,1,nperseg=40, noverlap = 20)\n",
    "        assert Zxx.shape == Zxx0.shape, f\"Shape mismatch at signal {i}\"\n",
    "        Zxx = Zxx + Zxx0\n",
    "    plt.figure(figsize=(10, 6))\n",
    "    plt.pcolormesh(t, f, np.abs(Zxx), shading='gouraud') \n",
    "    plt.title('STFT Magnitude Spectrum')\n",
    "    plt.ylabel('Frequency [Hz]')\n",
    "    plt.xlabel('Time [s]')\n",
    "    plt.colorbar(label='Magnitude')\n",
    "    plt.ylim(np.min(f), 0.1)\n",
    "    plt.show()\n",
    "    frequency_composition_abs = np.abs(Zxx)\n",
    "    measures = []\n",
    "    for freq,freq_composition in zip(f,frequency_composition_abs):\n",
    "        measures.append(np.mean(freq_composition)/np.std(freq_composition))\n",
    "    max_value = max(measures)\n",
    "    selected_frequency = measures.index(max_value)\n",
    "    weights = 1-(measures/sum(measures))\n",
    "    dummymatrix = np.zeros((len(f),len(t)))\n",
    "    dummymatrix[selected_frequency,:] = 1  \n",
    "    #Option to admit information from other frequency bands\n",
    "    \"\"\"dummymatrix = np.ones((len(f),len(t)))\n",
    "    for i in range(0,len(weights)):\n",
    "        dummymatrix[i,:] = dummymatrix[i,:] * weights[i]\"\"\"\n",
    "    \n",
    "    background_frequency = Zxx * dummymatrix\n",
    "    _, xrec = signal.istft(background_frequency, 1)\n",
    "    return xrec,f,t,Zxx\n",
    "\n"
   ]
  },
  {
   "cell_type": "code",
   "execution_count": 4,
   "id": "1a474aa8-d13d-44c4-815c-e66fc6cc450d",
   "metadata": {},
   "outputs": [],
   "source": [
    "#rec,f,t,Zxx = multisamplebackgroundIdentification(X_train)"
   ]
  },
  {
   "cell_type": "code",
   "execution_count": 5,
   "id": "bb283c1d-df46-47fb-a3ae-0bbeed23ee3f",
   "metadata": {},
   "outputs": [],
   "source": [
    "#The second background identification approach which combines the most significant frequency component \n",
    "#of every sample into a spectral matrix and identify the background in this matrix\n",
    "\n",
    "\n",
    "#Identify backgrounds in a single TS\n",
    "def backgroundfreqIdentification(original_signal):\n",
    "    f, t, Zxx = signal.stft(original_signal,fs = 1,nperseg=40, noverlap = 20)\n",
    "    frequency_composition_abs = np.abs(Zxx)\n",
    "    measures = []\n",
    "    for freq,freq_composition in zip(f,frequency_composition_abs):\n",
    "        measures.append(np.mean(freq_composition)/np.std(freq_composition))\n",
    "    max_value = max(measures)\n",
    "    selected_frequency = measures.index(max_value)\n",
    "    Zxx_candidate = np.zeros_like(Zxx, dtype=complex)\n",
    "    # insert the selected component into selected frequency\n",
    "    Zxx_candidate[selected_frequency, :] = Zxx[selected_frequency, :]\n",
    "    return Zxx_candidate\n",
    "\n",
    "\n",
    "\n",
    "#Background Identification\n",
    "def candidatebackgroundIdentification(global_signals):\n",
    "    #Set up template matrix\n",
    "    test_sig = global_signals[0].flatten()\n",
    "    f_, t_, Zxx_ = signal.stft(test_sig,1,nperseg=40)\n",
    "    Zxx = np.zeros_like(Zxx_, dtype=complex)\n",
    "\n",
    "    #For every sample, return a spectral matrix representing the background \n",
    "    for i in range(1,len(global_signals)):\n",
    "        test_sig = global_signals[i].flatten()\n",
    "        Zxx_candidate = backgroundfreqIdentification(test_sig)\n",
    "        assert Zxx.shape == Zxx_candidate.shape, f\"Shape mismatch at signal {i}\"\n",
    "        #Add all backgrounds together\n",
    "        Zxx = Zxx + Zxx_candidate\n",
    "    plt.figure(figsize=(10, 6))\n",
    "    plt.pcolormesh(t_, f_, np.abs(Zxx), shading='gouraud') \n",
    "    plt.title('STFT Magnitude Spectrum')\n",
    "    plt.ylabel('Frequency [Hz]')\n",
    "    plt.xlabel('Time [s]')\n",
    "    plt.colorbar(label='Magnitude')\n",
    "    \n",
    "    plt.ylim(np.min(f_), 0.1)\n",
    "    \n",
    "    plt.show()\n",
    "    frequency_composition_abs = np.abs(Zxx)\n",
    "    measures = []\n",
    "    for freq,freq_composition in zip(f_,frequency_composition_abs):\n",
    "        measures.append(np.mean(freq_composition)/np.std(freq_composition))\n",
    "    max_value = max(measures)\n",
    "    selected_frequency = measures.index(max_value)\n",
    "    weights = 1-(measures/sum(measures))\n",
    "    dummymatrix = np.zeros((len(f_),len(t_)))\n",
    "    dummymatrix[selected_frequency,:] = 1  \n",
    "    \n",
    "    background_frequency = Zxx * dummymatrix\n",
    "    _, xrec = signal.istft(background_frequency, 1)\n",
    "    return xrec,f_,t_,Zxx\n",
    "\n",
    "\n",
    "#rec,f,t,Zxx = candidatebackgroundIdentification(X_train)"
   ]
  },
  {
   "cell_type": "code",
   "execution_count": 6,
   "id": "08a76861-1d11-4ad1-831e-a5f4c856968f",
   "metadata": {},
   "outputs": [
    {
     "name": "stdout",
     "output_type": "stream",
     "text": [
      "286\n"
     ]
    }
   ],
   "source": [
    "#The original approach\n",
    "\n",
    "def backgroundIdentification(original_signal):\n",
    "    f, t, Zxx = signal.stft(original_signal,fs = 1,nperseg=40, noverlap = 20)\n",
    "    print(Zxx.shape)\n",
    "    plt.figure(figsize=(10, 6))\n",
    "    plt.pcolormesh(t, f, np.abs(Zxx), shading='gouraud') \n",
    "    plt.title('STFT Magnitude Spectrum')\n",
    "    plt.ylabel('Frequency [Hz]')\n",
    "    plt.xlabel('Time [s]')\n",
    "    plt.colorbar(label='Magnitude')\n",
    "    plt.ylim(np.min(f), 0.1)\n",
    "    plt.show()\n",
    "    frequency_composition_abs = np.abs(Zxx)\n",
    "    measures = []\n",
    "    for freq,freq_composition in zip(f,frequency_composition_abs):\n",
    "        measures.append(np.mean(freq_composition)/np.std(freq_composition))\n",
    "    max_value = max(measures)\n",
    "    selected_frequency = measures.index(max_value)\n",
    "    weights = 1-(measures/sum(measures))\n",
    "    dummymatrix = np.zeros((len(f),len(t)))\n",
    "    dummymatrix[selected_frequency,:] = 1  \n",
    "    \n",
    "    background_frequency = Zxx * dummymatrix\n",
    "    _, xrec = signal.istft(background_frequency, 1)\n",
    "    return xrec\n",
    "\n",
    "print(len(X_train[0]))\n",
    "test_sig = X_train[0].flatten()\n",
    "#print(test_sig)\n",
    "#f, t, Zxx = signal.stft(test_sig,fs = 1,nperseg=40, noverlap = 20)\n",
    "#rec = backgroundIdentification(test_sig)\n",
    "\n"
   ]
  },
  {
   "cell_type": "code",
   "execution_count": 7,
   "id": "88df6a3e-25e8-40b0-9e62-c6ea2d5fa2f0",
   "metadata": {},
   "outputs": [],
   "source": [
    "def perturb(perturbation_strategy, ts, index0, index1, global_ts = []):\n",
    "    if perturbation_strategy == 'RBP':\n",
    "        return RBPIndividual(ts, index0, index1)\n",
    "    if perturbation_strategy == 'zero':\n",
    "        return zeroPerturb(ts, index0, index1)\n",
    "    if perturbation_strategy == 'noise':\n",
    "        return noisePerturb(ts, index0, index1)\n",
    "    if perturbation_strategy == 'blur':\n",
    "        return blurPerturb(ts, index0, index1)\n",
    "    if perturbation_strategy == 'RBP1':\n",
    "        return RBPIndividualNew1(global_ts, ts, index0, index1)    \n",
    "    if perturbation_strategy == 'RBP2':\n",
    "        return RBPIndividualNew2(global_ts, ts, index0, index1)    "
   ]
  },
  {
   "cell_type": "code",
   "execution_count": null,
   "id": "42663dc3-0c58-45b0-9320-4882f16ec4ee",
   "metadata": {},
   "outputs": [],
   "source": []
  }
 ],
 "metadata": {
  "kernelspec": {
   "display_name": "lime_tf",
   "language": "python",
   "name": "limetf"
  },
  "language_info": {
   "codemirror_mode": {
    "name": "ipython",
    "version": 3
   },
   "file_extension": ".py",
   "mimetype": "text/x-python",
   "name": "python",
   "nbconvert_exporter": "python",
   "pygments_lexer": "ipython3",
   "version": "3.10.13"
  }
 },
 "nbformat": 4,
 "nbformat_minor": 5
}
