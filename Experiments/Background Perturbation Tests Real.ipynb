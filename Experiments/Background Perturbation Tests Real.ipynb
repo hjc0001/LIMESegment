{
 "cells": [
  {
   "cell_type": "code",
   "execution_count": 1,
   "id": "dd9bd814",
   "metadata": {},
   "outputs": [],
   "source": [
    "import numpy as np\n",
    "import matplotlib.pyplot as plt\n",
    "import inspect"
   ]
  },
  {
   "cell_type": "code",
   "execution_count": 2,
   "id": "2439de23",
   "metadata": {},
   "outputs": [
    {
     "name": "stdout",
     "output_type": "stream",
     "text": [
      "['/Users/gali/anaconda3/envs/LIMEtf/lib/python310.zip', '/Users/gali/anaconda3/envs/LIMEtf/lib/python3.10', '/Users/gali/anaconda3/envs/LIMEtf/lib/python3.10/lib-dynload', '', '/Users/gali/anaconda3/envs/LIMEtf/lib/python3.10/site-packages', '/Users/gali/anaconda3/envs/LIMEtf/lib/python3.10/site-packages/setuptools/_vendor', '../', '../']\n"
     ]
    }
   ],
   "source": [
    "import importlib\n",
    "import sys\n",
    "sys.path.append('../')\n",
    "from Utils.perturbationsnew import RBPIndividual, RBPIndividualNew1, RBPIndividualNew2, zeroPerturb, noisePerturb, blurPerturb\n",
    "from Utils.models import *\n",
    "from Utils.data import perturb, generateSynthetic, generateSyntheticPerturbReal,ReadTS\n",
    "\n",
    "print(sys.path)\n"
   ]
  },
  {
   "cell_type": "markdown",
   "id": "62b11ea0",
   "metadata": {},
   "source": [
    "## Test important content removal (accuracy decrease)"
   ]
  },
  {
   "cell_type": "markdown",
   "id": "5567ae62",
   "metadata": {},
   "source": [
    "### Load synthetic dataset and train CNN model "
   ]
  },
  {
   "cell_type": "code",
   "execution_count": 3,
   "id": "812c0d59",
   "metadata": {},
   "outputs": [
    {
     "name": "stdout",
     "output_type": "stream",
     "text": [
      "(100, 1460, 1)\n"
     ]
    }
   ],
   "source": [
    "x_train, y_train, x_test_original, y_test_original = ReadTS('ACSF1')\n",
    "#y_train = y_train - 1\n",
    "#y_test_original = y_test_original - 1\n",
    "print(x_train.shape)"
   ]
  },
  {
   "cell_type": "code",
   "execution_count": 4,
   "id": "13e94496-b481-427a-98bf-9c48cacf85e0",
   "metadata": {},
   "outputs": [],
   "source": [
    "from sklearn.preprocessing import StandardScaler\n",
    "\n",
    "# 将数据集reshape成二维数组\n",
    "x_train_2d = x_train.reshape(100, 1460)\n",
    "\n",
    "# 初始化StandardScaler\n",
    "scaler = StandardScaler()\n",
    "\n",
    "# 对数据集进行标准化\n",
    "x_train_normalized = scaler.fit_transform(x_train_2d)\n",
    "\n",
    "# 将标准化后的数据集reshape回原始形状\n",
    "x_train = x_train_normalized.reshape(100, 1460, 1)"
   ]
  },
  {
   "cell_type": "code",
   "execution_count": 5,
   "id": "c9911722",
   "metadata": {},
   "outputs": [
    {
     "name": "stdout",
     "output_type": "stream",
     "text": [
      "Epoch 1/100\n"
     ]
    },
    {
     "name": "stderr",
     "output_type": "stream",
     "text": [
      "2024-11-14 20:09:46.462467: W tensorflow/tsl/platform/profile_utils/cpu_utils.cc:128] Failed to get CPU frequency: 0 Hz\n"
     ]
    },
    {
     "name": "stdout",
     "output_type": "stream",
     "text": [
      "3/3 [==============================] - 1s 107ms/step - loss: 2.2954 - sparse_categorical_accuracy: 0.1750 - val_loss: 2.3112 - val_sparse_categorical_accuracy: 0.0000e+00\n",
      "Epoch 2/100\n",
      "3/3 [==============================] - 0s 44ms/step - loss: 1.9629 - sparse_categorical_accuracy: 0.4375 - val_loss: 2.3228 - val_sparse_categorical_accuracy: 0.0000e+00\n",
      "Epoch 3/100\n",
      "3/3 [==============================] - 0s 45ms/step - loss: 1.7999 - sparse_categorical_accuracy: 0.5000 - val_loss: 2.3300 - val_sparse_categorical_accuracy: 0.0000e+00\n",
      "Epoch 4/100\n",
      "3/3 [==============================] - 0s 49ms/step - loss: 1.6837 - sparse_categorical_accuracy: 0.5375 - val_loss: 2.3348 - val_sparse_categorical_accuracy: 0.0000e+00\n",
      "Epoch 5/100\n",
      "3/3 [==============================] - 0s 50ms/step - loss: 1.5817 - sparse_categorical_accuracy: 0.6000 - val_loss: 2.3389 - val_sparse_categorical_accuracy: 0.0000e+00\n",
      "Epoch 6/100\n",
      "3/3 [==============================] - 0s 48ms/step - loss: 1.4791 - sparse_categorical_accuracy: 0.6000 - val_loss: 2.3441 - val_sparse_categorical_accuracy: 0.0000e+00\n",
      "Epoch 7/100\n",
      "3/3 [==============================] - 0s 51ms/step - loss: 1.4188 - sparse_categorical_accuracy: 0.6000 - val_loss: 2.3511 - val_sparse_categorical_accuracy: 0.0000e+00\n",
      "Epoch 8/100\n",
      "3/3 [==============================] - 0s 49ms/step - loss: 1.3101 - sparse_categorical_accuracy: 0.6625 - val_loss: 2.3601 - val_sparse_categorical_accuracy: 0.0000e+00\n",
      "Epoch 9/100\n",
      "3/3 [==============================] - 0s 46ms/step - loss: 1.2594 - sparse_categorical_accuracy: 0.6625 - val_loss: 2.3723 - val_sparse_categorical_accuracy: 0.0000e+00\n",
      "Epoch 10/100\n",
      "3/3 [==============================] - 0s 45ms/step - loss: 1.1596 - sparse_categorical_accuracy: 0.6750 - val_loss: 2.3873 - val_sparse_categorical_accuracy: 0.0000e+00\n",
      "Epoch 11/100\n",
      "3/3 [==============================] - 0s 44ms/step - loss: 1.1158 - sparse_categorical_accuracy: 0.7000 - val_loss: 2.4040 - val_sparse_categorical_accuracy: 0.0000e+00\n",
      "Epoch 12/100\n",
      "3/3 [==============================] - 0s 44ms/step - loss: 1.0509 - sparse_categorical_accuracy: 0.6875 - val_loss: 2.4223 - val_sparse_categorical_accuracy: 0.0000e+00\n",
      "Epoch 13/100\n",
      "3/3 [==============================] - 0s 44ms/step - loss: 1.0538 - sparse_categorical_accuracy: 0.6625 - val_loss: 2.4420 - val_sparse_categorical_accuracy: 0.0000e+00\n",
      "Epoch 14/100\n",
      "3/3 [==============================] - 0s 44ms/step - loss: 1.0016 - sparse_categorical_accuracy: 0.7250 - val_loss: 2.4642 - val_sparse_categorical_accuracy: 0.0000e+00\n",
      "Epoch 15/100\n",
      "3/3 [==============================] - 0s 44ms/step - loss: 0.9592 - sparse_categorical_accuracy: 0.7375 - val_loss: 2.4886 - val_sparse_categorical_accuracy: 0.0000e+00\n",
      "Epoch 16/100\n",
      "3/3 [==============================] - 0s 44ms/step - loss: 0.9061 - sparse_categorical_accuracy: 0.7625 - val_loss: 2.5166 - val_sparse_categorical_accuracy: 0.0000e+00\n",
      "Epoch 17/100\n",
      "3/3 [==============================] - 0s 45ms/step - loss: 0.9299 - sparse_categorical_accuracy: 0.6750 - val_loss: 2.5484 - val_sparse_categorical_accuracy: 0.0000e+00\n",
      "Epoch 18/100\n",
      "3/3 [==============================] - 0s 44ms/step - loss: 0.8681 - sparse_categorical_accuracy: 0.7250 - val_loss: 2.5822 - val_sparse_categorical_accuracy: 0.0000e+00\n",
      "Epoch 19/100\n",
      "3/3 [==============================] - 0s 43ms/step - loss: 0.8484 - sparse_categorical_accuracy: 0.7375 - val_loss: 2.6184 - val_sparse_categorical_accuracy: 0.0000e+00\n",
      "Epoch 20/100\n",
      "3/3 [==============================] - 0s 44ms/step - loss: 0.8100 - sparse_categorical_accuracy: 0.7125 - val_loss: 2.6571 - val_sparse_categorical_accuracy: 0.0000e+00\n",
      "Epoch 21/100\n",
      "3/3 [==============================] - 0s 46ms/step - loss: 0.7989 - sparse_categorical_accuracy: 0.7375 - val_loss: 2.6989 - val_sparse_categorical_accuracy: 0.0000e+00\n",
      "Epoch 22/100\n",
      "3/3 [==============================] - 0s 45ms/step - loss: 0.7899 - sparse_categorical_accuracy: 0.7125 - val_loss: 2.7426 - val_sparse_categorical_accuracy: 0.0000e+00\n",
      "Epoch 23/100\n",
      "3/3 [==============================] - 0s 45ms/step - loss: 0.7413 - sparse_categorical_accuracy: 0.7750 - val_loss: 2.7918 - val_sparse_categorical_accuracy: 0.0000e+00\n",
      "Epoch 24/100\n",
      "3/3 [==============================] - 0s 45ms/step - loss: 0.7370 - sparse_categorical_accuracy: 0.7875 - val_loss: 2.8467 - val_sparse_categorical_accuracy: 0.0000e+00\n",
      "Epoch 25/100\n",
      "3/3 [==============================] - 0s 45ms/step - loss: 0.6896 - sparse_categorical_accuracy: 0.7750 - val_loss: 2.9013 - val_sparse_categorical_accuracy: 0.0000e+00\n",
      "Epoch 26/100\n",
      "3/3 [==============================] - 0s 45ms/step - loss: 0.7347 - sparse_categorical_accuracy: 0.7250 - val_loss: 2.9537 - val_sparse_categorical_accuracy: 0.0000e+00\n",
      "Epoch 27/100\n",
      "3/3 [==============================] - 0s 46ms/step - loss: 0.6949 - sparse_categorical_accuracy: 0.7625 - val_loss: 3.0032 - val_sparse_categorical_accuracy: 0.0000e+00\n",
      "Epoch 28/100\n",
      "3/3 [==============================] - 0s 45ms/step - loss: 0.6512 - sparse_categorical_accuracy: 0.7875 - val_loss: 3.0522 - val_sparse_categorical_accuracy: 0.0000e+00\n",
      "Epoch 29/100\n",
      "3/3 [==============================] - 0s 44ms/step - loss: 0.6281 - sparse_categorical_accuracy: 0.8000 - val_loss: 3.1145 - val_sparse_categorical_accuracy: 0.0000e+00\n",
      "Epoch 30/100\n",
      "3/3 [==============================] - 0s 46ms/step - loss: 0.6917 - sparse_categorical_accuracy: 0.7625 - val_loss: 3.1770 - val_sparse_categorical_accuracy: 0.0000e+00\n",
      "Epoch 31/100\n",
      "3/3 [==============================] - 0s 44ms/step - loss: 0.6489 - sparse_categorical_accuracy: 0.7875 - val_loss: 3.2382 - val_sparse_categorical_accuracy: 0.0000e+00\n",
      "Epoch 32/100\n",
      "3/3 [==============================] - 0s 44ms/step - loss: 0.5940 - sparse_categorical_accuracy: 0.7625 - val_loss: 3.3070 - val_sparse_categorical_accuracy: 0.0000e+00\n",
      "Epoch 33/100\n",
      "3/3 [==============================] - 0s 45ms/step - loss: 0.5964 - sparse_categorical_accuracy: 0.8125 - val_loss: 3.3779 - val_sparse_categorical_accuracy: 0.0000e+00\n",
      "Epoch 34/100\n",
      "3/3 [==============================] - 0s 45ms/step - loss: 0.6551 - sparse_categorical_accuracy: 0.7750 - val_loss: 3.4591 - val_sparse_categorical_accuracy: 0.0000e+00\n",
      "Epoch 35/100\n",
      "3/3 [==============================] - 0s 45ms/step - loss: 0.5682 - sparse_categorical_accuracy: 0.8375 - val_loss: 3.5358 - val_sparse_categorical_accuracy: 0.0000e+00\n",
      "Epoch 36/100\n",
      "3/3 [==============================] - 0s 48ms/step - loss: 0.5831 - sparse_categorical_accuracy: 0.8500 - val_loss: 3.6177 - val_sparse_categorical_accuracy: 0.0000e+00\n",
      "Epoch 37/100\n",
      "3/3 [==============================] - 0s 46ms/step - loss: 0.5858 - sparse_categorical_accuracy: 0.8250 - val_loss: 3.7058 - val_sparse_categorical_accuracy: 0.0000e+00\n",
      "Epoch 38/100\n",
      "3/3 [==============================] - 0s 44ms/step - loss: 0.5380 - sparse_categorical_accuracy: 0.8750 - val_loss: 3.7834 - val_sparse_categorical_accuracy: 0.0000e+00\n",
      "Epoch 39/100\n",
      "3/3 [==============================] - 0s 45ms/step - loss: 0.5737 - sparse_categorical_accuracy: 0.8000 - val_loss: 3.8718 - val_sparse_categorical_accuracy: 0.0000e+00\n",
      "Epoch 40/100\n",
      "3/3 [==============================] - 0s 44ms/step - loss: 0.6407 - sparse_categorical_accuracy: 0.8125 - val_loss: 3.9491 - val_sparse_categorical_accuracy: 0.0000e+00\n",
      "Epoch 41/100\n",
      "3/3 [==============================] - 0s 44ms/step - loss: 0.5732 - sparse_categorical_accuracy: 0.8000 - val_loss: 4.0301 - val_sparse_categorical_accuracy: 0.0000e+00\n",
      "Epoch 42/100\n",
      "3/3 [==============================] - 0s 44ms/step - loss: 0.5672 - sparse_categorical_accuracy: 0.8250 - val_loss: 4.1357 - val_sparse_categorical_accuracy: 0.0000e+00\n",
      "Epoch 43/100\n",
      "3/3 [==============================] - 0s 44ms/step - loss: 0.5547 - sparse_categorical_accuracy: 0.8000 - val_loss: 4.2482 - val_sparse_categorical_accuracy: 0.0000e+00\n",
      "Epoch 44/100\n",
      "3/3 [==============================] - 0s 44ms/step - loss: 0.5606 - sparse_categorical_accuracy: 0.8125 - val_loss: 4.3101 - val_sparse_categorical_accuracy: 0.0000e+00\n",
      "Epoch 45/100\n",
      "3/3 [==============================] - 0s 46ms/step - loss: 0.5379 - sparse_categorical_accuracy: 0.8500 - val_loss: 4.3535 - val_sparse_categorical_accuracy: 0.0000e+00\n",
      "Epoch 46/100\n",
      "3/3 [==============================] - 0s 46ms/step - loss: 0.5243 - sparse_categorical_accuracy: 0.8375 - val_loss: 4.3802 - val_sparse_categorical_accuracy: 0.0000e+00\n",
      "Epoch 47/100\n",
      "3/3 [==============================] - 0s 48ms/step - loss: 0.4925 - sparse_categorical_accuracy: 0.8750 - val_loss: 4.4295 - val_sparse_categorical_accuracy: 0.0000e+00\n",
      "Epoch 48/100\n",
      "3/3 [==============================] - 0s 45ms/step - loss: 0.4651 - sparse_categorical_accuracy: 0.9000 - val_loss: 4.5032 - val_sparse_categorical_accuracy: 0.0000e+00\n",
      "Epoch 49/100\n",
      "3/3 [==============================] - 0s 46ms/step - loss: 0.4561 - sparse_categorical_accuracy: 0.8750 - val_loss: 4.5757 - val_sparse_categorical_accuracy: 0.0000e+00\n",
      "Epoch 50/100\n",
      "3/3 [==============================] - 0s 45ms/step - loss: 0.4905 - sparse_categorical_accuracy: 0.8500 - val_loss: 4.6462 - val_sparse_categorical_accuracy: 0.0000e+00\n",
      "Epoch 51/100\n",
      "3/3 [==============================] - 0s 46ms/step - loss: 0.4599 - sparse_categorical_accuracy: 0.9000 - val_loss: 4.7266 - val_sparse_categorical_accuracy: 0.0000e+00\n",
      "Epoch 52/100\n",
      "3/3 [==============================] - 0s 44ms/step - loss: 0.4653 - sparse_categorical_accuracy: 0.8875 - val_loss: 4.8055 - val_sparse_categorical_accuracy: 0.0000e+00\n",
      "Epoch 53/100\n",
      "3/3 [==============================] - 0s 45ms/step - loss: 0.4457 - sparse_categorical_accuracy: 0.9000 - val_loss: 4.8662 - val_sparse_categorical_accuracy: 0.0000e+00\n",
      "Epoch 54/100\n",
      "3/3 [==============================] - 0s 45ms/step - loss: 0.4602 - sparse_categorical_accuracy: 0.8750 - val_loss: 4.9477 - val_sparse_categorical_accuracy: 0.0000e+00\n",
      "Epoch 55/100\n",
      "3/3 [==============================] - 0s 46ms/step - loss: 0.4456 - sparse_categorical_accuracy: 0.8625 - val_loss: 5.0601 - val_sparse_categorical_accuracy: 0.0000e+00\n",
      "Epoch 56/100\n",
      "3/3 [==============================] - 0s 45ms/step - loss: 0.4167 - sparse_categorical_accuracy: 0.8875 - val_loss: 5.1515 - val_sparse_categorical_accuracy: 0.0000e+00\n",
      "Epoch 57/100\n",
      "3/3 [==============================] - 0s 45ms/step - loss: 0.4472 - sparse_categorical_accuracy: 0.8750 - val_loss: 5.2209 - val_sparse_categorical_accuracy: 0.0000e+00\n",
      "Epoch 58/100\n",
      "3/3 [==============================] - 0s 44ms/step - loss: 0.5215 - sparse_categorical_accuracy: 0.8375 - val_loss: 5.3479 - val_sparse_categorical_accuracy: 0.0000e+00\n",
      "Epoch 59/100\n",
      "3/3 [==============================] - 0s 45ms/step - loss: 0.4585 - sparse_categorical_accuracy: 0.8875 - val_loss: 5.4436 - val_sparse_categorical_accuracy: 0.0000e+00\n",
      "Epoch 60/100\n",
      "3/3 [==============================] - 0s 45ms/step - loss: 0.4021 - sparse_categorical_accuracy: 0.9000 - val_loss: 5.5499 - val_sparse_categorical_accuracy: 0.0000e+00\n",
      "Epoch 61/100\n",
      "3/3 [==============================] - 0s 45ms/step - loss: 0.4062 - sparse_categorical_accuracy: 0.8875 - val_loss: 5.6483 - val_sparse_categorical_accuracy: 0.0000e+00\n",
      "Epoch 62/100\n",
      "3/3 [==============================] - 0s 44ms/step - loss: 0.4422 - sparse_categorical_accuracy: 0.8625 - val_loss: 5.7611 - val_sparse_categorical_accuracy: 0.0000e+00\n",
      "Epoch 63/100\n",
      "3/3 [==============================] - 0s 45ms/step - loss: 0.4681 - sparse_categorical_accuracy: 0.8750 - val_loss: 5.8809 - val_sparse_categorical_accuracy: 0.0000e+00\n",
      "Epoch 64/100\n",
      "3/3 [==============================] - 0s 45ms/step - loss: 0.4120 - sparse_categorical_accuracy: 0.8500 - val_loss: 5.9408 - val_sparse_categorical_accuracy: 0.0000e+00\n",
      "Epoch 65/100\n",
      "3/3 [==============================] - 0s 45ms/step - loss: 0.5165 - sparse_categorical_accuracy: 0.8750 - val_loss: 6.0114 - val_sparse_categorical_accuracy: 0.0000e+00\n",
      "Epoch 66/100\n",
      "3/3 [==============================] - 0s 44ms/step - loss: 0.4514 - sparse_categorical_accuracy: 0.8375 - val_loss: 6.0271 - val_sparse_categorical_accuracy: 0.0000e+00\n",
      "Epoch 67/100\n",
      "3/3 [==============================] - 0s 46ms/step - loss: 0.4160 - sparse_categorical_accuracy: 0.8750 - val_loss: 6.0582 - val_sparse_categorical_accuracy: 0.0000e+00\n",
      "Epoch 68/100\n",
      "3/3 [==============================] - 0s 45ms/step - loss: 0.4637 - sparse_categorical_accuracy: 0.8875 - val_loss: 6.0935 - val_sparse_categorical_accuracy: 0.0000e+00\n",
      "Epoch 69/100\n",
      "3/3 [==============================] - 0s 45ms/step - loss: 0.4159 - sparse_categorical_accuracy: 0.9000 - val_loss: 6.1755 - val_sparse_categorical_accuracy: 0.0000e+00\n",
      "Epoch 70/100\n",
      "3/3 [==============================] - 0s 45ms/step - loss: 0.3650 - sparse_categorical_accuracy: 0.9125 - val_loss: 6.2895 - val_sparse_categorical_accuracy: 0.0000e+00\n",
      "Epoch 71/100\n",
      "3/3 [==============================] - 0s 46ms/step - loss: 0.4115 - sparse_categorical_accuracy: 0.8500 - val_loss: 6.3735 - val_sparse_categorical_accuracy: 0.0000e+00\n",
      "Epoch 72/100\n",
      "3/3 [==============================] - 0s 45ms/step - loss: 0.3645 - sparse_categorical_accuracy: 0.9000 - val_loss: 6.4899 - val_sparse_categorical_accuracy: 0.0000e+00\n",
      "Epoch 73/100\n",
      "3/3 [==============================] - 0s 47ms/step - loss: 0.3986 - sparse_categorical_accuracy: 0.9125 - val_loss: 6.5296 - val_sparse_categorical_accuracy: 0.0000e+00\n",
      "Epoch 74/100\n",
      "3/3 [==============================] - 0s 47ms/step - loss: 0.4516 - sparse_categorical_accuracy: 0.8500 - val_loss: 6.4975 - val_sparse_categorical_accuracy: 0.0000e+00\n",
      "Epoch 75/100\n",
      "3/3 [==============================] - 0s 45ms/step - loss: 0.3684 - sparse_categorical_accuracy: 0.9250 - val_loss: 6.4826 - val_sparse_categorical_accuracy: 0.0000e+00\n",
      "Epoch 76/100\n",
      "3/3 [==============================] - 0s 47ms/step - loss: 0.4325 - sparse_categorical_accuracy: 0.8625 - val_loss: 6.4811 - val_sparse_categorical_accuracy: 0.0000e+00\n",
      "Epoch 77/100\n",
      "3/3 [==============================] - 0s 47ms/step - loss: 0.3706 - sparse_categorical_accuracy: 0.9125 - val_loss: 6.5679 - val_sparse_categorical_accuracy: 0.0000e+00\n",
      "Epoch 78/100\n",
      "3/3 [==============================] - 0s 44ms/step - loss: 0.4088 - sparse_categorical_accuracy: 0.8750 - val_loss: 6.7293 - val_sparse_categorical_accuracy: 0.0000e+00\n",
      "Epoch 79/100\n",
      "3/3 [==============================] - 0s 45ms/step - loss: 0.4327 - sparse_categorical_accuracy: 0.8250 - val_loss: 6.8488 - val_sparse_categorical_accuracy: 0.0000e+00\n",
      "Epoch 80/100\n",
      "3/3 [==============================] - 0s 47ms/step - loss: 0.3640 - sparse_categorical_accuracy: 0.9125 - val_loss: 6.8386 - val_sparse_categorical_accuracy: 0.0000e+00\n",
      "Epoch 81/100\n",
      "3/3 [==============================] - 0s 49ms/step - loss: 0.3740 - sparse_categorical_accuracy: 0.9000 - val_loss: 6.8515 - val_sparse_categorical_accuracy: 0.0000e+00\n",
      "Epoch 82/100\n",
      "3/3 [==============================] - 0s 45ms/step - loss: 0.3883 - sparse_categorical_accuracy: 0.8625 - val_loss: 6.9164 - val_sparse_categorical_accuracy: 0.0000e+00\n",
      "Epoch 83/100\n",
      "3/3 [==============================] - 0s 47ms/step - loss: 0.3940 - sparse_categorical_accuracy: 0.9000 - val_loss: 6.8403 - val_sparse_categorical_accuracy: 0.0000e+00\n",
      "Epoch 84/100\n",
      "3/3 [==============================] - 0s 44ms/step - loss: 0.3490 - sparse_categorical_accuracy: 0.9000 - val_loss: 6.8450 - val_sparse_categorical_accuracy: 0.0000e+00\n",
      "Epoch 85/100\n",
      "3/3 [==============================] - 0s 45ms/step - loss: 0.3604 - sparse_categorical_accuracy: 0.9125 - val_loss: 6.8255 - val_sparse_categorical_accuracy: 0.0000e+00\n",
      "Epoch 86/100\n",
      "3/3 [==============================] - 0s 45ms/step - loss: 0.3807 - sparse_categorical_accuracy: 0.8750 - val_loss: 6.8418 - val_sparse_categorical_accuracy: 0.0000e+00\n",
      "Epoch 87/100\n",
      "3/3 [==============================] - 0s 47ms/step - loss: 0.3394 - sparse_categorical_accuracy: 0.9125 - val_loss: 6.8999 - val_sparse_categorical_accuracy: 0.0000e+00\n",
      "Epoch 88/100\n",
      "3/3 [==============================] - 0s 46ms/step - loss: 0.3276 - sparse_categorical_accuracy: 0.9125 - val_loss: 6.9370 - val_sparse_categorical_accuracy: 0.0000e+00\n",
      "Epoch 89/100\n",
      "3/3 [==============================] - 0s 46ms/step - loss: 0.3291 - sparse_categorical_accuracy: 0.9000 - val_loss: 6.9604 - val_sparse_categorical_accuracy: 0.0000e+00\n",
      "Epoch 90/100\n",
      "3/3 [==============================] - 0s 48ms/step - loss: 0.3674 - sparse_categorical_accuracy: 0.8750 - val_loss: 7.0059 - val_sparse_categorical_accuracy: 0.0000e+00\n",
      "Epoch 91/100\n",
      "3/3 [==============================] - 0s 45ms/step - loss: 0.3426 - sparse_categorical_accuracy: 0.8750 - val_loss: 7.0059 - val_sparse_categorical_accuracy: 0.0000e+00\n",
      "Epoch 92/100\n",
      "3/3 [==============================] - 0s 45ms/step - loss: 0.3919 - sparse_categorical_accuracy: 0.8625 - val_loss: 7.0689 - val_sparse_categorical_accuracy: 0.0000e+00\n",
      "Epoch 93/100\n",
      "3/3 [==============================] - 0s 46ms/step - loss: 0.3655 - sparse_categorical_accuracy: 0.8750 - val_loss: 7.1392 - val_sparse_categorical_accuracy: 0.0000e+00\n",
      "Epoch 94/100\n",
      "3/3 [==============================] - 0s 47ms/step - loss: 0.3411 - sparse_categorical_accuracy: 0.8875 - val_loss: 7.1853 - val_sparse_categorical_accuracy: 0.0000e+00\n",
      "Epoch 95/100\n",
      "3/3 [==============================] - 0s 48ms/step - loss: 0.3075 - sparse_categorical_accuracy: 0.9375 - val_loss: 7.2015 - val_sparse_categorical_accuracy: 0.0000e+00\n",
      "Epoch 96/100\n",
      "3/3 [==============================] - 0s 45ms/step - loss: 0.3168 - sparse_categorical_accuracy: 0.9125 - val_loss: 7.2748 - val_sparse_categorical_accuracy: 0.0000e+00\n",
      "Epoch 97/100\n",
      "3/3 [==============================] - 0s 47ms/step - loss: 0.3251 - sparse_categorical_accuracy: 0.9500 - val_loss: 7.4355 - val_sparse_categorical_accuracy: 0.0000e+00\n",
      "Epoch 98/100\n",
      "3/3 [==============================] - 0s 46ms/step - loss: 0.3118 - sparse_categorical_accuracy: 0.8875 - val_loss: 7.4646 - val_sparse_categorical_accuracy: 0.0000e+00\n",
      "Epoch 99/100\n",
      "3/3 [==============================] - 0s 47ms/step - loss: 0.3446 - sparse_categorical_accuracy: 0.9000 - val_loss: 7.5005 - val_sparse_categorical_accuracy: 0.0000e+00\n",
      "Epoch 100/100\n",
      "3/3 [==============================] - 0s 46ms/step - loss: 0.2639 - sparse_categorical_accuracy: 0.9250 - val_loss: 7.5996 - val_sparse_categorical_accuracy: 0.0000e+00\n"
     ]
    }
   ],
   "source": [
    "model = make_CNN_model(x_train.shape[1:],num_classes = 10)\n",
    "trained_model, history = train_CNN_model(model, x_train, y_train, epochs=100, batch_size=32)"
   ]
  },
  {
   "cell_type": "code",
   "execution_count": 6,
   "id": "227e6120",
   "metadata": {},
   "outputs": [
    {
     "name": "stdout",
     "output_type": "stream",
     "text": [
      "4/4 [==============================] - 0s 8ms/step - loss: 3.4758 - sparse_categorical_accuracy: 0.0600\n",
      "Test accuracy 0.05999999865889549\n",
      "Test loss 3.475785255432129\n"
     ]
    }
   ],
   "source": [
    "test_loss, test_acc = trained_model.evaluate(x_test_original, y_test_original)\n",
    "\n",
    "print(\"Test accuracy\", test_acc)\n",
    "print(\"Test loss\", test_loss)"
   ]
  },
  {
   "cell_type": "markdown",
   "id": "4773dace",
   "metadata": {},
   "source": [
    "### Create perturbed test sets and calculate decrease in accuracy"
   ]
  },
  {
   "cell_type": "code",
   "execution_count": 7,
   "id": "b854bfe4-2303-44a0-bef5-eb3c738da9e9",
   "metadata": {},
   "outputs": [
    {
     "name": "stdout",
     "output_type": "stream",
     "text": [
      "(100,)\n"
     ]
    }
   ],
   "source": [
    "print(y_test_original.shape)"
   ]
  },
  {
   "cell_type": "code",
   "execution_count": 8,
   "id": "ffd7c678-03f4-47ae-a1f9-45e0c185580e",
   "metadata": {},
   "outputs": [
    {
     "name": "stdout",
     "output_type": "stream",
     "text": [
      "def perturb(perturbation_strategy, ts, index0, index1, global_ts = []):\n",
      "    if perturbation_strategy == 'RBP':\n",
      "        return RBPIndividual(ts, index0, index1)\n",
      "    if perturbation_strategy == 'zero':\n",
      "        return zeroPerturb(ts, index0, index1)\n",
      "    if perturbation_strategy == 'noise':\n",
      "        return noisePerturb(ts, index0, index1)\n",
      "    if perturbation_strategy == 'blur':\n",
      "        return blurPerturb(ts, index0, index1)\n",
      "    if perturbation_strategy == 'RBP1':\n",
      "        return RBPIndividualNew1(global_ts, ts, index0, index1)    \n",
      "    if perturbation_strategy == 'RBP2':\n",
      "        return RBPIndividualNew2(global_ts, ts, index0, index1)    \n",
      "\n",
      "(perturbation_strategy, ts, index0, index1, global_ts=[])\n"
     ]
    }
   ],
   "source": [
    "print(inspect.getsource(perturb))\n",
    "print(inspect.signature(perturb))"
   ]
  },
  {
   "cell_type": "code",
   "execution_count": 17,
   "id": "4c579fb7",
   "metadata": {},
   "outputs": [
    {
     "name": "stdout",
     "output_type": "stream",
     "text": [
      "4/4 [==============================] - 0s 8ms/step\n",
      "4/4 [==============================] - 0s 7ms/step\n",
      "4/4 [==============================] - 0s 7ms/step\n",
      "4/4 [==============================] - 0s 7ms/step\n",
      "4/4 [==============================] - 0s 7ms/step\n",
      "4/4 [==============================] - 0s 7ms/step\n"
     ]
    }
   ],
   "source": [
    "predictions_original = model.predict(x_test_original)\n",
    "perturb_test_set = x_test_original.copy()\n",
    "perturb_test_set = perturb_test_set.reshape(x_test_original.shape[0:2])\n",
    "\n",
    "x_test_rbp = np.asarray([perturb('RBP',x,60,100) for x in perturb_test_set])\n",
    "x_test_rbp = np.expand_dims(x_test_rbp, axis=-1)\n",
    "predictions_rbp = model.predict(x_test_rbp)\n",
    "\n",
    "x_test_new1 = np.asarray([perturb('RBP',x,60,100, global_ts = perturb_test_set) for x in perturb_test_set])\n",
    "x_test_new1 = np.expand_dims(x_test_new1, axis=-1)\n",
    "predictions_new1 = model.predict(x_test_new1)\n",
    "\n",
    "#x_test_new2 = np.asarray([perturb('RBP2',x,400,500, global_ts = perturb_test_set) for x in perturb_test_set])\n",
    "#x_test_new2 = np.expand_dims(x_test_new2, axis=-1)\n",
    "#predictions_new2 = model.predict(x_test_new2)\n",
    "\n",
    "x_test_zero = np.asarray([perturb('zero',x,60,100) for x in perturb_test_set])\n",
    "x_test_zero = np.expand_dims(x_test_zero, axis=-1)\n",
    "predictions_zero = model.predict(x_test_zero)\n",
    "\n",
    "x_test_noise = np.asarray([perturb('noise',x,60,100) for x in perturb_test_set])\n",
    "x_test_noise = np.expand_dims(x_test_noise, axis=-1)\n",
    "predictions_noise = model.predict(x_test_noise)\n",
    "\n",
    "x_test_blur = np.asarray([perturb('blur',x,60,100) for x in perturb_test_set])\n",
    "x_test_blur = np.expand_dims(x_test_blur, axis=-1)\n",
    "predictions_blur = model.predict(x_test_blur)"
   ]
  },
  {
   "cell_type": "code",
   "execution_count": 18,
   "id": "b5d3f821",
   "metadata": {},
   "outputs": [],
   "source": [
    "def accuracy(predictions, labels):\n",
    "    hits = 0\n",
    "    for i in range(0,len(predictions)):\n",
    "        if predictions[i] == labels[i]:\n",
    "            hits += 1\n",
    "    return hits/len(predictions)"
   ]
  },
  {
   "cell_type": "code",
   "execution_count": 19,
   "id": "89f21d47",
   "metadata": {},
   "outputs": [],
   "source": [
    "original_accuracy = accuracy(np.argmax(predictions_original,axis=1), y_test_original)\n",
    "rbp_accuracy = accuracy(np.argmax(predictions_rbp,axis=1), y_test_original)\n",
    "new1_accuracy = accuracy(np.argmax(predictions_new1,axis=1), y_test_original)\n",
    "#new2_accuracy = accuracy(np.argmax(predictions_new2,axis=1), y_test_original)\n",
    "zero_accuracy = accuracy(np.argmax(predictions_zero,axis=1), y_test_original)\n",
    "noise_accuracy = accuracy(np.argmax(predictions_noise,axis=1), y_test_original)\n",
    "blur_accuracy = accuracy(np.argmax(predictions_blur,axis=1), y_test_original)"
   ]
  },
  {
   "cell_type": "code",
   "execution_count": 20,
   "id": "e52c9d2e",
   "metadata": {},
   "outputs": [
    {
     "name": "stdout",
     "output_type": "stream",
     "text": [
      " Original Accuracy: 0.06\n",
      " RBP Accuracy: 0.06\n",
      " RBP1 Accuracy: 0.06\n",
      " Zero Accuracy: 0.06\n",
      " Noise Accuracy: 0.06\n",
      " Blur Accuracy: 0.06\n",
      "\n"
     ]
    }
   ],
   "source": [
    "print(\" Original Accuracy: \" + str(original_accuracy) + \"\\n\"+\n",
    "    \" RBP Accuracy: \" + str(rbp_accuracy) + \"\\n\"+\n",
    "    \" RBP1 Accuracy: \" + str(new1_accuracy) + \"\\n\"+\n",
    "    #\" RBP2 Accuracy: \" + str(new2_accuracy) + \"\\n\"+\n",
    "      \n",
    "    \" Zero Accuracy: \" + str(zero_accuracy) + \"\\n\"+\n",
    "    \" Noise Accuracy: \" + str(noise_accuracy) + \"\\n\"+\n",
    "    \" Blur Accuracy: \" + str(blur_accuracy) + \"\\n\")"
   ]
  },
  {
   "cell_type": "markdown",
   "id": "d1b9cd91-1f5d-4e6f-9262-3bdf89696360",
   "metadata": {},
   "source": [
    "#### The results above shows that the two improved perturbations can lower the accuracy of classification to the same level as the original perturbation approach, indicating that these backgrounds are equally uninformative."
   ]
  },
  {
   "cell_type": "markdown",
   "id": "c2d85735",
   "metadata": {},
   "source": [
    "## Test Realism of Generated Samples "
   ]
  },
  {
   "cell_type": "markdown",
   "id": "585820d0",
   "metadata": {},
   "source": [
    "### Generate synthetic data "
   ]
  },
  {
   "cell_type": "code",
   "execution_count": null,
   "id": "a44bce09",
   "metadata": {},
   "outputs": [],
   "source": [
    "perturbed_datasets = generateSyntheticPerturbReal(500)\n",
    "def get_list_shape(lst):\n",
    "    if isinstance(lst, list):\n",
    "        return [len(lst)] + get_list_shape(lst[0]) if lst else []\n",
    "    else:\n",
    "        return []\n",
    "\n",
    "# 示例列表\n",
    "print(get_list_shape(perturbed_datasets))  # 输出: [2, 3]"
   ]
  },
  {
   "cell_type": "code",
   "execution_count": null,
   "id": "b89fc426-c376-4210-92c6-5804ee3b8dce",
   "metadata": {},
   "outputs": [],
   "source": [
    "print(inspect.getsource(generateSyntheticPerturbReal))\n",
    "print(inspect.signature(generateSyntheticPerturbReal))\n",
    "print(inspect.getfile(generateSyntheticPerturbReal))"
   ]
  },
  {
   "cell_type": "markdown",
   "id": "15910638",
   "metadata": {},
   "source": [
    "### Create CNN model and train on each perturbed dataset "
   ]
  },
  {
   "cell_type": "code",
   "execution_count": null,
   "id": "4a2dd5c5",
   "metadata": {},
   "outputs": [],
   "source": [
    "datasets_training_loss = []\n",
    "for dataset in perturbed_datasets: \n",
    "    model = make_CNN_model(dataset[0].shape[1:])\n",
    "    trained_model, history = train_CNN_model(model, dataset[0], dataset[1], epochs=100, batch_size=32)\n",
    "    datasets_training_loss.append(history.history['val_loss'])"
   ]
  },
  {
   "cell_type": "markdown",
   "id": "d9f9cde2",
   "metadata": {},
   "source": [
    "### Visualise loss curves of model training on perturbed datasets"
   ]
  },
  {
   "cell_type": "code",
   "execution_count": null,
   "id": "26f978c9",
   "metadata": {},
   "outputs": [],
   "source": [
    "\n",
    "for loss in datasets_training_loss:\n",
    "    plt.plot(loss)\n",
    "plt.title('Model Loss Under Different Perturbations')\n",
    "plt.ylabel('val loss')\n",
    "plt.xlabel('epoch')\n",
    "plt.legend(['RBP','RBP1','RBP2','zero','random','blur'], loc='upper left')\n",
    "plt.savefig(\"realistic_perturb.eps\", format='eps')\n",
    "plt.show()"
   ]
  },
  {
   "cell_type": "markdown",
   "id": "b5b2e2cf-fd3e-4e78-b9b8-5b17ae76ca25",
   "metadata": {},
   "source": [
    "#### The plot above shows that the new perturbations cannot stop the loss from descending over epoch, indicating that the new backgrounds are identifiable. This is predictable to some extent, because all samples share the same background unlike the old RBP method. To prove our method meaningful, maybe a new reasoning together with a new evaluation process is needed, as the concept of 'realistic' may not necessarily mean 'all samples does not share the same background'."
   ]
  },
  {
   "cell_type": "code",
   "execution_count": null,
   "id": "76aae5d7-ebb1-4182-b23a-be39a214eeb0",
   "metadata": {},
   "outputs": [],
   "source": []
  }
 ],
 "metadata": {
  "kernelspec": {
   "display_name": "lime_tf",
   "language": "python",
   "name": "limetf"
  },
  "language_info": {
   "codemirror_mode": {
    "name": "ipython",
    "version": 3
   },
   "file_extension": ".py",
   "mimetype": "text/x-python",
   "name": "python",
   "nbconvert_exporter": "python",
   "pygments_lexer": "ipython3",
   "version": "3.10.13"
  }
 },
 "nbformat": 4,
 "nbformat_minor": 5
}
