{
 "cells": [
  {
   "cell_type": "code",
   "execution_count": 73,
   "id": "dd9bd814",
   "metadata": {},
   "outputs": [],
   "source": [
    "import numpy as np\n",
    "import matplotlib.pyplot as plt\n",
    "import inspect"
   ]
  },
  {
   "cell_type": "code",
   "execution_count": 74,
   "id": "2439de23",
   "metadata": {},
   "outputs": [
    {
     "name": "stdout",
     "output_type": "stream",
     "text": [
      "['/Users/gali/anaconda3/envs/LIMEtf/lib/python310.zip', '/Users/gali/anaconda3/envs/LIMEtf/lib/python3.10', '/Users/gali/anaconda3/envs/LIMEtf/lib/python3.10/lib-dynload', '', '/Users/gali/anaconda3/envs/LIMEtf/lib/python3.10/site-packages', '/Users/gali/anaconda3/envs/LIMEtf/lib/python3.10/site-packages/setuptools/_vendor', '../', '../', '../', '../', '../', '../']\n"
     ]
    }
   ],
   "source": [
    "import importlib\n",
    "import sys\n",
    "sys.path.append('../')\n",
    "from Utils.perturbationsnew import RBPIndividual, RBPIndividualNew1, RBPIndividualNew1fast, RBPIndividualNew2, zeroPerturb, noisePerturb, blurPerturb,multisamplebackgroundIdentification\n",
    "from Utils.models import *\n",
    "from Utils.data import perturb, generateSynthetic, generateSyntheticPerturbReal,ReadTS\n",
    "\n",
    "print(sys.path)\n"
   ]
  },
  {
   "cell_type": "markdown",
   "id": "62b11ea0",
   "metadata": {},
   "source": [
    "## Test important content removal (accuracy decrease)"
   ]
  },
  {
   "cell_type": "markdown",
   "id": "5567ae62",
   "metadata": {},
   "source": [
    "### Load synthetic dataset and train CNN model "
   ]
  },
  {
   "cell_type": "code",
   "execution_count": 75,
   "id": "812c0d59",
   "metadata": {},
   "outputs": [
    {
     "name": "stdout",
     "output_type": "stream",
     "text": [
      "(560, 131, 1)\n"
     ]
    }
   ],
   "source": [
    "x_train, y_train,x_test_original, y_test_original = ReadTS('FaceAll')\n",
    "y_train = y_train - 1\n",
    "y_test_original = y_test_original - 1\n",
    "print(x_train.shape)\n",
    "#print(y_train)"
   ]
  },
  {
   "cell_type": "code",
   "execution_count": 76,
   "id": "e74e1ca3-8fd2-4e4a-96a1-2ac583496cd7",
   "metadata": {},
   "outputs": [],
   "source": [
    "from sklearn.preprocessing import StandardScaler\n",
    "def normalize(TS):\n",
    "    # 获取原始数据集的形状\n",
    "    original_shape = TS.shape\n",
    "    \n",
    "    # 将数据集reshape成二维数组\n",
    "    TS_2d = TS.reshape(original_shape[0] , original_shape[1])\n",
    "    \n",
    "    # 初始化StandardScaler\n",
    "    scaler = StandardScaler()\n",
    "    \n",
    "    # 对数据集进行标准化\n",
    "    TS_normalized = scaler.fit_transform(TS_2d)\n",
    "    \n",
    "    # 将标准化后的数据集reshape回原始形状\n",
    "    TS = TS_normalized.reshape(original_shape)\n",
    "    \n",
    "    return TS\n",
    "\n",
    "x_train = normalize(x_train)\n",
    "x_test_original = normalize(x_test_original)\n",
    "#print(x_train)"
   ]
  },
  {
   "cell_type": "code",
   "execution_count": 100,
   "id": "c9911722",
   "metadata": {},
   "outputs": [
    {
     "name": "stdout",
     "output_type": "stream",
     "text": [
      "Epoch 1/100\n",
      "14/14 [==============================] - 0s 14ms/step - loss: 2.4848 - sparse_categorical_accuracy: 0.1362 - val_loss: 2.7288 - val_sparse_categorical_accuracy: 0.0000e+00\n",
      "Epoch 2/100\n",
      "14/14 [==============================] - 0s 9ms/step - loss: 2.2449 - sparse_categorical_accuracy: 0.2054 - val_loss: 2.8346 - val_sparse_categorical_accuracy: 0.0000e+00\n",
      "Epoch 3/100\n",
      "14/14 [==============================] - 0s 9ms/step - loss: 2.1350 - sparse_categorical_accuracy: 0.2902 - val_loss: 3.0227 - val_sparse_categorical_accuracy: 0.0000e+00\n",
      "Epoch 4/100\n",
      "14/14 [==============================] - 0s 9ms/step - loss: 2.0595 - sparse_categorical_accuracy: 0.3817 - val_loss: 3.3064 - val_sparse_categorical_accuracy: 0.0000e+00\n",
      "Epoch 5/100\n",
      "14/14 [==============================] - 0s 10ms/step - loss: 1.9974 - sparse_categorical_accuracy: 0.4978 - val_loss: 3.6790 - val_sparse_categorical_accuracy: 0.0000e+00\n",
      "Epoch 6/100\n",
      "14/14 [==============================] - 0s 8ms/step - loss: 1.9583 - sparse_categorical_accuracy: 0.4844 - val_loss: 4.0852 - val_sparse_categorical_accuracy: 0.0000e+00\n",
      "Epoch 7/100\n",
      "14/14 [==============================] - 0s 9ms/step - loss: 1.8947 - sparse_categorical_accuracy: 0.5781 - val_loss: 4.5245 - val_sparse_categorical_accuracy: 0.0000e+00\n",
      "Epoch 8/100\n",
      "14/14 [==============================] - 0s 9ms/step - loss: 1.8523 - sparse_categorical_accuracy: 0.5982 - val_loss: 5.0370 - val_sparse_categorical_accuracy: 0.0000e+00\n",
      "Epoch 9/100\n",
      "14/14 [==============================] - 0s 10ms/step - loss: 1.8076 - sparse_categorical_accuracy: 0.6183 - val_loss: 5.5936 - val_sparse_categorical_accuracy: 0.0000e+00\n",
      "Epoch 10/100\n",
      "14/14 [==============================] - 0s 10ms/step - loss: 1.7786 - sparse_categorical_accuracy: 0.6071 - val_loss: 5.9038 - val_sparse_categorical_accuracy: 0.0000e+00\n",
      "Epoch 11/100\n",
      "14/14 [==============================] - 0s 10ms/step - loss: 1.7497 - sparse_categorical_accuracy: 0.6228 - val_loss: 6.2118 - val_sparse_categorical_accuracy: 0.0000e+00\n",
      "Epoch 12/100\n",
      "14/14 [==============================] - 0s 10ms/step - loss: 1.7035 - sparse_categorical_accuracy: 0.6562 - val_loss: 6.6960 - val_sparse_categorical_accuracy: 0.0000e+00\n",
      "Epoch 13/100\n",
      "14/14 [==============================] - 0s 10ms/step - loss: 1.6735 - sparse_categorical_accuracy: 0.6652 - val_loss: 6.9801 - val_sparse_categorical_accuracy: 0.0000e+00\n",
      "Epoch 14/100\n",
      "14/14 [==============================] - 0s 10ms/step - loss: 1.6341 - sparse_categorical_accuracy: 0.6875 - val_loss: 7.1864 - val_sparse_categorical_accuracy: 0.0000e+00\n",
      "Epoch 15/100\n",
      "14/14 [==============================] - 0s 10ms/step - loss: 1.6071 - sparse_categorical_accuracy: 0.7031 - val_loss: 7.1817 - val_sparse_categorical_accuracy: 0.0000e+00\n",
      "Epoch 16/100\n",
      "14/14 [==============================] - 0s 10ms/step - loss: 1.5760 - sparse_categorical_accuracy: 0.6942 - val_loss: 7.2401 - val_sparse_categorical_accuracy: 0.0000e+00\n",
      "Epoch 17/100\n",
      "14/14 [==============================] - 0s 9ms/step - loss: 1.5452 - sparse_categorical_accuracy: 0.6987 - val_loss: 7.4417 - val_sparse_categorical_accuracy: 0.0000e+00\n",
      "Epoch 18/100\n",
      "14/14 [==============================] - 0s 10ms/step - loss: 1.5030 - sparse_categorical_accuracy: 0.7076 - val_loss: 7.1759 - val_sparse_categorical_accuracy: 0.0000e+00\n",
      "Epoch 19/100\n",
      "14/14 [==============================] - 0s 9ms/step - loss: 1.4821 - sparse_categorical_accuracy: 0.7210 - val_loss: 6.9554 - val_sparse_categorical_accuracy: 0.0000e+00\n",
      "Epoch 20/100\n",
      "14/14 [==============================] - 0s 9ms/step - loss: 1.4488 - sparse_categorical_accuracy: 0.7254 - val_loss: 7.1529 - val_sparse_categorical_accuracy: 0.0000e+00\n",
      "Epoch 21/100\n",
      "14/14 [==============================] - 0s 9ms/step - loss: 1.4284 - sparse_categorical_accuracy: 0.7210 - val_loss: 7.0296 - val_sparse_categorical_accuracy: 0.0000e+00\n",
      "Epoch 22/100\n",
      "14/14 [==============================] - 0s 9ms/step - loss: 1.3887 - sparse_categorical_accuracy: 0.7321 - val_loss: 6.7712 - val_sparse_categorical_accuracy: 0.0000e+00\n",
      "Epoch 23/100\n",
      "14/14 [==============================] - 0s 10ms/step - loss: 1.3861 - sparse_categorical_accuracy: 0.7188 - val_loss: 6.5302 - val_sparse_categorical_accuracy: 0.0000e+00\n",
      "Epoch 24/100\n",
      "14/14 [==============================] - 0s 9ms/step - loss: 1.3565 - sparse_categorical_accuracy: 0.7522 - val_loss: 6.4924 - val_sparse_categorical_accuracy: 0.0000e+00\n",
      "Epoch 25/100\n",
      "14/14 [==============================] - 0s 10ms/step - loss: 1.3313 - sparse_categorical_accuracy: 0.7210 - val_loss: 6.1549 - val_sparse_categorical_accuracy: 0.0000e+00\n",
      "Epoch 26/100\n",
      "14/14 [==============================] - 0s 10ms/step - loss: 1.2893 - sparse_categorical_accuracy: 0.7455 - val_loss: 6.1590 - val_sparse_categorical_accuracy: 0.0000e+00\n",
      "Epoch 27/100\n",
      "14/14 [==============================] - 0s 9ms/step - loss: 1.2573 - sparse_categorical_accuracy: 0.7589 - val_loss: 6.0342 - val_sparse_categorical_accuracy: 0.0000e+00\n",
      "Epoch 28/100\n",
      "14/14 [==============================] - 0s 9ms/step - loss: 1.2452 - sparse_categorical_accuracy: 0.7857 - val_loss: 5.9126 - val_sparse_categorical_accuracy: 0.0000e+00\n",
      "Epoch 29/100\n",
      "14/14 [==============================] - 0s 10ms/step - loss: 1.2205 - sparse_categorical_accuracy: 0.7812 - val_loss: 5.9117 - val_sparse_categorical_accuracy: 0.0089\n",
      "Epoch 30/100\n",
      "14/14 [==============================] - 0s 9ms/step - loss: 1.1829 - sparse_categorical_accuracy: 0.7969 - val_loss: 5.7378 - val_sparse_categorical_accuracy: 0.0625\n",
      "Epoch 31/100\n",
      "14/14 [==============================] - 0s 9ms/step - loss: 1.1497 - sparse_categorical_accuracy: 0.8058 - val_loss: 5.6407 - val_sparse_categorical_accuracy: 0.1429\n",
      "Epoch 32/100\n",
      "14/14 [==============================] - 0s 10ms/step - loss: 1.1467 - sparse_categorical_accuracy: 0.7969 - val_loss: 5.7929 - val_sparse_categorical_accuracy: 0.0804\n",
      "Epoch 33/100\n",
      "14/14 [==============================] - 0s 10ms/step - loss: 1.1039 - sparse_categorical_accuracy: 0.8214 - val_loss: 6.1532 - val_sparse_categorical_accuracy: 0.0179\n",
      "Epoch 34/100\n",
      "14/14 [==============================] - 0s 10ms/step - loss: 1.0904 - sparse_categorical_accuracy: 0.8013 - val_loss: 6.1587 - val_sparse_categorical_accuracy: 0.0268\n",
      "Epoch 35/100\n",
      "14/14 [==============================] - 0s 9ms/step - loss: 1.0750 - sparse_categorical_accuracy: 0.8080 - val_loss: 5.9890 - val_sparse_categorical_accuracy: 0.0536\n",
      "Epoch 36/100\n",
      "14/14 [==============================] - 0s 9ms/step - loss: 1.0425 - sparse_categorical_accuracy: 0.8214 - val_loss: 6.0397 - val_sparse_categorical_accuracy: 0.0357\n",
      "Epoch 37/100\n",
      "14/14 [==============================] - 0s 11ms/step - loss: 1.0404 - sparse_categorical_accuracy: 0.8147 - val_loss: 6.1503 - val_sparse_categorical_accuracy: 0.0179\n",
      "Epoch 38/100\n",
      "14/14 [==============================] - 0s 12ms/step - loss: 1.0447 - sparse_categorical_accuracy: 0.8036 - val_loss: 6.7723 - val_sparse_categorical_accuracy: 0.0089\n",
      "Epoch 39/100\n",
      "14/14 [==============================] - 0s 10ms/step - loss: 1.0094 - sparse_categorical_accuracy: 0.8147 - val_loss: 6.6309 - val_sparse_categorical_accuracy: 0.0089\n",
      "Epoch 40/100\n",
      "14/14 [==============================] - 0s 10ms/step - loss: 0.9835 - sparse_categorical_accuracy: 0.8348 - val_loss: 7.3485 - val_sparse_categorical_accuracy: 0.0089\n",
      "Epoch 41/100\n",
      "14/14 [==============================] - 0s 9ms/step - loss: 0.9576 - sparse_categorical_accuracy: 0.8214 - val_loss: 6.6119 - val_sparse_categorical_accuracy: 0.0268\n",
      "Epoch 42/100\n",
      "14/14 [==============================] - 0s 9ms/step - loss: 0.9315 - sparse_categorical_accuracy: 0.8460 - val_loss: 6.4684 - val_sparse_categorical_accuracy: 0.0179\n",
      "Epoch 43/100\n",
      "14/14 [==============================] - 0s 9ms/step - loss: 0.9206 - sparse_categorical_accuracy: 0.8460 - val_loss: 6.5469 - val_sparse_categorical_accuracy: 0.0089\n",
      "Epoch 44/100\n",
      "14/14 [==============================] - 0s 9ms/step - loss: 0.9280 - sparse_categorical_accuracy: 0.8237 - val_loss: 7.2204 - val_sparse_categorical_accuracy: 0.0089\n",
      "Epoch 45/100\n",
      "14/14 [==============================] - 0s 10ms/step - loss: 0.9134 - sparse_categorical_accuracy: 0.8348 - val_loss: 7.2033 - val_sparse_categorical_accuracy: 0.0089\n",
      "Epoch 46/100\n",
      "14/14 [==============================] - 0s 10ms/step - loss: 0.8925 - sparse_categorical_accuracy: 0.8504 - val_loss: 6.9459 - val_sparse_categorical_accuracy: 0.0268\n",
      "Epoch 47/100\n",
      "14/14 [==============================] - 0s 10ms/step - loss: 0.8528 - sparse_categorical_accuracy: 0.8683 - val_loss: 7.2501 - val_sparse_categorical_accuracy: 0.0089\n",
      "Epoch 48/100\n",
      "14/14 [==============================] - 0s 9ms/step - loss: 0.8459 - sparse_categorical_accuracy: 0.8616 - val_loss: 7.4555 - val_sparse_categorical_accuracy: 0.0089\n",
      "Epoch 49/100\n",
      "14/14 [==============================] - 0s 9ms/step - loss: 0.8128 - sparse_categorical_accuracy: 0.8638 - val_loss: 7.2515 - val_sparse_categorical_accuracy: 0.0179\n",
      "Epoch 50/100\n",
      "14/14 [==============================] - 0s 9ms/step - loss: 0.7882 - sparse_categorical_accuracy: 0.8683 - val_loss: 7.1121 - val_sparse_categorical_accuracy: 0.0089\n",
      "Epoch 51/100\n",
      "14/14 [==============================] - 0s 9ms/step - loss: 0.7884 - sparse_categorical_accuracy: 0.8683 - val_loss: 7.8882 - val_sparse_categorical_accuracy: 0.0089\n",
      "Epoch 52/100\n",
      "14/14 [==============================] - 0s 9ms/step - loss: 0.8012 - sparse_categorical_accuracy: 0.8571 - val_loss: 7.9220 - val_sparse_categorical_accuracy: 0.0089\n",
      "Epoch 53/100\n",
      "14/14 [==============================] - 0s 10ms/step - loss: 0.7716 - sparse_categorical_accuracy: 0.8772 - val_loss: 7.7231 - val_sparse_categorical_accuracy: 0.0089\n",
      "Epoch 54/100\n",
      "14/14 [==============================] - 0s 9ms/step - loss: 0.7532 - sparse_categorical_accuracy: 0.8795 - val_loss: 7.8168 - val_sparse_categorical_accuracy: 0.0089\n",
      "Epoch 55/100\n",
      "14/14 [==============================] - 0s 9ms/step - loss: 0.7480 - sparse_categorical_accuracy: 0.8683 - val_loss: 7.7319 - val_sparse_categorical_accuracy: 0.0179\n",
      "Epoch 56/100\n",
      "14/14 [==============================] - 0s 9ms/step - loss: 0.7168 - sparse_categorical_accuracy: 0.8973 - val_loss: 8.8379 - val_sparse_categorical_accuracy: 0.0089\n",
      "Epoch 57/100\n",
      "14/14 [==============================] - 0s 9ms/step - loss: 0.7266 - sparse_categorical_accuracy: 0.8817 - val_loss: 8.8366 - val_sparse_categorical_accuracy: 0.0089\n",
      "Epoch 58/100\n",
      "14/14 [==============================] - 0s 9ms/step - loss: 0.6939 - sparse_categorical_accuracy: 0.8951 - val_loss: 7.9764 - val_sparse_categorical_accuracy: 0.0268\n",
      "Epoch 59/100\n",
      "14/14 [==============================] - 0s 9ms/step - loss: 0.7235 - sparse_categorical_accuracy: 0.8638 - val_loss: 8.6502 - val_sparse_categorical_accuracy: 0.0089\n",
      "Epoch 60/100\n",
      "14/14 [==============================] - 0s 9ms/step - loss: 0.7131 - sparse_categorical_accuracy: 0.8504 - val_loss: 8.3721 - val_sparse_categorical_accuracy: 0.0089\n",
      "Epoch 61/100\n",
      "14/14 [==============================] - 0s 9ms/step - loss: 0.6768 - sparse_categorical_accuracy: 0.8884 - val_loss: 8.8373 - val_sparse_categorical_accuracy: 0.0089\n",
      "Epoch 62/100\n",
      "14/14 [==============================] - 0s 9ms/step - loss: 0.6451 - sparse_categorical_accuracy: 0.8951 - val_loss: 8.4671 - val_sparse_categorical_accuracy: 0.0089\n",
      "Epoch 63/100\n",
      "14/14 [==============================] - 0s 9ms/step - loss: 0.6099 - sparse_categorical_accuracy: 0.9107 - val_loss: 8.4508 - val_sparse_categorical_accuracy: 0.0089\n",
      "Epoch 64/100\n",
      "14/14 [==============================] - 0s 9ms/step - loss: 0.6130 - sparse_categorical_accuracy: 0.9018 - val_loss: 9.0613 - val_sparse_categorical_accuracy: 0.0089\n",
      "Epoch 65/100\n",
      "14/14 [==============================] - 0s 10ms/step - loss: 0.6158 - sparse_categorical_accuracy: 0.8996 - val_loss: 9.7768 - val_sparse_categorical_accuracy: 0.0089\n",
      "Epoch 66/100\n",
      "14/14 [==============================] - 0s 9ms/step - loss: 0.6041 - sparse_categorical_accuracy: 0.8817 - val_loss: 8.7570 - val_sparse_categorical_accuracy: 0.0179\n",
      "Epoch 67/100\n",
      "14/14 [==============================] - 0s 9ms/step - loss: 0.5842 - sparse_categorical_accuracy: 0.9062 - val_loss: 9.3011 - val_sparse_categorical_accuracy: 0.0089\n",
      "Epoch 68/100\n",
      "14/14 [==============================] - 0s 9ms/step - loss: 0.5987 - sparse_categorical_accuracy: 0.8973 - val_loss: 10.6731 - val_sparse_categorical_accuracy: 0.0000e+00\n",
      "Epoch 69/100\n",
      "14/14 [==============================] - 0s 9ms/step - loss: 0.5910 - sparse_categorical_accuracy: 0.9129 - val_loss: 10.2158 - val_sparse_categorical_accuracy: 0.0089\n",
      "Epoch 70/100\n",
      "14/14 [==============================] - 0s 9ms/step - loss: 0.5616 - sparse_categorical_accuracy: 0.9062 - val_loss: 10.9818 - val_sparse_categorical_accuracy: 0.0000e+00\n",
      "Epoch 71/100\n",
      "14/14 [==============================] - 0s 9ms/step - loss: 0.5633 - sparse_categorical_accuracy: 0.9241 - val_loss: 10.0365 - val_sparse_categorical_accuracy: 0.0089\n",
      "Epoch 72/100\n",
      "14/14 [==============================] - 0s 9ms/step - loss: 0.5513 - sparse_categorical_accuracy: 0.8973 - val_loss: 9.2854 - val_sparse_categorical_accuracy: 0.0179\n",
      "Epoch 73/100\n",
      "14/14 [==============================] - 0s 9ms/step - loss: 0.5505 - sparse_categorical_accuracy: 0.9040 - val_loss: 10.0435 - val_sparse_categorical_accuracy: 0.0089\n",
      "Epoch 74/100\n",
      "14/14 [==============================] - 0s 9ms/step - loss: 0.5140 - sparse_categorical_accuracy: 0.9241 - val_loss: 9.5860 - val_sparse_categorical_accuracy: 0.0089\n",
      "Epoch 75/100\n",
      "14/14 [==============================] - 0s 9ms/step - loss: 0.5094 - sparse_categorical_accuracy: 0.9263 - val_loss: 9.5095 - val_sparse_categorical_accuracy: 0.0089\n",
      "Epoch 76/100\n",
      "14/14 [==============================] - 0s 9ms/step - loss: 0.5131 - sparse_categorical_accuracy: 0.9174 - val_loss: 9.8742 - val_sparse_categorical_accuracy: 0.0089\n",
      "Epoch 77/100\n",
      "14/14 [==============================] - 0s 9ms/step - loss: 0.5033 - sparse_categorical_accuracy: 0.9219 - val_loss: 9.7367 - val_sparse_categorical_accuracy: 0.0089\n",
      "Epoch 78/100\n",
      "14/14 [==============================] - 0s 9ms/step - loss: 0.4946 - sparse_categorical_accuracy: 0.9241 - val_loss: 10.0060 - val_sparse_categorical_accuracy: 0.0089\n",
      "Epoch 79/100\n",
      "14/14 [==============================] - 0s 9ms/step - loss: 0.5029 - sparse_categorical_accuracy: 0.9196 - val_loss: 10.4723 - val_sparse_categorical_accuracy: 0.0089\n",
      "Epoch 80/100\n",
      "14/14 [==============================] - 0s 9ms/step - loss: 0.4783 - sparse_categorical_accuracy: 0.9286 - val_loss: 11.9580 - val_sparse_categorical_accuracy: 0.0089\n",
      "Epoch 81/100\n",
      "14/14 [==============================] - 0s 9ms/step - loss: 0.4534 - sparse_categorical_accuracy: 0.9286 - val_loss: 10.3689 - val_sparse_categorical_accuracy: 0.0089\n",
      "Epoch 82/100\n",
      "14/14 [==============================] - 0s 10ms/step - loss: 0.4526 - sparse_categorical_accuracy: 0.9286 - val_loss: 10.2317 - val_sparse_categorical_accuracy: 0.0089\n",
      "Epoch 83/100\n",
      "14/14 [==============================] - 0s 9ms/step - loss: 0.4762 - sparse_categorical_accuracy: 0.9286 - val_loss: 9.3912 - val_sparse_categorical_accuracy: 0.0179\n",
      "Epoch 84/100\n",
      "14/14 [==============================] - 0s 9ms/step - loss: 0.4517 - sparse_categorical_accuracy: 0.9241 - val_loss: 11.3556 - val_sparse_categorical_accuracy: 0.0000e+00\n",
      "Epoch 85/100\n",
      "14/14 [==============================] - 0s 10ms/step - loss: 0.4706 - sparse_categorical_accuracy: 0.9286 - val_loss: 10.0350 - val_sparse_categorical_accuracy: 0.0089\n",
      "Epoch 86/100\n",
      "14/14 [==============================] - 0s 9ms/step - loss: 0.4478 - sparse_categorical_accuracy: 0.9129 - val_loss: 10.7831 - val_sparse_categorical_accuracy: 0.0000e+00\n",
      "Epoch 87/100\n",
      "14/14 [==============================] - 0s 9ms/step - loss: 0.4298 - sparse_categorical_accuracy: 0.9263 - val_loss: 11.4048 - val_sparse_categorical_accuracy: 0.0000e+00\n",
      "Epoch 88/100\n",
      "14/14 [==============================] - 0s 9ms/step - loss: 0.4011 - sparse_categorical_accuracy: 0.9420 - val_loss: 11.4291 - val_sparse_categorical_accuracy: 0.0000e+00\n",
      "Epoch 89/100\n",
      "14/14 [==============================] - 0s 9ms/step - loss: 0.4008 - sparse_categorical_accuracy: 0.9263 - val_loss: 10.5974 - val_sparse_categorical_accuracy: 0.0000e+00\n",
      "Epoch 90/100\n",
      "14/14 [==============================] - 0s 9ms/step - loss: 0.3994 - sparse_categorical_accuracy: 0.9353 - val_loss: 11.0709 - val_sparse_categorical_accuracy: 0.0000e+00\n",
      "Epoch 91/100\n",
      "14/14 [==============================] - 0s 9ms/step - loss: 0.3892 - sparse_categorical_accuracy: 0.9397 - val_loss: 11.4140 - val_sparse_categorical_accuracy: 0.0000e+00\n",
      "Epoch 92/100\n",
      "14/14 [==============================] - 0s 9ms/step - loss: 0.4272 - sparse_categorical_accuracy: 0.9219 - val_loss: 9.6795 - val_sparse_categorical_accuracy: 0.0089\n",
      "Epoch 93/100\n",
      "14/14 [==============================] - 0s 9ms/step - loss: 0.4203 - sparse_categorical_accuracy: 0.9241 - val_loss: 9.3679 - val_sparse_categorical_accuracy: 0.0179\n",
      "Epoch 94/100\n",
      "14/14 [==============================] - 0s 9ms/step - loss: 0.3996 - sparse_categorical_accuracy: 0.9375 - val_loss: 11.2644 - val_sparse_categorical_accuracy: 0.0000e+00\n",
      "Epoch 95/100\n",
      "14/14 [==============================] - 0s 9ms/step - loss: 0.3854 - sparse_categorical_accuracy: 0.9308 - val_loss: 10.7641 - val_sparse_categorical_accuracy: 0.0000e+00\n",
      "Epoch 96/100\n",
      "14/14 [==============================] - 0s 9ms/step - loss: 0.3889 - sparse_categorical_accuracy: 0.9353 - val_loss: 10.8937 - val_sparse_categorical_accuracy: 0.0000e+00\n",
      "Epoch 97/100\n",
      "14/14 [==============================] - 0s 9ms/step - loss: 0.3672 - sparse_categorical_accuracy: 0.9420 - val_loss: 10.3908 - val_sparse_categorical_accuracy: 0.0089\n",
      "Epoch 98/100\n",
      "14/14 [==============================] - 0s 10ms/step - loss: 0.3491 - sparse_categorical_accuracy: 0.9487 - val_loss: 10.4787 - val_sparse_categorical_accuracy: 0.0089\n",
      "Epoch 99/100\n",
      "14/14 [==============================] - 0s 9ms/step - loss: 0.3642 - sparse_categorical_accuracy: 0.9397 - val_loss: 9.6262 - val_sparse_categorical_accuracy: 0.0268\n",
      "Epoch 100/100\n",
      "14/14 [==============================] - 0s 9ms/step - loss: 0.3267 - sparse_categorical_accuracy: 0.9509 - val_loss: 9.1972 - val_sparse_categorical_accuracy: 0.0268\n"
     ]
    }
   ],
   "source": [
    "model = make_CNN_model(x_train.shape[1:],num_classes = 14)\n",
    "trained_model, history = train_CNN_model(model, x_train, y_train, epochs=100, batch_size=32)"
   ]
  },
  {
   "cell_type": "code",
   "execution_count": 101,
   "id": "227e6120",
   "metadata": {},
   "outputs": [
    {
     "name": "stdout",
     "output_type": "stream",
     "text": [
      "53/53 [==============================] - 0s 2ms/step - loss: 3.2148 - sparse_categorical_accuracy: 0.5485\n",
      "Test accuracy 0.5485206842422485\n",
      "Test loss 3.21478533744812\n"
     ]
    }
   ],
   "source": [
    "test_loss, test_acc = trained_model.evaluate(x_test_original, y_test_original)\n",
    "\n",
    "print(\"Test accuracy\", test_acc)\n",
    "print(\"Test loss\", test_loss)"
   ]
  },
  {
   "cell_type": "markdown",
   "id": "4773dace",
   "metadata": {},
   "source": [
    "### Create perturbed test sets and calculate decrease in accuracy"
   ]
  },
  {
   "cell_type": "code",
   "execution_count": 102,
   "id": "b854bfe4-2303-44a0-bef5-eb3c738da9e9",
   "metadata": {},
   "outputs": [
    {
     "name": "stdout",
     "output_type": "stream",
     "text": [
      "(1690,)\n"
     ]
    }
   ],
   "source": [
    "print(y_test_original.shape)"
   ]
  },
  {
   "cell_type": "code",
   "execution_count": 103,
   "id": "ffd7c678-03f4-47ae-a1f9-45e0c185580e",
   "metadata": {},
   "outputs": [
    {
     "name": "stdout",
     "output_type": "stream",
     "text": [
      "def perturb(perturbation_strategy, ts, index0, index1, global_ts = [],bg = []):\n",
      "    if perturbation_strategy == 'RBP':\n",
      "        return RBPIndividual(ts, index0, index1)\n",
      "    if perturbation_strategy == 'zero':\n",
      "        return zeroPerturb(ts, index0, index1)\n",
      "    if perturbation_strategy == 'noise':\n",
      "        return noisePerturb(ts, index0, index1)\n",
      "    if perturbation_strategy == 'blur':\n",
      "        return blurPerturb(ts, index0, index1)\n",
      "    if perturbation_strategy == 'RBP1':\n",
      "        return RBPIndividualNew1(global_ts, ts, index0, index1) \n",
      "    if perturbation_strategy == 'RBP1fast':\n",
      "        return RBPIndividualNew1fast(bg, ts, index0, index1)  \n",
      "    if perturbation_strategy == 'RBP2':\n",
      "        return RBPIndividualNew2(global_ts, ts, index0, index1)    \n",
      "\n",
      "(perturbation_strategy, ts, index0, index1, global_ts=[], bg=[])\n"
     ]
    }
   ],
   "source": [
    "print(inspect.getsource(perturb))\n",
    "print(inspect.signature(perturb))"
   ]
  },
  {
   "cell_type": "code",
   "execution_count": 140,
   "id": "4c579fb7",
   "metadata": {},
   "outputs": [
    {
     "name": "stdout",
     "output_type": "stream",
     "text": [
      "53/53 [==============================] - 0s 2ms/step\n",
      "53/53 [==============================] - 0s 2ms/step\n",
      "53/53 [==============================] - 0s 2ms/step\n",
      "53/53 [==============================] - 0s 2ms/step\n",
      "53/53 [==============================] - 0s 2ms/step\n",
      "53/53 [==============================] - 0s 2ms/step\n"
     ]
    }
   ],
   "source": [
    "predictions_original = model.predict(x_test_original)\n",
    "perturb_test_set = x_test_original.copy()\n",
    "perturb_test_set = perturb_test_set.reshape(x_test_original.shape[0:2])\n",
    "index_0 = 0\n",
    "index_1 = 80\n",
    "x_test_rbp = np.asarray([perturb('RBP',x,index_0,index_1) for x in perturb_test_set])\n",
    "x_test_rbp = np.expand_dims(x_test_rbp, axis=-1)\n",
    "predictions_rbp = model.predict(x_test_rbp)\n",
    "\n",
    "bg = multisamplebackgroundIdentification(perturb_test_set)\n",
    "x_test_new1 = np.asarray([perturb('RBP1fast',x,index_0,index_1, bg = bg) for x in perturb_test_set])\n",
    "x_test_new1 = np.expand_dims(x_test_new1, axis=-1)\n",
    "predictions_new1 = model.predict(x_test_new1)\n",
    "\n",
    "#x_test_new2 = np.asarray([perturb('RBP2',x,400,500, global_ts = perturb_test_set) for x in perturb_test_set])\n",
    "#x_test_new2 = np.expand_dims(x_test_new2, axis=-1)\n",
    "#predictions_new2 = model.predict(x_test_new2)\n",
    "\n",
    "x_test_zero = np.asarray([perturb('zero',x,index_0,index_1) for x in perturb_test_set])\n",
    "x_test_zero = np.expand_dims(x_test_zero, axis=-1)\n",
    "predictions_zero = model.predict(x_test_zero)\n",
    "\n",
    "x_test_noise = np.asarray([perturb('noise',x,index_0,index_1) for x in perturb_test_set])\n",
    "x_test_noise = np.expand_dims(x_test_noise, axis=-1)\n",
    "predictions_noise = model.predict(x_test_noise)\n",
    "\n",
    "x_test_blur = np.asarray([perturb('blur',x,index_0,index_1) for x in perturb_test_set])\n",
    "x_test_blur = np.expand_dims(x_test_blur, axis=-1)\n",
    "predictions_blur = model.predict(x_test_blur)"
   ]
  },
  {
   "cell_type": "code",
   "execution_count": 141,
   "id": "069af343-0cfa-4787-b5d4-170f885bb59d",
   "metadata": {},
   "outputs": [
    {
     "name": "stdout",
     "output_type": "stream",
     "text": [
      "8.480121761858857\n",
      "9.049227905729188\n",
      "8.767810547552116\n",
      "15.136256280993672\n",
      "2.065721398595376\n"
     ]
    }
   ],
   "source": [
    "def l2norm(perturb):\n",
    "    # 计算两个数组之间的差\n",
    "    difference = perturb - x_test_original\n",
    "    \n",
    "    # 计算差的平方\n",
    "    squared_difference = np.square(difference)\n",
    "    \n",
    "    # 计算平方和，沿着特征维度（axis=1），因为每个时间序列样本是一行\n",
    "    sum_of_squares = np.sum(squared_difference, axis=1)\n",
    "    \n",
    "    # 计算平方和的平方根，即l2范数\n",
    "    l2_norms = np.sqrt(sum_of_squares)\n",
    "    \n",
    "    average_l2_norm = np.mean(l2_norms)\n",
    "    \n",
    "    # l2_norms现在是一个形状为(467,)的数组，其中每个元素代表\n",
    "    # 对应时间序列样本之间的l2范数\n",
    "    print(average_l2_norm)  # 输出: (467,)\n",
    "\n",
    "l2norm(x_test_rbp)\n",
    "l2norm(x_test_new1)\n",
    "l2norm(x_test_zero)\n",
    "l2norm(x_test_noise)\n",
    "l2norm(x_test_blur)"
   ]
  },
  {
   "cell_type": "code",
   "execution_count": 142,
   "id": "b5d3f821",
   "metadata": {},
   "outputs": [],
   "source": [
    "def accuracy(predictions, labels):\n",
    "    hits = 0\n",
    "    for i in range(0,len(predictions)):\n",
    "        if predictions[i] == labels[i]:\n",
    "            hits += 1\n",
    "    return hits/len(predictions)"
   ]
  },
  {
   "cell_type": "code",
   "execution_count": 143,
   "id": "89f21d47",
   "metadata": {},
   "outputs": [],
   "source": [
    "original_accuracy = accuracy(np.argmax(predictions_original,axis=1), y_test_original)\n",
    "rbp_accuracy = accuracy(np.argmax(predictions_rbp,axis=1), y_test_original)\n",
    "new1_accuracy = accuracy(np.argmax(predictions_new1,axis=1), y_test_original)\n",
    "#new2_accuracy = accuracy(np.argmax(predictions_new2,axis=1), y_test_original)\n",
    "zero_accuracy = accuracy(np.argmax(predictions_zero,axis=1), y_test_original)\n",
    "noise_accuracy = accuracy(np.argmax(predictions_noise,axis=1), y_test_original)\n",
    "blur_accuracy = accuracy(np.argmax(predictions_blur,axis=1), y_test_original)"
   ]
  },
  {
   "cell_type": "code",
   "execution_count": 144,
   "id": "e52c9d2e",
   "metadata": {},
   "outputs": [
    {
     "name": "stdout",
     "output_type": "stream",
     "text": [
      " Original Accuracy: 0.5485207100591716\n",
      " RBP Accuracy: 0.11124260355029586\n",
      " RBP1 Accuracy: 0.13550295857988165\n",
      " Zero Accuracy: 0.10828402366863905\n",
      " Noise Accuracy: 0.1\n",
      " Blur Accuracy: 0.4798816568047337\n",
      "\n"
     ]
    }
   ],
   "source": [
    "print(\" Original Accuracy: \" + str(original_accuracy) + \"\\n\"+\n",
    "    \" RBP Accuracy: \" + str(rbp_accuracy) + \"\\n\"+\n",
    "    \" RBP1 Accuracy: \" + str(new1_accuracy) + \"\\n\"+\n",
    "    #\" RBP2 Accuracy: \" + str(new2_accuracy) + \"\\n\"+\n",
    "      \n",
    "    \" Zero Accuracy: \" + str(zero_accuracy) + \"\\n\"+\n",
    "    \" Noise Accuracy: \" + str(noise_accuracy) + \"\\n\"+\n",
    "    \" Blur Accuracy: \" + str(blur_accuracy) + \"\\n\")"
   ]
  },
  {
   "cell_type": "code",
   "execution_count": 145,
   "id": "e18874a3-32bc-4bb2-bacc-39a08199afe1",
   "metadata": {},
   "outputs": [
    {
     "name": "stdout",
     "output_type": "stream",
     "text": [
      "[2 2 2 ... 4 2 4]\n"
     ]
    }
   ],
   "source": [
    "print(np.argmax(predictions_new1,axis=1))"
   ]
  },
  {
   "cell_type": "code",
   "execution_count": null,
   "id": "99c74079-57bd-4e84-8e1a-aafa1704e5a9",
   "metadata": {},
   "outputs": [],
   "source": []
  }
 ],
 "metadata": {
  "kernelspec": {
   "display_name": "lime_tf",
   "language": "python",
   "name": "limetf"
  },
  "language_info": {
   "codemirror_mode": {
    "name": "ipython",
    "version": 3
   },
   "file_extension": ".py",
   "mimetype": "text/x-python",
   "name": "python",
   "nbconvert_exporter": "python",
   "pygments_lexer": "ipython3",
   "version": "3.10.13"
  }
 },
 "nbformat": 4,
 "nbformat_minor": 5
}
