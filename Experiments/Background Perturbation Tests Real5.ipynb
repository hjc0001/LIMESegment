{
 "cells": [
  {
   "cell_type": "code",
   "execution_count": 1,
   "id": "dd9bd814",
   "metadata": {},
   "outputs": [],
   "source": [
    "import numpy as np\n",
    "import matplotlib.pyplot as plt\n",
    "import inspect"
   ]
  },
  {
   "cell_type": "code",
   "execution_count": 2,
   "id": "2439de23",
   "metadata": {},
   "outputs": [
    {
     "name": "stdout",
     "output_type": "stream",
     "text": [
      "['/Users/gali/anaconda3/envs/LIMEtf/lib/python310.zip', '/Users/gali/anaconda3/envs/LIMEtf/lib/python3.10', '/Users/gali/anaconda3/envs/LIMEtf/lib/python3.10/lib-dynload', '', '/Users/gali/anaconda3/envs/LIMEtf/lib/python3.10/site-packages', '/Users/gali/anaconda3/envs/LIMEtf/lib/python3.10/site-packages/setuptools/_vendor', '../', '../']\n"
     ]
    }
   ],
   "source": [
    "import importlib\n",
    "import sys\n",
    "sys.path.append('../')\n",
    "from Utils.perturbationsnew import RBPIndividual, RBPIndividualNew1, RBPIndividualNew2, zeroPerturb, noisePerturb, blurPerturb\n",
    "from Utils.models import *\n",
    "from Utils.data import perturb, generateSynthetic, generateSyntheticPerturbReal,ReadTS\n",
    "\n",
    "print(sys.path)\n"
   ]
  },
  {
   "cell_type": "markdown",
   "id": "62b11ea0",
   "metadata": {},
   "source": [
    "## Test important content removal (accuracy decrease)"
   ]
  },
  {
   "cell_type": "markdown",
   "id": "5567ae62",
   "metadata": {},
   "source": [
    "### Load synthetic dataset and train CNN model "
   ]
  },
  {
   "cell_type": "code",
   "execution_count": 3,
   "id": "812c0d59",
   "metadata": {},
   "outputs": [
    {
     "name": "stdout",
     "output_type": "stream",
     "text": [
      "(390, 300, 1)\n",
      "[ 1.  3.  2.  2.  4.  0.  7.  9.  3.  4.  9.  1.  8.  4.  4.  9.  6. 10.\n",
      "  6.  4.  1.  2.  2.  6.  0.  8.  5.  7. 11.  3. 10.  9.  8.  6.  4.  5.\n",
      " 10.  7.  7.  9.  9. 11.  6.  2.  3.  6.  0. 11. 10. 11. 11.  8.  9.  3.\n",
      "  1.  4.  1.  6.  4.  6. 11.  3.  2. 11.  7.  2.  9.  3.  6.  6.  0.  3.\n",
      " 10.  7.  5.  2.  5.  0.  4.  8.  9. 11. 10.  4.  8.  4.  7. 10.  8. 11.\n",
      "  1.  4. 10.  9.  3.  3.  6.  9.  9.  8.  0.  5.  4.  9.  7. 10. 11.  8.\n",
      "  4. 11.  0.  0. 11. 11.  4.  2.  1.  6.  8.  6.  5.  2.  0. 10.  1.  1.\n",
      "  9. 10.  7. 10.  4.  7.  7. 11.  1.  2.  3.  9.  2.  6.  8.  5.  6.  2.\n",
      "  8.  8.  3.  2. 11.  3.  5.  9.  0.  5.  0.  0.  0.  3.  4.  4. 11. 10.\n",
      " 11.  9.  0.  2.  6. 11.  4.  8.  1.  5.  9. 11.  5. 10.  0.  0.  5.  5.\n",
      "  4.  9.  9.  1.  3.  4. 10.  9. 11.  2.  3.  2.  0.  3.  4.  6.  8.  3.\n",
      "  7.  2.  6.  7.  8. 11.  7.  6.  0.  9.  8.  5.  4.  1.  3.  9.  6.  4.\n",
      "  0.  1.  6.  5.  7. 10.  3.  1.  4. 10.  7.  8.  5. 10.  1. 10. 11.  7.\n",
      "  2.  6.  1.  4.  4.  8.  2.  3.  5.  6.  6.  3.  9.  4.  3.  1.  2.  5.\n",
      "  8.  4.  6.  7. 10.  5.  2.  8.  1.  4. 11.  1.  1.  1.  7.  5. 11.  2.\n",
      "  8. 10.  8. 11.  5.  0.  9.  2.  1.  2.  7.  4. 11. 11. 11.  1. 10.  8.\n",
      "  9.  5.  6.  7.  3.  1. 10.  0. 10.  1.  2.  0.  5.  6.  6. 11.  5.  7.\n",
      "  0.  0.  7.  4.  5.  7.  5.  2.  6.  8.  5.  3. 11.  7.  7.  7.  5.  6.\n",
      "  3.  1.  3.  2. 10.  8.  9.  8.  5.  8.  3.  8.  1.  5.  9. 11.  1.  5.\n",
      "  9.  4.  8.  0.  2.  6.  1. 10.  1.  1. 11.  7. 11.  2.  2.  2.  2.  3.\n",
      "  9.  9. 10. 10.  7.  4.  4.  0.  4. 11.  7.  3. 10.  2. 10.  0. 10.  9.\n",
      "  5.  7.  7.  0.  1.  2.  8.  1.  7.  2.  6. 10.]\n"
     ]
    }
   ],
   "source": [
    "x_train, y_train,x_test_original, y_test_original = ReadTS('CricketY')\n",
    "y_train = y_train - 1\n",
    "y_test_original = y_test_original - 1\n",
    "print(x_train.shape)\n",
    "print(y_train)"
   ]
  },
  {
   "cell_type": "code",
   "execution_count": 4,
   "id": "c9911722",
   "metadata": {},
   "outputs": [
    {
     "name": "stdout",
     "output_type": "stream",
     "text": [
      "Epoch 1/100\n"
     ]
    },
    {
     "name": "stderr",
     "output_type": "stream",
     "text": [
      "2024-10-30 22:18:00.972896: W tensorflow/tsl/platform/profile_utils/cpu_utils.cc:128] Failed to get CPU frequency: 0 Hz\n"
     ]
    },
    {
     "name": "stdout",
     "output_type": "stream",
     "text": [
      "10/10 [==============================] - 1s 23ms/step - loss: 2.4566 - sparse_categorical_accuracy: 0.1154 - val_loss: 2.4806 - val_sparse_categorical_accuracy: 0.1154\n",
      "Epoch 2/100\n",
      "10/10 [==============================] - 0s 15ms/step - loss: 2.2770 - sparse_categorical_accuracy: 0.2596 - val_loss: 2.4703 - val_sparse_categorical_accuracy: 0.1667\n",
      "Epoch 3/100\n",
      "10/10 [==============================] - 0s 16ms/step - loss: 2.1775 - sparse_categorical_accuracy: 0.2917 - val_loss: 2.4608 - val_sparse_categorical_accuracy: 0.1923\n",
      "Epoch 4/100\n",
      "10/10 [==============================] - 0s 15ms/step - loss: 2.1253 - sparse_categorical_accuracy: 0.3077 - val_loss: 2.4542 - val_sparse_categorical_accuracy: 0.1538\n",
      "Epoch 5/100\n",
      "10/10 [==============================] - 0s 14ms/step - loss: 2.0731 - sparse_categorical_accuracy: 0.3237 - val_loss: 2.4552 - val_sparse_categorical_accuracy: 0.1538\n",
      "Epoch 6/100\n",
      "10/10 [==============================] - 0s 14ms/step - loss: 2.0352 - sparse_categorical_accuracy: 0.3429 - val_loss: 2.4628 - val_sparse_categorical_accuracy: 0.1282\n",
      "Epoch 7/100\n",
      "10/10 [==============================] - 0s 14ms/step - loss: 1.9877 - sparse_categorical_accuracy: 0.3782 - val_loss: 2.4752 - val_sparse_categorical_accuracy: 0.1410\n",
      "Epoch 8/100\n",
      "10/10 [==============================] - 0s 15ms/step - loss: 1.9417 - sparse_categorical_accuracy: 0.4263 - val_loss: 2.4902 - val_sparse_categorical_accuracy: 0.1282\n",
      "Epoch 9/100\n",
      "10/10 [==============================] - 0s 14ms/step - loss: 1.9154 - sparse_categorical_accuracy: 0.4455 - val_loss: 2.5171 - val_sparse_categorical_accuracy: 0.1026\n",
      "Epoch 10/100\n",
      "10/10 [==============================] - 0s 14ms/step - loss: 1.8865 - sparse_categorical_accuracy: 0.4231 - val_loss: 2.5445 - val_sparse_categorical_accuracy: 0.1282\n",
      "Epoch 11/100\n",
      "10/10 [==============================] - 0s 15ms/step - loss: 1.8579 - sparse_categorical_accuracy: 0.4647 - val_loss: 2.5727 - val_sparse_categorical_accuracy: 0.1026\n",
      "Epoch 12/100\n",
      "10/10 [==============================] - 0s 15ms/step - loss: 1.8246 - sparse_categorical_accuracy: 0.4519 - val_loss: 2.6098 - val_sparse_categorical_accuracy: 0.1154\n",
      "Epoch 13/100\n",
      "10/10 [==============================] - 0s 15ms/step - loss: 1.7996 - sparse_categorical_accuracy: 0.4936 - val_loss: 2.6324 - val_sparse_categorical_accuracy: 0.1026\n",
      "Epoch 14/100\n",
      "10/10 [==============================] - 0s 15ms/step - loss: 1.7699 - sparse_categorical_accuracy: 0.4872 - val_loss: 2.6596 - val_sparse_categorical_accuracy: 0.1026\n",
      "Epoch 15/100\n",
      "10/10 [==============================] - 0s 15ms/step - loss: 1.7408 - sparse_categorical_accuracy: 0.4968 - val_loss: 2.7238 - val_sparse_categorical_accuracy: 0.0897\n",
      "Epoch 16/100\n",
      "10/10 [==============================] - 0s 15ms/step - loss: 1.7274 - sparse_categorical_accuracy: 0.5096 - val_loss: 2.7468 - val_sparse_categorical_accuracy: 0.0769\n",
      "Epoch 17/100\n",
      "10/10 [==============================] - 0s 16ms/step - loss: 1.6970 - sparse_categorical_accuracy: 0.5064 - val_loss: 2.7723 - val_sparse_categorical_accuracy: 0.0769\n",
      "Epoch 18/100\n",
      "10/10 [==============================] - 0s 15ms/step - loss: 1.6736 - sparse_categorical_accuracy: 0.5256 - val_loss: 2.7547 - val_sparse_categorical_accuracy: 0.1026\n",
      "Epoch 19/100\n",
      "10/10 [==============================] - 0s 16ms/step - loss: 1.6869 - sparse_categorical_accuracy: 0.4712 - val_loss: 2.7383 - val_sparse_categorical_accuracy: 0.1282\n",
      "Epoch 20/100\n",
      "10/10 [==============================] - 0s 16ms/step - loss: 1.6498 - sparse_categorical_accuracy: 0.5288 - val_loss: 2.7033 - val_sparse_categorical_accuracy: 0.1154\n",
      "Epoch 21/100\n",
      "10/10 [==============================] - 0s 16ms/step - loss: 1.6219 - sparse_categorical_accuracy: 0.5385 - val_loss: 2.7449 - val_sparse_categorical_accuracy: 0.1282\n",
      "Epoch 22/100\n",
      "10/10 [==============================] - 0s 16ms/step - loss: 1.6008 - sparse_categorical_accuracy: 0.5545 - val_loss: 2.7267 - val_sparse_categorical_accuracy: 0.1282\n",
      "Epoch 23/100\n",
      "10/10 [==============================] - 0s 16ms/step - loss: 1.5784 - sparse_categorical_accuracy: 0.5705 - val_loss: 2.7273 - val_sparse_categorical_accuracy: 0.1282\n",
      "Epoch 24/100\n",
      "10/10 [==============================] - 0s 16ms/step - loss: 1.5565 - sparse_categorical_accuracy: 0.5449 - val_loss: 2.7050 - val_sparse_categorical_accuracy: 0.1026\n",
      "Epoch 25/100\n",
      "10/10 [==============================] - 0s 16ms/step - loss: 1.5612 - sparse_categorical_accuracy: 0.5545 - val_loss: 2.6503 - val_sparse_categorical_accuracy: 0.1667\n",
      "Epoch 26/100\n",
      "10/10 [==============================] - 0s 16ms/step - loss: 1.5262 - sparse_categorical_accuracy: 0.5769 - val_loss: 2.6358 - val_sparse_categorical_accuracy: 0.1923\n",
      "Epoch 27/100\n",
      "10/10 [==============================] - 0s 16ms/step - loss: 1.5245 - sparse_categorical_accuracy: 0.5385 - val_loss: 2.5807 - val_sparse_categorical_accuracy: 0.1795\n",
      "Epoch 28/100\n",
      "10/10 [==============================] - 0s 16ms/step - loss: 1.5275 - sparse_categorical_accuracy: 0.6058 - val_loss: 2.5459 - val_sparse_categorical_accuracy: 0.1538\n",
      "Epoch 29/100\n",
      "10/10 [==============================] - 0s 17ms/step - loss: 1.4986 - sparse_categorical_accuracy: 0.5737 - val_loss: 2.4427 - val_sparse_categorical_accuracy: 0.2051\n",
      "Epoch 30/100\n",
      "10/10 [==============================] - 0s 17ms/step - loss: 1.4999 - sparse_categorical_accuracy: 0.5673 - val_loss: 2.4386 - val_sparse_categorical_accuracy: 0.1795\n",
      "Epoch 31/100\n",
      "10/10 [==============================] - 0s 17ms/step - loss: 1.4529 - sparse_categorical_accuracy: 0.5801 - val_loss: 2.2940 - val_sparse_categorical_accuracy: 0.2179\n",
      "Epoch 32/100\n",
      "10/10 [==============================] - 0s 16ms/step - loss: 1.4654 - sparse_categorical_accuracy: 0.5481 - val_loss: 2.3184 - val_sparse_categorical_accuracy: 0.1538\n",
      "Epoch 33/100\n",
      "10/10 [==============================] - 0s 18ms/step - loss: 1.4319 - sparse_categorical_accuracy: 0.5962 - val_loss: 2.2134 - val_sparse_categorical_accuracy: 0.2179\n",
      "Epoch 34/100\n",
      "10/10 [==============================] - 0s 18ms/step - loss: 1.4173 - sparse_categorical_accuracy: 0.5833 - val_loss: 2.1677 - val_sparse_categorical_accuracy: 0.2564\n",
      "Epoch 35/100\n",
      "10/10 [==============================] - 0s 18ms/step - loss: 1.4092 - sparse_categorical_accuracy: 0.5705 - val_loss: 2.1502 - val_sparse_categorical_accuracy: 0.2051\n",
      "Epoch 36/100\n",
      "10/10 [==============================] - 0s 19ms/step - loss: 1.3858 - sparse_categorical_accuracy: 0.6122 - val_loss: 2.0869 - val_sparse_categorical_accuracy: 0.3077\n",
      "Epoch 37/100\n",
      "10/10 [==============================] - 0s 17ms/step - loss: 1.3916 - sparse_categorical_accuracy: 0.6186 - val_loss: 2.0642 - val_sparse_categorical_accuracy: 0.2692\n",
      "Epoch 38/100\n",
      "10/10 [==============================] - 0s 18ms/step - loss: 1.3930 - sparse_categorical_accuracy: 0.6122 - val_loss: 2.0215 - val_sparse_categorical_accuracy: 0.3333\n",
      "Epoch 39/100\n",
      "10/10 [==============================] - 0s 18ms/step - loss: 1.3698 - sparse_categorical_accuracy: 0.6090 - val_loss: 2.0008 - val_sparse_categorical_accuracy: 0.2949\n",
      "Epoch 40/100\n",
      "10/10 [==============================] - 0s 18ms/step - loss: 1.3576 - sparse_categorical_accuracy: 0.6410 - val_loss: 1.9317 - val_sparse_categorical_accuracy: 0.4231\n",
      "Epoch 41/100\n",
      "10/10 [==============================] - 0s 17ms/step - loss: 1.3292 - sparse_categorical_accuracy: 0.6250 - val_loss: 1.9660 - val_sparse_categorical_accuracy: 0.3462\n",
      "Epoch 42/100\n",
      "10/10 [==============================] - 0s 18ms/step - loss: 1.3400 - sparse_categorical_accuracy: 0.6250 - val_loss: 1.9142 - val_sparse_categorical_accuracy: 0.3205\n",
      "Epoch 43/100\n",
      "10/10 [==============================] - 0s 18ms/step - loss: 1.3135 - sparse_categorical_accuracy: 0.6186 - val_loss: 1.8795 - val_sparse_categorical_accuracy: 0.2821\n",
      "Epoch 44/100\n",
      "10/10 [==============================] - 0s 20ms/step - loss: 1.2800 - sparse_categorical_accuracy: 0.6731 - val_loss: 1.8605 - val_sparse_categorical_accuracy: 0.3590\n",
      "Epoch 45/100\n",
      "10/10 [==============================] - 0s 18ms/step - loss: 1.2906 - sparse_categorical_accuracy: 0.6314 - val_loss: 1.7855 - val_sparse_categorical_accuracy: 0.3846\n",
      "Epoch 46/100\n",
      "10/10 [==============================] - 0s 17ms/step - loss: 1.2692 - sparse_categorical_accuracy: 0.6635 - val_loss: 1.8570 - val_sparse_categorical_accuracy: 0.3590\n",
      "Epoch 47/100\n",
      "10/10 [==============================] - 0s 17ms/step - loss: 1.2507 - sparse_categorical_accuracy: 0.6506 - val_loss: 1.8106 - val_sparse_categorical_accuracy: 0.3718\n",
      "Epoch 48/100\n",
      "10/10 [==============================] - 0s 19ms/step - loss: 1.2620 - sparse_categorical_accuracy: 0.6571 - val_loss: 1.7447 - val_sparse_categorical_accuracy: 0.3846\n",
      "Epoch 49/100\n",
      "10/10 [==============================] - 0s 19ms/step - loss: 1.2423 - sparse_categorical_accuracy: 0.6538 - val_loss: 1.7030 - val_sparse_categorical_accuracy: 0.4359\n",
      "Epoch 50/100\n",
      "10/10 [==============================] - 0s 18ms/step - loss: 1.2385 - sparse_categorical_accuracy: 0.6506 - val_loss: 1.7334 - val_sparse_categorical_accuracy: 0.3846\n",
      "Epoch 51/100\n",
      "10/10 [==============================] - 0s 17ms/step - loss: 1.2049 - sparse_categorical_accuracy: 0.6891 - val_loss: 1.7394 - val_sparse_categorical_accuracy: 0.3462\n",
      "Epoch 52/100\n",
      "10/10 [==============================] - 0s 18ms/step - loss: 1.2095 - sparse_categorical_accuracy: 0.6635 - val_loss: 1.8566 - val_sparse_categorical_accuracy: 0.4231\n",
      "Epoch 53/100\n",
      "10/10 [==============================] - 0s 19ms/step - loss: 1.2084 - sparse_categorical_accuracy: 0.6474 - val_loss: 1.7021 - val_sparse_categorical_accuracy: 0.3846\n",
      "Epoch 54/100\n",
      "10/10 [==============================] - 0s 19ms/step - loss: 1.1903 - sparse_categorical_accuracy: 0.6763 - val_loss: 1.6814 - val_sparse_categorical_accuracy: 0.4103\n",
      "Epoch 55/100\n",
      "10/10 [==============================] - 0s 19ms/step - loss: 1.1692 - sparse_categorical_accuracy: 0.6891 - val_loss: 1.6422 - val_sparse_categorical_accuracy: 0.4872\n",
      "Epoch 56/100\n",
      "10/10 [==============================] - 0s 18ms/step - loss: 1.1544 - sparse_categorical_accuracy: 0.6891 - val_loss: 1.6619 - val_sparse_categorical_accuracy: 0.4744\n",
      "Epoch 57/100\n",
      "10/10 [==============================] - 0s 18ms/step - loss: 1.1498 - sparse_categorical_accuracy: 0.6987 - val_loss: 1.6846 - val_sparse_categorical_accuracy: 0.4872\n",
      "Epoch 58/100\n",
      "10/10 [==============================] - 0s 18ms/step - loss: 1.1361 - sparse_categorical_accuracy: 0.6763 - val_loss: 1.6863 - val_sparse_categorical_accuracy: 0.4487\n",
      "Epoch 59/100\n",
      "10/10 [==============================] - 0s 20ms/step - loss: 1.1381 - sparse_categorical_accuracy: 0.7051 - val_loss: 1.7079 - val_sparse_categorical_accuracy: 0.3974\n",
      "Epoch 60/100\n",
      "10/10 [==============================] - 0s 21ms/step - loss: 1.1205 - sparse_categorical_accuracy: 0.6827 - val_loss: 1.5932 - val_sparse_categorical_accuracy: 0.4872\n",
      "Epoch 61/100\n",
      "10/10 [==============================] - 0s 20ms/step - loss: 1.0963 - sparse_categorical_accuracy: 0.6987 - val_loss: 1.6014 - val_sparse_categorical_accuracy: 0.4231\n",
      "Epoch 62/100\n",
      "10/10 [==============================] - 0s 19ms/step - loss: 1.0870 - sparse_categorical_accuracy: 0.7147 - val_loss: 1.5950 - val_sparse_categorical_accuracy: 0.4615\n",
      "Epoch 63/100\n",
      "10/10 [==============================] - 0s 18ms/step - loss: 1.1006 - sparse_categorical_accuracy: 0.6891 - val_loss: 1.7994 - val_sparse_categorical_accuracy: 0.2564\n",
      "Epoch 64/100\n",
      "10/10 [==============================] - 0s 19ms/step - loss: 1.0713 - sparse_categorical_accuracy: 0.7244 - val_loss: 1.7302 - val_sparse_categorical_accuracy: 0.3718\n",
      "Epoch 65/100\n",
      "10/10 [==============================] - 0s 18ms/step - loss: 1.0887 - sparse_categorical_accuracy: 0.7051 - val_loss: 1.7503 - val_sparse_categorical_accuracy: 0.3333\n",
      "Epoch 66/100\n",
      "10/10 [==============================] - 0s 19ms/step - loss: 1.0578 - sparse_categorical_accuracy: 0.6987 - val_loss: 1.7149 - val_sparse_categorical_accuracy: 0.4872\n",
      "Epoch 67/100\n",
      "10/10 [==============================] - 0s 21ms/step - loss: 1.0650 - sparse_categorical_accuracy: 0.7179 - val_loss: 1.5525 - val_sparse_categorical_accuracy: 0.4744\n",
      "Epoch 68/100\n",
      "10/10 [==============================] - 0s 19ms/step - loss: 1.0451 - sparse_categorical_accuracy: 0.7051 - val_loss: 1.6777 - val_sparse_categorical_accuracy: 0.3846\n",
      "Epoch 69/100\n",
      "10/10 [==============================] - 0s 20ms/step - loss: 1.0437 - sparse_categorical_accuracy: 0.7404 - val_loss: 1.5521 - val_sparse_categorical_accuracy: 0.4231\n",
      "Epoch 70/100\n",
      "10/10 [==============================] - 0s 20ms/step - loss: 1.0566 - sparse_categorical_accuracy: 0.7468 - val_loss: 1.6591 - val_sparse_categorical_accuracy: 0.5000\n",
      "Epoch 71/100\n",
      "10/10 [==============================] - 0s 21ms/step - loss: 1.0339 - sparse_categorical_accuracy: 0.7468 - val_loss: 1.5009 - val_sparse_categorical_accuracy: 0.4872\n",
      "Epoch 72/100\n",
      "10/10 [==============================] - 0s 19ms/step - loss: 1.0009 - sparse_categorical_accuracy: 0.7244 - val_loss: 1.9749 - val_sparse_categorical_accuracy: 0.3590\n",
      "Epoch 73/100\n",
      "10/10 [==============================] - 0s 20ms/step - loss: 1.0240 - sparse_categorical_accuracy: 0.7276 - val_loss: 1.8205 - val_sparse_categorical_accuracy: 0.4103\n",
      "Epoch 74/100\n",
      "10/10 [==============================] - 0s 18ms/step - loss: 0.9803 - sparse_categorical_accuracy: 0.7244 - val_loss: 2.3400 - val_sparse_categorical_accuracy: 0.3590\n",
      "Epoch 75/100\n",
      "10/10 [==============================] - 0s 18ms/step - loss: 1.0191 - sparse_categorical_accuracy: 0.7532 - val_loss: 2.7396 - val_sparse_categorical_accuracy: 0.2949\n",
      "Epoch 76/100\n",
      "10/10 [==============================] - 0s 20ms/step - loss: 0.9863 - sparse_categorical_accuracy: 0.7404 - val_loss: 2.9691 - val_sparse_categorical_accuracy: 0.2179\n",
      "Epoch 77/100\n",
      "10/10 [==============================] - 0s 20ms/step - loss: 0.9927 - sparse_categorical_accuracy: 0.7468 - val_loss: 2.8153 - val_sparse_categorical_accuracy: 0.2051\n",
      "Epoch 78/100\n",
      "10/10 [==============================] - 0s 21ms/step - loss: 0.9793 - sparse_categorical_accuracy: 0.7340 - val_loss: 3.0591 - val_sparse_categorical_accuracy: 0.2051\n",
      "Epoch 79/100\n",
      "10/10 [==============================] - 0s 20ms/step - loss: 0.9870 - sparse_categorical_accuracy: 0.7179 - val_loss: 2.7882 - val_sparse_categorical_accuracy: 0.2949\n",
      "Epoch 80/100\n",
      "10/10 [==============================] - 0s 20ms/step - loss: 0.9197 - sparse_categorical_accuracy: 0.7468 - val_loss: 2.0885 - val_sparse_categorical_accuracy: 0.3333\n",
      "Epoch 81/100\n",
      "10/10 [==============================] - 0s 20ms/step - loss: 0.9283 - sparse_categorical_accuracy: 0.7628 - val_loss: 2.0334 - val_sparse_categorical_accuracy: 0.3333\n",
      "Epoch 82/100\n",
      "10/10 [==============================] - 0s 21ms/step - loss: 0.9418 - sparse_categorical_accuracy: 0.7340 - val_loss: 1.9184 - val_sparse_categorical_accuracy: 0.3590\n",
      "Epoch 83/100\n",
      "10/10 [==============================] - 0s 21ms/step - loss: 0.9606 - sparse_categorical_accuracy: 0.7436 - val_loss: 2.9208 - val_sparse_categorical_accuracy: 0.2821\n",
      "Epoch 84/100\n",
      "10/10 [==============================] - 0s 20ms/step - loss: 0.9263 - sparse_categorical_accuracy: 0.7628 - val_loss: 2.6469 - val_sparse_categorical_accuracy: 0.3205\n",
      "Epoch 85/100\n",
      "10/10 [==============================] - 0s 21ms/step - loss: 0.8915 - sparse_categorical_accuracy: 0.7660 - val_loss: 3.8259 - val_sparse_categorical_accuracy: 0.2179\n",
      "Epoch 86/100\n",
      "10/10 [==============================] - 0s 20ms/step - loss: 0.9052 - sparse_categorical_accuracy: 0.7692 - val_loss: 3.2113 - val_sparse_categorical_accuracy: 0.2692\n",
      "Epoch 87/100\n",
      "10/10 [==============================] - 0s 20ms/step - loss: 0.8900 - sparse_categorical_accuracy: 0.7500 - val_loss: 3.4228 - val_sparse_categorical_accuracy: 0.2692\n",
      "Epoch 88/100\n",
      "10/10 [==============================] - 0s 21ms/step - loss: 0.9207 - sparse_categorical_accuracy: 0.7404 - val_loss: 2.6030 - val_sparse_categorical_accuracy: 0.3077\n",
      "Epoch 89/100\n",
      "10/10 [==============================] - 0s 22ms/step - loss: 0.8952 - sparse_categorical_accuracy: 0.7756 - val_loss: 2.2797 - val_sparse_categorical_accuracy: 0.3333\n",
      "Epoch 90/100\n",
      "10/10 [==============================] - 0s 21ms/step - loss: 0.8934 - sparse_categorical_accuracy: 0.7532 - val_loss: 2.1198 - val_sparse_categorical_accuracy: 0.3590\n",
      "Epoch 91/100\n",
      "10/10 [==============================] - 0s 21ms/step - loss: 0.8653 - sparse_categorical_accuracy: 0.7917 - val_loss: 1.8803 - val_sparse_categorical_accuracy: 0.4231\n",
      "Epoch 92/100\n",
      "10/10 [==============================] - 0s 21ms/step - loss: 0.9060 - sparse_categorical_accuracy: 0.7692 - val_loss: 1.5669 - val_sparse_categorical_accuracy: 0.4231\n",
      "Epoch 93/100\n",
      "10/10 [==============================] - 0s 21ms/step - loss: 0.8771 - sparse_categorical_accuracy: 0.7500 - val_loss: 1.7431 - val_sparse_categorical_accuracy: 0.4744\n",
      "Epoch 94/100\n",
      "10/10 [==============================] - 0s 23ms/step - loss: 0.8491 - sparse_categorical_accuracy: 0.7660 - val_loss: 2.4648 - val_sparse_categorical_accuracy: 0.2821\n",
      "Epoch 95/100\n",
      "10/10 [==============================] - 0s 22ms/step - loss: 0.8210 - sparse_categorical_accuracy: 0.7756 - val_loss: 1.6442 - val_sparse_categorical_accuracy: 0.4615\n",
      "Epoch 96/100\n",
      "10/10 [==============================] - 0s 21ms/step - loss: 0.8641 - sparse_categorical_accuracy: 0.7853 - val_loss: 2.5006 - val_sparse_categorical_accuracy: 0.2949\n",
      "Epoch 97/100\n",
      "10/10 [==============================] - 0s 23ms/step - loss: 0.8446 - sparse_categorical_accuracy: 0.7885 - val_loss: 1.3931 - val_sparse_categorical_accuracy: 0.5256\n",
      "Epoch 98/100\n",
      "10/10 [==============================] - 0s 22ms/step - loss: 0.8275 - sparse_categorical_accuracy: 0.7660 - val_loss: 1.5712 - val_sparse_categorical_accuracy: 0.4615\n",
      "Epoch 99/100\n",
      "10/10 [==============================] - 0s 20ms/step - loss: 0.8374 - sparse_categorical_accuracy: 0.7756 - val_loss: 1.4462 - val_sparse_categorical_accuracy: 0.4615\n",
      "Epoch 100/100\n",
      "10/10 [==============================] - 0s 21ms/step - loss: 0.8513 - sparse_categorical_accuracy: 0.7628 - val_loss: 1.5980 - val_sparse_categorical_accuracy: 0.4615\n"
     ]
    }
   ],
   "source": [
    "model = make_CNN_model(x_train.shape[1:],num_classes = 12)\n",
    "trained_model, history = train_CNN_model(model, x_train, y_train, epochs=100, batch_size=32)"
   ]
  },
  {
   "cell_type": "code",
   "execution_count": 5,
   "id": "227e6120",
   "metadata": {},
   "outputs": [
    {
     "name": "stdout",
     "output_type": "stream",
     "text": [
      "13/13 [==============================] - 0s 4ms/step - loss: 1.4603 - sparse_categorical_accuracy: 0.5179\n",
      "Test accuracy 0.5179487466812134\n",
      "Test loss 1.4602619409561157\n"
     ]
    }
   ],
   "source": [
    "test_loss, test_acc = trained_model.evaluate(x_test_original, y_test_original)\n",
    "\n",
    "print(\"Test accuracy\", test_acc)\n",
    "print(\"Test loss\", test_loss)"
   ]
  },
  {
   "cell_type": "markdown",
   "id": "4773dace",
   "metadata": {},
   "source": [
    "### Create perturbed test sets and calculate decrease in accuracy"
   ]
  },
  {
   "cell_type": "code",
   "execution_count": 6,
   "id": "b854bfe4-2303-44a0-bef5-eb3c738da9e9",
   "metadata": {},
   "outputs": [
    {
     "name": "stdout",
     "output_type": "stream",
     "text": [
      "(390,)\n"
     ]
    }
   ],
   "source": [
    "print(y_test_original.shape)"
   ]
  },
  {
   "cell_type": "code",
   "execution_count": 7,
   "id": "ffd7c678-03f4-47ae-a1f9-45e0c185580e",
   "metadata": {},
   "outputs": [
    {
     "name": "stdout",
     "output_type": "stream",
     "text": [
      "def perturb(perturbation_strategy, ts, index0, index1, global_ts = []):\n",
      "    if perturbation_strategy == 'RBP':\n",
      "        return RBPIndividual(ts, index0, index1)\n",
      "    if perturbation_strategy == 'zero':\n",
      "        return zeroPerturb(ts, index0, index1)\n",
      "    if perturbation_strategy == 'noise':\n",
      "        return noisePerturb(ts, index0, index1)\n",
      "    if perturbation_strategy == 'blur':\n",
      "        return blurPerturb(ts, index0, index1)\n",
      "    if perturbation_strategy == 'RBP1':\n",
      "        return RBPIndividualNew1(global_ts, ts, index0, index1)    \n",
      "    if perturbation_strategy == 'RBP2':\n",
      "        return RBPIndividualNew2(global_ts, ts, index0, index1)    \n",
      "\n",
      "(perturbation_strategy, ts, index0, index1, global_ts=[])\n"
     ]
    }
   ],
   "source": [
    "print(inspect.getsource(perturb))\n",
    "print(inspect.signature(perturb))"
   ]
  },
  {
   "cell_type": "code",
   "execution_count": 8,
   "id": "4c579fb7",
   "metadata": {},
   "outputs": [
    {
     "name": "stdout",
     "output_type": "stream",
     "text": [
      "13/13 [==============================] - 0s 5ms/step\n",
      "13/13 [==============================] - 0s 4ms/step\n",
      "13/13 [==============================] - 0s 4ms/step\n",
      "13/13 [==============================] - 0s 4ms/step\n",
      "13/13 [==============================] - 0s 4ms/step\n",
      "13/13 [==============================] - 0s 4ms/step\n"
     ]
    }
   ],
   "source": [
    "predictions_original = model.predict(x_test_original)\n",
    "perturb_test_set = x_test_original.copy()\n",
    "perturb_test_set = perturb_test_set.reshape(x_test_original.shape[0:2])\n",
    "\n",
    "x_test_rbp = np.asarray([perturb('RBP',x,200,300) for x in perturb_test_set])\n",
    "x_test_rbp = np.expand_dims(x_test_rbp, axis=-1)\n",
    "predictions_rbp = model.predict(x_test_rbp)\n",
    "\n",
    "pert1 = perturb('RBP1',perturb_test_set[0],200,300, global_ts = perturb_test_set)\n",
    "x_test_new1 = np.asarray([pert1 for x in perturb_test_set])\n",
    "x_test_new1 = np.expand_dims(x_test_new1, axis=-1)\n",
    "predictions_new1 = model.predict(x_test_new1)\n",
    "\n",
    "#x_test_new2 = np.asarray([perturb('RBP2',x,400,500, global_ts = perturb_test_set) for x in perturb_test_set])\n",
    "#x_test_new2 = np.expand_dims(x_test_new2, axis=-1)\n",
    "#predictions_new2 = model.predict(x_test_new2)\n",
    "\n",
    "x_test_zero = np.asarray([perturb('zero',x,200,300) for x in perturb_test_set])\n",
    "x_test_zero = np.expand_dims(x_test_zero, axis=-1)\n",
    "predictions_zero = model.predict(x_test_zero)\n",
    "\n",
    "x_test_noise = np.asarray([perturb('noise',x,200,300) for x in perturb_test_set])\n",
    "x_test_noise = np.expand_dims(x_test_noise, axis=-1)\n",
    "predictions_noise = model.predict(x_test_noise)\n",
    "\n",
    "x_test_blur = np.asarray([perturb('blur',x,200,300) for x in perturb_test_set])\n",
    "x_test_blur = np.expand_dims(x_test_blur, axis=-1)\n",
    "predictions_blur = model.predict(x_test_blur)"
   ]
  },
  {
   "cell_type": "code",
   "execution_count": 9,
   "id": "b5d3f821",
   "metadata": {},
   "outputs": [],
   "source": [
    "def accuracy(predictions, labels):\n",
    "    hits = 0\n",
    "    for i in range(0,len(predictions)):\n",
    "        if predictions[i] == labels[i]:\n",
    "            hits += 1\n",
    "    return hits/len(predictions)"
   ]
  },
  {
   "cell_type": "code",
   "execution_count": 10,
   "id": "89f21d47",
   "metadata": {},
   "outputs": [],
   "source": [
    "original_accuracy = accuracy(np.argmax(predictions_original,axis=1), y_test_original)\n",
    "rbp_accuracy = accuracy(np.argmax(predictions_rbp,axis=1), y_test_original)\n",
    "new1_accuracy = accuracy(np.argmax(predictions_new1,axis=1), y_test_original)\n",
    "#new2_accuracy = accuracy(np.argmax(predictions_new2,axis=1), y_test_original)\n",
    "zero_accuracy = accuracy(np.argmax(predictions_zero,axis=1), y_test_original)\n",
    "noise_accuracy = accuracy(np.argmax(predictions_noise,axis=1), y_test_original)\n",
    "blur_accuracy = accuracy(np.argmax(predictions_blur,axis=1), y_test_original)"
   ]
  },
  {
   "cell_type": "code",
   "execution_count": 11,
   "id": "e52c9d2e",
   "metadata": {},
   "outputs": [
    {
     "name": "stdout",
     "output_type": "stream",
     "text": [
      " Original Accuracy: 0.517948717948718\n",
      " RBP Accuracy: 0.4205128205128205\n",
      " RBP1 Accuracy: 0.07435897435897436\n",
      " Zero Accuracy: 0.3564102564102564\n",
      " Noise Accuracy: 0.08974358974358974\n",
      " Blur Accuracy: 0.49230769230769234\n",
      "\n"
     ]
    }
   ],
   "source": [
    "print(\" Original Accuracy: \" + str(original_accuracy) + \"\\n\"+\n",
    "    \" RBP Accuracy: \" + str(rbp_accuracy) + \"\\n\"+\n",
    "    \" RBP1 Accuracy: \" + str(new1_accuracy) + \"\\n\"+\n",
    "    #\" RBP2 Accuracy: \" + str(new2_accuracy) + \"\\n\"+\n",
    "      \n",
    "    \" Zero Accuracy: \" + str(zero_accuracy) + \"\\n\"+\n",
    "    \" Noise Accuracy: \" + str(noise_accuracy) + \"\\n\"+\n",
    "    \" Blur Accuracy: \" + str(blur_accuracy) + \"\\n\")"
   ]
  }
 ],
 "metadata": {
  "kernelspec": {
   "display_name": "lime_tf",
   "language": "python",
   "name": "limetf"
  },
  "language_info": {
   "codemirror_mode": {
    "name": "ipython",
    "version": 3
   },
   "file_extension": ".py",
   "mimetype": "text/x-python",
   "name": "python",
   "nbconvert_exporter": "python",
   "pygments_lexer": "ipython3",
   "version": "3.10.13"
  }
 },
 "nbformat": 4,
 "nbformat_minor": 5
}
