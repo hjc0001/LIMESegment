{
 "cells": [
  {
   "cell_type": "code",
   "execution_count": 1,
   "id": "dd9bd814",
   "metadata": {},
   "outputs": [],
   "source": [
    "import numpy as np\n",
    "import matplotlib.pyplot as plt\n",
    "import inspect"
   ]
  },
  {
   "cell_type": "code",
   "execution_count": 2,
   "id": "2439de23",
   "metadata": {},
   "outputs": [
    {
     "name": "stdout",
     "output_type": "stream",
     "text": [
      "['/Users/gali/anaconda3/envs/LIMEtf/lib/python310.zip', '/Users/gali/anaconda3/envs/LIMEtf/lib/python3.10', '/Users/gali/anaconda3/envs/LIMEtf/lib/python3.10/lib-dynload', '', '/Users/gali/anaconda3/envs/LIMEtf/lib/python3.10/site-packages', '/Users/gali/anaconda3/envs/LIMEtf/lib/python3.10/site-packages/setuptools/_vendor', '../', '../']\n"
     ]
    }
   ],
   "source": [
    "import importlib\n",
    "import sys\n",
    "sys.path.append('../')\n",
    "from Utils.perturbationsnew import RBPIndividual, RBPIndividualNew1, RBPIndividualNew1fast, RBPIndividualNew2, zeroPerturb, noisePerturb, blurPerturb,multisamplebackgroundIdentification\n",
    "from Utils.models import *\n",
    "from Utils.data import perturb, generateSynthetic, generateSyntheticPerturbReal,ReadTS\n",
    "\n",
    "print(sys.path)\n"
   ]
  },
  {
   "cell_type": "markdown",
   "id": "62b11ea0",
   "metadata": {},
   "source": [
    "## Test important content removal (accuracy decrease)"
   ]
  },
  {
   "cell_type": "markdown",
   "id": "5567ae62",
   "metadata": {},
   "source": [
    "### Load synthetic dataset and train CNN model "
   ]
  },
  {
   "cell_type": "code",
   "execution_count": 4,
   "id": "812c0d59",
   "metadata": {},
   "outputs": [
    {
     "name": "stdout",
     "output_type": "stream",
     "text": [
      "(3601, 500, 1)\n",
      "[0. 1. 0. ... 0. 1. 0.]\n"
     ]
    }
   ],
   "source": [
    "x_train, y_train,x_test_original, y_test_original = ReadTS('FordA')\n",
    "#y_train = y_train - 1\n",
    "#y_test_original = y_test_original - 1\n",
    "y_train = np.where(y_train == -1, 0, y_train)\n",
    "y_test_original = np.where(y_test_original == -1, 0, y_test_original)\n",
    "print(x_train.shape)\n",
    "print(y_train)"
   ]
  },
  {
   "cell_type": "code",
   "execution_count": 5,
   "id": "e74e1ca3-8fd2-4e4a-96a1-2ac583496cd7",
   "metadata": {},
   "outputs": [],
   "source": [
    "from sklearn.preprocessing import StandardScaler\n",
    "def normalize(TS):\n",
    "    # 获取原始数据集的形状\n",
    "    original_shape = TS.shape\n",
    "    \n",
    "    # 将数据集reshape成二维数组\n",
    "    TS_2d = TS.reshape(original_shape[0] , original_shape[1])\n",
    "    \n",
    "    # 初始化StandardScaler\n",
    "    scaler = StandardScaler()\n",
    "    \n",
    "    # 对数据集进行标准化\n",
    "    TS_normalized = scaler.fit_transform(TS_2d)\n",
    "    \n",
    "    # 将标准化后的数据集reshape回原始形状\n",
    "    TS = TS_normalized.reshape(original_shape)\n",
    "    \n",
    "    return TS\n",
    "\n",
    "x_train = normalize(x_train)\n",
    "x_test_original = normalize(x_test_original)\n",
    "#print(x_train)"
   ]
  },
  {
   "cell_type": "code",
   "execution_count": 7,
   "id": "c9911722",
   "metadata": {
    "scrolled": true
   },
   "outputs": [
    {
     "name": "stdout",
     "output_type": "stream",
     "text": [
      "Epoch 1/100\n",
      "90/90 [==============================] - 2s 20ms/step - loss: 0.5797 - sparse_categorical_accuracy: 0.6913 - val_loss: 0.7454 - val_sparse_categorical_accuracy: 0.4743\n",
      "Epoch 2/100\n",
      "90/90 [==============================] - 2s 20ms/step - loss: 0.4567 - sparse_categorical_accuracy: 0.7705 - val_loss: 0.8362 - val_sparse_categorical_accuracy: 0.4743\n",
      "Epoch 3/100\n",
      "90/90 [==============================] - 2s 21ms/step - loss: 0.4561 - sparse_categorical_accuracy: 0.7688 - val_loss: 0.7720 - val_sparse_categorical_accuracy: 0.4743\n",
      "Epoch 4/100\n",
      "90/90 [==============================] - 2s 21ms/step - loss: 0.4199 - sparse_categorical_accuracy: 0.7861 - val_loss: 0.6296 - val_sparse_categorical_accuracy: 0.6019\n",
      "Epoch 5/100\n",
      "90/90 [==============================] - 2s 21ms/step - loss: 0.4028 - sparse_categorical_accuracy: 0.8017 - val_loss: 0.5086 - val_sparse_categorical_accuracy: 0.7975\n",
      "Epoch 6/100\n",
      "90/90 [==============================] - 2s 22ms/step - loss: 0.4006 - sparse_categorical_accuracy: 0.7962 - val_loss: 0.6577 - val_sparse_categorical_accuracy: 0.6408\n",
      "Epoch 7/100\n",
      "90/90 [==============================] - 2s 20ms/step - loss: 0.3905 - sparse_categorical_accuracy: 0.8073 - val_loss: 0.4498 - val_sparse_categorical_accuracy: 0.7171\n",
      "Epoch 8/100\n",
      "90/90 [==============================] - 2s 21ms/step - loss: 0.3808 - sparse_categorical_accuracy: 0.8233 - val_loss: 0.8782 - val_sparse_categorical_accuracy: 0.6588\n",
      "Epoch 9/100\n",
      "90/90 [==============================] - 2s 22ms/step - loss: 0.3904 - sparse_categorical_accuracy: 0.8108 - val_loss: 0.6303 - val_sparse_categorical_accuracy: 0.6935\n",
      "Epoch 10/100\n",
      "90/90 [==============================] - 2s 22ms/step - loss: 0.3728 - sparse_categorical_accuracy: 0.8163 - val_loss: 0.5502 - val_sparse_categorical_accuracy: 0.6963\n",
      "Epoch 11/100\n",
      "90/90 [==============================] - 2s 23ms/step - loss: 0.3757 - sparse_categorical_accuracy: 0.8181 - val_loss: 0.6897 - val_sparse_categorical_accuracy: 0.6602\n",
      "Epoch 12/100\n",
      "90/90 [==============================] - 2s 23ms/step - loss: 0.3717 - sparse_categorical_accuracy: 0.8212 - val_loss: 0.3961 - val_sparse_categorical_accuracy: 0.8031\n",
      "Epoch 13/100\n",
      "90/90 [==============================] - 2s 24ms/step - loss: 0.3593 - sparse_categorical_accuracy: 0.8330 - val_loss: 0.3776 - val_sparse_categorical_accuracy: 0.8350\n",
      "Epoch 14/100\n",
      "90/90 [==============================] - 2s 24ms/step - loss: 0.3508 - sparse_categorical_accuracy: 0.8358 - val_loss: 0.3559 - val_sparse_categorical_accuracy: 0.8474\n",
      "Epoch 15/100\n",
      "90/90 [==============================] - 2s 24ms/step - loss: 0.3488 - sparse_categorical_accuracy: 0.8417 - val_loss: 0.3718 - val_sparse_categorical_accuracy: 0.8460\n",
      "Epoch 16/100\n",
      "90/90 [==============================] - 2s 25ms/step - loss: 0.3474 - sparse_categorical_accuracy: 0.8392 - val_loss: 0.4543 - val_sparse_categorical_accuracy: 0.7476\n",
      "Epoch 17/100\n",
      "90/90 [==============================] - 2s 25ms/step - loss: 0.3257 - sparse_categorical_accuracy: 0.8535 - val_loss: 0.3480 - val_sparse_categorical_accuracy: 0.8585\n",
      "Epoch 18/100\n",
      "90/90 [==============================] - 2s 24ms/step - loss: 0.3273 - sparse_categorical_accuracy: 0.8524 - val_loss: 0.4785 - val_sparse_categorical_accuracy: 0.7101\n",
      "Epoch 19/100\n",
      "90/90 [==============================] - 2s 23ms/step - loss: 0.3362 - sparse_categorical_accuracy: 0.8434 - val_loss: 0.3301 - val_sparse_categorical_accuracy: 0.8516\n",
      "Epoch 20/100\n",
      "90/90 [==============================] - 2s 24ms/step - loss: 0.3119 - sparse_categorical_accuracy: 0.8635 - val_loss: 0.4350 - val_sparse_categorical_accuracy: 0.7725\n",
      "Epoch 21/100\n",
      "90/90 [==============================] - 2s 23ms/step - loss: 0.3084 - sparse_categorical_accuracy: 0.8580 - val_loss: 0.6265 - val_sparse_categorical_accuracy: 0.6699\n",
      "Epoch 22/100\n",
      "90/90 [==============================] - 2s 23ms/step - loss: 0.3109 - sparse_categorical_accuracy: 0.8618 - val_loss: 0.3066 - val_sparse_categorical_accuracy: 0.8904\n",
      "Epoch 23/100\n",
      "90/90 [==============================] - 2s 24ms/step - loss: 0.3038 - sparse_categorical_accuracy: 0.8663 - val_loss: 0.5612 - val_sparse_categorical_accuracy: 0.6408\n",
      "Epoch 24/100\n",
      "90/90 [==============================] - 2s 24ms/step - loss: 0.2905 - sparse_categorical_accuracy: 0.8802 - val_loss: 0.3830 - val_sparse_categorical_accuracy: 0.7975\n",
      "Epoch 25/100\n",
      "90/90 [==============================] - 2s 23ms/step - loss: 0.2882 - sparse_categorical_accuracy: 0.8809 - val_loss: 0.4108 - val_sparse_categorical_accuracy: 0.8017\n",
      "Epoch 26/100\n",
      "90/90 [==============================] - 2s 23ms/step - loss: 0.2877 - sparse_categorical_accuracy: 0.8788 - val_loss: 0.3648 - val_sparse_categorical_accuracy: 0.8363\n",
      "Epoch 27/100\n",
      "90/90 [==============================] - 2s 23ms/step - loss: 0.2681 - sparse_categorical_accuracy: 0.8823 - val_loss: 0.4078 - val_sparse_categorical_accuracy: 0.7920\n",
      "Epoch 28/100\n",
      "90/90 [==============================] - 2s 24ms/step - loss: 0.2730 - sparse_categorical_accuracy: 0.8854 - val_loss: 0.3181 - val_sparse_categorical_accuracy: 0.8752\n",
      "Epoch 29/100\n",
      "90/90 [==============================] - 2s 24ms/step - loss: 0.2745 - sparse_categorical_accuracy: 0.8806 - val_loss: 0.2884 - val_sparse_categorical_accuracy: 0.9029\n",
      "Epoch 30/100\n",
      "90/90 [==============================] - 2s 24ms/step - loss: 0.2674 - sparse_categorical_accuracy: 0.8910 - val_loss: 0.3131 - val_sparse_categorical_accuracy: 0.8558\n",
      "Epoch 31/100\n",
      "90/90 [==============================] - 2s 24ms/step - loss: 0.2826 - sparse_categorical_accuracy: 0.8781 - val_loss: 0.2847 - val_sparse_categorical_accuracy: 0.9043\n",
      "Epoch 32/100\n",
      "90/90 [==============================] - 2s 26ms/step - loss: 0.2549 - sparse_categorical_accuracy: 0.8990 - val_loss: 0.3560 - val_sparse_categorical_accuracy: 0.8239\n",
      "Epoch 33/100\n",
      "90/90 [==============================] - 2s 24ms/step - loss: 0.2663 - sparse_categorical_accuracy: 0.8906 - val_loss: 0.3217 - val_sparse_categorical_accuracy: 0.8516\n",
      "Epoch 34/100\n",
      "90/90 [==============================] - 2s 24ms/step - loss: 0.2860 - sparse_categorical_accuracy: 0.8764 - val_loss: 0.3661 - val_sparse_categorical_accuracy: 0.8211\n",
      "Epoch 35/100\n",
      "90/90 [==============================] - 2s 24ms/step - loss: 0.2471 - sparse_categorical_accuracy: 0.9010 - val_loss: 0.3485 - val_sparse_categorical_accuracy: 0.8336\n",
      "Epoch 36/100\n",
      "90/90 [==============================] - 2s 24ms/step - loss: 0.2500 - sparse_categorical_accuracy: 0.8969 - val_loss: 0.6702 - val_sparse_categorical_accuracy: 0.7060\n",
      "Epoch 37/100\n",
      "90/90 [==============================] - 2s 24ms/step - loss: 0.2398 - sparse_categorical_accuracy: 0.9035 - val_loss: 0.4059 - val_sparse_categorical_accuracy: 0.8086\n",
      "Epoch 38/100\n",
      "90/90 [==============================] - 2s 24ms/step - loss: 0.2410 - sparse_categorical_accuracy: 0.8997 - val_loss: 0.2463 - val_sparse_categorical_accuracy: 0.9001\n",
      "Epoch 39/100\n",
      "90/90 [==============================] - 2s 23ms/step - loss: 0.2506 - sparse_categorical_accuracy: 0.8944 - val_loss: 0.3978 - val_sparse_categorical_accuracy: 0.7961\n",
      "Epoch 40/100\n",
      "90/90 [==============================] - 2s 24ms/step - loss: 0.2494 - sparse_categorical_accuracy: 0.8948 - val_loss: 0.2759 - val_sparse_categorical_accuracy: 0.8877\n",
      "Epoch 41/100\n",
      "90/90 [==============================] - 2s 23ms/step - loss: 0.2380 - sparse_categorical_accuracy: 0.8997 - val_loss: 0.7821 - val_sparse_categorical_accuracy: 0.7115\n",
      "Epoch 42/100\n",
      "90/90 [==============================] - 2s 24ms/step - loss: 0.2349 - sparse_categorical_accuracy: 0.9031 - val_loss: 0.2952 - val_sparse_categorical_accuracy: 0.8613\n",
      "Epoch 43/100\n",
      "90/90 [==============================] - 2s 23ms/step - loss: 0.2376 - sparse_categorical_accuracy: 0.8955 - val_loss: 0.5183 - val_sparse_categorical_accuracy: 0.7198\n",
      "Epoch 44/100\n",
      "90/90 [==============================] - 2s 23ms/step - loss: 0.2291 - sparse_categorical_accuracy: 0.9021 - val_loss: 0.2595 - val_sparse_categorical_accuracy: 0.9057\n",
      "Epoch 45/100\n",
      "90/90 [==============================] - 2s 24ms/step - loss: 0.2211 - sparse_categorical_accuracy: 0.9177 - val_loss: 0.2625 - val_sparse_categorical_accuracy: 0.9029\n",
      "Epoch 46/100\n",
      "90/90 [==============================] - 2s 24ms/step - loss: 0.2218 - sparse_categorical_accuracy: 0.9094 - val_loss: 0.2714 - val_sparse_categorical_accuracy: 0.8877\n",
      "Epoch 47/100\n",
      "90/90 [==============================] - 2s 25ms/step - loss: 0.2202 - sparse_categorical_accuracy: 0.9135 - val_loss: 0.3056 - val_sparse_categorical_accuracy: 0.8516\n",
      "Epoch 48/100\n",
      "90/90 [==============================] - 2s 24ms/step - loss: 0.2237 - sparse_categorical_accuracy: 0.9139 - val_loss: 0.3531 - val_sparse_categorical_accuracy: 0.8100\n",
      "Epoch 49/100\n",
      "90/90 [==============================] - 2s 22ms/step - loss: 0.2153 - sparse_categorical_accuracy: 0.9139 - val_loss: 0.2929 - val_sparse_categorical_accuracy: 0.8669\n",
      "Epoch 50/100\n",
      "90/90 [==============================] - 2s 22ms/step - loss: 0.2161 - sparse_categorical_accuracy: 0.9118 - val_loss: 0.2202 - val_sparse_categorical_accuracy: 0.9196\n",
      "Epoch 51/100\n",
      "90/90 [==============================] - 2s 23ms/step - loss: 0.2042 - sparse_categorical_accuracy: 0.9149 - val_loss: 0.2198 - val_sparse_categorical_accuracy: 0.9265\n",
      "Epoch 52/100\n",
      "90/90 [==============================] - 2s 24ms/step - loss: 0.2134 - sparse_categorical_accuracy: 0.9132 - val_loss: 0.3250 - val_sparse_categorical_accuracy: 0.8599\n",
      "Epoch 53/100\n",
      "90/90 [==============================] - 2s 23ms/step - loss: 0.1924 - sparse_categorical_accuracy: 0.9243 - val_loss: 0.3352 - val_sparse_categorical_accuracy: 0.8363\n",
      "Epoch 54/100\n",
      "90/90 [==============================] - 2s 23ms/step - loss: 0.1904 - sparse_categorical_accuracy: 0.9243 - val_loss: 0.4581 - val_sparse_categorical_accuracy: 0.7698\n",
      "Epoch 55/100\n",
      "90/90 [==============================] - 2s 24ms/step - loss: 0.1733 - sparse_categorical_accuracy: 0.9326 - val_loss: 0.2050 - val_sparse_categorical_accuracy: 0.9334\n",
      "Epoch 56/100\n",
      "90/90 [==============================] - 2s 24ms/step - loss: 0.1706 - sparse_categorical_accuracy: 0.9354 - val_loss: 0.2971 - val_sparse_categorical_accuracy: 0.8474\n",
      "Epoch 57/100\n",
      "90/90 [==============================] - 2s 23ms/step - loss: 0.1571 - sparse_categorical_accuracy: 0.9399 - val_loss: 0.1781 - val_sparse_categorical_accuracy: 0.9404\n",
      "Epoch 58/100\n",
      "90/90 [==============================] - 2s 23ms/step - loss: 0.1450 - sparse_categorical_accuracy: 0.9517 - val_loss: 0.1812 - val_sparse_categorical_accuracy: 0.9431\n",
      "Epoch 59/100\n",
      "90/90 [==============================] - 2s 23ms/step - loss: 0.1379 - sparse_categorical_accuracy: 0.9538 - val_loss: 0.7179 - val_sparse_categorical_accuracy: 0.7198\n",
      "Epoch 60/100\n",
      "90/90 [==============================] - 2s 24ms/step - loss: 0.1346 - sparse_categorical_accuracy: 0.9500 - val_loss: 0.2444 - val_sparse_categorical_accuracy: 0.9085\n",
      "Epoch 61/100\n",
      "90/90 [==============================] - 2s 25ms/step - loss: 0.1448 - sparse_categorical_accuracy: 0.9427 - val_loss: 0.1722 - val_sparse_categorical_accuracy: 0.9307\n",
      "Epoch 62/100\n",
      "90/90 [==============================] - 2s 24ms/step - loss: 0.1420 - sparse_categorical_accuracy: 0.9483 - val_loss: 0.1626 - val_sparse_categorical_accuracy: 0.9542\n",
      "Epoch 63/100\n",
      "90/90 [==============================] - 2s 24ms/step - loss: 0.1325 - sparse_categorical_accuracy: 0.9528 - val_loss: 0.2765 - val_sparse_categorical_accuracy: 0.8766\n",
      "Epoch 64/100\n",
      "90/90 [==============================] - 2s 23ms/step - loss: 0.1381 - sparse_categorical_accuracy: 0.9507 - val_loss: 0.3744 - val_sparse_categorical_accuracy: 0.8141\n",
      "Epoch 65/100\n",
      "90/90 [==============================] - 2s 24ms/step - loss: 0.1261 - sparse_categorical_accuracy: 0.9573 - val_loss: 0.2696 - val_sparse_categorical_accuracy: 0.8613\n",
      "Epoch 66/100\n",
      "90/90 [==============================] - 2s 23ms/step - loss: 0.1304 - sparse_categorical_accuracy: 0.9521 - val_loss: 0.3571 - val_sparse_categorical_accuracy: 0.8585\n",
      "Epoch 67/100\n",
      "90/90 [==============================] - 2s 23ms/step - loss: 0.1219 - sparse_categorical_accuracy: 0.9563 - val_loss: 0.9070 - val_sparse_categorical_accuracy: 0.6824\n",
      "Epoch 68/100\n",
      "90/90 [==============================] - 2s 23ms/step - loss: 0.1226 - sparse_categorical_accuracy: 0.9563 - val_loss: 0.9554 - val_sparse_categorical_accuracy: 0.6727\n",
      "Epoch 69/100\n",
      "90/90 [==============================] - 2s 22ms/step - loss: 0.1111 - sparse_categorical_accuracy: 0.9622 - val_loss: 0.2896 - val_sparse_categorical_accuracy: 0.8710\n",
      "Epoch 70/100\n",
      "90/90 [==============================] - 2s 23ms/step - loss: 0.1134 - sparse_categorical_accuracy: 0.9622 - val_loss: 0.4954 - val_sparse_categorical_accuracy: 0.7822\n",
      "Epoch 71/100\n",
      "90/90 [==============================] - 2s 24ms/step - loss: 0.1194 - sparse_categorical_accuracy: 0.9531 - val_loss: 2.5485 - val_sparse_categorical_accuracy: 0.5173\n",
      "Epoch 72/100\n",
      "90/90 [==============================] - 2s 23ms/step - loss: 0.1184 - sparse_categorical_accuracy: 0.9590 - val_loss: 0.5518 - val_sparse_categorical_accuracy: 0.7351\n",
      "Epoch 73/100\n",
      "90/90 [==============================] - 2s 23ms/step - loss: 0.1096 - sparse_categorical_accuracy: 0.9618 - val_loss: 0.6688 - val_sparse_categorical_accuracy: 0.7240\n",
      "Epoch 74/100\n",
      "90/90 [==============================] - 2s 23ms/step - loss: 0.1024 - sparse_categorical_accuracy: 0.9635 - val_loss: 0.5851 - val_sparse_categorical_accuracy: 0.7559\n",
      "Epoch 75/100\n",
      "90/90 [==============================] - 2s 24ms/step - loss: 0.1104 - sparse_categorical_accuracy: 0.9663 - val_loss: 0.1505 - val_sparse_categorical_accuracy: 0.9528\n",
      "Epoch 76/100\n",
      "90/90 [==============================] - 2s 24ms/step - loss: 0.1060 - sparse_categorical_accuracy: 0.9639 - val_loss: 0.1408 - val_sparse_categorical_accuracy: 0.9612\n",
      "Epoch 77/100\n",
      "90/90 [==============================] - 2s 24ms/step - loss: 0.1070 - sparse_categorical_accuracy: 0.9653 - val_loss: 0.2934 - val_sparse_categorical_accuracy: 0.8655\n",
      "Epoch 78/100\n",
      "90/90 [==============================] - 2s 24ms/step - loss: 0.1212 - sparse_categorical_accuracy: 0.9563 - val_loss: 1.8293 - val_sparse_categorical_accuracy: 0.6755\n",
      "Epoch 79/100\n",
      "90/90 [==============================] - 2s 24ms/step - loss: 0.1039 - sparse_categorical_accuracy: 0.9635 - val_loss: 0.1952 - val_sparse_categorical_accuracy: 0.9140\n",
      "Epoch 80/100\n",
      "90/90 [==============================] - 2s 25ms/step - loss: 0.0984 - sparse_categorical_accuracy: 0.9653 - val_loss: 0.7384 - val_sparse_categorical_accuracy: 0.7115\n",
      "Epoch 81/100\n",
      "90/90 [==============================] - 2s 26ms/step - loss: 0.1246 - sparse_categorical_accuracy: 0.9559 - val_loss: 0.8087 - val_sparse_categorical_accuracy: 0.7115\n",
      "Epoch 82/100\n",
      "90/90 [==============================] - 2s 26ms/step - loss: 0.1027 - sparse_categorical_accuracy: 0.9628 - val_loss: 0.1965 - val_sparse_categorical_accuracy: 0.9140\n",
      "Epoch 83/100\n",
      "90/90 [==============================] - 2s 26ms/step - loss: 0.0959 - sparse_categorical_accuracy: 0.9667 - val_loss: 0.2255 - val_sparse_categorical_accuracy: 0.8904\n",
      "Epoch 84/100\n",
      "90/90 [==============================] - 2s 26ms/step - loss: 0.1000 - sparse_categorical_accuracy: 0.9663 - val_loss: 0.3122 - val_sparse_categorical_accuracy: 0.8377\n",
      "Epoch 85/100\n",
      "90/90 [==============================] - 2s 25ms/step - loss: 0.0976 - sparse_categorical_accuracy: 0.9632 - val_loss: 0.5873 - val_sparse_categorical_accuracy: 0.7601\n",
      "Epoch 86/100\n",
      "90/90 [==============================] - 2s 25ms/step - loss: 0.1037 - sparse_categorical_accuracy: 0.9611 - val_loss: 0.2277 - val_sparse_categorical_accuracy: 0.8918\n",
      "Epoch 87/100\n",
      "90/90 [==============================] - 2s 25ms/step - loss: 0.1024 - sparse_categorical_accuracy: 0.9632 - val_loss: 0.1723 - val_sparse_categorical_accuracy: 0.9307\n",
      "Epoch 88/100\n",
      "90/90 [==============================] - 2s 27ms/step - loss: 0.0989 - sparse_categorical_accuracy: 0.9674 - val_loss: 0.1329 - val_sparse_categorical_accuracy: 0.9626\n",
      "Epoch 89/100\n",
      "90/90 [==============================] - 2s 25ms/step - loss: 0.1012 - sparse_categorical_accuracy: 0.9667 - val_loss: 0.1257 - val_sparse_categorical_accuracy: 0.9570\n",
      "Epoch 90/100\n",
      "90/90 [==============================] - 2s 23ms/step - loss: 0.0910 - sparse_categorical_accuracy: 0.9691 - val_loss: 0.3198 - val_sparse_categorical_accuracy: 0.8294\n",
      "Epoch 91/100\n",
      "90/90 [==============================] - 2s 22ms/step - loss: 0.1007 - sparse_categorical_accuracy: 0.9622 - val_loss: 0.4006 - val_sparse_categorical_accuracy: 0.8252\n",
      "Epoch 92/100\n",
      "90/90 [==============================] - 2s 23ms/step - loss: 0.0980 - sparse_categorical_accuracy: 0.9677 - val_loss: 0.1770 - val_sparse_categorical_accuracy: 0.9293\n",
      "Epoch 93/100\n",
      "90/90 [==============================] - 2s 25ms/step - loss: 0.0903 - sparse_categorical_accuracy: 0.9663 - val_loss: 0.1556 - val_sparse_categorical_accuracy: 0.9459\n",
      "Epoch 94/100\n",
      "90/90 [==============================] - 2s 24ms/step - loss: 0.0991 - sparse_categorical_accuracy: 0.9656 - val_loss: 0.1167 - val_sparse_categorical_accuracy: 0.9626\n",
      "Epoch 95/100\n",
      "90/90 [==============================] - 2s 25ms/step - loss: 0.0897 - sparse_categorical_accuracy: 0.9705 - val_loss: 0.3249 - val_sparse_categorical_accuracy: 0.8571\n",
      "Epoch 96/100\n",
      "90/90 [==============================] - 2s 25ms/step - loss: 0.0981 - sparse_categorical_accuracy: 0.9628 - val_loss: 0.2829 - val_sparse_categorical_accuracy: 0.8669\n",
      "Epoch 97/100\n",
      "90/90 [==============================] - 2s 25ms/step - loss: 0.0859 - sparse_categorical_accuracy: 0.9729 - val_loss: 0.1966 - val_sparse_categorical_accuracy: 0.9293\n",
      "Epoch 98/100\n",
      "90/90 [==============================] - 2s 25ms/step - loss: 0.0909 - sparse_categorical_accuracy: 0.9708 - val_loss: 0.1251 - val_sparse_categorical_accuracy: 0.9681\n",
      "Epoch 99/100\n",
      "90/90 [==============================] - 2s 26ms/step - loss: 0.0916 - sparse_categorical_accuracy: 0.9684 - val_loss: 0.5726 - val_sparse_categorical_accuracy: 0.7684\n",
      "Epoch 100/100\n",
      "90/90 [==============================] - 2s 26ms/step - loss: 0.0880 - sparse_categorical_accuracy: 0.9684 - val_loss: 0.1217 - val_sparse_categorical_accuracy: 0.9639\n"
     ]
    }
   ],
   "source": [
    "model = make_CNN_model(x_train.shape[1:],num_classes = 2)\n",
    "trained_model, history = train_CNN_model(model, x_train, y_train, epochs=100, batch_size=32)"
   ]
  },
  {
   "cell_type": "code",
   "execution_count": 8,
   "id": "227e6120",
   "metadata": {},
   "outputs": [
    {
     "name": "stdout",
     "output_type": "stream",
     "text": [
      "42/42 [==============================] - 0s 5ms/step - loss: 0.1119 - sparse_categorical_accuracy: 0.9674\n",
      "Test accuracy 0.967424213886261\n",
      "Test loss 0.11185255646705627\n"
     ]
    }
   ],
   "source": [
    "test_loss, test_acc = trained_model.evaluate(x_test_original, y_test_original)\n",
    "\n",
    "print(\"Test accuracy\", test_acc)\n",
    "print(\"Test loss\", test_loss)"
   ]
  },
  {
   "cell_type": "markdown",
   "id": "4773dace",
   "metadata": {},
   "source": [
    "### Create perturbed test sets and calculate decrease in accuracy"
   ]
  },
  {
   "cell_type": "code",
   "execution_count": 9,
   "id": "b854bfe4-2303-44a0-bef5-eb3c738da9e9",
   "metadata": {},
   "outputs": [
    {
     "name": "stdout",
     "output_type": "stream",
     "text": [
      "(1320,)\n"
     ]
    }
   ],
   "source": [
    "print(y_test_original.shape)"
   ]
  },
  {
   "cell_type": "code",
   "execution_count": 10,
   "id": "ffd7c678-03f4-47ae-a1f9-45e0c185580e",
   "metadata": {},
   "outputs": [
    {
     "name": "stdout",
     "output_type": "stream",
     "text": [
      "def perturb(perturbation_strategy, ts, index0, index1, global_ts = [],bg = []):\n",
      "    if perturbation_strategy == 'RBP':\n",
      "        return RBPIndividual(ts, index0, index1)\n",
      "    if perturbation_strategy == 'zero':\n",
      "        return zeroPerturb(ts, index0, index1)\n",
      "    if perturbation_strategy == 'noise':\n",
      "        return noisePerturb(ts, index0, index1)\n",
      "    if perturbation_strategy == 'blur':\n",
      "        return blurPerturb(ts, index0, index1)\n",
      "    if perturbation_strategy == 'RBP1':\n",
      "        return RBPIndividualNew1(global_ts, ts, index0, index1) \n",
      "    if perturbation_strategy == 'RBP1fast':\n",
      "        return RBPIndividualNew1fast(bg, ts, index0, index1)  \n",
      "    if perturbation_strategy == 'RBP2':\n",
      "        return RBPIndividualNew2(global_ts, ts, index0, index1)    \n",
      "\n",
      "(perturbation_strategy, ts, index0, index1, global_ts=[], bg=[])\n"
     ]
    }
   ],
   "source": [
    "print(inspect.getsource(perturb))\n",
    "print(inspect.signature(perturb))"
   ]
  },
  {
   "cell_type": "code",
   "execution_count": 11,
   "id": "4c579fb7",
   "metadata": {},
   "outputs": [
    {
     "name": "stdout",
     "output_type": "stream",
     "text": [
      "42/42 [==============================] - 0s 4ms/step\n",
      "42/42 [==============================] - 0s 4ms/step\n",
      "42/42 [==============================] - 0s 4ms/step\n",
      "42/42 [==============================] - 0s 4ms/step\n",
      "42/42 [==============================] - 0s 4ms/step\n"
     ]
    }
   ],
   "source": [
    "predictions_original = model.predict(x_test_original)\n",
    "perturb_test_set = x_test_original.copy()\n",
    "perturb_test_set = perturb_test_set.reshape(x_test_original.shape[0:2])\n",
    "index_0 = 30\n",
    "index_1 = 60\n",
    "x_test_rbp = np.asarray([perturb('RBP',x,index_0,index_1) for x in perturb_test_set])\n",
    "x_test_rbp = np.expand_dims(x_test_rbp, axis=-1)\n",
    "predictions_rbp = model.predict(x_test_rbp)\n",
    "\n",
    "bg = multisamplebackgroundIdentification(perturb_test_set)\n",
    "x_test_new1 = np.asarray([perturb('RBP1fast',x,index_0,index_1, bg = bg) for x in perturb_test_set])\n",
    "x_test_new1 = np.expand_dims(x_test_new1, axis=-1)\n",
    "predictions_new1 = model.predict(x_test_new1)\n",
    "\n",
    "#x_test_new2 = np.asarray([perturb('RBP2',x,400,500, global_ts = perturb_test_set) for x in perturb_test_set])\n",
    "#x_test_new2 = np.expand_dims(x_test_new2, axis=-1)\n",
    "#predictions_new2 = model.predict(x_test_new2)\n",
    "\n",
    "x_test_zero = np.asarray([perturb('zero',x,index_0,index_1) for x in perturb_test_set])\n",
    "x_test_zero = np.expand_dims(x_test_zero, axis=-1)\n",
    "predictions_zero = model.predict(x_test_zero)\n",
    "\n",
    "#x_test_noise = np.asarray([perturb('noise',x,index_0,index_1) for x in perturb_test_set])\n",
    "#x_test_noise = np.expand_dims(x_test_noise, axis=-1)\n",
    "#predictions_noise = model.predict(x_test_noise)\n",
    "\n",
    "x_test_blur = np.asarray([perturb('blur',x,index_0,index_1) for x in perturb_test_set])\n",
    "x_test_blur = np.expand_dims(x_test_blur, axis=-1)\n",
    "predictions_blur = model.predict(x_test_blur)"
   ]
  },
  {
   "cell_type": "code",
   "execution_count": 12,
   "id": "069af343-0cfa-4787-b5d4-170f885bb59d",
   "metadata": {},
   "outputs": [
    {
     "name": "stdout",
     "output_type": "stream",
     "text": [
      "4.082597473889204\n",
      "5.224580026282833\n",
      "5.100508284019909\n",
      "0.32817331710058933\n"
     ]
    }
   ],
   "source": [
    "def l2norm(perturb):\n",
    "    # 计算两个数组之间的差\n",
    "    difference = perturb - x_test_original\n",
    "    \n",
    "    # 计算差的平方\n",
    "    squared_difference = np.square(difference)\n",
    "    \n",
    "    # 计算平方和，沿着特征维度（axis=1），因为每个时间序列样本是一行\n",
    "    sum_of_squares = np.sum(squared_difference, axis=1)\n",
    "    \n",
    "    # 计算平方和的平方根，即l2范数\n",
    "    l2_norms = np.sqrt(sum_of_squares)\n",
    "    \n",
    "    average_l2_norm = np.mean(l2_norms)\n",
    "    \n",
    "    # l2_norms现在是一个形状为(467,)的数组，其中每个元素代表\n",
    "    # 对应时间序列样本之间的l2范数\n",
    "    print(average_l2_norm)  # 输出: (467,)\n",
    "\n",
    "l2norm(x_test_rbp)\n",
    "l2norm(x_test_new1)\n",
    "l2norm(x_test_zero)\n",
    "#l2norm(x_test_noise)\n",
    "l2norm(x_test_blur)"
   ]
  },
  {
   "cell_type": "code",
   "execution_count": 13,
   "id": "b5d3f821",
   "metadata": {},
   "outputs": [],
   "source": [
    "def accuracy(predictions, labels):\n",
    "    hits = 0\n",
    "    for i in range(0,len(predictions)):\n",
    "        if predictions[i] == labels[i]:\n",
    "            hits += 1\n",
    "    return hits/len(predictions)"
   ]
  },
  {
   "cell_type": "code",
   "execution_count": 14,
   "id": "89f21d47",
   "metadata": {},
   "outputs": [],
   "source": [
    "original_accuracy = accuracy(np.argmax(predictions_original,axis=1), y_test_original)\n",
    "rbp_accuracy = accuracy(np.argmax(predictions_rbp,axis=1), y_test_original)\n",
    "new1_accuracy = accuracy(np.argmax(predictions_new1,axis=1), y_test_original)\n",
    "#new2_accuracy = accuracy(np.argmax(predictions_new2,axis=1), y_test_original)\n",
    "zero_accuracy = accuracy(np.argmax(predictions_zero,axis=1), y_test_original)\n",
    "#noise_accuracy = accuracy(np.argmax(predictions_noise,axis=1), y_test_original)\n",
    "blur_accuracy = accuracy(np.argmax(predictions_blur,axis=1), y_test_original)"
   ]
  },
  {
   "cell_type": "code",
   "execution_count": 15,
   "id": "e52c9d2e",
   "metadata": {},
   "outputs": [
    {
     "name": "stdout",
     "output_type": "stream",
     "text": [
      " Original Accuracy: 0.9674242424242424\n",
      " RBP Accuracy: 0.8651515151515151\n",
      " RBP1 Accuracy: 0.5181818181818182\n",
      " Zero Accuracy: 0.8492424242424242\n",
      " Blur Accuracy: 0.8946969696969697\n",
      "\n"
     ]
    }
   ],
   "source": [
    "print(\" Original Accuracy: \" + str(original_accuracy) + \"\\n\"+\n",
    "    \" RBP Accuracy: \" + str(rbp_accuracy) + \"\\n\"+\n",
    "    \" RBP1 Accuracy: \" + str(new1_accuracy) + \"\\n\"+\n",
    "    #\" RBP2 Accuracy: \" + str(new2_accuracy) + \"\\n\"+\n",
    "      \n",
    "    \" Zero Accuracy: \" + str(zero_accuracy) + \"\\n\"+\n",
    "    #\" Noise Accuracy: \" + str(noise_accuracy) + \"\\n\"+\n",
    "    \" Blur Accuracy: \" + str(blur_accuracy) + \"\\n\")"
   ]
  },
  {
   "cell_type": "code",
   "execution_count": null,
   "id": "16f40d52-f9f5-4ef3-907e-f1e289c12da1",
   "metadata": {},
   "outputs": [],
   "source": []
  }
 ],
 "metadata": {
  "kernelspec": {
   "display_name": "lime_tf",
   "language": "python",
   "name": "limetf"
  },
  "language_info": {
   "codemirror_mode": {
    "name": "ipython",
    "version": 3
   },
   "file_extension": ".py",
   "mimetype": "text/x-python",
   "name": "python",
   "nbconvert_exporter": "python",
   "pygments_lexer": "ipython3",
   "version": "3.10.13"
  }
 },
 "nbformat": 4,
 "nbformat_minor": 5
}
