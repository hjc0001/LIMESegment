{
 "cells": [
  {
   "cell_type": "code",
   "execution_count": 1,
   "id": "dd9bd814",
   "metadata": {},
   "outputs": [],
   "source": [
    "import numpy as np\n",
    "import matplotlib.pyplot as plt\n",
    "import inspect"
   ]
  },
  {
   "cell_type": "code",
   "execution_count": 2,
   "id": "2439de23",
   "metadata": {},
   "outputs": [
    {
     "name": "stdout",
     "output_type": "stream",
     "text": [
      "['/Users/gali/anaconda3/envs/LIMEtf/lib/python310.zip', '/Users/gali/anaconda3/envs/LIMEtf/lib/python3.10', '/Users/gali/anaconda3/envs/LIMEtf/lib/python3.10/lib-dynload', '', '/Users/gali/anaconda3/envs/LIMEtf/lib/python3.10/site-packages', '/Users/gali/anaconda3/envs/LIMEtf/lib/python3.10/site-packages/setuptools/_vendor', '../', '../']\n"
     ]
    }
   ],
   "source": [
    "import importlib\n",
    "import sys\n",
    "sys.path.append('../')\n",
    "from Utils.perturbationsnew import RBPIndividual, RBPIndividualNew1, RBPIndividualNew1fast, RBPIndividualNew2, zeroPerturb, noisePerturb, blurPerturb,multisamplebackgroundIdentification\n",
    "from Utils.models import *\n",
    "from Utils.data import perturb, generateSynthetic, generateSyntheticPerturbReal,ReadTS\n",
    "\n",
    "print(sys.path)\n"
   ]
  },
  {
   "cell_type": "markdown",
   "id": "62b11ea0",
   "metadata": {},
   "source": [
    "## Test important content removal (accuracy decrease)"
   ]
  },
  {
   "cell_type": "markdown",
   "id": "5567ae62",
   "metadata": {},
   "source": [
    "### Load synthetic dataset and train CNN model "
   ]
  },
  {
   "cell_type": "code",
   "execution_count": 3,
   "id": "812c0d59",
   "metadata": {},
   "outputs": [
    {
     "name": "stdout",
     "output_type": "stream",
     "text": [
      "(399, 80, 1)\n",
      "[5. 5. 5. 5. 5. 5. 5. 5. 5. 5. 5. 5. 5. 5. 5. 5. 5. 5. 5. 5. 5. 2. 5. 5.\n",
      " 5. 5. 5. 5. 3. 5. 2. 5. 5. 5. 5. 4. 5. 2. 5. 5. 5. 5. 5. 5. 5. 5. 2. 3.\n",
      " 3. 2. 4. 5. 2. 5. 4. 5. 5. 0. 5. 5. 5. 5. 5. 1. 5. 1. 5. 2. 1. 2. 1. 5.\n",
      " 2. 0. 5. 0. 3. 4. 0. 1. 2. 0. 1. 4. 1. 3. 1. 5. 4. 0. 5. 5. 0. 4. 5. 5.\n",
      " 5. 0. 1. 0. 4. 0. 1. 5. 2. 0. 3. 1. 1. 1. 2. 1. 1. 5. 1. 1. 1. 5. 1. 4.\n",
      " 1. 2. 5. 5. 0. 3. 1. 5. 3. 5. 5. 5. 1. 0. 5. 1. 0. 1. 2. 1. 3. 0. 1. 1.\n",
      " 2. 4. 3. 1. 0. 5. 3. 5. 1. 1. 1. 5. 2. 0. 0. 5. 1. 0. 4. 5. 5. 1. 3. 0.\n",
      " 0. 0. 1. 1. 5. 1. 5. 4. 5. 3. 4. 1. 0. 5. 5. 1. 0. 3. 0. 1. 2. 1. 5. 0.\n",
      " 0. 2. 5. 1. 0. 1. 1. 5. 1. 5. 5. 2. 3. 0. 5. 5. 0. 1. 0. 5. 2. 5. 5. 5.\n",
      " 5. 5. 5. 2. 5. 2. 0. 0. 2. 1. 5. 5. 0. 5. 5. 5. 1. 1. 5. 0. 1. 1. 5. 2.\n",
      " 0. 4. 5. 1. 2. 1. 5. 4. 1. 5. 2. 5. 5. 4. 1. 5. 2. 5. 1. 5. 5. 4. 5. 3.\n",
      " 1. 5. 3. 2. 2. 5. 5. 5. 3. 1. 5. 0. 5. 4. 5. 4. 1. 5. 5. 0. 3. 1. 2. 1.\n",
      " 1. 2. 0. 5. 5. 0. 1. 5. 2. 4. 0. 3. 2. 5. 1. 5. 3. 1. 5. 3. 2. 5. 1. 0.\n",
      " 4. 5. 1. 0. 2. 0. 5. 1. 4. 5. 2. 3. 0. 1. 5. 1. 5. 1. 0. 5. 4. 0. 1. 1.\n",
      " 1. 4. 5. 5. 5. 1. 2. 3. 5. 0. 1. 2. 5. 0. 5. 5. 0. 0. 5. 5. 3. 5. 5. 5.\n",
      " 5. 3. 2. 5. 5. 2. 5. 0. 3. 3. 5. 5. 5. 5. 5. 1. 0. 1. 5. 1. 2. 5. 1. 2.\n",
      " 5. 2. 3. 1. 1. 0. 1. 1. 3. 4. 0. 0. 0. 5. 1.]\n"
     ]
    }
   ],
   "source": [
    "x_train, y_train,x_test_original, y_test_original = ReadTS('MiddlePhalanxTW')\n",
    "y_train = y_train - 3\n",
    "y_test_original = y_test_original - 3\n",
    "print(x_train.shape)\n",
    "print(y_train)"
   ]
  },
  {
   "cell_type": "code",
   "execution_count": 4,
   "id": "e74e1ca3-8fd2-4e4a-96a1-2ac583496cd7",
   "metadata": {},
   "outputs": [],
   "source": [
    "from sklearn.preprocessing import StandardScaler\n",
    "def normalize(TS):\n",
    "    # 获取原始数据集的形状\n",
    "    original_shape = TS.shape\n",
    "    \n",
    "    # 将数据集reshape成二维数组\n",
    "    TS_2d = TS.reshape(original_shape[0] , original_shape[1])\n",
    "    \n",
    "    # 初始化StandardScaler\n",
    "    scaler = StandardScaler()\n",
    "    \n",
    "    # 对数据集进行标准化\n",
    "    TS_normalized = scaler.fit_transform(TS_2d)\n",
    "    \n",
    "    # 将标准化后的数据集reshape回原始形状\n",
    "    TS = TS_normalized.reshape(original_shape)\n",
    "    \n",
    "    return TS\n",
    "\n",
    "x_train = normalize(x_train)\n",
    "x_test_original = normalize(x_test_original)\n",
    "#print(x_train)"
   ]
  },
  {
   "cell_type": "code",
   "execution_count": 5,
   "id": "c9911722",
   "metadata": {
    "scrolled": true
   },
   "outputs": [
    {
     "name": "stdout",
     "output_type": "stream",
     "text": [
      "Epoch 1/100\n"
     ]
    },
    {
     "name": "stderr",
     "output_type": "stream",
     "text": [
      "2024-11-30 11:23:10.284869: W tensorflow/tsl/platform/profile_utils/cpu_utils.cc:128] Failed to get CPU frequency: 0 Hz\n"
     ]
    },
    {
     "name": "stdout",
     "output_type": "stream",
     "text": [
      "10/10 [==============================] - 0s 16ms/step - loss: 1.7746 - sparse_categorical_accuracy: 0.3072 - val_loss: 1.7988 - val_sparse_categorical_accuracy: 0.1625\n",
      "Epoch 2/100\n",
      "10/10 [==============================] - 0s 7ms/step - loss: 1.4576 - sparse_categorical_accuracy: 0.5580 - val_loss: 1.7302 - val_sparse_categorical_accuracy: 0.4000\n",
      "Epoch 3/100\n",
      "10/10 [==============================] - 0s 8ms/step - loss: 1.3272 - sparse_categorical_accuracy: 0.5925 - val_loss: 1.6700 - val_sparse_categorical_accuracy: 0.3875\n",
      "Epoch 4/100\n",
      "10/10 [==============================] - 0s 7ms/step - loss: 1.2470 - sparse_categorical_accuracy: 0.5925 - val_loss: 1.6427 - val_sparse_categorical_accuracy: 0.3750\n",
      "Epoch 5/100\n",
      "10/10 [==============================] - 0s 7ms/step - loss: 1.1968 - sparse_categorical_accuracy: 0.6019 - val_loss: 1.6307 - val_sparse_categorical_accuracy: 0.3750\n",
      "Epoch 6/100\n",
      "10/10 [==============================] - 0s 7ms/step - loss: 1.1313 - sparse_categorical_accuracy: 0.6332 - val_loss: 1.6216 - val_sparse_categorical_accuracy: 0.3750\n",
      "Epoch 7/100\n",
      "10/10 [==============================] - 0s 6ms/step - loss: 1.0979 - sparse_categorical_accuracy: 0.6207 - val_loss: 1.6247 - val_sparse_categorical_accuracy: 0.3750\n",
      "Epoch 8/100\n",
      "10/10 [==============================] - 0s 7ms/step - loss: 1.0670 - sparse_categorical_accuracy: 0.6458 - val_loss: 1.6344 - val_sparse_categorical_accuracy: 0.3750\n",
      "Epoch 9/100\n",
      "10/10 [==============================] - 0s 7ms/step - loss: 1.0367 - sparse_categorical_accuracy: 0.6583 - val_loss: 1.6291 - val_sparse_categorical_accuracy: 0.3750\n",
      "Epoch 10/100\n",
      "10/10 [==============================] - 0s 7ms/step - loss: 1.0293 - sparse_categorical_accuracy: 0.6583 - val_loss: 1.6365 - val_sparse_categorical_accuracy: 0.3625\n",
      "Epoch 11/100\n",
      "10/10 [==============================] - 0s 7ms/step - loss: 1.0008 - sparse_categorical_accuracy: 0.6583 - val_loss: 1.6457 - val_sparse_categorical_accuracy: 0.3750\n",
      "Epoch 12/100\n",
      "10/10 [==============================] - 0s 8ms/step - loss: 0.9705 - sparse_categorical_accuracy: 0.6771 - val_loss: 1.6480 - val_sparse_categorical_accuracy: 0.3625\n",
      "Epoch 13/100\n",
      "10/10 [==============================] - 0s 7ms/step - loss: 0.9758 - sparse_categorical_accuracy: 0.6646 - val_loss: 1.6652 - val_sparse_categorical_accuracy: 0.3625\n",
      "Epoch 14/100\n",
      "10/10 [==============================] - 0s 7ms/step - loss: 0.9506 - sparse_categorical_accuracy: 0.6552 - val_loss: 1.6811 - val_sparse_categorical_accuracy: 0.3625\n",
      "Epoch 15/100\n",
      "10/10 [==============================] - 0s 7ms/step - loss: 0.9347 - sparse_categorical_accuracy: 0.6740 - val_loss: 1.6507 - val_sparse_categorical_accuracy: 0.3625\n",
      "Epoch 16/100\n",
      "10/10 [==============================] - 0s 8ms/step - loss: 0.9218 - sparse_categorical_accuracy: 0.6771 - val_loss: 1.7017 - val_sparse_categorical_accuracy: 0.3625\n",
      "Epoch 17/100\n",
      "10/10 [==============================] - 0s 9ms/step - loss: 0.9227 - sparse_categorical_accuracy: 0.6865 - val_loss: 1.6056 - val_sparse_categorical_accuracy: 0.4250\n",
      "Epoch 18/100\n",
      "10/10 [==============================] - 0s 7ms/step - loss: 0.9084 - sparse_categorical_accuracy: 0.6614 - val_loss: 1.8557 - val_sparse_categorical_accuracy: 0.3625\n",
      "Epoch 19/100\n",
      "10/10 [==============================] - 0s 8ms/step - loss: 0.8985 - sparse_categorical_accuracy: 0.6865 - val_loss: 1.6041 - val_sparse_categorical_accuracy: 0.5500\n",
      "Epoch 20/100\n",
      "10/10 [==============================] - 0s 7ms/step - loss: 0.8803 - sparse_categorical_accuracy: 0.7053 - val_loss: 1.7995 - val_sparse_categorical_accuracy: 0.3625\n",
      "Epoch 21/100\n",
      "10/10 [==============================] - 0s 7ms/step - loss: 0.8662 - sparse_categorical_accuracy: 0.6897 - val_loss: 1.6217 - val_sparse_categorical_accuracy: 0.4250\n",
      "Epoch 22/100\n",
      "10/10 [==============================] - 0s 7ms/step - loss: 0.8740 - sparse_categorical_accuracy: 0.6928 - val_loss: 1.6336 - val_sparse_categorical_accuracy: 0.3625\n",
      "Epoch 23/100\n",
      "10/10 [==============================] - 0s 7ms/step - loss: 0.8490 - sparse_categorical_accuracy: 0.6834 - val_loss: 1.6208 - val_sparse_categorical_accuracy: 0.3625\n",
      "Epoch 24/100\n",
      "10/10 [==============================] - 0s 9ms/step - loss: 0.8525 - sparse_categorical_accuracy: 0.6708 - val_loss: 1.5695 - val_sparse_categorical_accuracy: 0.4125\n",
      "Epoch 25/100\n",
      "10/10 [==============================] - 0s 7ms/step - loss: 0.8438 - sparse_categorical_accuracy: 0.6928 - val_loss: 1.5724 - val_sparse_categorical_accuracy: 0.3750\n",
      "Epoch 26/100\n",
      "10/10 [==============================] - 0s 9ms/step - loss: 0.8233 - sparse_categorical_accuracy: 0.7116 - val_loss: 1.5463 - val_sparse_categorical_accuracy: 0.4750\n",
      "Epoch 27/100\n",
      "10/10 [==============================] - 0s 7ms/step - loss: 0.8271 - sparse_categorical_accuracy: 0.6991 - val_loss: 1.5545 - val_sparse_categorical_accuracy: 0.3875\n",
      "Epoch 28/100\n",
      "10/10 [==============================] - 0s 7ms/step - loss: 0.8433 - sparse_categorical_accuracy: 0.6991 - val_loss: 1.5585 - val_sparse_categorical_accuracy: 0.4500\n",
      "Epoch 29/100\n",
      "10/10 [==============================] - 0s 9ms/step - loss: 0.8059 - sparse_categorical_accuracy: 0.6897 - val_loss: 1.5129 - val_sparse_categorical_accuracy: 0.5750\n",
      "Epoch 30/100\n",
      "10/10 [==============================] - 0s 7ms/step - loss: 0.8149 - sparse_categorical_accuracy: 0.7022 - val_loss: 1.5215 - val_sparse_categorical_accuracy: 0.5625\n",
      "Epoch 31/100\n",
      "10/10 [==============================] - 0s 8ms/step - loss: 0.8042 - sparse_categorical_accuracy: 0.7179 - val_loss: 1.5513 - val_sparse_categorical_accuracy: 0.4000\n",
      "Epoch 32/100\n",
      "10/10 [==============================] - 0s 7ms/step - loss: 0.8043 - sparse_categorical_accuracy: 0.7179 - val_loss: 1.5595 - val_sparse_categorical_accuracy: 0.4000\n",
      "Epoch 33/100\n",
      "10/10 [==============================] - 0s 7ms/step - loss: 0.8063 - sparse_categorical_accuracy: 0.7085 - val_loss: 1.5314 - val_sparse_categorical_accuracy: 0.4125\n",
      "Epoch 34/100\n",
      "10/10 [==============================] - 0s 9ms/step - loss: 0.7982 - sparse_categorical_accuracy: 0.6959 - val_loss: 1.4752 - val_sparse_categorical_accuracy: 0.5625\n",
      "Epoch 35/100\n",
      "10/10 [==============================] - 0s 9ms/step - loss: 0.8015 - sparse_categorical_accuracy: 0.6897 - val_loss: 1.3646 - val_sparse_categorical_accuracy: 0.6000\n",
      "Epoch 36/100\n",
      "10/10 [==============================] - 0s 8ms/step - loss: 0.7732 - sparse_categorical_accuracy: 0.7147 - val_loss: 1.4279 - val_sparse_categorical_accuracy: 0.5875\n",
      "Epoch 37/100\n",
      "10/10 [==============================] - 0s 7ms/step - loss: 0.7713 - sparse_categorical_accuracy: 0.7179 - val_loss: 1.3727 - val_sparse_categorical_accuracy: 0.5750\n",
      "Epoch 38/100\n",
      "10/10 [==============================] - 0s 7ms/step - loss: 0.7662 - sparse_categorical_accuracy: 0.7210 - val_loss: 1.4166 - val_sparse_categorical_accuracy: 0.5750\n",
      "Epoch 39/100\n",
      "10/10 [==============================] - 0s 7ms/step - loss: 0.7778 - sparse_categorical_accuracy: 0.7304 - val_loss: 1.6219 - val_sparse_categorical_accuracy: 0.2250\n",
      "Epoch 40/100\n",
      "10/10 [==============================] - 0s 7ms/step - loss: 0.7785 - sparse_categorical_accuracy: 0.7179 - val_loss: 2.1921 - val_sparse_categorical_accuracy: 0.3750\n",
      "Epoch 41/100\n",
      "10/10 [==============================] - 0s 7ms/step - loss: 0.7518 - sparse_categorical_accuracy: 0.7241 - val_loss: 1.4002 - val_sparse_categorical_accuracy: 0.4750\n",
      "Epoch 42/100\n",
      "10/10 [==============================] - 0s 8ms/step - loss: 0.7495 - sparse_categorical_accuracy: 0.7335 - val_loss: 1.2922 - val_sparse_categorical_accuracy: 0.5375\n",
      "Epoch 43/100\n",
      "10/10 [==============================] - 0s 8ms/step - loss: 0.7534 - sparse_categorical_accuracy: 0.7053 - val_loss: 1.3383 - val_sparse_categorical_accuracy: 0.6000\n",
      "Epoch 44/100\n",
      "10/10 [==============================] - 0s 9ms/step - loss: 0.7533 - sparse_categorical_accuracy: 0.7273 - val_loss: 1.2451 - val_sparse_categorical_accuracy: 0.5625\n",
      "Epoch 45/100\n",
      "10/10 [==============================] - 0s 9ms/step - loss: 0.7279 - sparse_categorical_accuracy: 0.7273 - val_loss: 1.2014 - val_sparse_categorical_accuracy: 0.6000\n",
      "Epoch 46/100\n",
      "10/10 [==============================] - 0s 8ms/step - loss: 0.7300 - sparse_categorical_accuracy: 0.7461 - val_loss: 1.1610 - val_sparse_categorical_accuracy: 0.6125\n",
      "Epoch 47/100\n",
      "10/10 [==============================] - 0s 7ms/step - loss: 0.7312 - sparse_categorical_accuracy: 0.7179 - val_loss: 1.4166 - val_sparse_categorical_accuracy: 0.5125\n",
      "Epoch 48/100\n",
      "10/10 [==============================] - 0s 7ms/step - loss: 0.7228 - sparse_categorical_accuracy: 0.7335 - val_loss: 1.1710 - val_sparse_categorical_accuracy: 0.5500\n",
      "Epoch 49/100\n",
      "10/10 [==============================] - 0s 7ms/step - loss: 0.7166 - sparse_categorical_accuracy: 0.7429 - val_loss: 1.4282 - val_sparse_categorical_accuracy: 0.4500\n",
      "Epoch 50/100\n",
      "10/10 [==============================] - 0s 8ms/step - loss: 0.7399 - sparse_categorical_accuracy: 0.7398 - val_loss: 1.1936 - val_sparse_categorical_accuracy: 0.5375\n",
      "Epoch 51/100\n",
      "10/10 [==============================] - 0s 9ms/step - loss: 0.6891 - sparse_categorical_accuracy: 0.7461 - val_loss: 1.1438 - val_sparse_categorical_accuracy: 0.5750\n",
      "Epoch 52/100\n",
      "10/10 [==============================] - 0s 8ms/step - loss: 0.6970 - sparse_categorical_accuracy: 0.7586 - val_loss: 1.1195 - val_sparse_categorical_accuracy: 0.6125\n",
      "Epoch 53/100\n",
      "10/10 [==============================] - 0s 7ms/step - loss: 0.7215 - sparse_categorical_accuracy: 0.7335 - val_loss: 1.7272 - val_sparse_categorical_accuracy: 0.4125\n",
      "Epoch 54/100\n",
      "10/10 [==============================] - 0s 9ms/step - loss: 0.6979 - sparse_categorical_accuracy: 0.7429 - val_loss: 1.1055 - val_sparse_categorical_accuracy: 0.6250\n",
      "Epoch 55/100\n",
      "10/10 [==============================] - 0s 7ms/step - loss: 0.7023 - sparse_categorical_accuracy: 0.7398 - val_loss: 1.2528 - val_sparse_categorical_accuracy: 0.5875\n",
      "Epoch 56/100\n",
      "10/10 [==============================] - 0s 7ms/step - loss: 0.6826 - sparse_categorical_accuracy: 0.7524 - val_loss: 1.2424 - val_sparse_categorical_accuracy: 0.5875\n",
      "Epoch 57/100\n",
      "10/10 [==============================] - 0s 7ms/step - loss: 0.6756 - sparse_categorical_accuracy: 0.7555 - val_loss: 1.3236 - val_sparse_categorical_accuracy: 0.5125\n",
      "Epoch 58/100\n",
      "10/10 [==============================] - 0s 7ms/step - loss: 0.6851 - sparse_categorical_accuracy: 0.7586 - val_loss: 1.3294 - val_sparse_categorical_accuracy: 0.5125\n",
      "Epoch 59/100\n",
      "10/10 [==============================] - 0s 9ms/step - loss: 0.6846 - sparse_categorical_accuracy: 0.7367 - val_loss: 1.0942 - val_sparse_categorical_accuracy: 0.6000\n",
      "Epoch 60/100\n",
      "10/10 [==============================] - 0s 7ms/step - loss: 0.6550 - sparse_categorical_accuracy: 0.7524 - val_loss: 1.1114 - val_sparse_categorical_accuracy: 0.6250\n",
      "Epoch 61/100\n",
      "10/10 [==============================] - 0s 8ms/step - loss: 0.6537 - sparse_categorical_accuracy: 0.7774 - val_loss: 1.0919 - val_sparse_categorical_accuracy: 0.6125\n",
      "Epoch 62/100\n",
      "10/10 [==============================] - 0s 7ms/step - loss: 0.6543 - sparse_categorical_accuracy: 0.7806 - val_loss: 1.3854 - val_sparse_categorical_accuracy: 0.4875\n",
      "Epoch 63/100\n",
      "10/10 [==============================] - 0s 7ms/step - loss: 0.6591 - sparse_categorical_accuracy: 0.7492 - val_loss: 1.1798 - val_sparse_categorical_accuracy: 0.6000\n",
      "Epoch 64/100\n",
      "10/10 [==============================] - 0s 7ms/step - loss: 0.6325 - sparse_categorical_accuracy: 0.7900 - val_loss: 1.2686 - val_sparse_categorical_accuracy: 0.5500\n",
      "Epoch 65/100\n",
      "10/10 [==============================] - 0s 7ms/step - loss: 0.6223 - sparse_categorical_accuracy: 0.7774 - val_loss: 1.1047 - val_sparse_categorical_accuracy: 0.5875\n",
      "Epoch 66/100\n",
      "10/10 [==============================] - 0s 7ms/step - loss: 0.6546 - sparse_categorical_accuracy: 0.7743 - val_loss: 1.3119 - val_sparse_categorical_accuracy: 0.5375\n",
      "Epoch 67/100\n",
      "10/10 [==============================] - 0s 7ms/step - loss: 0.6221 - sparse_categorical_accuracy: 0.7806 - val_loss: 1.4741 - val_sparse_categorical_accuracy: 0.5375\n",
      "Epoch 68/100\n",
      "10/10 [==============================] - 0s 7ms/step - loss: 0.6017 - sparse_categorical_accuracy: 0.7774 - val_loss: 1.3063 - val_sparse_categorical_accuracy: 0.5500\n",
      "Epoch 69/100\n",
      "10/10 [==============================] - 0s 8ms/step - loss: 0.6105 - sparse_categorical_accuracy: 0.7962 - val_loss: 1.3593 - val_sparse_categorical_accuracy: 0.5250\n",
      "Epoch 70/100\n",
      "10/10 [==============================] - 0s 8ms/step - loss: 0.6073 - sparse_categorical_accuracy: 0.7837 - val_loss: 1.1949 - val_sparse_categorical_accuracy: 0.5500\n",
      "Epoch 71/100\n",
      "10/10 [==============================] - 0s 8ms/step - loss: 0.5864 - sparse_categorical_accuracy: 0.8056 - val_loss: 1.2776 - val_sparse_categorical_accuracy: 0.5125\n",
      "Epoch 72/100\n",
      "10/10 [==============================] - 0s 8ms/step - loss: 0.5896 - sparse_categorical_accuracy: 0.7962 - val_loss: 1.5755 - val_sparse_categorical_accuracy: 0.5250\n",
      "Epoch 73/100\n",
      "10/10 [==============================] - 0s 8ms/step - loss: 0.5772 - sparse_categorical_accuracy: 0.8056 - val_loss: 1.1222 - val_sparse_categorical_accuracy: 0.5625\n",
      "Epoch 74/100\n",
      "10/10 [==============================] - 0s 8ms/step - loss: 0.5879 - sparse_categorical_accuracy: 0.8025 - val_loss: 1.2693 - val_sparse_categorical_accuracy: 0.5375\n",
      "Epoch 75/100\n",
      "10/10 [==============================] - 0s 8ms/step - loss: 0.5742 - sparse_categorical_accuracy: 0.8276 - val_loss: 1.6261 - val_sparse_categorical_accuracy: 0.3625\n",
      "Epoch 76/100\n",
      "10/10 [==============================] - 0s 7ms/step - loss: 0.5439 - sparse_categorical_accuracy: 0.8339 - val_loss: 1.8712 - val_sparse_categorical_accuracy: 0.2125\n",
      "Epoch 77/100\n",
      "10/10 [==============================] - 0s 8ms/step - loss: 0.5457 - sparse_categorical_accuracy: 0.8119 - val_loss: 1.3875 - val_sparse_categorical_accuracy: 0.4625\n",
      "Epoch 78/100\n",
      "10/10 [==============================] - 0s 8ms/step - loss: 0.5513 - sparse_categorical_accuracy: 0.8339 - val_loss: 3.3604 - val_sparse_categorical_accuracy: 0.1000\n",
      "Epoch 79/100\n",
      "10/10 [==============================] - 0s 8ms/step - loss: 0.5736 - sparse_categorical_accuracy: 0.7962 - val_loss: 1.5596 - val_sparse_categorical_accuracy: 0.3625\n",
      "Epoch 80/100\n",
      "10/10 [==============================] - 0s 7ms/step - loss: 0.5620 - sparse_categorical_accuracy: 0.8245 - val_loss: 1.4517 - val_sparse_categorical_accuracy: 0.5375\n",
      "Epoch 81/100\n",
      "10/10 [==============================] - 0s 7ms/step - loss: 0.5462 - sparse_categorical_accuracy: 0.8245 - val_loss: 1.9284 - val_sparse_categorical_accuracy: 0.2750\n",
      "Epoch 82/100\n",
      "10/10 [==============================] - 0s 7ms/step - loss: 0.5236 - sparse_categorical_accuracy: 0.8495 - val_loss: 1.4251 - val_sparse_categorical_accuracy: 0.5375\n",
      "Epoch 83/100\n",
      "10/10 [==============================] - 0s 7ms/step - loss: 0.5156 - sparse_categorical_accuracy: 0.8401 - val_loss: 1.2377 - val_sparse_categorical_accuracy: 0.5000\n",
      "Epoch 84/100\n",
      "10/10 [==============================] - 0s 8ms/step - loss: 0.5382 - sparse_categorical_accuracy: 0.8276 - val_loss: 1.4879 - val_sparse_categorical_accuracy: 0.4625\n",
      "Epoch 85/100\n",
      "10/10 [==============================] - 0s 8ms/step - loss: 0.5054 - sparse_categorical_accuracy: 0.8464 - val_loss: 1.2646 - val_sparse_categorical_accuracy: 0.5625\n",
      "Epoch 86/100\n",
      "10/10 [==============================] - 0s 8ms/step - loss: 0.5176 - sparse_categorical_accuracy: 0.8245 - val_loss: 1.1380 - val_sparse_categorical_accuracy: 0.5625\n",
      "Epoch 87/100\n",
      "10/10 [==============================] - 0s 8ms/step - loss: 0.5016 - sparse_categorical_accuracy: 0.8401 - val_loss: 2.1275 - val_sparse_categorical_accuracy: 0.5250\n",
      "Epoch 88/100\n",
      "10/10 [==============================] - 0s 7ms/step - loss: 0.4878 - sparse_categorical_accuracy: 0.8307 - val_loss: 1.5042 - val_sparse_categorical_accuracy: 0.4750\n",
      "Epoch 89/100\n",
      "10/10 [==============================] - 0s 8ms/step - loss: 0.4952 - sparse_categorical_accuracy: 0.8558 - val_loss: 1.4945 - val_sparse_categorical_accuracy: 0.4375\n",
      "Epoch 90/100\n",
      "10/10 [==============================] - 0s 7ms/step - loss: 0.4775 - sparse_categorical_accuracy: 0.8652 - val_loss: 1.3142 - val_sparse_categorical_accuracy: 0.6375\n",
      "Epoch 91/100\n",
      "10/10 [==============================] - 0s 8ms/step - loss: 0.4605 - sparse_categorical_accuracy: 0.8589 - val_loss: 1.9783 - val_sparse_categorical_accuracy: 0.2375\n",
      "Epoch 92/100\n",
      "10/10 [==============================] - 0s 8ms/step - loss: 0.4621 - sparse_categorical_accuracy: 0.8715 - val_loss: 1.7728 - val_sparse_categorical_accuracy: 0.5750\n",
      "Epoch 93/100\n",
      "10/10 [==============================] - 0s 8ms/step - loss: 0.4814 - sparse_categorical_accuracy: 0.8934 - val_loss: 1.5489 - val_sparse_categorical_accuracy: 0.5750\n",
      "Epoch 94/100\n",
      "10/10 [==============================] - 0s 8ms/step - loss: 0.4537 - sparse_categorical_accuracy: 0.8683 - val_loss: 1.6735 - val_sparse_categorical_accuracy: 0.4625\n",
      "Epoch 95/100\n",
      "10/10 [==============================] - 0s 8ms/step - loss: 0.4680 - sparse_categorical_accuracy: 0.8527 - val_loss: 1.3897 - val_sparse_categorical_accuracy: 0.5500\n",
      "Epoch 96/100\n",
      "10/10 [==============================] - 0s 8ms/step - loss: 0.4294 - sparse_categorical_accuracy: 0.8966 - val_loss: 1.1674 - val_sparse_categorical_accuracy: 0.6000\n",
      "Epoch 97/100\n",
      "10/10 [==============================] - 0s 8ms/step - loss: 0.4082 - sparse_categorical_accuracy: 0.9122 - val_loss: 1.3003 - val_sparse_categorical_accuracy: 0.5375\n",
      "Epoch 98/100\n",
      "10/10 [==============================] - 0s 7ms/step - loss: 0.4494 - sparse_categorical_accuracy: 0.8589 - val_loss: 1.5537 - val_sparse_categorical_accuracy: 0.5500\n",
      "Epoch 99/100\n",
      "10/10 [==============================] - 0s 7ms/step - loss: 0.4647 - sparse_categorical_accuracy: 0.8777 - val_loss: 1.2166 - val_sparse_categorical_accuracy: 0.5625\n",
      "Epoch 100/100\n",
      "10/10 [==============================] - 0s 8ms/step - loss: 0.4293 - sparse_categorical_accuracy: 0.8809 - val_loss: 1.3373 - val_sparse_categorical_accuracy: 0.5125\n"
     ]
    }
   ],
   "source": [
    "model = make_CNN_model(x_train.shape[1:],num_classes = 6)\n",
    "trained_model, history = train_CNN_model(model, x_train, y_train, epochs=100, batch_size=32)"
   ]
  },
  {
   "cell_type": "code",
   "execution_count": 6,
   "id": "227e6120",
   "metadata": {},
   "outputs": [
    {
     "name": "stdout",
     "output_type": "stream",
     "text": [
      "5/5 [==============================] - 0s 2ms/step - loss: 1.3411 - sparse_categorical_accuracy: 0.5195\n",
      "Test accuracy 0.5194805264472961\n",
      "Test loss 1.3411329984664917\n"
     ]
    }
   ],
   "source": [
    "test_loss, test_acc = trained_model.evaluate(x_test_original, y_test_original)\n",
    "\n",
    "print(\"Test accuracy\", test_acc)\n",
    "print(\"Test loss\", test_loss)"
   ]
  },
  {
   "cell_type": "markdown",
   "id": "4773dace",
   "metadata": {},
   "source": [
    "### Create perturbed test sets and calculate decrease in accuracy"
   ]
  },
  {
   "cell_type": "code",
   "execution_count": 7,
   "id": "b854bfe4-2303-44a0-bef5-eb3c738da9e9",
   "metadata": {},
   "outputs": [
    {
     "name": "stdout",
     "output_type": "stream",
     "text": [
      "(154,)\n"
     ]
    }
   ],
   "source": [
    "print(y_test_original.shape)"
   ]
  },
  {
   "cell_type": "code",
   "execution_count": 13,
   "id": "4c579fb7",
   "metadata": {},
   "outputs": [
    {
     "name": "stdout",
     "output_type": "stream",
     "text": [
      "5/5 [==============================] - 0s 2ms/step\n",
      "5/5 [==============================] - 0s 2ms/step\n",
      "5/5 [==============================] - 0s 2ms/step\n",
      "5/5 [==============================] - 0s 2ms/step\n",
      "5/5 [==============================] - 0s 2ms/step\n",
      "5/5 [==============================] - 0s 2ms/step\n"
     ]
    }
   ],
   "source": [
    "predictions_original = model.predict(x_test_original)\n",
    "perturb_test_set = x_test_original.copy()\n",
    "perturb_test_set = perturb_test_set.reshape(x_test_original.shape[0:2])\n",
    "index_0 = 30\n",
    "index_1 = 80\n",
    "x_test_rbp = np.asarray([perturb('RBP',x,index_0,index_1) for x in perturb_test_set])\n",
    "x_test_rbp = np.expand_dims(x_test_rbp, axis=-1)\n",
    "predictions_rbp = model.predict(x_test_rbp)\n",
    "\n",
    "bg = multisamplebackgroundIdentification(perturb_test_set)\n",
    "x_test_new1 = np.asarray([perturb('RBP1fast',x,index_0,index_1, bg = bg) for x in perturb_test_set])\n",
    "x_test_new1 = np.expand_dims(x_test_new1, axis=-1)\n",
    "predictions_new1 = model.predict(x_test_new1)\n",
    "\n",
    "#x_test_new2 = np.asarray([perturb('RBP2',x,400,500, global_ts = perturb_test_set) for x in perturb_test_set])\n",
    "#x_test_new2 = np.expand_dims(x_test_new2, axis=-1)\n",
    "#predictions_new2 = model.predict(x_test_new2)\n",
    "\n",
    "x_test_zero = np.asarray([perturb('zero',x,index_0,index_1) for x in perturb_test_set])\n",
    "x_test_zero = np.expand_dims(x_test_zero, axis=-1)\n",
    "predictions_zero = model.predict(x_test_zero)\n",
    "\n",
    "x_test_noise = np.asarray([perturb('noise',x,index_0,index_1) for x in perturb_test_set])\n",
    "x_test_noise = np.expand_dims(x_test_noise, axis=-1)\n",
    "predictions_noise = model.predict(x_test_noise)\n",
    "\n",
    "x_test_blur = np.asarray([perturb('blur',x,index_0,index_1) for x in perturb_test_set])\n",
    "x_test_blur = np.expand_dims(x_test_blur, axis=-1)\n",
    "predictions_blur = model.predict(x_test_blur)"
   ]
  },
  {
   "cell_type": "code",
   "execution_count": 14,
   "id": "069af343-0cfa-4787-b5d4-170f885bb59d",
   "metadata": {},
   "outputs": [
    {
     "name": "stdout",
     "output_type": "stream",
     "text": [
      "6.622172083897745\n",
      "6.974083959769382\n",
      "6.865684654800217\n",
      "10.498723995457759\n",
      "1.6847170080406377\n"
     ]
    }
   ],
   "source": [
    "def l2norm(perturb):\n",
    "    # 计算两个数组之间的差\n",
    "    difference = perturb - x_test_original\n",
    "    \n",
    "    # 计算差的平方\n",
    "    squared_difference = np.square(difference)\n",
    "    \n",
    "    # 计算平方和，沿着特征维度（axis=1），因为每个时间序列样本是一行\n",
    "    sum_of_squares = np.sum(squared_difference, axis=1)\n",
    "    \n",
    "    # 计算平方和的平方根，即l2范数\n",
    "    l2_norms = np.sqrt(sum_of_squares)\n",
    "    \n",
    "    average_l2_norm = np.mean(l2_norms)\n",
    "    \n",
    "    # l2_norms现在是一个形状为(467,)的数组，其中每个元素代表\n",
    "    # 对应时间序列样本之间的l2范数\n",
    "    print(average_l2_norm)  # 输出: (467,)\n",
    "\n",
    "l2norm(x_test_rbp)\n",
    "l2norm(x_test_new1)\n",
    "l2norm(x_test_zero)\n",
    "l2norm(x_test_noise)\n",
    "l2norm(x_test_blur)"
   ]
  },
  {
   "cell_type": "code",
   "execution_count": 15,
   "id": "b5d3f821",
   "metadata": {},
   "outputs": [],
   "source": [
    "def accuracy(predictions, labels):\n",
    "    hits = 0\n",
    "    for i in range(0,len(predictions)):\n",
    "        if predictions[i] == labels[i]:\n",
    "            hits += 1\n",
    "    return hits/len(predictions)"
   ]
  },
  {
   "cell_type": "code",
   "execution_count": 16,
   "id": "89f21d47",
   "metadata": {},
   "outputs": [],
   "source": [
    "original_accuracy = accuracy(np.argmax(predictions_original,axis=1), y_test_original)\n",
    "rbp_accuracy = accuracy(np.argmax(predictions_rbp,axis=1), y_test_original)\n",
    "new1_accuracy = accuracy(np.argmax(predictions_new1,axis=1), y_test_original)\n",
    "#new2_accuracy = accuracy(np.argmax(predictions_new2,axis=1), y_test_original)\n",
    "zero_accuracy = accuracy(np.argmax(predictions_zero,axis=1), y_test_original)\n",
    "noise_accuracy = accuracy(np.argmax(predictions_noise,axis=1), y_test_original)\n",
    "blur_accuracy = accuracy(np.argmax(predictions_blur,axis=1), y_test_original)"
   ]
  },
  {
   "cell_type": "code",
   "execution_count": 17,
   "id": "e52c9d2e",
   "metadata": {},
   "outputs": [
    {
     "name": "stdout",
     "output_type": "stream",
     "text": [
      " Original Accuracy: 0.5194805194805194\n",
      " RBP Accuracy: 0.44155844155844154\n",
      " RBP1 Accuracy: 0.15584415584415584\n",
      " Zero Accuracy: 0.42857142857142855\n",
      " Noise Accuracy: 0.2597402597402597\n",
      " Blur Accuracy: 0.5064935064935064\n",
      "\n"
     ]
    }
   ],
   "source": [
    "print(\" Original Accuracy: \" + str(original_accuracy) + \"\\n\"+\n",
    "    \" RBP Accuracy: \" + str(rbp_accuracy) + \"\\n\"+\n",
    "    \" RBP1 Accuracy: \" + str(new1_accuracy) + \"\\n\"+\n",
    "    #\" RBP2 Accuracy: \" + str(new2_accuracy) + \"\\n\"+\n",
    "      \n",
    "    \" Zero Accuracy: \" + str(zero_accuracy) + \"\\n\"+\n",
    "    \" Noise Accuracy: \" + str(noise_accuracy) + \"\\n\"+\n",
    "    \" Blur Accuracy: \" + str(blur_accuracy) + \"\\n\")"
   ]
  },
  {
   "cell_type": "code",
   "execution_count": null,
   "id": "07b1234e-b818-492b-b597-7ebd5e7b82a9",
   "metadata": {},
   "outputs": [],
   "source": []
  }
 ],
 "metadata": {
  "kernelspec": {
   "display_name": "lime_tf",
   "language": "python",
   "name": "limetf"
  },
  "language_info": {
   "codemirror_mode": {
    "name": "ipython",
    "version": 3
   },
   "file_extension": ".py",
   "mimetype": "text/x-python",
   "name": "python",
   "nbconvert_exporter": "python",
   "pygments_lexer": "ipython3",
   "version": "3.10.13"
  }
 },
 "nbformat": 4,
 "nbformat_minor": 5
}
