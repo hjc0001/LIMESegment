{
 "cells": [
  {
   "cell_type": "code",
   "execution_count": 1,
   "id": "dd9bd814",
   "metadata": {},
   "outputs": [],
   "source": [
    "import numpy as np\n",
    "import matplotlib.pyplot as plt\n",
    "import inspect"
   ]
  },
  {
   "cell_type": "code",
   "execution_count": 2,
   "id": "2439de23",
   "metadata": {},
   "outputs": [
    {
     "name": "stdout",
     "output_type": "stream",
     "text": [
      "['/Users/gali/anaconda3/envs/LIMEtf/lib/python310.zip', '/Users/gali/anaconda3/envs/LIMEtf/lib/python3.10', '/Users/gali/anaconda3/envs/LIMEtf/lib/python3.10/lib-dynload', '', '/Users/gali/anaconda3/envs/LIMEtf/lib/python3.10/site-packages', '/Users/gali/anaconda3/envs/LIMEtf/lib/python3.10/site-packages/setuptools/_vendor', '../', '../']\n"
     ]
    }
   ],
   "source": [
    "import importlib\n",
    "import sys\n",
    "sys.path.append('../')\n",
    "from Utils.perturbationsnew import RBPIndividual, RBPIndividualNew1, RBPIndividualNew2, zeroPerturb, noisePerturb, blurPerturb\n",
    "from Utils.models import *\n",
    "from Utils.data import perturb, generateSynthetic, generateSyntheticPerturbReal,ReadTS\n",
    "\n",
    "print(sys.path)\n"
   ]
  },
  {
   "cell_type": "code",
   "execution_count": 3,
   "id": "d21e3680-d191-45cc-a644-4fddc717641a",
   "metadata": {},
   "outputs": [
    {
     "data": {
      "text/html": [
       "\n",
       "<style>\n",
       ".output {\n",
       "    display: flex;\n",
       "    flex-direction: column;\n",
       "}\n",
       ".output_scroll {\n",
       "    max-height: 300px; \n",
       "    overflow-y: auto;\n",
       "}\n",
       "</style>\n"
      ],
      "text/plain": [
       "<IPython.core.display.HTML object>"
      ]
     },
     "metadata": {},
     "output_type": "display_data"
    }
   ],
   "source": [
    "from IPython.display import display, HTML\n",
    "\n",
    "# 设置默认输出折叠\n",
    "display(HTML('''\n",
    "<style>\n",
    ".output {\n",
    "    display: flex;\n",
    "    flex-direction: column;\n",
    "}\n",
    ".output_scroll {\n",
    "    max-height: 300px; \n",
    "    overflow-y: auto;\n",
    "}\n",
    "</style>\n",
    "'''))"
   ]
  },
  {
   "cell_type": "markdown",
   "id": "62b11ea0",
   "metadata": {},
   "source": [
    "## Test important content removal (accuracy decrease)"
   ]
  },
  {
   "cell_type": "markdown",
   "id": "5567ae62",
   "metadata": {},
   "source": [
    "### Load synthetic dataset and train CNN model "
   ]
  },
  {
   "cell_type": "code",
   "execution_count": 4,
   "id": "812c0d59",
   "metadata": {},
   "outputs": [
    {
     "name": "stdout",
     "output_type": "stream",
     "text": [
      "(3840, 166, 1)\n"
     ]
    }
   ],
   "source": [
    "x_test_original, y_test_original,x_train, y_train = ReadTS('ChlorineConcentration')\n",
    "y_train = y_train - 1\n",
    "y_test_original = y_test_original - 1\n",
    "print(x_train.shape)\n",
    "#print(y_train)"
   ]
  },
  {
   "cell_type": "code",
   "execution_count": 5,
   "id": "e780d107-cb62-47a7-a00b-de0f3494a3a1",
   "metadata": {},
   "outputs": [],
   "source": [
    "from sklearn.preprocessing import StandardScaler\n",
    "def normalize(TS):\n",
    "    # 获取原始数据集的形状\n",
    "    original_shape = TS.shape\n",
    "    \n",
    "    # 将数据集reshape成二维数组\n",
    "    TS_2d = TS.reshape(original_shape[0] , original_shape[1])\n",
    "    \n",
    "    # 初始化StandardScaler\n",
    "    scaler = StandardScaler()\n",
    "    \n",
    "    # 对数据集进行标准化\n",
    "    TS_normalized = scaler.fit_transform(TS_2d)\n",
    "    \n",
    "    # 将标准化后的数据集reshape回原始形状\n",
    "    TS = TS_normalized.reshape(original_shape)\n",
    "    \n",
    "    return TS\n",
    "\n",
    "x_train = normalize(x_train)\n",
    "x_test_original = normalize(x_test_original)\n",
    "#print(x_train)"
   ]
  },
  {
   "cell_type": "code",
   "execution_count": 6,
   "id": "c9911722",
   "metadata": {
    "scrolled": true
   },
   "outputs": [
    {
     "name": "stdout",
     "output_type": "stream",
     "text": [
      "Epoch 1/150\n"
     ]
    },
    {
     "name": "stderr",
     "output_type": "stream",
     "text": [
      "2024-11-30 11:04:35.469172: W tensorflow/tsl/platform/profile_utils/cpu_utils.cc:128] Failed to get CPU frequency: 0 Hz\n"
     ]
    },
    {
     "name": "stdout",
     "output_type": "stream",
     "text": [
      "96/96 [==============================] - 1s 11ms/step - loss: 0.9850 - sparse_categorical_accuracy: 0.5573 - val_loss: 1.0674 - val_sparse_categorical_accuracy: 0.5352\n",
      "Epoch 2/150\n",
      "96/96 [==============================] - 1s 10ms/step - loss: 0.9580 - sparse_categorical_accuracy: 0.5687 - val_loss: 1.0677 - val_sparse_categorical_accuracy: 0.4935\n",
      "Epoch 3/150\n",
      "96/96 [==============================] - 1s 10ms/step - loss: 0.9607 - sparse_categorical_accuracy: 0.5729 - val_loss: 1.0442 - val_sparse_categorical_accuracy: 0.5508\n",
      "Epoch 4/150\n",
      "96/96 [==============================] - 1s 11ms/step - loss: 0.9482 - sparse_categorical_accuracy: 0.5736 - val_loss: 0.9764 - val_sparse_categorical_accuracy: 0.5664\n",
      "Epoch 5/150\n",
      "96/96 [==============================] - 1s 11ms/step - loss: 0.9467 - sparse_categorical_accuracy: 0.5723 - val_loss: 0.9813 - val_sparse_categorical_accuracy: 0.5846\n",
      "Epoch 6/150\n",
      "96/96 [==============================] - 1s 11ms/step - loss: 0.9404 - sparse_categorical_accuracy: 0.5775 - val_loss: 0.9340 - val_sparse_categorical_accuracy: 0.5807\n",
      "Epoch 7/150\n",
      "96/96 [==============================] - 1s 11ms/step - loss: 0.9366 - sparse_categorical_accuracy: 0.5758 - val_loss: 0.9368 - val_sparse_categorical_accuracy: 0.6029\n",
      "Epoch 8/150\n",
      "96/96 [==============================] - 1s 11ms/step - loss: 0.9353 - sparse_categorical_accuracy: 0.5762 - val_loss: 0.9514 - val_sparse_categorical_accuracy: 0.5755\n",
      "Epoch 9/150\n",
      "96/96 [==============================] - 1s 12ms/step - loss: 0.9299 - sparse_categorical_accuracy: 0.5752 - val_loss: 0.9662 - val_sparse_categorical_accuracy: 0.5938\n",
      "Epoch 10/150\n",
      "96/96 [==============================] - 1s 12ms/step - loss: 0.9228 - sparse_categorical_accuracy: 0.5830 - val_loss: 0.9423 - val_sparse_categorical_accuracy: 0.5755\n",
      "Epoch 11/150\n",
      "96/96 [==============================] - 1s 12ms/step - loss: 0.9210 - sparse_categorical_accuracy: 0.5827 - val_loss: 0.9822 - val_sparse_categorical_accuracy: 0.6133\n",
      "Epoch 12/150\n",
      "96/96 [==============================] - 1s 13ms/step - loss: 0.9153 - sparse_categorical_accuracy: 0.5846 - val_loss: 0.9051 - val_sparse_categorical_accuracy: 0.6068\n",
      "Epoch 13/150\n",
      "96/96 [==============================] - 1s 12ms/step - loss: 0.9123 - sparse_categorical_accuracy: 0.5872 - val_loss: 0.9090 - val_sparse_categorical_accuracy: 0.5833\n",
      "Epoch 14/150\n",
      "96/96 [==============================] - 1s 13ms/step - loss: 0.9116 - sparse_categorical_accuracy: 0.5846 - val_loss: 0.9828 - val_sparse_categorical_accuracy: 0.5703\n",
      "Epoch 15/150\n",
      "96/96 [==============================] - 1s 13ms/step - loss: 0.8960 - sparse_categorical_accuracy: 0.5931 - val_loss: 1.0558 - val_sparse_categorical_accuracy: 0.3776\n",
      "Epoch 16/150\n",
      "96/96 [==============================] - 1s 13ms/step - loss: 0.8900 - sparse_categorical_accuracy: 0.5947 - val_loss: 1.0259 - val_sparse_categorical_accuracy: 0.5690\n",
      "Epoch 17/150\n",
      "96/96 [==============================] - 1s 13ms/step - loss: 0.8912 - sparse_categorical_accuracy: 0.5931 - val_loss: 1.2591 - val_sparse_categorical_accuracy: 0.2917\n",
      "Epoch 18/150\n",
      "96/96 [==============================] - 1s 13ms/step - loss: 0.8827 - sparse_categorical_accuracy: 0.5977 - val_loss: 1.1470 - val_sparse_categorical_accuracy: 0.5638\n",
      "Epoch 19/150\n",
      "96/96 [==============================] - 1s 13ms/step - loss: 0.8697 - sparse_categorical_accuracy: 0.5977 - val_loss: 1.0276 - val_sparse_categorical_accuracy: 0.5729\n",
      "Epoch 20/150\n",
      "96/96 [==============================] - 1s 13ms/step - loss: 0.8641 - sparse_categorical_accuracy: 0.6064 - val_loss: 1.0744 - val_sparse_categorical_accuracy: 0.4310\n",
      "Epoch 21/150\n",
      "96/96 [==============================] - 1s 13ms/step - loss: 0.8645 - sparse_categorical_accuracy: 0.5990 - val_loss: 1.3877 - val_sparse_categorical_accuracy: 0.5638\n",
      "Epoch 22/150\n",
      "96/96 [==============================] - 1s 13ms/step - loss: 0.8602 - sparse_categorical_accuracy: 0.6126 - val_loss: 0.9052 - val_sparse_categorical_accuracy: 0.6055\n",
      "Epoch 23/150\n",
      "96/96 [==============================] - 1s 13ms/step - loss: 0.8452 - sparse_categorical_accuracy: 0.6201 - val_loss: 1.3044 - val_sparse_categorical_accuracy: 0.5664\n",
      "Epoch 24/150\n",
      "96/96 [==============================] - 1s 13ms/step - loss: 0.8355 - sparse_categorical_accuracy: 0.6198 - val_loss: 0.9753 - val_sparse_categorical_accuracy: 0.5872\n",
      "Epoch 25/150\n",
      "96/96 [==============================] - 1s 13ms/step - loss: 0.8443 - sparse_categorical_accuracy: 0.6172 - val_loss: 0.8877 - val_sparse_categorical_accuracy: 0.6068\n",
      "Epoch 26/150\n",
      "96/96 [==============================] - 1s 13ms/step - loss: 0.8283 - sparse_categorical_accuracy: 0.6302 - val_loss: 1.9213 - val_sparse_categorical_accuracy: 0.2721\n",
      "Epoch 27/150\n",
      "96/96 [==============================] - 1s 13ms/step - loss: 0.8248 - sparse_categorical_accuracy: 0.6289 - val_loss: 0.9281 - val_sparse_categorical_accuracy: 0.6107\n",
      "Epoch 28/150\n",
      "96/96 [==============================] - 1s 13ms/step - loss: 0.8173 - sparse_categorical_accuracy: 0.6361 - val_loss: 2.1708 - val_sparse_categorical_accuracy: 0.2578\n",
      "Epoch 29/150\n",
      "96/96 [==============================] - 1s 12ms/step - loss: 0.8193 - sparse_categorical_accuracy: 0.6367 - val_loss: 0.8509 - val_sparse_categorical_accuracy: 0.6393\n",
      "Epoch 30/150\n",
      "96/96 [==============================] - 1s 13ms/step - loss: 0.7873 - sparse_categorical_accuracy: 0.6514 - val_loss: 0.7806 - val_sparse_categorical_accuracy: 0.6484\n",
      "Epoch 31/150\n",
      "96/96 [==============================] - 1s 12ms/step - loss: 0.7884 - sparse_categorical_accuracy: 0.6406 - val_loss: 0.9219 - val_sparse_categorical_accuracy: 0.5938\n",
      "Epoch 32/150\n",
      "96/96 [==============================] - 1s 13ms/step - loss: 0.7663 - sparse_categorical_accuracy: 0.6641 - val_loss: 1.1220 - val_sparse_categorical_accuracy: 0.5612\n",
      "Epoch 33/150\n",
      "96/96 [==============================] - 1s 13ms/step - loss: 0.7744 - sparse_categorical_accuracy: 0.6631 - val_loss: 0.8600 - val_sparse_categorical_accuracy: 0.5859\n",
      "Epoch 34/150\n",
      "96/96 [==============================] - 1s 13ms/step - loss: 0.7521 - sparse_categorical_accuracy: 0.6621 - val_loss: 1.3195 - val_sparse_categorical_accuracy: 0.5664\n",
      "Epoch 35/150\n",
      "96/96 [==============================] - 1s 13ms/step - loss: 0.7538 - sparse_categorical_accuracy: 0.6764 - val_loss: 0.7638 - val_sparse_categorical_accuracy: 0.6875\n",
      "Epoch 36/150\n",
      "96/96 [==============================] - 1s 13ms/step - loss: 0.7374 - sparse_categorical_accuracy: 0.6732 - val_loss: 0.8621 - val_sparse_categorical_accuracy: 0.5924\n",
      "Epoch 37/150\n",
      "96/96 [==============================] - 1s 13ms/step - loss: 0.7495 - sparse_categorical_accuracy: 0.6722 - val_loss: 0.8511 - val_sparse_categorical_accuracy: 0.6302\n",
      "Epoch 38/150\n",
      "96/96 [==============================] - 1s 13ms/step - loss: 0.7301 - sparse_categorical_accuracy: 0.6888 - val_loss: 0.8241 - val_sparse_categorical_accuracy: 0.6589\n",
      "Epoch 39/150\n",
      "96/96 [==============================] - 1s 13ms/step - loss: 0.7118 - sparse_categorical_accuracy: 0.6976 - val_loss: 0.7420 - val_sparse_categorical_accuracy: 0.6706\n",
      "Epoch 40/150\n",
      "96/96 [==============================] - 1s 13ms/step - loss: 0.7213 - sparse_categorical_accuracy: 0.6839 - val_loss: 0.9773 - val_sparse_categorical_accuracy: 0.6016\n",
      "Epoch 41/150\n",
      "96/96 [==============================] - 1s 13ms/step - loss: 0.6900 - sparse_categorical_accuracy: 0.7090 - val_loss: 0.7033 - val_sparse_categorical_accuracy: 0.6562\n",
      "Epoch 42/150\n",
      "96/96 [==============================] - 1s 12ms/step - loss: 0.6948 - sparse_categorical_accuracy: 0.7090 - val_loss: 1.0285 - val_sparse_categorical_accuracy: 0.6029\n",
      "Epoch 43/150\n",
      "96/96 [==============================] - 1s 12ms/step - loss: 0.6930 - sparse_categorical_accuracy: 0.6989 - val_loss: 0.7486 - val_sparse_categorical_accuracy: 0.6719\n",
      "Epoch 44/150\n",
      "96/96 [==============================] - 1s 13ms/step - loss: 0.6795 - sparse_categorical_accuracy: 0.7148 - val_loss: 0.8629 - val_sparse_categorical_accuracy: 0.6328\n",
      "Epoch 45/150\n",
      "96/96 [==============================] - 1s 12ms/step - loss: 0.6622 - sparse_categorical_accuracy: 0.7318 - val_loss: 1.5801 - val_sparse_categorical_accuracy: 0.2760\n",
      "Epoch 46/150\n",
      "96/96 [==============================] - 1s 12ms/step - loss: 0.6561 - sparse_categorical_accuracy: 0.7282 - val_loss: 0.9781 - val_sparse_categorical_accuracy: 0.6680\n",
      "Epoch 47/150\n",
      "96/96 [==============================] - 1s 13ms/step - loss: 0.6421 - sparse_categorical_accuracy: 0.7383 - val_loss: 0.7322 - val_sparse_categorical_accuracy: 0.6471\n",
      "Epoch 48/150\n",
      "96/96 [==============================] - 1s 13ms/step - loss: 0.6309 - sparse_categorical_accuracy: 0.7396 - val_loss: 1.7457 - val_sparse_categorical_accuracy: 0.5508\n",
      "Epoch 49/150\n",
      "96/96 [==============================] - 1s 13ms/step - loss: 0.6282 - sparse_categorical_accuracy: 0.7435 - val_loss: 2.6718 - val_sparse_categorical_accuracy: 0.2604\n",
      "Epoch 50/150\n",
      "96/96 [==============================] - 1s 13ms/step - loss: 0.6167 - sparse_categorical_accuracy: 0.7542 - val_loss: 1.9469 - val_sparse_categorical_accuracy: 0.2826\n",
      "Epoch 51/150\n",
      "96/96 [==============================] - 1s 14ms/step - loss: 0.6062 - sparse_categorical_accuracy: 0.7549 - val_loss: 0.6174 - val_sparse_categorical_accuracy: 0.6914\n",
      "Epoch 52/150\n",
      "96/96 [==============================] - 1s 13ms/step - loss: 0.5954 - sparse_categorical_accuracy: 0.7624 - val_loss: 1.1781 - val_sparse_categorical_accuracy: 0.3424\n",
      "Epoch 53/150\n",
      "96/96 [==============================] - 1s 13ms/step - loss: 0.6056 - sparse_categorical_accuracy: 0.7520 - val_loss: 0.6758 - val_sparse_categorical_accuracy: 0.7227\n",
      "Epoch 54/150\n",
      "96/96 [==============================] - 1s 13ms/step - loss: 0.6169 - sparse_categorical_accuracy: 0.7438 - val_loss: 0.6172 - val_sparse_categorical_accuracy: 0.7057\n",
      "Epoch 55/150\n",
      "96/96 [==============================] - 1s 13ms/step - loss: 0.5548 - sparse_categorical_accuracy: 0.7858 - val_loss: 0.7151 - val_sparse_categorical_accuracy: 0.6471\n",
      "Epoch 56/150\n",
      "96/96 [==============================] - 1s 14ms/step - loss: 0.5770 - sparse_categorical_accuracy: 0.7679 - val_loss: 1.3669 - val_sparse_categorical_accuracy: 0.5846\n",
      "Epoch 57/150\n",
      "96/96 [==============================] - 1s 13ms/step - loss: 0.5835 - sparse_categorical_accuracy: 0.7731 - val_loss: 1.1123 - val_sparse_categorical_accuracy: 0.4062\n",
      "Epoch 58/150\n",
      "96/96 [==============================] - 1s 14ms/step - loss: 0.5634 - sparse_categorical_accuracy: 0.7718 - val_loss: 2.8351 - val_sparse_categorical_accuracy: 0.2578\n",
      "Epoch 59/150\n",
      "96/96 [==============================] - 1s 14ms/step - loss: 0.5440 - sparse_categorical_accuracy: 0.7848 - val_loss: 0.8153 - val_sparse_categorical_accuracy: 0.6315\n",
      "Epoch 60/150\n",
      "96/96 [==============================] - 1s 14ms/step - loss: 0.5308 - sparse_categorical_accuracy: 0.7965 - val_loss: 1.2674 - val_sparse_categorical_accuracy: 0.5820\n",
      "Epoch 61/150\n",
      "96/96 [==============================] - 1s 14ms/step - loss: 0.5166 - sparse_categorical_accuracy: 0.8021 - val_loss: 0.7294 - val_sparse_categorical_accuracy: 0.6745\n",
      "Epoch 62/150\n",
      "96/96 [==============================] - 1s 14ms/step - loss: 0.5349 - sparse_categorical_accuracy: 0.7930 - val_loss: 1.0114 - val_sparse_categorical_accuracy: 0.5716\n",
      "Epoch 63/150\n",
      "96/96 [==============================] - 1s 14ms/step - loss: 0.5176 - sparse_categorical_accuracy: 0.8005 - val_loss: 1.6950 - val_sparse_categorical_accuracy: 0.3112\n",
      "Epoch 64/150\n",
      "96/96 [==============================] - 1s 14ms/step - loss: 0.5170 - sparse_categorical_accuracy: 0.7995 - val_loss: 1.7014 - val_sparse_categorical_accuracy: 0.3438\n",
      "Epoch 65/150\n",
      "96/96 [==============================] - 1s 13ms/step - loss: 0.5036 - sparse_categorical_accuracy: 0.8073 - val_loss: 0.7854 - val_sparse_categorical_accuracy: 0.5990\n",
      "Epoch 66/150\n",
      "96/96 [==============================] - 1s 13ms/step - loss: 0.4947 - sparse_categorical_accuracy: 0.8086 - val_loss: 0.6200 - val_sparse_categorical_accuracy: 0.7135\n",
      "Epoch 67/150\n",
      "96/96 [==============================] - 1s 13ms/step - loss: 0.4817 - sparse_categorical_accuracy: 0.8171 - val_loss: 0.6030 - val_sparse_categorical_accuracy: 0.7161\n",
      "Epoch 68/150\n",
      "96/96 [==============================] - 1s 13ms/step - loss: 0.4816 - sparse_categorical_accuracy: 0.8210 - val_loss: 1.5849 - val_sparse_categorical_accuracy: 0.3646\n",
      "Epoch 69/150\n",
      "96/96 [==============================] - 1s 13ms/step - loss: 0.4873 - sparse_categorical_accuracy: 0.8109 - val_loss: 1.2370 - val_sparse_categorical_accuracy: 0.5911\n",
      "Epoch 70/150\n",
      "96/96 [==============================] - 1s 13ms/step - loss: 0.4612 - sparse_categorical_accuracy: 0.8314 - val_loss: 1.1160 - val_sparse_categorical_accuracy: 0.5326\n",
      "Epoch 71/150\n",
      "96/96 [==============================] - 1s 14ms/step - loss: 0.4913 - sparse_categorical_accuracy: 0.8092 - val_loss: 2.5676 - val_sparse_categorical_accuracy: 0.5339\n",
      "Epoch 72/150\n",
      "96/96 [==============================] - 1s 12ms/step - loss: 0.4541 - sparse_categorical_accuracy: 0.8314 - val_loss: 1.0214 - val_sparse_categorical_accuracy: 0.6667\n",
      "Epoch 73/150\n",
      "96/96 [==============================] - 1s 12ms/step - loss: 0.4519 - sparse_categorical_accuracy: 0.8304 - val_loss: 0.9800 - val_sparse_categorical_accuracy: 0.6784\n",
      "Epoch 74/150\n",
      "96/96 [==============================] - 1s 12ms/step - loss: 0.4713 - sparse_categorical_accuracy: 0.8122 - val_loss: 1.7594 - val_sparse_categorical_accuracy: 0.5651\n",
      "Epoch 75/150\n",
      "96/96 [==============================] - 1s 13ms/step - loss: 0.4360 - sparse_categorical_accuracy: 0.8457 - val_loss: 1.2148 - val_sparse_categorical_accuracy: 0.6771\n",
      "Epoch 76/150\n",
      "96/96 [==============================] - 1s 14ms/step - loss: 0.4403 - sparse_categorical_accuracy: 0.8372 - val_loss: 0.5367 - val_sparse_categorical_accuracy: 0.7552\n",
      "Epoch 77/150\n",
      "96/96 [==============================] - 1s 13ms/step - loss: 0.4422 - sparse_categorical_accuracy: 0.8415 - val_loss: 0.9570 - val_sparse_categorical_accuracy: 0.5312\n",
      "Epoch 78/150\n",
      "96/96 [==============================] - 1s 13ms/step - loss: 0.4071 - sparse_categorical_accuracy: 0.8555 - val_loss: 0.7754 - val_sparse_categorical_accuracy: 0.6497\n",
      "Epoch 79/150\n",
      "96/96 [==============================] - 1s 13ms/step - loss: 0.4122 - sparse_categorical_accuracy: 0.8525 - val_loss: 0.5850 - val_sparse_categorical_accuracy: 0.7161\n",
      "Epoch 80/150\n",
      "96/96 [==============================] - 1s 13ms/step - loss: 0.4053 - sparse_categorical_accuracy: 0.8555 - val_loss: 0.5770 - val_sparse_categorical_accuracy: 0.7617\n",
      "Epoch 81/150\n",
      "96/96 [==============================] - 1s 13ms/step - loss: 0.4053 - sparse_categorical_accuracy: 0.8516 - val_loss: 1.1482 - val_sparse_categorical_accuracy: 0.6536\n",
      "Epoch 82/150\n",
      "96/96 [==============================] - 1s 13ms/step - loss: 0.3926 - sparse_categorical_accuracy: 0.8656 - val_loss: 2.9108 - val_sparse_categorical_accuracy: 0.5391\n",
      "Epoch 83/150\n",
      "96/96 [==============================] - 1s 13ms/step - loss: 0.4657 - sparse_categorical_accuracy: 0.8213 - val_loss: 0.7675 - val_sparse_categorical_accuracy: 0.7096\n",
      "Epoch 84/150\n",
      "96/96 [==============================] - 1s 13ms/step - loss: 0.3783 - sparse_categorical_accuracy: 0.8740 - val_loss: 0.9340 - val_sparse_categorical_accuracy: 0.6497\n",
      "Epoch 85/150\n",
      "96/96 [==============================] - 1s 14ms/step - loss: 0.3800 - sparse_categorical_accuracy: 0.8662 - val_loss: 0.5424 - val_sparse_categorical_accuracy: 0.7904\n",
      "Epoch 86/150\n",
      "96/96 [==============================] - 1s 14ms/step - loss: 0.3790 - sparse_categorical_accuracy: 0.8649 - val_loss: 2.1248 - val_sparse_categorical_accuracy: 0.4518\n",
      "Epoch 87/150\n",
      "96/96 [==============================] - 1s 14ms/step - loss: 0.3711 - sparse_categorical_accuracy: 0.8770 - val_loss: 1.3795 - val_sparse_categorical_accuracy: 0.4453\n",
      "Epoch 88/150\n",
      "96/96 [==============================] - 1s 14ms/step - loss: 0.3843 - sparse_categorical_accuracy: 0.8564 - val_loss: 0.4948 - val_sparse_categorical_accuracy: 0.8008\n",
      "Epoch 89/150\n",
      "96/96 [==============================] - 1s 12ms/step - loss: 0.3684 - sparse_categorical_accuracy: 0.8701 - val_loss: 1.1885 - val_sparse_categorical_accuracy: 0.6745\n",
      "Epoch 90/150\n",
      "96/96 [==============================] - 1s 13ms/step - loss: 0.3719 - sparse_categorical_accuracy: 0.8675 - val_loss: 0.6169 - val_sparse_categorical_accuracy: 0.7174\n",
      "Epoch 91/150\n",
      "96/96 [==============================] - 1s 13ms/step - loss: 0.3778 - sparse_categorical_accuracy: 0.8695 - val_loss: 0.7345 - val_sparse_categorical_accuracy: 0.7474\n",
      "Epoch 92/150\n",
      "96/96 [==============================] - 1s 13ms/step - loss: 0.3355 - sparse_categorical_accuracy: 0.8919 - val_loss: 1.0117 - val_sparse_categorical_accuracy: 0.5039\n",
      "Epoch 93/150\n",
      "96/96 [==============================] - 1s 13ms/step - loss: 0.3340 - sparse_categorical_accuracy: 0.8861 - val_loss: 2.0161 - val_sparse_categorical_accuracy: 0.6120\n",
      "Epoch 94/150\n",
      "96/96 [==============================] - 1s 13ms/step - loss: 0.3567 - sparse_categorical_accuracy: 0.8695 - val_loss: 0.5718 - val_sparse_categorical_accuracy: 0.7279\n",
      "Epoch 95/150\n",
      "96/96 [==============================] - 1s 13ms/step - loss: 0.3437 - sparse_categorical_accuracy: 0.8828 - val_loss: 3.9315 - val_sparse_categorical_accuracy: 0.5352\n",
      "Epoch 96/150\n",
      "96/96 [==============================] - 1s 13ms/step - loss: 0.3331 - sparse_categorical_accuracy: 0.8857 - val_loss: 2.5657 - val_sparse_categorical_accuracy: 0.3698\n",
      "Epoch 97/150\n",
      "96/96 [==============================] - 1s 14ms/step - loss: 0.3327 - sparse_categorical_accuracy: 0.8844 - val_loss: 2.8347 - val_sparse_categorical_accuracy: 0.3190\n",
      "Epoch 98/150\n",
      "96/96 [==============================] - 1s 14ms/step - loss: 0.3243 - sparse_categorical_accuracy: 0.8822 - val_loss: 0.4864 - val_sparse_categorical_accuracy: 0.8034\n",
      "Epoch 99/150\n",
      "96/96 [==============================] - 1s 14ms/step - loss: 0.3405 - sparse_categorical_accuracy: 0.8783 - val_loss: 1.0184 - val_sparse_categorical_accuracy: 0.6615\n",
      "Epoch 100/150\n",
      "96/96 [==============================] - 1s 15ms/step - loss: 0.3233 - sparse_categorical_accuracy: 0.8880 - val_loss: 0.4365 - val_sparse_categorical_accuracy: 0.8099\n",
      "Epoch 101/150\n",
      "96/96 [==============================] - 1s 14ms/step - loss: 0.3260 - sparse_categorical_accuracy: 0.8880 - val_loss: 2.2257 - val_sparse_categorical_accuracy: 0.3203\n",
      "Epoch 102/150\n",
      "96/96 [==============================] - 1s 14ms/step - loss: 0.3079 - sparse_categorical_accuracy: 0.8984 - val_loss: 0.5894 - val_sparse_categorical_accuracy: 0.7461\n",
      "Epoch 103/150\n",
      "96/96 [==============================] - 1s 14ms/step - loss: 0.3064 - sparse_categorical_accuracy: 0.8926 - val_loss: 1.4911 - val_sparse_categorical_accuracy: 0.4674\n",
      "Epoch 104/150\n",
      "96/96 [==============================] - 1s 14ms/step - loss: 0.2814 - sparse_categorical_accuracy: 0.9121 - val_loss: 0.4292 - val_sparse_categorical_accuracy: 0.8398\n",
      "Epoch 105/150\n",
      "96/96 [==============================] - 1s 14ms/step - loss: 0.2837 - sparse_categorical_accuracy: 0.9095 - val_loss: 0.4977 - val_sparse_categorical_accuracy: 0.7786\n",
      "Epoch 106/150\n",
      "96/96 [==============================] - 1s 14ms/step - loss: 0.2919 - sparse_categorical_accuracy: 0.9046 - val_loss: 0.8975 - val_sparse_categorical_accuracy: 0.6419\n",
      "Epoch 107/150\n",
      "96/96 [==============================] - 1s 14ms/step - loss: 0.2942 - sparse_categorical_accuracy: 0.9023 - val_loss: 2.1024 - val_sparse_categorical_accuracy: 0.3802\n",
      "Epoch 108/150\n",
      "96/96 [==============================] - 1s 14ms/step - loss: 0.2858 - sparse_categorical_accuracy: 0.9056 - val_loss: 0.9057 - val_sparse_categorical_accuracy: 0.6211\n",
      "Epoch 109/150\n",
      "96/96 [==============================] - 1s 14ms/step - loss: 0.2850 - sparse_categorical_accuracy: 0.9033 - val_loss: 2.3762 - val_sparse_categorical_accuracy: 0.3919\n",
      "Epoch 110/150\n",
      "96/96 [==============================] - 1s 15ms/step - loss: 0.2885 - sparse_categorical_accuracy: 0.9017 - val_loss: 0.3842 - val_sparse_categorical_accuracy: 0.8281\n",
      "Epoch 111/150\n",
      "96/96 [==============================] - 1s 15ms/step - loss: 0.2607 - sparse_categorical_accuracy: 0.9215 - val_loss: 0.2938 - val_sparse_categorical_accuracy: 0.9284\n",
      "Epoch 112/150\n",
      "96/96 [==============================] - 1s 13ms/step - loss: 0.2849 - sparse_categorical_accuracy: 0.9072 - val_loss: 0.9958 - val_sparse_categorical_accuracy: 0.5898\n",
      "Epoch 113/150\n",
      "96/96 [==============================] - 1s 13ms/step - loss: 0.2603 - sparse_categorical_accuracy: 0.9186 - val_loss: 0.5025 - val_sparse_categorical_accuracy: 0.7878\n",
      "Epoch 114/150\n",
      "96/96 [==============================] - 1s 13ms/step - loss: 0.2619 - sparse_categorical_accuracy: 0.9176 - val_loss: 1.1194 - val_sparse_categorical_accuracy: 0.6237\n",
      "Epoch 115/150\n",
      "96/96 [==============================] - 1s 13ms/step - loss: 0.2533 - sparse_categorical_accuracy: 0.9229 - val_loss: 1.0258 - val_sparse_categorical_accuracy: 0.5651\n",
      "Epoch 116/150\n",
      "96/96 [==============================] - 1s 14ms/step - loss: 0.2768 - sparse_categorical_accuracy: 0.9082 - val_loss: 0.6197 - val_sparse_categorical_accuracy: 0.7500\n",
      "Epoch 117/150\n",
      "96/96 [==============================] - 1s 13ms/step - loss: 0.2590 - sparse_categorical_accuracy: 0.9196 - val_loss: 0.8343 - val_sparse_categorical_accuracy: 0.6810\n",
      "Epoch 118/150\n",
      "96/96 [==============================] - 1s 14ms/step - loss: 0.2551 - sparse_categorical_accuracy: 0.9176 - val_loss: 0.5790 - val_sparse_categorical_accuracy: 0.7799\n",
      "Epoch 119/150\n",
      "96/96 [==============================] - 1s 14ms/step - loss: 0.2466 - sparse_categorical_accuracy: 0.9219 - val_loss: 0.3885 - val_sparse_categorical_accuracy: 0.8099\n",
      "Epoch 120/150\n",
      "96/96 [==============================] - 1s 13ms/step - loss: 0.2213 - sparse_categorical_accuracy: 0.9362 - val_loss: 0.5888 - val_sparse_categorical_accuracy: 0.7305\n",
      "Epoch 121/150\n",
      "96/96 [==============================] - 1s 13ms/step - loss: 0.2481 - sparse_categorical_accuracy: 0.9189 - val_loss: 0.8323 - val_sparse_categorical_accuracy: 0.7526\n",
      "Epoch 122/150\n",
      "96/96 [==============================] - 1s 13ms/step - loss: 0.2209 - sparse_categorical_accuracy: 0.9359 - val_loss: 0.8042 - val_sparse_categorical_accuracy: 0.6393\n",
      "Epoch 123/150\n",
      "96/96 [==============================] - 1s 14ms/step - loss: 0.2964 - sparse_categorical_accuracy: 0.8900 - val_loss: 0.6498 - val_sparse_categorical_accuracy: 0.6914\n",
      "Epoch 124/150\n",
      "96/96 [==============================] - 1s 14ms/step - loss: 0.2211 - sparse_categorical_accuracy: 0.9320 - val_loss: 0.3663 - val_sparse_categorical_accuracy: 0.8398\n",
      "Epoch 125/150\n",
      "96/96 [==============================] - 1s 15ms/step - loss: 0.2296 - sparse_categorical_accuracy: 0.9310 - val_loss: 1.4189 - val_sparse_categorical_accuracy: 0.5078\n",
      "Epoch 126/150\n",
      "96/96 [==============================] - 1s 13ms/step - loss: 0.2613 - sparse_categorical_accuracy: 0.9082 - val_loss: 1.3653 - val_sparse_categorical_accuracy: 0.7487\n",
      "Epoch 127/150\n",
      "96/96 [==============================] - 1s 11ms/step - loss: 0.2205 - sparse_categorical_accuracy: 0.9355 - val_loss: 0.4055 - val_sparse_categorical_accuracy: 0.8177\n",
      "Epoch 128/150\n",
      "96/96 [==============================] - 1s 11ms/step - loss: 0.2139 - sparse_categorical_accuracy: 0.9313 - val_loss: 1.2377 - val_sparse_categorical_accuracy: 0.4805\n",
      "Epoch 129/150\n",
      "96/96 [==============================] - 1s 11ms/step - loss: 0.2172 - sparse_categorical_accuracy: 0.9313 - val_loss: 1.9434 - val_sparse_categorical_accuracy: 0.5547\n",
      "Epoch 130/150\n",
      "96/96 [==============================] - 1s 11ms/step - loss: 0.2637 - sparse_categorical_accuracy: 0.9056 - val_loss: 0.2484 - val_sparse_categorical_accuracy: 0.9297\n",
      "Epoch 131/150\n",
      "96/96 [==============================] - 1s 11ms/step - loss: 0.2369 - sparse_categorical_accuracy: 0.9180 - val_loss: 1.1288 - val_sparse_categorical_accuracy: 0.6146\n",
      "Epoch 132/150\n",
      "96/96 [==============================] - 1s 11ms/step - loss: 0.2594 - sparse_categorical_accuracy: 0.9137 - val_loss: 0.3570 - val_sparse_categorical_accuracy: 0.8477\n",
      "Epoch 133/150\n",
      "96/96 [==============================] - 1s 11ms/step - loss: 0.2202 - sparse_categorical_accuracy: 0.9329 - val_loss: 1.4944 - val_sparse_categorical_accuracy: 0.5977\n",
      "Epoch 134/150\n",
      "96/96 [==============================] - 1s 11ms/step - loss: 0.2258 - sparse_categorical_accuracy: 0.9274 - val_loss: 1.1899 - val_sparse_categorical_accuracy: 0.4844\n",
      "Epoch 135/150\n",
      "96/96 [==============================] - 1s 11ms/step - loss: 0.1945 - sparse_categorical_accuracy: 0.9450 - val_loss: 1.1945 - val_sparse_categorical_accuracy: 0.5547\n",
      "Epoch 136/150\n",
      "96/96 [==============================] - 1s 11ms/step - loss: 0.2053 - sparse_categorical_accuracy: 0.9323 - val_loss: 0.9604 - val_sparse_categorical_accuracy: 0.7188\n",
      "Epoch 137/150\n",
      "96/96 [==============================] - 1s 11ms/step - loss: 0.1963 - sparse_categorical_accuracy: 0.9450 - val_loss: 3.4431 - val_sparse_categorical_accuracy: 0.5404\n",
      "Epoch 138/150\n",
      "96/96 [==============================] - 1s 11ms/step - loss: 0.2349 - sparse_categorical_accuracy: 0.9189 - val_loss: 0.8513 - val_sparse_categorical_accuracy: 0.6615\n",
      "Epoch 139/150\n",
      "96/96 [==============================] - 1s 12ms/step - loss: 0.2148 - sparse_categorical_accuracy: 0.9339 - val_loss: 2.0179 - val_sparse_categorical_accuracy: 0.4154\n",
      "Epoch 140/150\n",
      "96/96 [==============================] - 1s 11ms/step - loss: 0.2011 - sparse_categorical_accuracy: 0.9391 - val_loss: 1.9997 - val_sparse_categorical_accuracy: 0.5924\n",
      "Epoch 141/150\n",
      "96/96 [==============================] - 1s 11ms/step - loss: 0.1927 - sparse_categorical_accuracy: 0.9447 - val_loss: 1.0785 - val_sparse_categorical_accuracy: 0.7253\n",
      "Epoch 142/150\n",
      "96/96 [==============================] - 1s 12ms/step - loss: 0.2009 - sparse_categorical_accuracy: 0.9339 - val_loss: 0.7231 - val_sparse_categorical_accuracy: 0.7018\n",
      "Epoch 143/150\n",
      "96/96 [==============================] - 1s 12ms/step - loss: 0.1794 - sparse_categorical_accuracy: 0.9495 - val_loss: 0.4995 - val_sparse_categorical_accuracy: 0.7839\n",
      "Epoch 144/150\n",
      "96/96 [==============================] - 1s 11ms/step - loss: 0.1788 - sparse_categorical_accuracy: 0.9535 - val_loss: 1.4934 - val_sparse_categorical_accuracy: 0.6198\n",
      "Epoch 145/150\n",
      "96/96 [==============================] - 1s 11ms/step - loss: 0.1942 - sparse_categorical_accuracy: 0.9355 - val_loss: 1.7638 - val_sparse_categorical_accuracy: 0.5990\n",
      "Epoch 146/150\n",
      "96/96 [==============================] - 1s 11ms/step - loss: 0.1942 - sparse_categorical_accuracy: 0.9411 - val_loss: 0.5099 - val_sparse_categorical_accuracy: 0.7995\n",
      "Epoch 147/150\n",
      "96/96 [==============================] - 1s 12ms/step - loss: 0.2004 - sparse_categorical_accuracy: 0.9336 - val_loss: 1.2295 - val_sparse_categorical_accuracy: 0.6602\n",
      "Epoch 148/150\n",
      "96/96 [==============================] - 1s 12ms/step - loss: 0.1936 - sparse_categorical_accuracy: 0.9372 - val_loss: 0.6475 - val_sparse_categorical_accuracy: 0.7747\n",
      "Epoch 149/150\n",
      "96/96 [==============================] - 1s 12ms/step - loss: 0.1649 - sparse_categorical_accuracy: 0.9544 - val_loss: 0.5514 - val_sparse_categorical_accuracy: 0.7513\n",
      "Epoch 150/150\n",
      "96/96 [==============================] - 1s 12ms/step - loss: 0.2068 - sparse_categorical_accuracy: 0.9300 - val_loss: 1.8969 - val_sparse_categorical_accuracy: 0.6016\n"
     ]
    }
   ],
   "source": [
    "model = make_CNN_model(x_train.shape[1:],num_classes = 3)\n",
    "trained_model, history = train_CNN_model(model, x_train, y_train, epochs=150, batch_size=32)"
   ]
  },
  {
   "cell_type": "code",
   "execution_count": 7,
   "id": "227e6120",
   "metadata": {},
   "outputs": [
    {
     "name": "stdout",
     "output_type": "stream",
     "text": [
      "15/15 [==============================] - 0s 3ms/step - loss: 1.8179 - sparse_categorical_accuracy: 0.6445\n",
      "Test accuracy 0.6445395946502686\n",
      "Test loss 1.817866563796997\n"
     ]
    }
   ],
   "source": [
    "test_loss, test_acc = trained_model.evaluate(x_test_original, y_test_original)\n",
    "\n",
    "print(\"Test accuracy\", test_acc)\n",
    "print(\"Test loss\", test_loss)"
   ]
  },
  {
   "cell_type": "markdown",
   "id": "4773dace",
   "metadata": {},
   "source": [
    "### Create perturbed test sets and calculate decrease in accuracy"
   ]
  },
  {
   "cell_type": "code",
   "execution_count": 8,
   "id": "b854bfe4-2303-44a0-bef5-eb3c738da9e9",
   "metadata": {},
   "outputs": [
    {
     "name": "stdout",
     "output_type": "stream",
     "text": [
      "(467,)\n"
     ]
    }
   ],
   "source": [
    "print(y_test_original.shape)"
   ]
  },
  {
   "cell_type": "code",
   "execution_count": 31,
   "id": "4c579fb7",
   "metadata": {},
   "outputs": [
    {
     "name": "stdout",
     "output_type": "stream",
     "text": [
      "15/15 [==============================] - 0s 3ms/step\n",
      "15/15 [==============================] - 0s 2ms/step\n",
      "15/15 [==============================] - 0s 2ms/step\n",
      "15/15 [==============================] - 0s 2ms/step\n",
      "15/15 [==============================] - 0s 2ms/step\n",
      "15/15 [==============================] - 0s 2ms/step\n"
     ]
    }
   ],
   "source": [
    "predictions_original = model.predict(x_test_original)\n",
    "perturb_test_set = x_test_original.copy()\n",
    "perturb_test_set = perturb_test_set.reshape(x_test_original.shape[0:2])\n",
    "index_0 = 100\n",
    "index_1 = 160\n",
    "\n",
    "x_test_rbp = np.asarray([perturb('RBP',x,index_0,index_1) for x in perturb_test_set])\n",
    "x_test_rbp = np.expand_dims(x_test_rbp, axis=-1)\n",
    "predictions_rbp = model.predict(x_test_rbp)\n",
    "\n",
    "pert1 = perturb('RBP1',perturb_test_set[0],index_0,index_1, global_ts = perturb_test_set)\n",
    "x_test_new1 = np.asarray([perturb('RBP1',x,index_0,index_1, global_ts = perturb_test_set) for x in perturb_test_set])\n",
    "x_test_new1 = np.expand_dims(x_test_new1, axis=-1)\n",
    "predictions_new1 = model.predict(x_test_new1)\n",
    "\n",
    "#x_test_new2 = np.asarray([perturb('RBP2',x,400,500, global_ts = perturb_test_set) for x in perturb_test_set])\n",
    "#x_test_new2 = np.expand_dims(x_test_new2, axis=-1)\n",
    "#predictions_new2 = model.predict(x_test_new2)\n",
    "\n",
    "x_test_zero = np.asarray([perturb('zero',x,index_0,index_1) for x in perturb_test_set])\n",
    "x_test_zero = np.expand_dims(x_test_zero, axis=-1)\n",
    "predictions_zero = model.predict(x_test_zero)\n",
    "\n",
    "x_test_noise = np.asarray([perturb('noise',x,index_0,index_1) for x in perturb_test_set])\n",
    "x_test_noise = np.expand_dims(x_test_noise, axis=-1)\n",
    "predictions_noise = model.predict(x_test_noise)\n",
    "\n",
    "x_test_blur = np.asarray([perturb('blur',x,index_0,index_1) for x in perturb_test_set])\n",
    "x_test_blur = np.expand_dims(x_test_blur, axis=-1)\n",
    "predictions_blur = model.predict(x_test_blur)"
   ]
  },
  {
   "cell_type": "code",
   "execution_count": 32,
   "id": "b5d3f821",
   "metadata": {},
   "outputs": [],
   "source": [
    "def accuracy(predictions, labels):\n",
    "    hits = 0\n",
    "    for i in range(0,len(predictions)):\n",
    "        if predictions[i] == labels[i]:\n",
    "            hits += 1\n",
    "    return hits/len(predictions)\n",
    "\n",
    "def AveragSuccessRate(predictions, labels):\n",
    "    hits = 0\n",
    "    for i in range(0,len(predictions)):\n",
    "        if predictions[i] != labels[i]:\n",
    "            hits += 1\n",
    "    return hits/len(predictions)"
   ]
  },
  {
   "cell_type": "code",
   "execution_count": 33,
   "id": "b2c3e061-db82-4865-b464-2df276289270",
   "metadata": {},
   "outputs": [
    {
     "name": "stdout",
     "output_type": "stream",
     "text": [
      "7.077537295635214\n",
      "7.564985445557915\n",
      "7.538781168056821\n",
      "9.88836843827624\n",
      "3.623919762419179\n"
     ]
    }
   ],
   "source": [
    "def l2norm(perturb):\n",
    "    # 计算两个数组之间的差\n",
    "    difference = perturb - x_test_original\n",
    "    \n",
    "    # 计算差的平方\n",
    "    squared_difference = np.square(difference)\n",
    "    \n",
    "    # 计算平方和，沿着特征维度（axis=1），因为每个时间序列样本是一行\n",
    "    sum_of_squares = np.sum(squared_difference, axis=1)\n",
    "    \n",
    "    # 计算平方和的平方根，即l2范数\n",
    "    l2_norms = np.sqrt(sum_of_squares)\n",
    "    \n",
    "    average_l2_norm = np.mean(l2_norms)\n",
    "    \n",
    "    # l2_norms现在是一个形状为(467,)的数组，其中每个元素代表\n",
    "    # 对应时间序列样本之间的l2范数\n",
    "    print(average_l2_norm)  # 输出: (467,)\n",
    "\n",
    "l2norm(x_test_rbp)\n",
    "l2norm(x_test_new1)\n",
    "l2norm(x_test_zero)\n",
    "l2norm(x_test_noise)\n",
    "l2norm(x_test_blur)"
   ]
  },
  {
   "cell_type": "code",
   "execution_count": 34,
   "id": "bbf2380d-6b32-4aff-901b-8f527ed6ed49",
   "metadata": {},
   "outputs": [
    {
     "data": {
      "text/plain": [
       "0.11777301927194861"
      ]
     },
     "execution_count": 34,
     "metadata": {},
     "output_type": "execute_result"
    }
   ],
   "source": [
    "AveragSuccessRate(np.argmax(predictions_new1,axis=1), np.argmax(predictions_original,axis=1))"
   ]
  },
  {
   "cell_type": "code",
   "execution_count": 35,
   "id": "89f21d47",
   "metadata": {},
   "outputs": [],
   "source": [
    "original_accuracy = accuracy(np.argmax(predictions_original,axis=1), y_test_original)\n",
    "rbp_accuracy = accuracy(np.argmax(predictions_rbp,axis=1), y_test_original)\n",
    "new1_accuracy = accuracy(np.argmax(predictions_new1,axis=1), y_test_original)\n",
    "#new2_accuracy = accuracy(np.argmax(predictions_new2,axis=1), y_test_original)\n",
    "zero_accuracy = accuracy(np.argmax(predictions_zero,axis=1), y_test_original)\n",
    "noise_accuracy = accuracy(np.argmax(predictions_noise,axis=1), y_test_original)\n",
    "blur_accuracy = accuracy(np.argmax(predictions_blur,axis=1), y_test_original)"
   ]
  },
  {
   "cell_type": "code",
   "execution_count": 36,
   "id": "e52c9d2e",
   "metadata": {},
   "outputs": [
    {
     "name": "stdout",
     "output_type": "stream",
     "text": [
      " Original Accuracy: 0.6445396145610278\n",
      " RBP Accuracy: 0.588865096359743\n",
      " RBP1 Accuracy: 0.5610278372591007\n",
      " Zero Accuracy: 0.5717344753747323\n",
      " Noise Accuracy: 0.6038543897216274\n",
      " Blur Accuracy: 0.576017130620985\n",
      "\n"
     ]
    }
   ],
   "source": [
    "print(\" Original Accuracy: \" + str(original_accuracy) + \"\\n\"+\n",
    "    \" RBP Accuracy: \" + str(rbp_accuracy) + \"\\n\"+\n",
    "    \" RBP1 Accuracy: \" + str(new1_accuracy) + \"\\n\"+\n",
    "    #\" RBP2 Accuracy: \" + str(new2_accuracy) + \"\\n\"+\n",
    "      \n",
    "    \" Zero Accuracy: \" + str(zero_accuracy) + \"\\n\"+\n",
    "    \" Noise Accuracy: \" + str(noise_accuracy) + \"\\n\"+\n",
    "    \" Blur Accuracy: \" + str(blur_accuracy) + \"\\n\")"
   ]
  },
  {
   "cell_type": "code",
   "execution_count": null,
   "id": "71b9e9eb-bea5-446d-989d-35562787d4f6",
   "metadata": {},
   "outputs": [],
   "source": []
  }
 ],
 "metadata": {
  "kernelspec": {
   "display_name": "lime_tf",
   "language": "python",
   "name": "limetf"
  },
  "language_info": {
   "codemirror_mode": {
    "name": "ipython",
    "version": 3
   },
   "file_extension": ".py",
   "mimetype": "text/x-python",
   "name": "python",
   "nbconvert_exporter": "python",
   "pygments_lexer": "ipython3",
   "version": "3.10.13"
  }
 },
 "nbformat": 4,
 "nbformat_minor": 5
}
