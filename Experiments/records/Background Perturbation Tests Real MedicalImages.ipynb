{
 "cells": [
  {
   "cell_type": "code",
   "execution_count": 1,
   "id": "dd9bd814",
   "metadata": {},
   "outputs": [],
   "source": [
    "import numpy as np\n",
    "import matplotlib.pyplot as plt\n",
    "import inspect"
   ]
  },
  {
   "cell_type": "code",
   "execution_count": 2,
   "id": "2439de23",
   "metadata": {},
   "outputs": [
    {
     "name": "stdout",
     "output_type": "stream",
     "text": [
      "['/Users/gali/anaconda3/envs/LIMEtf/lib/python310.zip', '/Users/gali/anaconda3/envs/LIMEtf/lib/python3.10', '/Users/gali/anaconda3/envs/LIMEtf/lib/python3.10/lib-dynload', '', '/Users/gali/anaconda3/envs/LIMEtf/lib/python3.10/site-packages', '/Users/gali/anaconda3/envs/LIMEtf/lib/python3.10/site-packages/setuptools/_vendor', '../', '../']\n"
     ]
    }
   ],
   "source": [
    "import importlib\n",
    "import sys\n",
    "sys.path.append('../')\n",
    "from Utils.perturbationsnew import RBPIndividual, RBPIndividualNew1, RBPIndividualNew1fast, RBPIndividualNew2, zeroPerturb, noisePerturb, blurPerturb,multisamplebackgroundIdentification\n",
    "from Utils.models import *\n",
    "from Utils.data import perturb, generateSynthetic, generateSyntheticPerturbReal,ReadTS\n",
    "\n",
    "print(sys.path)\n"
   ]
  },
  {
   "cell_type": "markdown",
   "id": "62b11ea0",
   "metadata": {},
   "source": [
    "## Test important content removal (accuracy decrease)"
   ]
  },
  {
   "cell_type": "markdown",
   "id": "5567ae62",
   "metadata": {},
   "source": [
    "### Load synthetic dataset and train CNN model "
   ]
  },
  {
   "cell_type": "code",
   "execution_count": 3,
   "id": "812c0d59",
   "metadata": {},
   "outputs": [
    {
     "name": "stdout",
     "output_type": "stream",
     "text": [
      "(381, 99, 1)\n"
     ]
    }
   ],
   "source": [
    "x_train, y_train,x_test_original, y_test_original = ReadTS('MedicalImages')\n",
    "y_train = y_train - 1\n",
    "y_test_original = y_test_original - 1\n",
    "print(x_train.shape)\n",
    "#print(y_train)"
   ]
  },
  {
   "cell_type": "code",
   "execution_count": 4,
   "id": "e74e1ca3-8fd2-4e4a-96a1-2ac583496cd7",
   "metadata": {},
   "outputs": [],
   "source": [
    "from sklearn.preprocessing import StandardScaler\n",
    "def normalize(TS):\n",
    "    # 获取原始数据集的形状\n",
    "    original_shape = TS.shape\n",
    "    \n",
    "    # 将数据集reshape成二维数组\n",
    "    TS_2d = TS.reshape(original_shape[0] , original_shape[1])\n",
    "    \n",
    "    # 初始化StandardScaler\n",
    "    scaler = StandardScaler()\n",
    "    \n",
    "    # 对数据集进行标准化\n",
    "    TS_normalized = scaler.fit_transform(TS_2d)\n",
    "    \n",
    "    # 将标准化后的数据集reshape回原始形状\n",
    "    TS = TS_normalized.reshape(original_shape)\n",
    "    \n",
    "    return TS\n",
    "\n",
    "x_train = normalize(x_train)\n",
    "x_test_original = normalize(x_test_original)\n",
    "#print(x_train)"
   ]
  },
  {
   "cell_type": "code",
   "execution_count": 5,
   "id": "c9911722",
   "metadata": {},
   "outputs": [
    {
     "name": "stdout",
     "output_type": "stream",
     "text": [
      "Epoch 1/100\n"
     ]
    },
    {
     "name": "stderr",
     "output_type": "stream",
     "text": [
      "2024-11-27 22:17:06.231736: W tensorflow/tsl/platform/profile_utils/cpu_utils.cc:128] Failed to get CPU frequency: 0 Hz\n"
     ]
    },
    {
     "name": "stdout",
     "output_type": "stream",
     "text": [
      "10/10 [==============================] - 0s 17ms/step - loss: 2.0555 - sparse_categorical_accuracy: 0.3125 - val_loss: 2.2311 - val_sparse_categorical_accuracy: 0.5714\n",
      "Epoch 2/100\n",
      "10/10 [==============================] - 0s 8ms/step - loss: 1.6639 - sparse_categorical_accuracy: 0.5329 - val_loss: 2.1398 - val_sparse_categorical_accuracy: 0.5714\n",
      "Epoch 3/100\n",
      "10/10 [==============================] - 0s 8ms/step - loss: 1.4815 - sparse_categorical_accuracy: 0.5461 - val_loss: 2.0318 - val_sparse_categorical_accuracy: 0.5714\n",
      "Epoch 4/100\n",
      "10/10 [==============================] - 0s 8ms/step - loss: 1.3966 - sparse_categorical_accuracy: 0.5461 - val_loss: 1.9425 - val_sparse_categorical_accuracy: 0.5714\n",
      "Epoch 5/100\n",
      "10/10 [==============================] - 0s 8ms/step - loss: 1.3623 - sparse_categorical_accuracy: 0.5493 - val_loss: 1.9011 - val_sparse_categorical_accuracy: 0.5714\n",
      "Epoch 6/100\n",
      "10/10 [==============================] - 0s 8ms/step - loss: 1.3299 - sparse_categorical_accuracy: 0.5625 - val_loss: 1.8484 - val_sparse_categorical_accuracy: 0.5714\n",
      "Epoch 7/100\n",
      "10/10 [==============================] - 0s 8ms/step - loss: 1.2857 - sparse_categorical_accuracy: 0.5592 - val_loss: 1.8167 - val_sparse_categorical_accuracy: 0.5714\n",
      "Epoch 8/100\n",
      "10/10 [==============================] - 0s 8ms/step - loss: 1.2587 - sparse_categorical_accuracy: 0.5592 - val_loss: 1.7901 - val_sparse_categorical_accuracy: 0.5714\n",
      "Epoch 9/100\n",
      "10/10 [==============================] - 0s 9ms/step - loss: 1.2546 - sparse_categorical_accuracy: 0.5921 - val_loss: 1.7814 - val_sparse_categorical_accuracy: 0.5714\n",
      "Epoch 10/100\n",
      "10/10 [==============================] - 0s 9ms/step - loss: 1.2352 - sparse_categorical_accuracy: 0.5822 - val_loss: 1.7505 - val_sparse_categorical_accuracy: 0.5714\n",
      "Epoch 11/100\n",
      "10/10 [==============================] - 0s 9ms/step - loss: 1.2093 - sparse_categorical_accuracy: 0.5921 - val_loss: 1.7092 - val_sparse_categorical_accuracy: 0.5714\n",
      "Epoch 12/100\n",
      "10/10 [==============================] - 0s 9ms/step - loss: 1.1865 - sparse_categorical_accuracy: 0.5954 - val_loss: 1.7059 - val_sparse_categorical_accuracy: 0.5714\n",
      "Epoch 13/100\n",
      "10/10 [==============================] - 0s 9ms/step - loss: 1.1630 - sparse_categorical_accuracy: 0.6020 - val_loss: 1.6857 - val_sparse_categorical_accuracy: 0.5714\n",
      "Epoch 14/100\n",
      "10/10 [==============================] - 0s 8ms/step - loss: 1.1398 - sparse_categorical_accuracy: 0.6118 - val_loss: 1.6902 - val_sparse_categorical_accuracy: 0.5714\n",
      "Epoch 15/100\n",
      "10/10 [==============================] - 0s 9ms/step - loss: 1.1165 - sparse_categorical_accuracy: 0.6118 - val_loss: 1.6773 - val_sparse_categorical_accuracy: 0.5714\n",
      "Epoch 16/100\n",
      "10/10 [==============================] - 0s 9ms/step - loss: 1.1199 - sparse_categorical_accuracy: 0.6349 - val_loss: 1.6628 - val_sparse_categorical_accuracy: 0.5714\n",
      "Epoch 17/100\n",
      "10/10 [==============================] - 0s 9ms/step - loss: 1.1082 - sparse_categorical_accuracy: 0.6151 - val_loss: 1.6543 - val_sparse_categorical_accuracy: 0.5714\n",
      "Epoch 18/100\n",
      "10/10 [==============================] - 0s 9ms/step - loss: 1.0909 - sparse_categorical_accuracy: 0.6480 - val_loss: 1.6218 - val_sparse_categorical_accuracy: 0.5714\n",
      "Epoch 19/100\n",
      "10/10 [==============================] - 0s 8ms/step - loss: 1.0706 - sparse_categorical_accuracy: 0.6283 - val_loss: 1.6742 - val_sparse_categorical_accuracy: 0.5714\n",
      "Epoch 20/100\n",
      "10/10 [==============================] - 0s 8ms/step - loss: 1.0810 - sparse_categorical_accuracy: 0.6480 - val_loss: 1.6242 - val_sparse_categorical_accuracy: 0.5714\n",
      "Epoch 21/100\n",
      "10/10 [==============================] - 0s 9ms/step - loss: 1.0416 - sparse_categorical_accuracy: 0.6250 - val_loss: 1.5957 - val_sparse_categorical_accuracy: 0.5714\n",
      "Epoch 22/100\n",
      "10/10 [==============================] - 0s 8ms/step - loss: 1.0396 - sparse_categorical_accuracy: 0.6447 - val_loss: 1.6239 - val_sparse_categorical_accuracy: 0.5714\n",
      "Epoch 23/100\n",
      "10/10 [==============================] - 0s 8ms/step - loss: 1.0020 - sparse_categorical_accuracy: 0.6546 - val_loss: 1.6186 - val_sparse_categorical_accuracy: 0.5714\n",
      "Epoch 24/100\n",
      "10/10 [==============================] - 0s 8ms/step - loss: 1.0241 - sparse_categorical_accuracy: 0.6480 - val_loss: 1.6137 - val_sparse_categorical_accuracy: 0.5714\n",
      "Epoch 25/100\n",
      "10/10 [==============================] - 0s 9ms/step - loss: 0.9993 - sparse_categorical_accuracy: 0.6414 - val_loss: 1.5708 - val_sparse_categorical_accuracy: 0.5714\n",
      "Epoch 26/100\n",
      "10/10 [==============================] - 0s 8ms/step - loss: 0.9746 - sparse_categorical_accuracy: 0.6447 - val_loss: 1.6031 - val_sparse_categorical_accuracy: 0.5714\n",
      "Epoch 27/100\n",
      "10/10 [==============================] - 0s 9ms/step - loss: 0.9791 - sparse_categorical_accuracy: 0.6513 - val_loss: 1.5658 - val_sparse_categorical_accuracy: 0.5714\n",
      "Epoch 28/100\n",
      "10/10 [==============================] - 0s 9ms/step - loss: 0.9968 - sparse_categorical_accuracy: 0.6513 - val_loss: 1.5519 - val_sparse_categorical_accuracy: 0.5844\n",
      "Epoch 29/100\n",
      "10/10 [==============================] - 0s 8ms/step - loss: 0.9644 - sparse_categorical_accuracy: 0.6645 - val_loss: 1.5919 - val_sparse_categorical_accuracy: 0.5974\n",
      "Epoch 30/100\n",
      "10/10 [==============================] - 0s 8ms/step - loss: 0.9535 - sparse_categorical_accuracy: 0.6480 - val_loss: 1.5562 - val_sparse_categorical_accuracy: 0.5714\n",
      "Epoch 31/100\n",
      "10/10 [==============================] - 0s 9ms/step - loss: 0.9521 - sparse_categorical_accuracy: 0.6743 - val_loss: 1.5355 - val_sparse_categorical_accuracy: 0.5844\n",
      "Epoch 32/100\n",
      "10/10 [==============================] - 0s 9ms/step - loss: 0.9354 - sparse_categorical_accuracy: 0.6711 - val_loss: 1.5307 - val_sparse_categorical_accuracy: 0.5844\n",
      "Epoch 33/100\n",
      "10/10 [==============================] - 0s 8ms/step - loss: 0.9331 - sparse_categorical_accuracy: 0.6546 - val_loss: 1.5826 - val_sparse_categorical_accuracy: 0.4935\n",
      "Epoch 34/100\n",
      "10/10 [==============================] - 0s 8ms/step - loss: 0.9018 - sparse_categorical_accuracy: 0.6809 - val_loss: 1.5372 - val_sparse_categorical_accuracy: 0.5195\n",
      "Epoch 35/100\n",
      "10/10 [==============================] - 0s 8ms/step - loss: 0.9157 - sparse_categorical_accuracy: 0.6678 - val_loss: 1.7411 - val_sparse_categorical_accuracy: 0.3506\n",
      "Epoch 36/100\n",
      "10/10 [==============================] - 0s 11ms/step - loss: 0.9046 - sparse_categorical_accuracy: 0.6974 - val_loss: 1.4112 - val_sparse_categorical_accuracy: 0.5325\n",
      "Epoch 37/100\n",
      "10/10 [==============================] - 0s 8ms/step - loss: 0.8913 - sparse_categorical_accuracy: 0.6776 - val_loss: 1.4470 - val_sparse_categorical_accuracy: 0.4935\n",
      "Epoch 38/100\n",
      "10/10 [==============================] - 0s 9ms/step - loss: 0.9011 - sparse_categorical_accuracy: 0.6941 - val_loss: 1.3662 - val_sparse_categorical_accuracy: 0.5195\n",
      "Epoch 39/100\n",
      "10/10 [==============================] - 0s 8ms/step - loss: 0.8865 - sparse_categorical_accuracy: 0.6809 - val_loss: 1.4097 - val_sparse_categorical_accuracy: 0.5584\n",
      "Epoch 40/100\n",
      "10/10 [==============================] - 0s 8ms/step - loss: 0.8661 - sparse_categorical_accuracy: 0.6974 - val_loss: 1.4569 - val_sparse_categorical_accuracy: 0.5195\n",
      "Epoch 41/100\n",
      "10/10 [==============================] - 0s 9ms/step - loss: 0.8630 - sparse_categorical_accuracy: 0.7039 - val_loss: 1.3303 - val_sparse_categorical_accuracy: 0.5455\n",
      "Epoch 42/100\n",
      "10/10 [==============================] - 0s 7ms/step - loss: 0.8405 - sparse_categorical_accuracy: 0.6974 - val_loss: 1.3867 - val_sparse_categorical_accuracy: 0.5455\n",
      "Epoch 43/100\n",
      "10/10 [==============================] - 0s 8ms/step - loss: 0.8444 - sparse_categorical_accuracy: 0.6941 - val_loss: 1.3772 - val_sparse_categorical_accuracy: 0.4935\n",
      "Epoch 44/100\n",
      "10/10 [==============================] - 0s 9ms/step - loss: 0.8325 - sparse_categorical_accuracy: 0.7007 - val_loss: 1.2433 - val_sparse_categorical_accuracy: 0.4935\n",
      "Epoch 45/100\n",
      "10/10 [==============================] - 0s 8ms/step - loss: 0.8331 - sparse_categorical_accuracy: 0.6842 - val_loss: 1.7688 - val_sparse_categorical_accuracy: 0.2468\n",
      "Epoch 46/100\n",
      "10/10 [==============================] - 0s 9ms/step - loss: 0.8332 - sparse_categorical_accuracy: 0.7007 - val_loss: 1.2188 - val_sparse_categorical_accuracy: 0.5974\n",
      "Epoch 47/100\n",
      "10/10 [==============================] - 0s 9ms/step - loss: 0.8116 - sparse_categorical_accuracy: 0.7007 - val_loss: 1.1811 - val_sparse_categorical_accuracy: 0.5974\n",
      "Epoch 48/100\n",
      "10/10 [==============================] - 0s 9ms/step - loss: 0.7931 - sparse_categorical_accuracy: 0.7105 - val_loss: 1.1631 - val_sparse_categorical_accuracy: 0.5974\n",
      "Epoch 49/100\n",
      "10/10 [==============================] - 0s 9ms/step - loss: 0.8030 - sparse_categorical_accuracy: 0.7138 - val_loss: 1.1575 - val_sparse_categorical_accuracy: 0.6234\n",
      "Epoch 50/100\n",
      "10/10 [==============================] - 0s 8ms/step - loss: 0.7847 - sparse_categorical_accuracy: 0.7072 - val_loss: 1.2007 - val_sparse_categorical_accuracy: 0.5974\n",
      "Epoch 51/100\n",
      "10/10 [==============================] - 0s 8ms/step - loss: 0.7789 - sparse_categorical_accuracy: 0.7270 - val_loss: 1.1710 - val_sparse_categorical_accuracy: 0.5974\n",
      "Epoch 52/100\n",
      "10/10 [==============================] - 0s 8ms/step - loss: 0.7931 - sparse_categorical_accuracy: 0.7105 - val_loss: 1.1789 - val_sparse_categorical_accuracy: 0.5844\n",
      "Epoch 53/100\n",
      "10/10 [==============================] - 0s 9ms/step - loss: 0.7758 - sparse_categorical_accuracy: 0.7303 - val_loss: 1.0595 - val_sparse_categorical_accuracy: 0.6104\n",
      "Epoch 54/100\n",
      "10/10 [==============================] - 0s 10ms/step - loss: 0.7953 - sparse_categorical_accuracy: 0.7138 - val_loss: 1.0352 - val_sparse_categorical_accuracy: 0.6234\n",
      "Epoch 55/100\n",
      "10/10 [==============================] - 0s 10ms/step - loss: 0.7492 - sparse_categorical_accuracy: 0.7401 - val_loss: 1.0336 - val_sparse_categorical_accuracy: 0.5714\n",
      "Epoch 56/100\n",
      "10/10 [==============================] - 0s 8ms/step - loss: 0.7656 - sparse_categorical_accuracy: 0.7171 - val_loss: 1.1047 - val_sparse_categorical_accuracy: 0.6104\n",
      "Epoch 57/100\n",
      "10/10 [==============================] - 0s 8ms/step - loss: 0.7399 - sparse_categorical_accuracy: 0.7204 - val_loss: 1.1005 - val_sparse_categorical_accuracy: 0.5844\n",
      "Epoch 58/100\n",
      "10/10 [==============================] - 0s 8ms/step - loss: 0.7771 - sparse_categorical_accuracy: 0.7204 - val_loss: 1.1037 - val_sparse_categorical_accuracy: 0.6104\n",
      "Epoch 59/100\n",
      "10/10 [==============================] - 0s 9ms/step - loss: 0.7549 - sparse_categorical_accuracy: 0.7204 - val_loss: 0.9768 - val_sparse_categorical_accuracy: 0.6104\n",
      "Epoch 60/100\n",
      "10/10 [==============================] - 0s 8ms/step - loss: 0.7391 - sparse_categorical_accuracy: 0.7303 - val_loss: 0.9860 - val_sparse_categorical_accuracy: 0.5714\n",
      "Epoch 61/100\n",
      "10/10 [==============================] - 0s 8ms/step - loss: 0.7573 - sparse_categorical_accuracy: 0.6875 - val_loss: 0.9788 - val_sparse_categorical_accuracy: 0.6234\n",
      "Epoch 62/100\n",
      "10/10 [==============================] - 0s 9ms/step - loss: 0.7093 - sparse_categorical_accuracy: 0.7434 - val_loss: 0.9763 - val_sparse_categorical_accuracy: 0.6234\n",
      "Epoch 63/100\n",
      "10/10 [==============================] - 0s 8ms/step - loss: 0.7078 - sparse_categorical_accuracy: 0.7566 - val_loss: 1.0390 - val_sparse_categorical_accuracy: 0.6104\n",
      "Epoch 64/100\n",
      "10/10 [==============================] - 0s 9ms/step - loss: 0.6946 - sparse_categorical_accuracy: 0.7632 - val_loss: 0.9339 - val_sparse_categorical_accuracy: 0.6234\n",
      "Epoch 65/100\n",
      "10/10 [==============================] - 0s 8ms/step - loss: 0.6959 - sparse_categorical_accuracy: 0.7204 - val_loss: 0.9560 - val_sparse_categorical_accuracy: 0.5844\n",
      "Epoch 66/100\n",
      "10/10 [==============================] - 0s 9ms/step - loss: 0.7025 - sparse_categorical_accuracy: 0.7533 - val_loss: 1.0533 - val_sparse_categorical_accuracy: 0.5974\n",
      "Epoch 67/100\n",
      "10/10 [==============================] - 0s 10ms/step - loss: 0.7067 - sparse_categorical_accuracy: 0.7434 - val_loss: 0.9195 - val_sparse_categorical_accuracy: 0.6494\n",
      "Epoch 68/100\n",
      "10/10 [==============================] - 0s 8ms/step - loss: 0.6965 - sparse_categorical_accuracy: 0.7434 - val_loss: 0.9637 - val_sparse_categorical_accuracy: 0.6234\n",
      "Epoch 69/100\n",
      "10/10 [==============================] - 0s 9ms/step - loss: 0.7043 - sparse_categorical_accuracy: 0.7467 - val_loss: 0.9709 - val_sparse_categorical_accuracy: 0.6364\n",
      "Epoch 70/100\n",
      "10/10 [==============================] - 0s 10ms/step - loss: 0.6728 - sparse_categorical_accuracy: 0.7862 - val_loss: 0.9171 - val_sparse_categorical_accuracy: 0.6623\n",
      "Epoch 71/100\n",
      "10/10 [==============================] - 0s 8ms/step - loss: 0.6582 - sparse_categorical_accuracy: 0.7961 - val_loss: 1.0258 - val_sparse_categorical_accuracy: 0.6104\n",
      "Epoch 72/100\n",
      "10/10 [==============================] - 0s 8ms/step - loss: 0.6650 - sparse_categorical_accuracy: 0.7664 - val_loss: 1.0400 - val_sparse_categorical_accuracy: 0.6234\n",
      "Epoch 73/100\n",
      "10/10 [==============================] - 0s 9ms/step - loss: 0.6805 - sparse_categorical_accuracy: 0.7500 - val_loss: 0.9401 - val_sparse_categorical_accuracy: 0.5974\n",
      "Epoch 74/100\n",
      "10/10 [==============================] - 0s 9ms/step - loss: 0.6772 - sparse_categorical_accuracy: 0.7368 - val_loss: 1.1126 - val_sparse_categorical_accuracy: 0.6234\n",
      "Epoch 75/100\n",
      "10/10 [==============================] - 0s 9ms/step - loss: 0.6428 - sparse_categorical_accuracy: 0.7796 - val_loss: 0.9606 - val_sparse_categorical_accuracy: 0.6234\n",
      "Epoch 76/100\n",
      "10/10 [==============================] - 0s 9ms/step - loss: 0.6302 - sparse_categorical_accuracy: 0.7730 - val_loss: 1.4249 - val_sparse_categorical_accuracy: 0.5844\n",
      "Epoch 77/100\n",
      "10/10 [==============================] - 0s 8ms/step - loss: 0.6410 - sparse_categorical_accuracy: 0.7895 - val_loss: 0.9744 - val_sparse_categorical_accuracy: 0.5844\n",
      "Epoch 78/100\n",
      "10/10 [==============================] - 0s 8ms/step - loss: 0.6706 - sparse_categorical_accuracy: 0.7500 - val_loss: 1.2219 - val_sparse_categorical_accuracy: 0.5974\n",
      "Epoch 79/100\n",
      "10/10 [==============================] - 0s 9ms/step - loss: 0.6679 - sparse_categorical_accuracy: 0.7368 - val_loss: 1.1473 - val_sparse_categorical_accuracy: 0.5584\n",
      "Epoch 80/100\n",
      "10/10 [==============================] - 0s 8ms/step - loss: 0.6330 - sparse_categorical_accuracy: 0.7928 - val_loss: 0.9366 - val_sparse_categorical_accuracy: 0.6494\n",
      "Epoch 81/100\n",
      "10/10 [==============================] - 0s 8ms/step - loss: 0.6449 - sparse_categorical_accuracy: 0.7632 - val_loss: 1.0865 - val_sparse_categorical_accuracy: 0.5974\n",
      "Epoch 82/100\n",
      "10/10 [==============================] - 0s 9ms/step - loss: 0.6129 - sparse_categorical_accuracy: 0.8026 - val_loss: 1.0020 - val_sparse_categorical_accuracy: 0.6494\n",
      "Epoch 83/100\n",
      "10/10 [==============================] - 0s 9ms/step - loss: 0.6100 - sparse_categorical_accuracy: 0.7862 - val_loss: 0.9902 - val_sparse_categorical_accuracy: 0.6364\n",
      "Epoch 84/100\n",
      "10/10 [==============================] - 0s 8ms/step - loss: 0.6432 - sparse_categorical_accuracy: 0.7796 - val_loss: 0.9899 - val_sparse_categorical_accuracy: 0.6494\n",
      "Epoch 85/100\n",
      "10/10 [==============================] - 0s 9ms/step - loss: 0.6025 - sparse_categorical_accuracy: 0.7862 - val_loss: 1.3382 - val_sparse_categorical_accuracy: 0.5974\n",
      "Epoch 86/100\n",
      "10/10 [==============================] - 0s 8ms/step - loss: 0.6059 - sparse_categorical_accuracy: 0.8026 - val_loss: 0.9372 - val_sparse_categorical_accuracy: 0.6883\n",
      "Epoch 87/100\n",
      "10/10 [==============================] - 0s 9ms/step - loss: 0.5985 - sparse_categorical_accuracy: 0.7862 - val_loss: 0.9460 - val_sparse_categorical_accuracy: 0.6494\n",
      "Epoch 88/100\n",
      "10/10 [==============================] - 0s 11ms/step - loss: 0.5936 - sparse_categorical_accuracy: 0.7763 - val_loss: 0.9092 - val_sparse_categorical_accuracy: 0.6753\n",
      "Epoch 89/100\n",
      "10/10 [==============================] - 0s 11ms/step - loss: 0.5874 - sparse_categorical_accuracy: 0.7928 - val_loss: 0.7965 - val_sparse_categorical_accuracy: 0.6753\n",
      "Epoch 90/100\n",
      "10/10 [==============================] - 0s 9ms/step - loss: 0.5793 - sparse_categorical_accuracy: 0.8158 - val_loss: 0.8753 - val_sparse_categorical_accuracy: 0.6623\n",
      "Epoch 91/100\n",
      "10/10 [==============================] - 0s 9ms/step - loss: 0.5922 - sparse_categorical_accuracy: 0.7895 - val_loss: 1.1594 - val_sparse_categorical_accuracy: 0.6104\n",
      "Epoch 92/100\n",
      "10/10 [==============================] - 0s 9ms/step - loss: 0.5730 - sparse_categorical_accuracy: 0.8059 - val_loss: 0.8262 - val_sparse_categorical_accuracy: 0.6494\n",
      "Epoch 93/100\n",
      "10/10 [==============================] - 0s 11ms/step - loss: 0.5707 - sparse_categorical_accuracy: 0.8158 - val_loss: 0.7917 - val_sparse_categorical_accuracy: 0.7013\n",
      "Epoch 94/100\n",
      "10/10 [==============================] - 0s 9ms/step - loss: 0.6042 - sparse_categorical_accuracy: 0.7993 - val_loss: 0.8338 - val_sparse_categorical_accuracy: 0.6494\n",
      "Epoch 95/100\n",
      "10/10 [==============================] - 0s 9ms/step - loss: 0.5902 - sparse_categorical_accuracy: 0.7862 - val_loss: 0.8165 - val_sparse_categorical_accuracy: 0.6364\n",
      "Epoch 96/100\n",
      "10/10 [==============================] - 0s 9ms/step - loss: 0.6403 - sparse_categorical_accuracy: 0.7829 - val_loss: 0.9189 - val_sparse_categorical_accuracy: 0.6494\n",
      "Epoch 97/100\n",
      "10/10 [==============================] - 0s 9ms/step - loss: 0.5837 - sparse_categorical_accuracy: 0.8125 - val_loss: 0.9338 - val_sparse_categorical_accuracy: 0.6494\n",
      "Epoch 98/100\n",
      "10/10 [==============================] - 0s 9ms/step - loss: 0.5645 - sparse_categorical_accuracy: 0.7993 - val_loss: 0.9934 - val_sparse_categorical_accuracy: 0.6364\n",
      "Epoch 99/100\n",
      "10/10 [==============================] - 0s 9ms/step - loss: 0.5746 - sparse_categorical_accuracy: 0.7862 - val_loss: 1.1116 - val_sparse_categorical_accuracy: 0.5974\n",
      "Epoch 100/100\n",
      "10/10 [==============================] - 0s 9ms/step - loss: 0.5761 - sparse_categorical_accuracy: 0.8026 - val_loss: 0.9643 - val_sparse_categorical_accuracy: 0.6494\n"
     ]
    }
   ],
   "source": [
    "model = make_CNN_model(x_train.shape[1:],num_classes = 10)\n",
    "trained_model, history = train_CNN_model(model, x_train, y_train, epochs=100, batch_size=32)"
   ]
  },
  {
   "cell_type": "code",
   "execution_count": 6,
   "id": "227e6120",
   "metadata": {},
   "outputs": [
    {
     "name": "stdout",
     "output_type": "stream",
     "text": [
      "24/24 [==============================] - 0s 2ms/step - loss: 1.1208 - sparse_categorical_accuracy: 0.5461\n",
      "Test accuracy 0.5460526347160339\n",
      "Test loss 1.1207553148269653\n"
     ]
    }
   ],
   "source": [
    "test_loss, test_acc = trained_model.evaluate(x_test_original, y_test_original)\n",
    "\n",
    "print(\"Test accuracy\", test_acc)\n",
    "print(\"Test loss\", test_loss)"
   ]
  },
  {
   "cell_type": "markdown",
   "id": "4773dace",
   "metadata": {},
   "source": [
    "### Create perturbed test sets and calculate decrease in accuracy"
   ]
  },
  {
   "cell_type": "code",
   "execution_count": 7,
   "id": "b854bfe4-2303-44a0-bef5-eb3c738da9e9",
   "metadata": {},
   "outputs": [
    {
     "name": "stdout",
     "output_type": "stream",
     "text": [
      "(760,)\n"
     ]
    }
   ],
   "source": [
    "print(y_test_original.shape)"
   ]
  },
  {
   "cell_type": "code",
   "execution_count": 8,
   "id": "ffd7c678-03f4-47ae-a1f9-45e0c185580e",
   "metadata": {},
   "outputs": [
    {
     "name": "stdout",
     "output_type": "stream",
     "text": [
      "def perturb(perturbation_strategy, ts, index0, index1, global_ts = [],bg = []):\n",
      "    if perturbation_strategy == 'RBP':\n",
      "        return RBPIndividual(ts, index0, index1)\n",
      "    if perturbation_strategy == 'zero':\n",
      "        return zeroPerturb(ts, index0, index1)\n",
      "    if perturbation_strategy == 'noise':\n",
      "        return noisePerturb(ts, index0, index1)\n",
      "    if perturbation_strategy == 'blur':\n",
      "        return blurPerturb(ts, index0, index1)\n",
      "    if perturbation_strategy == 'RBP1':\n",
      "        return RBPIndividualNew1(global_ts, ts, index0, index1) \n",
      "    if perturbation_strategy == 'RBP1fast':\n",
      "        return RBPIndividualNew1fast(bg, ts, index0, index1)  \n",
      "    if perturbation_strategy == 'RBP2':\n",
      "        return RBPIndividualNew2(global_ts, ts, index0, index1)    \n",
      "\n",
      "(perturbation_strategy, ts, index0, index1, global_ts=[], bg=[])\n"
     ]
    }
   ],
   "source": [
    "print(inspect.getsource(perturb))\n",
    "print(inspect.signature(perturb))"
   ]
  },
  {
   "cell_type": "code",
   "execution_count": 27,
   "id": "4c579fb7",
   "metadata": {},
   "outputs": [
    {
     "name": "stdout",
     "output_type": "stream",
     "text": [
      "24/24 [==============================] - 0s 2ms/step\n",
      "24/24 [==============================] - 0s 2ms/step\n",
      "24/24 [==============================] - 0s 2ms/step\n",
      "24/24 [==============================] - 0s 2ms/step\n",
      "24/24 [==============================] - 0s 2ms/step\n",
      "24/24 [==============================] - 0s 2ms/step\n"
     ]
    }
   ],
   "source": [
    "predictions_original = model.predict(x_test_original)\n",
    "perturb_test_set = x_test_original.copy()\n",
    "perturb_test_set = perturb_test_set.reshape(x_test_original.shape[0:2])\n",
    "index_0 = 60\n",
    "index_1 = 90\n",
    "x_test_rbp = np.asarray([perturb('RBP',x,index_0,index_1) for x in perturb_test_set])\n",
    "x_test_rbp = np.expand_dims(x_test_rbp, axis=-1)\n",
    "predictions_rbp = model.predict(x_test_rbp)\n",
    "\n",
    "bg = multisamplebackgroundIdentification(perturb_test_set)\n",
    "x_test_new1 = np.asarray([perturb('RBP1fast',x,index_0,index_1, bg = bg) for x in perturb_test_set])\n",
    "x_test_new1 = np.expand_dims(x_test_new1, axis=-1)\n",
    "predictions_new1 = model.predict(x_test_new1)\n",
    "\n",
    "#x_test_new2 = np.asarray([perturb('RBP2',x,400,500, global_ts = perturb_test_set) for x in perturb_test_set])\n",
    "#x_test_new2 = np.expand_dims(x_test_new2, axis=-1)\n",
    "#predictions_new2 = model.predict(x_test_new2)\n",
    "\n",
    "x_test_zero = np.asarray([perturb('zero',x,index_0,index_1) for x in perturb_test_set])\n",
    "x_test_zero = np.expand_dims(x_test_zero, axis=-1)\n",
    "predictions_zero = model.predict(x_test_zero)\n",
    "\n",
    "x_test_noise = np.asarray([perturb('noise',x,index_0,index_1) for x in perturb_test_set])\n",
    "x_test_noise = np.expand_dims(x_test_noise, axis=-1)\n",
    "predictions_noise = model.predict(x_test_noise)\n",
    "\n",
    "x_test_blur = np.asarray([perturb('blur',x,index_0,index_1) for x in perturb_test_set])\n",
    "x_test_blur = np.expand_dims(x_test_blur, axis=-1)\n",
    "predictions_blur = model.predict(x_test_blur)"
   ]
  },
  {
   "cell_type": "code",
   "execution_count": 28,
   "id": "069af343-0cfa-4787-b5d4-170f885bb59d",
   "metadata": {},
   "outputs": [
    {
     "name": "stdout",
     "output_type": "stream",
     "text": [
      "3.327621980007752\n",
      "4.463439265715238\n",
      "4.005427218077773\n",
      "6.601958749142877\n",
      "0.23326514726403366\n"
     ]
    }
   ],
   "source": [
    "def l2norm(perturb):\n",
    "    # 计算两个数组之间的差\n",
    "    difference = perturb - x_test_original\n",
    "    \n",
    "    # 计算差的平方\n",
    "    squared_difference = np.square(difference)\n",
    "    \n",
    "    # 计算平方和，沿着特征维度（axis=1），因为每个时间序列样本是一行\n",
    "    sum_of_squares = np.sum(squared_difference, axis=1)\n",
    "    \n",
    "    # 计算平方和的平方根，即l2范数\n",
    "    l2_norms = np.sqrt(sum_of_squares)\n",
    "    \n",
    "    average_l2_norm = np.mean(l2_norms)\n",
    "    \n",
    "    # l2_norms现在是一个形状为(467,)的数组，其中每个元素代表\n",
    "    # 对应时间序列样本之间的l2范数\n",
    "    print(average_l2_norm)  # 输出: (467,)\n",
    "\n",
    "l2norm(x_test_rbp)\n",
    "l2norm(x_test_new1)\n",
    "l2norm(x_test_zero)\n",
    "l2norm(x_test_noise)\n",
    "l2norm(x_test_blur)"
   ]
  },
  {
   "cell_type": "code",
   "execution_count": 29,
   "id": "b5d3f821",
   "metadata": {},
   "outputs": [],
   "source": [
    "def accuracy(predictions, labels):\n",
    "    hits = 0\n",
    "    for i in range(0,len(predictions)):\n",
    "        if predictions[i] == labels[i]:\n",
    "            hits += 1\n",
    "    return hits/len(predictions)"
   ]
  },
  {
   "cell_type": "code",
   "execution_count": 30,
   "id": "89f21d47",
   "metadata": {},
   "outputs": [],
   "source": [
    "original_accuracy = accuracy(np.argmax(predictions_original,axis=1), y_test_original)\n",
    "rbp_accuracy = accuracy(np.argmax(predictions_rbp,axis=1), y_test_original)\n",
    "new1_accuracy = accuracy(np.argmax(predictions_new1,axis=1), y_test_original)\n",
    "#new2_accuracy = accuracy(np.argmax(predictions_new2,axis=1), y_test_original)\n",
    "zero_accuracy = accuracy(np.argmax(predictions_zero,axis=1), y_test_original)\n",
    "noise_accuracy = accuracy(np.argmax(predictions_noise,axis=1), y_test_original)\n",
    "blur_accuracy = accuracy(np.argmax(predictions_blur,axis=1), y_test_original)"
   ]
  },
  {
   "cell_type": "code",
   "execution_count": 31,
   "id": "e52c9d2e",
   "metadata": {},
   "outputs": [
    {
     "name": "stdout",
     "output_type": "stream",
     "text": [
      " Original Accuracy: 0.5460526315789473\n",
      " RBP Accuracy: 0.4921052631578947\n",
      " RBP1 Accuracy: 0.2986842105263158\n",
      " Zero Accuracy: 0.531578947368421\n",
      " Noise Accuracy: 0.175\n",
      " Blur Accuracy: 0.5434210526315789\n",
      "\n"
     ]
    }
   ],
   "source": [
    "print(\" Original Accuracy: \" + str(original_accuracy) + \"\\n\"+\n",
    "    \" RBP Accuracy: \" + str(rbp_accuracy) + \"\\n\"+\n",
    "    \" RBP1 Accuracy: \" + str(new1_accuracy) + \"\\n\"+\n",
    "    #\" RBP2 Accuracy: \" + str(new2_accuracy) + \"\\n\"+\n",
    "      \n",
    "    \" Zero Accuracy: \" + str(zero_accuracy) + \"\\n\"+\n",
    "    \" Noise Accuracy: \" + str(noise_accuracy) + \"\\n\"+\n",
    "    \" Blur Accuracy: \" + str(blur_accuracy) + \"\\n\")"
   ]
  }
 ],
 "metadata": {
  "kernelspec": {
   "display_name": "lime_tf",
   "language": "python",
   "name": "limetf"
  },
  "language_info": {
   "codemirror_mode": {
    "name": "ipython",
    "version": 3
   },
   "file_extension": ".py",
   "mimetype": "text/x-python",
   "name": "python",
   "nbconvert_exporter": "python",
   "pygments_lexer": "ipython3",
   "version": "3.10.13"
  }
 },
 "nbformat": 4,
 "nbformat_minor": 5
}
