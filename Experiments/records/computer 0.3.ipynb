{
 "cells": [
  {
   "cell_type": "code",
   "execution_count": 58,
   "id": "dd9bd814",
   "metadata": {},
   "outputs": [],
   "source": [
    "import numpy as np\n",
    "import matplotlib.pyplot as plt\n",
    "import inspect"
   ]
  },
  {
   "cell_type": "code",
   "execution_count": 59,
   "id": "2439de23",
   "metadata": {},
   "outputs": [
    {
     "name": "stdout",
     "output_type": "stream",
     "text": [
      "['/Users/gali/anaconda3/envs/LIMEtf/lib/python310.zip', '/Users/gali/anaconda3/envs/LIMEtf/lib/python3.10', '/Users/gali/anaconda3/envs/LIMEtf/lib/python3.10/lib-dynload', '', '/Users/gali/anaconda3/envs/LIMEtf/lib/python3.10/site-packages', '/Users/gali/anaconda3/envs/LIMEtf/lib/python3.10/site-packages/setuptools/_vendor', '../', '../', '../', '../', '../', '../']\n"
     ]
    }
   ],
   "source": [
    "import importlib\n",
    "import sys\n",
    "sys.path.append('../')\n",
    "from Utils.perturbationsnew import RBPIndividual, RBPIndividualNew1, RBPIndividualNew2, zeroPerturb, noisePerturb, blurPerturb\n",
    "from Utils.models import *\n",
    "from Utils.data import perturb, generateSynthetic, generateSyntheticPerturbReal,ReadTS\n",
    "\n",
    "print(sys.path)\n"
   ]
  },
  {
   "cell_type": "code",
   "execution_count": 60,
   "id": "8afb4cce-7d31-40cb-a997-cefe1b83dd98",
   "metadata": {},
   "outputs": [
    {
     "data": {
      "text/html": [
       "\n",
       "<style>\n",
       ".output {\n",
       "    display: flex;\n",
       "    flex-direction: column;\n",
       "}\n",
       ".output_scroll {\n",
       "    max-height: 300px; \n",
       "    overflow-y: auto;\n",
       "}\n",
       "</style>\n"
      ],
      "text/plain": [
       "<IPython.core.display.HTML object>"
      ]
     },
     "metadata": {},
     "output_type": "display_data"
    }
   ],
   "source": [
    "from IPython.display import display, HTML\n",
    "\n",
    "display(HTML('''\n",
    "<style>\n",
    ".output {\n",
    "    display: flex;\n",
    "    flex-direction: column;\n",
    "}\n",
    ".output_scroll {\n",
    "    max-height: 300px; \n",
    "    overflow-y: auto;\n",
    "}\n",
    "</style>\n",
    "'''))\n"
   ]
  },
  {
   "cell_type": "markdown",
   "id": "62b11ea0",
   "metadata": {},
   "source": [
    "## Test important content removal (accuracy decrease)"
   ]
  },
  {
   "cell_type": "markdown",
   "id": "5567ae62",
   "metadata": {},
   "source": [
    "### Load synthetic dataset and train CNN model "
   ]
  },
  {
   "cell_type": "code",
   "execution_count": 61,
   "id": "812c0d59",
   "metadata": {},
   "outputs": [],
   "source": [
    "x_train, y_train,x_test_original, y_test_original = ReadTS('Computers')\n",
    "y_train = y_train - 1\n",
    "y_test_original = y_test_original - 1\n",
    "#print(x_train.shape)\n",
    "#print(y_train)"
   ]
  },
  {
   "cell_type": "code",
   "execution_count": 62,
   "id": "96b83f79-7dff-4096-a151-3506d488e6bb",
   "metadata": {},
   "outputs": [],
   "source": [
    "from sklearn.preprocessing import StandardScaler\n",
    "def normalize(TS):\n",
    "\n",
    "    original_shape = TS.shape\n",
    "    \n",
    "\n",
    "    TS_2d = TS.reshape(original_shape[0] , original_shape[1])\n",
    "    \n",
    "\n",
    "    scaler = StandardScaler()\n",
    "    \n",
    "\n",
    "    TS_normalized = scaler.fit_transform(TS_2d)\n",
    "\n",
    "    \n",
    "    TS = TS_normalized.reshape(original_shape)\n",
    "    \n",
    "    return TS\n",
    "\n",
    "x_train = normalize(x_train)\n",
    "x_test_original = normalize(x_test_original)"
   ]
  },
  {
   "cell_type": "code",
   "execution_count": 63,
   "id": "c9911722",
   "metadata": {
    "scrolled": true
   },
   "outputs": [
    {
     "name": "stdout",
     "output_type": "stream",
     "text": [
      "Epoch 1/100\n",
      "7/7 [==============================] - 1s 39ms/step - loss: 0.8720 - sparse_categorical_accuracy: 0.4700 - val_loss: 0.7121 - val_sparse_categorical_accuracy: 0.0200\n",
      "Epoch 2/100\n",
      "7/7 [==============================] - 0s 27ms/step - loss: 0.6610 - sparse_categorical_accuracy: 0.6100 - val_loss: 0.7539 - val_sparse_categorical_accuracy: 0.0000e+00\n",
      "Epoch 3/100\n",
      "7/7 [==============================] - 0s 27ms/step - loss: 0.5800 - sparse_categorical_accuracy: 0.6400 - val_loss: 0.7723 - val_sparse_categorical_accuracy: 0.0000e+00\n",
      "Epoch 4/100\n",
      "7/7 [==============================] - 0s 26ms/step - loss: 0.5749 - sparse_categorical_accuracy: 0.6050 - val_loss: 0.7563 - val_sparse_categorical_accuracy: 0.0000e+00\n",
      "Epoch 5/100\n",
      "7/7 [==============================] - 0s 27ms/step - loss: 0.5352 - sparse_categorical_accuracy: 0.7300 - val_loss: 0.7518 - val_sparse_categorical_accuracy: 0.0000e+00\n",
      "Epoch 6/100\n",
      "7/7 [==============================] - 0s 27ms/step - loss: 0.5258 - sparse_categorical_accuracy: 0.7550 - val_loss: 0.7287 - val_sparse_categorical_accuracy: 0.1200\n",
      "Epoch 7/100\n",
      "7/7 [==============================] - 0s 29ms/step - loss: 0.5116 - sparse_categorical_accuracy: 0.7500 - val_loss: 0.6919 - val_sparse_categorical_accuracy: 0.6400\n",
      "Epoch 8/100\n",
      "7/7 [==============================] - 0s 29ms/step - loss: 0.5019 - sparse_categorical_accuracy: 0.7800 - val_loss: 0.6585 - val_sparse_categorical_accuracy: 0.8800\n",
      "Epoch 9/100\n",
      "7/7 [==============================] - 0s 29ms/step - loss: 0.4824 - sparse_categorical_accuracy: 0.8350 - val_loss: 0.6248 - val_sparse_categorical_accuracy: 0.9200\n",
      "Epoch 10/100\n",
      "7/7 [==============================] - 0s 31ms/step - loss: 0.4658 - sparse_categorical_accuracy: 0.8150 - val_loss: 0.6029 - val_sparse_categorical_accuracy: 0.9200\n",
      "Epoch 11/100\n",
      "7/7 [==============================] - 0s 28ms/step - loss: 0.4645 - sparse_categorical_accuracy: 0.8000 - val_loss: 0.5426 - val_sparse_categorical_accuracy: 0.9800\n",
      "Epoch 12/100\n",
      "7/7 [==============================] - 0s 28ms/step - loss: 0.4799 - sparse_categorical_accuracy: 0.7700 - val_loss: 0.5270 - val_sparse_categorical_accuracy: 1.0000\n",
      "Epoch 13/100\n",
      "7/7 [==============================] - 0s 30ms/step - loss: 0.4335 - sparse_categorical_accuracy: 0.8250 - val_loss: 0.4965 - val_sparse_categorical_accuracy: 0.9600\n",
      "Epoch 14/100\n",
      "7/7 [==============================] - 0s 28ms/step - loss: 0.4363 - sparse_categorical_accuracy: 0.8100 - val_loss: 0.4352 - val_sparse_categorical_accuracy: 1.0000\n",
      "Epoch 15/100\n",
      "7/7 [==============================] - 0s 28ms/step - loss: 0.4508 - sparse_categorical_accuracy: 0.7900 - val_loss: 0.4266 - val_sparse_categorical_accuracy: 1.0000\n",
      "Epoch 16/100\n",
      "7/7 [==============================] - 0s 29ms/step - loss: 0.4118 - sparse_categorical_accuracy: 0.8450 - val_loss: 0.3990 - val_sparse_categorical_accuracy: 1.0000\n",
      "Epoch 17/100\n",
      "7/7 [==============================] - 0s 28ms/step - loss: 0.4283 - sparse_categorical_accuracy: 0.8450 - val_loss: 0.3909 - val_sparse_categorical_accuracy: 1.0000\n",
      "Epoch 18/100\n",
      "7/7 [==============================] - 0s 28ms/step - loss: 0.3981 - sparse_categorical_accuracy: 0.8550 - val_loss: 0.3527 - val_sparse_categorical_accuracy: 1.0000\n",
      "Epoch 19/100\n",
      "7/7 [==============================] - 0s 26ms/step - loss: 0.4313 - sparse_categorical_accuracy: 0.8300 - val_loss: 0.3560 - val_sparse_categorical_accuracy: 1.0000\n",
      "Epoch 20/100\n",
      "7/7 [==============================] - 0s 28ms/step - loss: 0.3872 - sparse_categorical_accuracy: 0.8550 - val_loss: 0.3508 - val_sparse_categorical_accuracy: 1.0000\n",
      "Epoch 21/100\n",
      "7/7 [==============================] - 0s 29ms/step - loss: 0.4116 - sparse_categorical_accuracy: 0.8500 - val_loss: 0.3258 - val_sparse_categorical_accuracy: 1.0000\n",
      "Epoch 22/100\n",
      "7/7 [==============================] - 0s 26ms/step - loss: 0.3781 - sparse_categorical_accuracy: 0.8750 - val_loss: 0.3753 - val_sparse_categorical_accuracy: 1.0000\n",
      "Epoch 23/100\n",
      "7/7 [==============================] - 0s 26ms/step - loss: 0.3547 - sparse_categorical_accuracy: 0.8700 - val_loss: 0.3297 - val_sparse_categorical_accuracy: 1.0000\n",
      "Epoch 24/100\n",
      "7/7 [==============================] - 0s 29ms/step - loss: 0.3856 - sparse_categorical_accuracy: 0.8600 - val_loss: 0.2660 - val_sparse_categorical_accuracy: 1.0000\n",
      "Epoch 25/100\n",
      "7/7 [==============================] - 0s 26ms/step - loss: 0.3575 - sparse_categorical_accuracy: 0.8700 - val_loss: 0.3282 - val_sparse_categorical_accuracy: 0.9800\n",
      "Epoch 26/100\n",
      "7/7 [==============================] - 0s 27ms/step - loss: 0.3833 - sparse_categorical_accuracy: 0.8350 - val_loss: 0.3003 - val_sparse_categorical_accuracy: 1.0000\n",
      "Epoch 27/100\n",
      "7/7 [==============================] - 0s 27ms/step - loss: 0.3512 - sparse_categorical_accuracy: 0.8800 - val_loss: 0.3307 - val_sparse_categorical_accuracy: 0.9800\n",
      "Epoch 28/100\n",
      "7/7 [==============================] - 0s 26ms/step - loss: 0.3435 - sparse_categorical_accuracy: 0.8650 - val_loss: 0.3756 - val_sparse_categorical_accuracy: 0.8600\n",
      "Epoch 29/100\n",
      "7/7 [==============================] - 0s 27ms/step - loss: 0.3402 - sparse_categorical_accuracy: 0.8700 - val_loss: 0.3118 - val_sparse_categorical_accuracy: 0.9400\n",
      "Epoch 30/100\n",
      "7/7 [==============================] - 0s 27ms/step - loss: 0.3397 - sparse_categorical_accuracy: 0.8550 - val_loss: 0.5095 - val_sparse_categorical_accuracy: 0.7600\n",
      "Epoch 31/100\n",
      "7/7 [==============================] - 0s 28ms/step - loss: 0.3294 - sparse_categorical_accuracy: 0.8600 - val_loss: 0.4918 - val_sparse_categorical_accuracy: 0.7800\n",
      "Epoch 32/100\n",
      "7/7 [==============================] - 0s 28ms/step - loss: 0.3526 - sparse_categorical_accuracy: 0.8500 - val_loss: 0.4080 - val_sparse_categorical_accuracy: 0.8800\n",
      "Epoch 33/100\n",
      "7/7 [==============================] - 0s 27ms/step - loss: 0.3734 - sparse_categorical_accuracy: 0.8350 - val_loss: 0.4612 - val_sparse_categorical_accuracy: 0.7600\n",
      "Epoch 34/100\n",
      "7/7 [==============================] - 0s 27ms/step - loss: 0.3555 - sparse_categorical_accuracy: 0.8700 - val_loss: 0.4510 - val_sparse_categorical_accuracy: 0.8000\n",
      "Epoch 35/100\n",
      "7/7 [==============================] - 0s 27ms/step - loss: 0.3490 - sparse_categorical_accuracy: 0.8750 - val_loss: 0.6533 - val_sparse_categorical_accuracy: 0.6400\n",
      "Epoch 36/100\n",
      "7/7 [==============================] - 0s 26ms/step - loss: 0.3477 - sparse_categorical_accuracy: 0.8550 - val_loss: 0.5000 - val_sparse_categorical_accuracy: 0.7400\n",
      "Epoch 37/100\n",
      "7/7 [==============================] - 0s 27ms/step - loss: 0.3282 - sparse_categorical_accuracy: 0.8750 - val_loss: 0.5134 - val_sparse_categorical_accuracy: 0.7200\n",
      "Epoch 38/100\n",
      "7/7 [==============================] - 0s 26ms/step - loss: 0.3230 - sparse_categorical_accuracy: 0.8600 - val_loss: 0.5391 - val_sparse_categorical_accuracy: 0.7200\n",
      "Epoch 39/100\n",
      "7/7 [==============================] - 0s 26ms/step - loss: 0.3051 - sparse_categorical_accuracy: 0.9000 - val_loss: 0.4485 - val_sparse_categorical_accuracy: 0.7800\n",
      "Epoch 40/100\n",
      "7/7 [==============================] - 0s 27ms/step - loss: 0.3200 - sparse_categorical_accuracy: 0.8650 - val_loss: 0.5194 - val_sparse_categorical_accuracy: 0.7200\n",
      "Epoch 41/100\n",
      "7/7 [==============================] - 0s 27ms/step - loss: 0.3253 - sparse_categorical_accuracy: 0.8800 - val_loss: 0.4929 - val_sparse_categorical_accuracy: 0.7200\n",
      "Epoch 42/100\n",
      "7/7 [==============================] - 0s 27ms/step - loss: 0.3028 - sparse_categorical_accuracy: 0.8950 - val_loss: 0.6590 - val_sparse_categorical_accuracy: 0.6800\n",
      "Epoch 43/100\n",
      "7/7 [==============================] - 0s 26ms/step - loss: 0.2980 - sparse_categorical_accuracy: 0.8950 - val_loss: 0.7992 - val_sparse_categorical_accuracy: 0.5800\n",
      "Epoch 44/100\n",
      "7/7 [==============================] - 0s 26ms/step - loss: 0.3246 - sparse_categorical_accuracy: 0.8700 - val_loss: 0.5988 - val_sparse_categorical_accuracy: 0.7000\n",
      "Epoch 45/100\n",
      "7/7 [==============================] - 0s 27ms/step - loss: 0.3807 - sparse_categorical_accuracy: 0.8350 - val_loss: 0.5669 - val_sparse_categorical_accuracy: 0.7200\n",
      "Epoch 46/100\n",
      "7/7 [==============================] - 0s 27ms/step - loss: 0.3584 - sparse_categorical_accuracy: 0.8450 - val_loss: 1.0506 - val_sparse_categorical_accuracy: 0.5000\n",
      "Epoch 47/100\n",
      "7/7 [==============================] - 0s 26ms/step - loss: 0.3180 - sparse_categorical_accuracy: 0.8750 - val_loss: 0.7316 - val_sparse_categorical_accuracy: 0.6200\n",
      "Epoch 48/100\n",
      "7/7 [==============================] - 0s 27ms/step - loss: 0.3132 - sparse_categorical_accuracy: 0.8700 - val_loss: 0.7469 - val_sparse_categorical_accuracy: 0.6200\n",
      "Epoch 49/100\n",
      "7/7 [==============================] - 0s 26ms/step - loss: 0.3000 - sparse_categorical_accuracy: 0.8900 - val_loss: 0.8588 - val_sparse_categorical_accuracy: 0.6000\n",
      "Epoch 50/100\n",
      "7/7 [==============================] - 0s 26ms/step - loss: 0.2736 - sparse_categorical_accuracy: 0.9050 - val_loss: 0.8201 - val_sparse_categorical_accuracy: 0.6000\n",
      "Epoch 51/100\n",
      "7/7 [==============================] - 0s 26ms/step - loss: 0.2742 - sparse_categorical_accuracy: 0.9000 - val_loss: 0.9330 - val_sparse_categorical_accuracy: 0.6000\n",
      "Epoch 52/100\n",
      "7/7 [==============================] - 0s 26ms/step - loss: 0.2750 - sparse_categorical_accuracy: 0.8900 - val_loss: 0.8220 - val_sparse_categorical_accuracy: 0.6200\n",
      "Epoch 53/100\n",
      "7/7 [==============================] - 0s 26ms/step - loss: 0.2847 - sparse_categorical_accuracy: 0.8900 - val_loss: 0.6968 - val_sparse_categorical_accuracy: 0.7000\n",
      "Epoch 54/100\n",
      "7/7 [==============================] - 0s 26ms/step - loss: 0.2634 - sparse_categorical_accuracy: 0.8950 - val_loss: 1.0875 - val_sparse_categorical_accuracy: 0.5400\n",
      "Epoch 55/100\n",
      "7/7 [==============================] - 0s 27ms/step - loss: 0.2506 - sparse_categorical_accuracy: 0.9000 - val_loss: 1.0379 - val_sparse_categorical_accuracy: 0.5400\n",
      "Epoch 56/100\n",
      "7/7 [==============================] - 0s 27ms/step - loss: 0.2662 - sparse_categorical_accuracy: 0.9050 - val_loss: 1.2161 - val_sparse_categorical_accuracy: 0.4800\n",
      "Epoch 57/100\n",
      "7/7 [==============================] - 0s 27ms/step - loss: 0.2542 - sparse_categorical_accuracy: 0.9150 - val_loss: 1.0760 - val_sparse_categorical_accuracy: 0.5800\n",
      "Epoch 58/100\n",
      "7/7 [==============================] - 0s 27ms/step - loss: 0.2675 - sparse_categorical_accuracy: 0.8900 - val_loss: 1.1507 - val_sparse_categorical_accuracy: 0.4800\n",
      "Epoch 59/100\n",
      "7/7 [==============================] - 0s 27ms/step - loss: 0.2672 - sparse_categorical_accuracy: 0.8800 - val_loss: 1.5882 - val_sparse_categorical_accuracy: 0.4200\n",
      "Epoch 60/100\n",
      "7/7 [==============================] - 0s 27ms/step - loss: 0.2544 - sparse_categorical_accuracy: 0.9050 - val_loss: 1.1917 - val_sparse_categorical_accuracy: 0.4800\n",
      "Epoch 61/100\n",
      "7/7 [==============================] - 0s 26ms/step - loss: 0.2836 - sparse_categorical_accuracy: 0.9050 - val_loss: 1.0729 - val_sparse_categorical_accuracy: 0.5600\n",
      "Epoch 62/100\n",
      "7/7 [==============================] - 0s 27ms/step - loss: 0.3102 - sparse_categorical_accuracy: 0.8850 - val_loss: 1.6909 - val_sparse_categorical_accuracy: 0.2800\n",
      "Epoch 63/100\n",
      "7/7 [==============================] - 0s 27ms/step - loss: 0.2818 - sparse_categorical_accuracy: 0.8950 - val_loss: 1.1575 - val_sparse_categorical_accuracy: 0.5200\n",
      "Epoch 64/100\n",
      "7/7 [==============================] - 0s 27ms/step - loss: 0.2677 - sparse_categorical_accuracy: 0.9250 - val_loss: 1.6479 - val_sparse_categorical_accuracy: 0.2400\n",
      "Epoch 65/100\n",
      "7/7 [==============================] - 0s 27ms/step - loss: 0.2597 - sparse_categorical_accuracy: 0.8950 - val_loss: 1.9937 - val_sparse_categorical_accuracy: 0.0400\n",
      "Epoch 66/100\n",
      "7/7 [==============================] - 0s 28ms/step - loss: 0.2958 - sparse_categorical_accuracy: 0.8650 - val_loss: 2.0594 - val_sparse_categorical_accuracy: 0.0600\n",
      "Epoch 67/100\n",
      "7/7 [==============================] - 0s 27ms/step - loss: 0.2693 - sparse_categorical_accuracy: 0.9050 - val_loss: 2.2998 - val_sparse_categorical_accuracy: 0.0000e+00\n",
      "Epoch 68/100\n",
      "7/7 [==============================] - 0s 27ms/step - loss: 0.3277 - sparse_categorical_accuracy: 0.8600 - val_loss: 2.2552 - val_sparse_categorical_accuracy: 0.0800\n",
      "Epoch 69/100\n",
      "7/7 [==============================] - 0s 27ms/step - loss: 0.2727 - sparse_categorical_accuracy: 0.9000 - val_loss: 2.8447 - val_sparse_categorical_accuracy: 0.0200\n",
      "Epoch 70/100\n",
      "7/7 [==============================] - 0s 26ms/step - loss: 0.2896 - sparse_categorical_accuracy: 0.9050 - val_loss: 1.8191 - val_sparse_categorical_accuracy: 0.4200\n",
      "Epoch 71/100\n",
      "7/7 [==============================] - 0s 29ms/step - loss: 0.2413 - sparse_categorical_accuracy: 0.9050 - val_loss: 2.7798 - val_sparse_categorical_accuracy: 0.0600\n",
      "Epoch 72/100\n",
      "7/7 [==============================] - 0s 26ms/step - loss: 0.2599 - sparse_categorical_accuracy: 0.9050 - val_loss: 1.9590 - val_sparse_categorical_accuracy: 0.2600\n",
      "Epoch 73/100\n",
      "7/7 [==============================] - 0s 26ms/step - loss: 0.2459 - sparse_categorical_accuracy: 0.9050 - val_loss: 2.0132 - val_sparse_categorical_accuracy: 0.2600\n",
      "Epoch 74/100\n",
      "7/7 [==============================] - 0s 27ms/step - loss: 0.2438 - sparse_categorical_accuracy: 0.9150 - val_loss: 2.5406 - val_sparse_categorical_accuracy: 0.0600\n",
      "Epoch 75/100\n",
      "7/7 [==============================] - 0s 27ms/step - loss: 0.2375 - sparse_categorical_accuracy: 0.9000 - val_loss: 3.1467 - val_sparse_categorical_accuracy: 0.0200\n",
      "Epoch 76/100\n",
      "7/7 [==============================] - 0s 27ms/step - loss: 0.2303 - sparse_categorical_accuracy: 0.9050 - val_loss: 2.4943 - val_sparse_categorical_accuracy: 0.0400\n",
      "Epoch 77/100\n",
      "7/7 [==============================] - 0s 28ms/step - loss: 0.2667 - sparse_categorical_accuracy: 0.9200 - val_loss: 4.0063 - val_sparse_categorical_accuracy: 0.0200\n",
      "Epoch 78/100\n",
      "7/7 [==============================] - 0s 28ms/step - loss: 0.2288 - sparse_categorical_accuracy: 0.9100 - val_loss: 2.5328 - val_sparse_categorical_accuracy: 0.0600\n",
      "Epoch 79/100\n",
      "7/7 [==============================] - 0s 29ms/step - loss: 0.2529 - sparse_categorical_accuracy: 0.9050 - val_loss: 2.3439 - val_sparse_categorical_accuracy: 0.1000\n",
      "Epoch 80/100\n",
      "7/7 [==============================] - 0s 28ms/step - loss: 0.2304 - sparse_categorical_accuracy: 0.9200 - val_loss: 2.8949 - val_sparse_categorical_accuracy: 0.0200\n",
      "Epoch 81/100\n",
      "7/7 [==============================] - 0s 27ms/step - loss: 0.2283 - sparse_categorical_accuracy: 0.9100 - val_loss: 2.9111 - val_sparse_categorical_accuracy: 0.0200\n",
      "Epoch 82/100\n",
      "7/7 [==============================] - 0s 27ms/step - loss: 0.2327 - sparse_categorical_accuracy: 0.8950 - val_loss: 2.2892 - val_sparse_categorical_accuracy: 0.1000\n",
      "Epoch 83/100\n",
      "7/7 [==============================] - 0s 26ms/step - loss: 0.2150 - sparse_categorical_accuracy: 0.9200 - val_loss: 3.9987 - val_sparse_categorical_accuracy: 0.0000e+00\n",
      "Epoch 84/100\n",
      "7/7 [==============================] - 0s 27ms/step - loss: 0.2445 - sparse_categorical_accuracy: 0.8900 - val_loss: 4.2608 - val_sparse_categorical_accuracy: 0.0200\n",
      "Epoch 85/100\n",
      "7/7 [==============================] - 0s 27ms/step - loss: 0.3211 - sparse_categorical_accuracy: 0.8250 - val_loss: 1.8090 - val_sparse_categorical_accuracy: 0.4400\n",
      "Epoch 86/100\n",
      "7/7 [==============================] - 0s 28ms/step - loss: 0.3081 - sparse_categorical_accuracy: 0.8700 - val_loss: 1.9633 - val_sparse_categorical_accuracy: 0.4600\n",
      "Epoch 87/100\n",
      "7/7 [==============================] - 0s 27ms/step - loss: 0.2979 - sparse_categorical_accuracy: 0.8900 - val_loss: 3.0695 - val_sparse_categorical_accuracy: 0.1600\n",
      "Epoch 88/100\n",
      "7/7 [==============================] - 0s 27ms/step - loss: 0.2740 - sparse_categorical_accuracy: 0.8850 - val_loss: 2.3460 - val_sparse_categorical_accuracy: 0.3400\n",
      "Epoch 89/100\n",
      "7/7 [==============================] - 0s 27ms/step - loss: 0.3132 - sparse_categorical_accuracy: 0.8700 - val_loss: 2.6110 - val_sparse_categorical_accuracy: 0.2200\n",
      "Epoch 90/100\n",
      "7/7 [==============================] - 0s 27ms/step - loss: 0.2599 - sparse_categorical_accuracy: 0.9000 - val_loss: 3.5370 - val_sparse_categorical_accuracy: 0.0200\n",
      "Epoch 91/100\n",
      "7/7 [==============================] - 0s 27ms/step - loss: 0.2396 - sparse_categorical_accuracy: 0.9200 - val_loss: 2.4033 - val_sparse_categorical_accuracy: 0.3200\n",
      "Epoch 92/100\n",
      "7/7 [==============================] - 0s 27ms/step - loss: 0.2384 - sparse_categorical_accuracy: 0.8950 - val_loss: 2.5317 - val_sparse_categorical_accuracy: 0.2800\n",
      "Epoch 93/100\n",
      "7/7 [==============================] - 0s 26ms/step - loss: 0.2393 - sparse_categorical_accuracy: 0.9200 - val_loss: 2.9829 - val_sparse_categorical_accuracy: 0.0600\n",
      "Epoch 94/100\n",
      "7/7 [==============================] - 0s 27ms/step - loss: 0.2234 - sparse_categorical_accuracy: 0.9000 - val_loss: 2.4032 - val_sparse_categorical_accuracy: 0.3200\n",
      "Epoch 95/100\n",
      "7/7 [==============================] - 0s 28ms/step - loss: 0.2166 - sparse_categorical_accuracy: 0.9250 - val_loss: 2.2840 - val_sparse_categorical_accuracy: 0.4400\n",
      "Epoch 96/100\n",
      "7/7 [==============================] - 0s 27ms/step - loss: 0.2308 - sparse_categorical_accuracy: 0.9100 - val_loss: 1.9399 - val_sparse_categorical_accuracy: 0.4600\n",
      "Epoch 97/100\n",
      "7/7 [==============================] - 0s 27ms/step - loss: 0.2128 - sparse_categorical_accuracy: 0.9050 - val_loss: 1.5518 - val_sparse_categorical_accuracy: 0.5400\n",
      "Epoch 98/100\n",
      "7/7 [==============================] - 0s 27ms/step - loss: 0.2190 - sparse_categorical_accuracy: 0.9150 - val_loss: 1.9683 - val_sparse_categorical_accuracy: 0.4600\n",
      "Epoch 99/100\n",
      "7/7 [==============================] - 0s 26ms/step - loss: 0.2205 - sparse_categorical_accuracy: 0.9150 - val_loss: 2.1946 - val_sparse_categorical_accuracy: 0.4600\n",
      "Epoch 100/100\n",
      "7/7 [==============================] - 0s 28ms/step - loss: 0.2116 - sparse_categorical_accuracy: 0.9200 - val_loss: 1.7281 - val_sparse_categorical_accuracy: 0.5400\n"
     ]
    }
   ],
   "source": [
    "model = make_CNN_model(x_train.shape[1:],num_classes = 2)\n",
    "trained_model, history = train_CNN_model(model, x_train, y_train, epochs=100, batch_size=32)"
   ]
  },
  {
   "cell_type": "code",
   "execution_count": 64,
   "id": "227e6120",
   "metadata": {},
   "outputs": [
    {
     "name": "stdout",
     "output_type": "stream",
     "text": [
      "8/8 [==============================] - 0s 6ms/step - loss: 0.8311 - sparse_categorical_accuracy: 0.7400\n",
      "Test accuracy 0.7400000095367432\n",
      "Test loss 0.8311265707015991\n"
     ]
    }
   ],
   "source": [
    "test_loss, test_acc = trained_model.evaluate(x_test_original, y_test_original)\n",
    "\n",
    "print(\"Test accuracy\", test_acc)\n",
    "print(\"Test loss\", test_loss)"
   ]
  },
  {
   "cell_type": "markdown",
   "id": "4773dace",
   "metadata": {},
   "source": [
    "### Create perturbed test sets and calculate decrease in accuracy"
   ]
  },
  {
   "cell_type": "code",
   "execution_count": 65,
   "id": "b854bfe4-2303-44a0-bef5-eb3c738da9e9",
   "metadata": {},
   "outputs": [
    {
     "name": "stdout",
     "output_type": "stream",
     "text": [
      "(250,)\n"
     ]
    }
   ],
   "source": [
    "print(y_test_original.shape)"
   ]
  },
  {
   "cell_type": "code",
   "execution_count": 66,
   "id": "ffd7c678-03f4-47ae-a1f9-45e0c185580e",
   "metadata": {},
   "outputs": [
    {
     "name": "stdout",
     "output_type": "stream",
     "text": [
      "def perturb(perturbation_strategy, ts, index0, index1, global_ts = [],bg = []):\n",
      "    if perturbation_strategy == 'RBP':\n",
      "        return RBPIndividual(ts, index0, index1)\n",
      "    if perturbation_strategy == 'zero':\n",
      "        return zeroPerturb(ts, index0, index1)\n",
      "    if perturbation_strategy == 'noise':\n",
      "        return noisePerturb(ts, index0, index1)\n",
      "    if perturbation_strategy == 'blur':\n",
      "        return blurPerturb(ts, index0, index1)\n",
      "    if perturbation_strategy == 'RBP1':\n",
      "        return RBPIndividualNew1(global_ts, ts, index0, index1) \n",
      "    if perturbation_strategy == 'RBP1fast':\n",
      "        return RBPIndividualNew1fast(bg, ts, index0, index1)  \n",
      "    if perturbation_strategy == 'RBP2':\n",
      "        return RBPIndividualNew2(global_ts, ts, index0, index1)    \n",
      "\n",
      "(perturbation_strategy, ts, index0, index1, global_ts=[], bg=[])\n"
     ]
    }
   ],
   "source": [
    "print(inspect.getsource(perturb))\n",
    "print(inspect.signature(perturb))"
   ]
  },
  {
   "cell_type": "code",
   "execution_count": 92,
   "id": "4c579fb7",
   "metadata": {},
   "outputs": [
    {
     "name": "stdout",
     "output_type": "stream",
     "text": [
      "8/8 [==============================] - 0s 7ms/step\n",
      "8/8 [==============================] - 0s 6ms/step\n",
      "8/8 [==============================] - 0s 6ms/step\n",
      "8/8 [==============================] - 0s 6ms/step\n",
      "8/8 [==============================] - 0s 6ms/step\n",
      "8/8 [==============================] - 0s 6ms/step\n"
     ]
    }
   ],
   "source": [
    "predictions_original = model.predict(x_test_original)\n",
    "perturb_test_set = x_test_original.copy()\n",
    "perturb_test_set = perturb_test_set.reshape(x_test_original.shape[0:2])\n",
    "index_0 = 432-72\n",
    "index_1 = 432\n",
    "\n",
    "x_test_rbp = np.asarray([perturb('RBP',x,index_0,index_1) for x in perturb_test_set])\n",
    "x_test_rbp = np.expand_dims(x_test_rbp, axis=-1)\n",
    "predictions_rbp = model.predict(x_test_rbp)\n",
    "\n",
    "pert1 = perturb('RBP1',perturb_test_set[0],index_0,index_1, global_ts = perturb_test_set)\n",
    "x_test_new1 = np.asarray([perturb('RBP1',x,index_0,index_1, global_ts = perturb_test_set) for x in perturb_test_set])\n",
    "x_test_new1 = np.expand_dims(x_test_new1, axis=-1)\n",
    "predictions_new1 = model.predict(x_test_new1)\n",
    "\n",
    "#x_test_new2 = np.asarray([perturb('RBP2',x,400,500, global_ts = perturb_test_set) for x in perturb_test_set])\n",
    "#x_test_new2 = np.expand_dims(x_test_new2, axis=-1)\n",
    "#predictions_new2 = model.predict(x_test_new2)\n",
    "\n",
    "x_test_zero = np.asarray([perturb('zero',x,index_0,index_1) for x in perturb_test_set])\n",
    "x_test_zero = np.expand_dims(x_test_zero, axis=-1)\n",
    "predictions_zero = model.predict(x_test_zero)\n",
    "\n",
    "x_test_noise = np.asarray([perturb('noise',x,index_0,index_1) for x in perturb_test_set])\n",
    "x_test_noise = np.expand_dims(x_test_noise, axis=-1)\n",
    "predictions_noise = model.predict(x_test_noise)\n",
    "\n",
    "x_test_blur = np.asarray([perturb('blur',x,index_0,index_1) for x in perturb_test_set])\n",
    "x_test_blur = np.expand_dims(x_test_blur, axis=-1)\n",
    "predictions_blur = model.predict(x_test_blur)"
   ]
  },
  {
   "cell_type": "code",
   "execution_count": 93,
   "id": "e3798caa-9fcb-4a04-b330-7b77f52b1f2c",
   "metadata": {},
   "outputs": [
    {
     "name": "stdout",
     "output_type": "stream",
     "text": [
      "5.486221535171933\n",
      "6.937474124852881\n",
      "6.931712381469674\n",
      "24.08319658305537\n",
      "1.1045765217443284\n"
     ]
    }
   ],
   "source": [
    "def l2norm(perturb):\n",
    "    # 计算两个数组之间的差\n",
    "    difference = perturb - x_test_original\n",
    "    \n",
    "    # 计算差的平方\n",
    "    squared_difference = np.square(difference)\n",
    "    \n",
    "    # 计算平方和，沿着特征维度（axis=1），因为每个时间序列样本是一行\n",
    "    sum_of_squares = np.sum(squared_difference, axis=1)\n",
    "    \n",
    "    # 计算平方和的平方根，即l2范数\n",
    "    l2_norms = np.sqrt(sum_of_squares)\n",
    "    \n",
    "    average_l2_norm = np.mean(l2_norms)\n",
    "    \n",
    "    # l2_norms现在是一个形状为(467,)的数组，其中每个元素代表\n",
    "    # 对应时间序列样本之间的l2范数\n",
    "    print(average_l2_norm)  # 输出: (467,)\n",
    "\n",
    "l2norm(x_test_rbp)\n",
    "l2norm(x_test_new1)\n",
    "l2norm(x_test_zero)\n",
    "l2norm(x_test_noise)\n",
    "l2norm(x_test_blur)"
   ]
  },
  {
   "cell_type": "code",
   "execution_count": 94,
   "id": "b5d3f821",
   "metadata": {},
   "outputs": [],
   "source": [
    "def accuracy(predictions, labels):\n",
    "    hits = 0\n",
    "    for i in range(0,len(predictions)):\n",
    "        if predictions[i] == labels[i]:\n",
    "            hits += 1\n",
    "    return hits/len(predictions)"
   ]
  },
  {
   "cell_type": "code",
   "execution_count": 95,
   "id": "89f21d47",
   "metadata": {},
   "outputs": [],
   "source": [
    "original_accuracy = accuracy(np.argmax(predictions_original,axis=1), y_test_original)\n",
    "rbp_accuracy = accuracy(np.argmax(predictions_rbp,axis=1), y_test_original)\n",
    "new1_accuracy = accuracy(np.argmax(predictions_new1,axis=1), y_test_original)\n",
    "#new2_accuracy = accuracy(np.argmax(predictions_new2,axis=1), y_test_original)\n",
    "zero_accuracy = accuracy(np.argmax(predictions_zero,axis=1), y_test_original)\n",
    "noise_accuracy = accuracy(np.argmax(predictions_noise,axis=1), y_test_original)\n",
    "blur_accuracy = accuracy(np.argmax(predictions_blur,axis=1), y_test_original)"
   ]
  },
  {
   "cell_type": "code",
   "execution_count": 96,
   "id": "e52c9d2e",
   "metadata": {},
   "outputs": [
    {
     "name": "stdout",
     "output_type": "stream",
     "text": [
      " Original Accuracy: 0.74\n",
      " RBP Accuracy: 0.736\n",
      " RBP1 Accuracy: 0.74\n",
      " Zero Accuracy: 0.732\n",
      " Noise Accuracy: 0.612\n",
      " Blur Accuracy: 0.724\n",
      "\n"
     ]
    }
   ],
   "source": [
    "print(\" Original Accuracy: \" + str(original_accuracy) + \"\\n\"+\n",
    "    \" RBP Accuracy: \" + str(rbp_accuracy) + \"\\n\"+\n",
    "    \" RBP1 Accuracy: \" + str(new1_accuracy) + \"\\n\"+\n",
    "    #\" RBP2 Accuracy: \" + str(new2_accuracy) + \"\\n\"+\n",
    "      \n",
    "    \" Zero Accuracy: \" + str(zero_accuracy) + \"\\n\"+\n",
    "    \" Noise Accuracy: \" + str(noise_accuracy) + \"\\n\"+\n",
    "    \" Blur Accuracy: \" + str(blur_accuracy) + \"\\n\")"
   ]
  },
  {
   "cell_type": "code",
   "execution_count": null,
   "id": "4722127e-ddb3-4448-b556-bfde40277c76",
   "metadata": {},
   "outputs": [],
   "source": []
  }
 ],
 "metadata": {
  "kernelspec": {
   "display_name": "lime_tf",
   "language": "python",
   "name": "limetf"
  },
  "language_info": {
   "codemirror_mode": {
    "name": "ipython",
    "version": 3
   },
   "file_extension": ".py",
   "mimetype": "text/x-python",
   "name": "python",
   "nbconvert_exporter": "python",
   "pygments_lexer": "ipython3",
   "version": "3.10.13"
  }
 },
 "nbformat": 4,
 "nbformat_minor": 5
}
