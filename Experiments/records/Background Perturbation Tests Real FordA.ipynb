{
 "cells": [
  {
   "cell_type": "code",
   "execution_count": 27,
   "id": "dd9bd814",
   "metadata": {},
   "outputs": [],
   "source": [
    "import numpy as np\n",
    "import matplotlib.pyplot as plt\n",
    "import inspect"
   ]
  },
  {
   "cell_type": "code",
   "execution_count": 28,
   "id": "2439de23",
   "metadata": {},
   "outputs": [
    {
     "name": "stdout",
     "output_type": "stream",
     "text": [
      "['/Users/gali/anaconda3/envs/LIMEtf/lib/python310.zip', '/Users/gali/anaconda3/envs/LIMEtf/lib/python3.10', '/Users/gali/anaconda3/envs/LIMEtf/lib/python3.10/lib-dynload', '', '/Users/gali/anaconda3/envs/LIMEtf/lib/python3.10/site-packages', '/Users/gali/anaconda3/envs/LIMEtf/lib/python3.10/site-packages/setuptools/_vendor', '../', '../', '../', '../']\n"
     ]
    }
   ],
   "source": [
    "import importlib\n",
    "import sys\n",
    "sys.path.append('../')\n",
    "from Utils.perturbationsnew import RBPIndividual, RBPIndividualNew1, RBPIndividualNew1fast, RBPIndividualNew2, zeroPerturb, noisePerturb, blurPerturb,multisamplebackgroundIdentification\n",
    "from Utils.models import *\n",
    "from Utils.data import perturb, generateSynthetic, generateSyntheticPerturbReal,ReadTS\n",
    "\n",
    "print(sys.path)\n"
   ]
  },
  {
   "cell_type": "markdown",
   "id": "62b11ea0",
   "metadata": {},
   "source": [
    "## Test important content removal (accuracy decrease)"
   ]
  },
  {
   "cell_type": "markdown",
   "id": "5567ae62",
   "metadata": {},
   "source": [
    "### Load synthetic dataset and train CNN model "
   ]
  },
  {
   "cell_type": "code",
   "execution_count": 29,
   "id": "812c0d59",
   "metadata": {},
   "outputs": [
    {
     "name": "stdout",
     "output_type": "stream",
     "text": [
      "(3636, 500, 1)\n",
      "[1. 0. 0. ... 1. 1. 1.]\n"
     ]
    }
   ],
   "source": [
    "x_train, y_train,x_test_original, y_test_original = ReadTS('FordB')\n",
    "#y_train = y_train - 1\n",
    "#y_test_original = y_test_original - 1\n",
    "y_train = np.where(y_train == -1, 0, y_train)\n",
    "y_test_original = np.where(y_test_original == -1, 0, y_test_original)\n",
    "print(x_train.shape)\n",
    "print(y_train)"
   ]
  },
  {
   "cell_type": "code",
   "execution_count": 30,
   "id": "e74e1ca3-8fd2-4e4a-96a1-2ac583496cd7",
   "metadata": {},
   "outputs": [],
   "source": [
    "from sklearn.preprocessing import StandardScaler\n",
    "def normalize(TS):\n",
    "    # 获取原始数据集的形状\n",
    "    original_shape = TS.shape\n",
    "    \n",
    "    # 将数据集reshape成二维数组\n",
    "    TS_2d = TS.reshape(original_shape[0] , original_shape[1])\n",
    "    \n",
    "    # 初始化StandardScaler\n",
    "    scaler = StandardScaler()\n",
    "    \n",
    "    # 对数据集进行标准化\n",
    "    TS_normalized = scaler.fit_transform(TS_2d)\n",
    "    \n",
    "    # 将标准化后的数据集reshape回原始形状\n",
    "    TS = TS_normalized.reshape(original_shape)\n",
    "    \n",
    "    return TS\n",
    "\n",
    "x_train = normalize(x_train)\n",
    "x_test_original = normalize(x_test_original)\n",
    "#print(x_train)"
   ]
  },
  {
   "cell_type": "code",
   "execution_count": 40,
   "id": "c9911722",
   "metadata": {
    "scrolled": true
   },
   "outputs": [
    {
     "name": "stdout",
     "output_type": "stream",
     "text": [
      "Epoch 1/100\n",
      "91/91 [==============================] - 3s 28ms/step - loss: 0.4485 - sparse_categorical_accuracy: 0.8102 - val_loss: 1.1258 - val_sparse_categorical_accuracy: 0.4904\n",
      "Epoch 2/100\n",
      "91/91 [==============================] - 2s 27ms/step - loss: 0.3352 - sparse_categorical_accuracy: 0.8642 - val_loss: 1.3569 - val_sparse_categorical_accuracy: 0.4904\n",
      "Epoch 3/100\n",
      "91/91 [==============================] - 2s 27ms/step - loss: 0.3060 - sparse_categorical_accuracy: 0.8690 - val_loss: 1.1600 - val_sparse_categorical_accuracy: 0.4904\n",
      "Epoch 4/100\n",
      "91/91 [==============================] - 3s 28ms/step - loss: 0.2947 - sparse_categorical_accuracy: 0.8772 - val_loss: 1.2580 - val_sparse_categorical_accuracy: 0.4904\n",
      "Epoch 5/100\n",
      "91/91 [==============================] - 3s 29ms/step - loss: 0.2881 - sparse_categorical_accuracy: 0.8762 - val_loss: 0.4750 - val_sparse_categorical_accuracy: 0.7747\n",
      "Epoch 6/100\n",
      "91/91 [==============================] - 2s 27ms/step - loss: 0.2803 - sparse_categorical_accuracy: 0.8831 - val_loss: 0.4354 - val_sparse_categorical_accuracy: 0.8008\n",
      "Epoch 7/100\n",
      "91/91 [==============================] - 2s 26ms/step - loss: 0.2814 - sparse_categorical_accuracy: 0.8735 - val_loss: 0.5484 - val_sparse_categorical_accuracy: 0.7418\n",
      "Epoch 8/100\n",
      "91/91 [==============================] - 2s 26ms/step - loss: 0.2726 - sparse_categorical_accuracy: 0.8796 - val_loss: 0.5056 - val_sparse_categorical_accuracy: 0.7706\n",
      "Epoch 9/100\n",
      "91/91 [==============================] - 2s 26ms/step - loss: 0.2659 - sparse_categorical_accuracy: 0.8879 - val_loss: 0.4600 - val_sparse_categorical_accuracy: 0.7830\n",
      "Epoch 10/100\n",
      "91/91 [==============================] - 2s 27ms/step - loss: 0.2673 - sparse_categorical_accuracy: 0.8927 - val_loss: 0.6892 - val_sparse_categorical_accuracy: 0.7390\n",
      "Epoch 11/100\n",
      "91/91 [==============================] - 2s 26ms/step - loss: 0.2630 - sparse_categorical_accuracy: 0.8913 - val_loss: 0.5704 - val_sparse_categorical_accuracy: 0.7143\n",
      "Epoch 12/100\n",
      "91/91 [==============================] - 2s 27ms/step - loss: 0.2595 - sparse_categorical_accuracy: 0.8896 - val_loss: 0.3887 - val_sparse_categorical_accuracy: 0.7981\n",
      "Epoch 13/100\n",
      "91/91 [==============================] - 3s 28ms/step - loss: 0.2562 - sparse_categorical_accuracy: 0.8900 - val_loss: 0.4975 - val_sparse_categorical_accuracy: 0.7775\n",
      "Epoch 14/100\n",
      "91/91 [==============================] - 3s 28ms/step - loss: 0.2549 - sparse_categorical_accuracy: 0.8889 - val_loss: 0.4110 - val_sparse_categorical_accuracy: 0.7995\n",
      "Epoch 15/100\n",
      "91/91 [==============================] - 2s 27ms/step - loss: 0.2448 - sparse_categorical_accuracy: 0.9013 - val_loss: 0.4100 - val_sparse_categorical_accuracy: 0.8091\n",
      "Epoch 16/100\n",
      "91/91 [==============================] - 2s 27ms/step - loss: 0.2504 - sparse_categorical_accuracy: 0.8931 - val_loss: 0.5562 - val_sparse_categorical_accuracy: 0.7225\n",
      "Epoch 17/100\n",
      "91/91 [==============================] - 2s 27ms/step - loss: 0.2496 - sparse_categorical_accuracy: 0.8961 - val_loss: 0.4005 - val_sparse_categorical_accuracy: 0.7953\n",
      "Epoch 18/100\n",
      "91/91 [==============================] - 3s 28ms/step - loss: 0.2522 - sparse_categorical_accuracy: 0.8975 - val_loss: 0.6211 - val_sparse_categorical_accuracy: 0.7514\n",
      "Epoch 19/100\n",
      "91/91 [==============================] - 2s 27ms/step - loss: 0.2403 - sparse_categorical_accuracy: 0.9030 - val_loss: 0.6154 - val_sparse_categorical_accuracy: 0.7596\n",
      "Epoch 20/100\n",
      "91/91 [==============================] - 2s 27ms/step - loss: 0.2385 - sparse_categorical_accuracy: 0.9010 - val_loss: 0.4056 - val_sparse_categorical_accuracy: 0.8118\n",
      "Epoch 21/100\n",
      "91/91 [==============================] - 2s 27ms/step - loss: 0.2424 - sparse_categorical_accuracy: 0.9010 - val_loss: 0.3786 - val_sparse_categorical_accuracy: 0.8091\n",
      "Epoch 22/100\n",
      "91/91 [==============================] - 2s 27ms/step - loss: 0.2510 - sparse_categorical_accuracy: 0.8896 - val_loss: 0.3827 - val_sparse_categorical_accuracy: 0.8104\n",
      "Epoch 23/100\n",
      "91/91 [==============================] - 2s 27ms/step - loss: 0.2369 - sparse_categorical_accuracy: 0.9006 - val_loss: 0.3902 - val_sparse_categorical_accuracy: 0.8132\n",
      "Epoch 24/100\n",
      "91/91 [==============================] - 2s 27ms/step - loss: 0.2350 - sparse_categorical_accuracy: 0.9058 - val_loss: 0.4681 - val_sparse_categorical_accuracy: 0.7857\n",
      "Epoch 25/100\n",
      "91/91 [==============================] - 3s 28ms/step - loss: 0.2292 - sparse_categorical_accuracy: 0.9072 - val_loss: 0.3779 - val_sparse_categorical_accuracy: 0.8338\n",
      "Epoch 26/100\n",
      "91/91 [==============================] - 2s 27ms/step - loss: 0.2272 - sparse_categorical_accuracy: 0.9047 - val_loss: 0.3531 - val_sparse_categorical_accuracy: 0.8228\n",
      "Epoch 27/100\n",
      "91/91 [==============================] - 2s 26ms/step - loss: 0.2232 - sparse_categorical_accuracy: 0.9082 - val_loss: 0.3554 - val_sparse_categorical_accuracy: 0.8255\n",
      "Epoch 28/100\n",
      "91/91 [==============================] - 2s 27ms/step - loss: 0.2368 - sparse_categorical_accuracy: 0.8992 - val_loss: 0.6164 - val_sparse_categorical_accuracy: 0.7157\n",
      "Epoch 29/100\n",
      "91/91 [==============================] - 2s 27ms/step - loss: 0.2286 - sparse_categorical_accuracy: 0.9054 - val_loss: 0.4687 - val_sparse_categorical_accuracy: 0.7734\n",
      "Epoch 30/100\n",
      "91/91 [==============================] - 2s 27ms/step - loss: 0.2186 - sparse_categorical_accuracy: 0.9092 - val_loss: 0.3597 - val_sparse_categorical_accuracy: 0.8434\n",
      "Epoch 31/100\n",
      "91/91 [==============================] - 3s 28ms/step - loss: 0.2138 - sparse_categorical_accuracy: 0.9109 - val_loss: 0.4021 - val_sparse_categorical_accuracy: 0.8118\n",
      "Epoch 32/100\n",
      "91/91 [==============================] - 2s 27ms/step - loss: 0.2167 - sparse_categorical_accuracy: 0.9106 - val_loss: 0.5424 - val_sparse_categorical_accuracy: 0.7569\n",
      "Epoch 33/100\n",
      "91/91 [==============================] - 2s 27ms/step - loss: 0.2187 - sparse_categorical_accuracy: 0.9065 - val_loss: 0.3485 - val_sparse_categorical_accuracy: 0.8448\n",
      "Epoch 34/100\n",
      "91/91 [==============================] - 2s 27ms/step - loss: 0.2142 - sparse_categorical_accuracy: 0.9113 - val_loss: 0.6946 - val_sparse_categorical_accuracy: 0.6813\n",
      "Epoch 35/100\n",
      "91/91 [==============================] - 2s 27ms/step - loss: 0.2209 - sparse_categorical_accuracy: 0.9047 - val_loss: 0.4368 - val_sparse_categorical_accuracy: 0.8049\n",
      "Epoch 36/100\n",
      "91/91 [==============================] - 2s 27ms/step - loss: 0.2124 - sparse_categorical_accuracy: 0.9092 - val_loss: 0.3778 - val_sparse_categorical_accuracy: 0.8283\n",
      "Epoch 37/100\n",
      "91/91 [==============================] - 2s 27ms/step - loss: 0.2042 - sparse_categorical_accuracy: 0.9130 - val_loss: 0.5534 - val_sparse_categorical_accuracy: 0.7404\n",
      "Epoch 38/100\n",
      "91/91 [==============================] - 2s 27ms/step - loss: 0.2087 - sparse_categorical_accuracy: 0.9147 - val_loss: 0.3608 - val_sparse_categorical_accuracy: 0.8255\n",
      "Epoch 39/100\n",
      "91/91 [==============================] - 2s 27ms/step - loss: 0.2072 - sparse_categorical_accuracy: 0.9106 - val_loss: 0.5442 - val_sparse_categorical_accuracy: 0.7431\n",
      "Epoch 40/100\n",
      "91/91 [==============================] - 3s 28ms/step - loss: 0.2101 - sparse_categorical_accuracy: 0.9102 - val_loss: 0.3411 - val_sparse_categorical_accuracy: 0.8516\n",
      "Epoch 41/100\n",
      "91/91 [==============================] - 2s 27ms/step - loss: 0.2066 - sparse_categorical_accuracy: 0.9178 - val_loss: 0.5588 - val_sparse_categorical_accuracy: 0.7431\n",
      "Epoch 42/100\n",
      "91/91 [==============================] - 2s 27ms/step - loss: 0.2082 - sparse_categorical_accuracy: 0.9123 - val_loss: 0.4091 - val_sparse_categorical_accuracy: 0.7940\n",
      "Epoch 43/100\n",
      "91/91 [==============================] - 3s 27ms/step - loss: 0.1958 - sparse_categorical_accuracy: 0.9202 - val_loss: 0.4555 - val_sparse_categorical_accuracy: 0.7885\n",
      "Epoch 44/100\n",
      "91/91 [==============================] - 3s 28ms/step - loss: 0.1971 - sparse_categorical_accuracy: 0.9182 - val_loss: 0.7238 - val_sparse_categorical_accuracy: 0.7102\n",
      "Epoch 45/100\n",
      "91/91 [==============================] - 2s 27ms/step - loss: 0.1971 - sparse_categorical_accuracy: 0.9127 - val_loss: 0.7971 - val_sparse_categorical_accuracy: 0.7294\n",
      "Epoch 46/100\n",
      "91/91 [==============================] - 2s 27ms/step - loss: 0.1966 - sparse_categorical_accuracy: 0.9140 - val_loss: 0.4380 - val_sparse_categorical_accuracy: 0.8008\n",
      "Epoch 47/100\n",
      "91/91 [==============================] - 2s 27ms/step - loss: 0.1900 - sparse_categorical_accuracy: 0.9154 - val_loss: 0.6498 - val_sparse_categorical_accuracy: 0.7321\n",
      "Epoch 48/100\n",
      "91/91 [==============================] - 2s 27ms/step - loss: 0.1973 - sparse_categorical_accuracy: 0.9151 - val_loss: 0.3684 - val_sparse_categorical_accuracy: 0.8365\n",
      "Epoch 49/100\n",
      "91/91 [==============================] - 2s 27ms/step - loss: 0.1954 - sparse_categorical_accuracy: 0.9199 - val_loss: 0.3744 - val_sparse_categorical_accuracy: 0.8448\n",
      "Epoch 50/100\n",
      "91/91 [==============================] - 3s 29ms/step - loss: 0.1933 - sparse_categorical_accuracy: 0.9250 - val_loss: 0.4893 - val_sparse_categorical_accuracy: 0.7885\n",
      "Epoch 51/100\n",
      "91/91 [==============================] - 3s 32ms/step - loss: 0.1902 - sparse_categorical_accuracy: 0.9199 - val_loss: 0.7169 - val_sparse_categorical_accuracy: 0.6868\n",
      "Epoch 52/100\n",
      "91/91 [==============================] - 3s 29ms/step - loss: 0.2011 - sparse_categorical_accuracy: 0.9140 - val_loss: 0.4289 - val_sparse_categorical_accuracy: 0.8008\n",
      "Epoch 53/100\n",
      "91/91 [==============================] - 3s 28ms/step - loss: 0.1874 - sparse_categorical_accuracy: 0.9237 - val_loss: 0.4323 - val_sparse_categorical_accuracy: 0.7912\n",
      "Epoch 54/100\n",
      "91/91 [==============================] - 3s 28ms/step - loss: 0.1920 - sparse_categorical_accuracy: 0.9202 - val_loss: 0.4534 - val_sparse_categorical_accuracy: 0.7830\n",
      "Epoch 55/100\n",
      "91/91 [==============================] - 3s 28ms/step - loss: 0.1943 - sparse_categorical_accuracy: 0.9182 - val_loss: 0.4839 - val_sparse_categorical_accuracy: 0.7624\n",
      "Epoch 56/100\n",
      "91/91 [==============================] - 3s 29ms/step - loss: 0.1970 - sparse_categorical_accuracy: 0.9154 - val_loss: 0.3571 - val_sparse_categorical_accuracy: 0.8310\n",
      "Epoch 57/100\n",
      "91/91 [==============================] - 3s 32ms/step - loss: 0.1829 - sparse_categorical_accuracy: 0.9274 - val_loss: 0.3634 - val_sparse_categorical_accuracy: 0.8310\n",
      "Epoch 58/100\n",
      "91/91 [==============================] - 3s 28ms/step - loss: 0.1949 - sparse_categorical_accuracy: 0.9243 - val_loss: 0.6932 - val_sparse_categorical_accuracy: 0.7239\n",
      "Epoch 59/100\n",
      "91/91 [==============================] - 2s 27ms/step - loss: 0.1848 - sparse_categorical_accuracy: 0.9216 - val_loss: 1.0561 - val_sparse_categorical_accuracy: 0.6552\n",
      "Epoch 60/100\n",
      "91/91 [==============================] - 3s 28ms/step - loss: 0.1845 - sparse_categorical_accuracy: 0.9271 - val_loss: 0.7504 - val_sparse_categorical_accuracy: 0.7212\n",
      "Epoch 61/100\n",
      "91/91 [==============================] - 3s 29ms/step - loss: 0.1925 - sparse_categorical_accuracy: 0.9219 - val_loss: 0.6964 - val_sparse_categorical_accuracy: 0.7115\n",
      "Epoch 62/100\n",
      "91/91 [==============================] - 2s 27ms/step - loss: 0.1819 - sparse_categorical_accuracy: 0.9264 - val_loss: 0.3969 - val_sparse_categorical_accuracy: 0.8187\n",
      "Epoch 63/100\n",
      "91/91 [==============================] - 3s 28ms/step - loss: 0.1861 - sparse_categorical_accuracy: 0.9195 - val_loss: 0.3362 - val_sparse_categorical_accuracy: 0.8571\n",
      "Epoch 64/100\n",
      "91/91 [==============================] - 3s 29ms/step - loss: 0.1831 - sparse_categorical_accuracy: 0.9209 - val_loss: 0.7030 - val_sparse_categorical_accuracy: 0.7349\n",
      "Epoch 65/100\n",
      "91/91 [==============================] - 3s 28ms/step - loss: 0.1809 - sparse_categorical_accuracy: 0.9243 - val_loss: 0.8816 - val_sparse_categorical_accuracy: 0.6676\n",
      "Epoch 66/100\n",
      "91/91 [==============================] - 3s 30ms/step - loss: 0.1768 - sparse_categorical_accuracy: 0.9268 - val_loss: 0.9937 - val_sparse_categorical_accuracy: 0.6758\n",
      "Epoch 67/100\n",
      "91/91 [==============================] - 3s 29ms/step - loss: 0.1803 - sparse_categorical_accuracy: 0.9257 - val_loss: 0.3196 - val_sparse_categorical_accuracy: 0.8626\n",
      "Epoch 68/100\n",
      "91/91 [==============================] - 3s 28ms/step - loss: 0.1795 - sparse_categorical_accuracy: 0.9250 - val_loss: 0.3449 - val_sparse_categorical_accuracy: 0.8585\n",
      "Epoch 69/100\n",
      "91/91 [==============================] - 3s 28ms/step - loss: 0.1769 - sparse_categorical_accuracy: 0.9285 - val_loss: 0.3260 - val_sparse_categorical_accuracy: 0.8681\n",
      "Epoch 70/100\n",
      "91/91 [==============================] - 2s 27ms/step - loss: 0.1783 - sparse_categorical_accuracy: 0.9257 - val_loss: 0.4388 - val_sparse_categorical_accuracy: 0.7843\n",
      "Epoch 71/100\n",
      "91/91 [==============================] - 3s 28ms/step - loss: 0.1838 - sparse_categorical_accuracy: 0.9254 - val_loss: 0.3272 - val_sparse_categorical_accuracy: 0.8462\n",
      "Epoch 72/100\n",
      "91/91 [==============================] - 3s 28ms/step - loss: 0.1755 - sparse_categorical_accuracy: 0.9274 - val_loss: 0.7637 - val_sparse_categorical_accuracy: 0.7088\n",
      "Epoch 73/100\n",
      "91/91 [==============================] - 3s 28ms/step - loss: 0.1729 - sparse_categorical_accuracy: 0.9264 - val_loss: 0.8679 - val_sparse_categorical_accuracy: 0.7115\n",
      "Epoch 74/100\n",
      "91/91 [==============================] - 3s 28ms/step - loss: 0.1632 - sparse_categorical_accuracy: 0.9350 - val_loss: 1.0287 - val_sparse_categorical_accuracy: 0.7019\n",
      "Epoch 75/100\n",
      "91/91 [==============================] - 3s 28ms/step - loss: 0.1731 - sparse_categorical_accuracy: 0.9274 - val_loss: 0.4690 - val_sparse_categorical_accuracy: 0.7885\n",
      "Epoch 76/100\n",
      "91/91 [==============================] - 3s 28ms/step - loss: 0.1731 - sparse_categorical_accuracy: 0.9254 - val_loss: 0.3126 - val_sparse_categorical_accuracy: 0.8832\n",
      "Epoch 77/100\n",
      "91/91 [==============================] - 3s 29ms/step - loss: 0.1609 - sparse_categorical_accuracy: 0.9340 - val_loss: 0.6335 - val_sparse_categorical_accuracy: 0.7308\n",
      "Epoch 78/100\n",
      "91/91 [==============================] - 3s 28ms/step - loss: 0.1704 - sparse_categorical_accuracy: 0.9309 - val_loss: 0.4241 - val_sparse_categorical_accuracy: 0.8104\n",
      "Epoch 79/100\n",
      "91/91 [==============================] - 3s 28ms/step - loss: 0.1606 - sparse_categorical_accuracy: 0.9374 - val_loss: 0.5358 - val_sparse_categorical_accuracy: 0.7734\n",
      "Epoch 80/100\n",
      "91/91 [==============================] - 3s 28ms/step - loss: 0.1629 - sparse_categorical_accuracy: 0.9340 - val_loss: 0.3252 - val_sparse_categorical_accuracy: 0.8668\n",
      "Epoch 81/100\n",
      "91/91 [==============================] - 3s 28ms/step - loss: 0.1607 - sparse_categorical_accuracy: 0.9354 - val_loss: 0.4306 - val_sparse_categorical_accuracy: 0.7953\n",
      "Epoch 82/100\n",
      "91/91 [==============================] - 3s 28ms/step - loss: 0.1609 - sparse_categorical_accuracy: 0.9336 - val_loss: 0.6349 - val_sparse_categorical_accuracy: 0.7514\n",
      "Epoch 83/100\n",
      "91/91 [==============================] - 3s 29ms/step - loss: 0.1588 - sparse_categorical_accuracy: 0.9378 - val_loss: 0.3207 - val_sparse_categorical_accuracy: 0.8750\n",
      "Epoch 84/100\n",
      "91/91 [==============================] - 3s 28ms/step - loss: 0.1639 - sparse_categorical_accuracy: 0.9357 - val_loss: 0.5460 - val_sparse_categorical_accuracy: 0.7816\n",
      "Epoch 85/100\n",
      "91/91 [==============================] - 3s 29ms/step - loss: 0.1521 - sparse_categorical_accuracy: 0.9398 - val_loss: 0.2992 - val_sparse_categorical_accuracy: 0.8970\n",
      "Epoch 86/100\n",
      "91/91 [==============================] - 3s 28ms/step - loss: 0.1606 - sparse_categorical_accuracy: 0.9360 - val_loss: 0.4020 - val_sparse_categorical_accuracy: 0.8352\n",
      "Epoch 87/100\n",
      "91/91 [==============================] - 3s 28ms/step - loss: 0.1576 - sparse_categorical_accuracy: 0.9357 - val_loss: 0.3374 - val_sparse_categorical_accuracy: 0.8640\n",
      "Epoch 88/100\n",
      "91/91 [==============================] - 3s 28ms/step - loss: 0.1624 - sparse_categorical_accuracy: 0.9336 - val_loss: 0.4732 - val_sparse_categorical_accuracy: 0.8118\n",
      "Epoch 89/100\n",
      "91/91 [==============================] - 3s 28ms/step - loss: 0.1519 - sparse_categorical_accuracy: 0.9378 - val_loss: 0.3595 - val_sparse_categorical_accuracy: 0.8297\n",
      "Epoch 90/100\n",
      "91/91 [==============================] - 3s 28ms/step - loss: 0.1562 - sparse_categorical_accuracy: 0.9381 - val_loss: 0.9172 - val_sparse_categorical_accuracy: 0.6992\n",
      "Epoch 91/100\n",
      "91/91 [==============================] - 3s 28ms/step - loss: 0.1582 - sparse_categorical_accuracy: 0.9378 - val_loss: 0.3055 - val_sparse_categorical_accuracy: 0.8777\n",
      "Epoch 92/100\n",
      "91/91 [==============================] - 3s 28ms/step - loss: 0.1555 - sparse_categorical_accuracy: 0.9381 - val_loss: 0.3556 - val_sparse_categorical_accuracy: 0.8585\n",
      "Epoch 93/100\n",
      "91/91 [==============================] - 3s 28ms/step - loss: 0.1482 - sparse_categorical_accuracy: 0.9415 - val_loss: 0.3823 - val_sparse_categorical_accuracy: 0.8255\n",
      "Epoch 94/100\n",
      "91/91 [==============================] - 3s 28ms/step - loss: 0.1429 - sparse_categorical_accuracy: 0.9460 - val_loss: 0.3714 - val_sparse_categorical_accuracy: 0.8255\n",
      "Epoch 95/100\n",
      "91/91 [==============================] - 3s 28ms/step - loss: 0.1588 - sparse_categorical_accuracy: 0.9354 - val_loss: 0.3207 - val_sparse_categorical_accuracy: 0.8736\n",
      "Epoch 96/100\n",
      "91/91 [==============================] - 3s 28ms/step - loss: 0.1667 - sparse_categorical_accuracy: 0.9340 - val_loss: 0.6997 - val_sparse_categorical_accuracy: 0.7582\n",
      "Epoch 97/100\n",
      "91/91 [==============================] - 3s 28ms/step - loss: 0.1453 - sparse_categorical_accuracy: 0.9450 - val_loss: 0.4915 - val_sparse_categorical_accuracy: 0.7885\n",
      "Epoch 98/100\n",
      "91/91 [==============================] - 3s 28ms/step - loss: 0.1483 - sparse_categorical_accuracy: 0.9395 - val_loss: 0.4717 - val_sparse_categorical_accuracy: 0.8242\n",
      "Epoch 99/100\n",
      "91/91 [==============================] - 3s 29ms/step - loss: 0.1496 - sparse_categorical_accuracy: 0.9402 - val_loss: 0.4383 - val_sparse_categorical_accuracy: 0.8063\n",
      "Epoch 100/100\n",
      "91/91 [==============================] - 3s 29ms/step - loss: 0.1404 - sparse_categorical_accuracy: 0.9443 - val_loss: 0.3162 - val_sparse_categorical_accuracy: 0.8750\n"
     ]
    }
   ],
   "source": [
    "model = make_CNN_model(x_train.shape[1:],num_classes = 2)\n",
    "trained_model, history = train_CNN_model(model, x_train, y_train, epochs=100, batch_size=32)"
   ]
  },
  {
   "cell_type": "code",
   "execution_count": 41,
   "id": "227e6120",
   "metadata": {},
   "outputs": [
    {
     "name": "stdout",
     "output_type": "stream",
     "text": [
      "26/26 [==============================] - 0s 6ms/step - loss: 0.5097 - sparse_categorical_accuracy: 0.7469\n",
      "Test accuracy 0.7469135522842407\n",
      "Test loss 0.5097332000732422\n"
     ]
    }
   ],
   "source": [
    "test_loss, test_acc = trained_model.evaluate(x_test_original, y_test_original)\n",
    "\n",
    "print(\"Test accuracy\", test_acc)\n",
    "print(\"Test loss\", test_loss)"
   ]
  },
  {
   "cell_type": "markdown",
   "id": "4773dace",
   "metadata": {},
   "source": [
    "### Create perturbed test sets and calculate decrease in accuracy"
   ]
  },
  {
   "cell_type": "code",
   "execution_count": 43,
   "id": "b854bfe4-2303-44a0-bef5-eb3c738da9e9",
   "metadata": {},
   "outputs": [
    {
     "name": "stdout",
     "output_type": "stream",
     "text": [
      "(810,)\n"
     ]
    }
   ],
   "source": [
    "print(y_test_original.shape)"
   ]
  },
  {
   "cell_type": "code",
   "execution_count": 44,
   "id": "ffd7c678-03f4-47ae-a1f9-45e0c185580e",
   "metadata": {},
   "outputs": [
    {
     "name": "stdout",
     "output_type": "stream",
     "text": [
      "def perturb(perturbation_strategy, ts, index0, index1, global_ts = [],bg = []):\n",
      "    if perturbation_strategy == 'RBP':\n",
      "        return RBPIndividual(ts, index0, index1)\n",
      "    if perturbation_strategy == 'zero':\n",
      "        return zeroPerturb(ts, index0, index1)\n",
      "    if perturbation_strategy == 'noise':\n",
      "        return noisePerturb(ts, index0, index1)\n",
      "    if perturbation_strategy == 'blur':\n",
      "        return blurPerturb(ts, index0, index1)\n",
      "    if perturbation_strategy == 'RBP1':\n",
      "        return RBPIndividualNew1(global_ts, ts, index0, index1) \n",
      "    if perturbation_strategy == 'RBP1fast':\n",
      "        return RBPIndividualNew1fast(bg, ts, index0, index1)  \n",
      "    if perturbation_strategy == 'RBP2':\n",
      "        return RBPIndividualNew2(global_ts, ts, index0, index1)    \n",
      "\n",
      "(perturbation_strategy, ts, index0, index1, global_ts=[], bg=[])\n"
     ]
    }
   ],
   "source": [
    "print(inspect.getsource(perturb))\n",
    "print(inspect.signature(perturb))"
   ]
  },
  {
   "cell_type": "code",
   "execution_count": 45,
   "id": "4c579fb7",
   "metadata": {},
   "outputs": [
    {
     "name": "stdout",
     "output_type": "stream",
     "text": [
      "26/26 [==============================] - 0s 6ms/step\n",
      "26/26 [==============================] - 0s 6ms/step\n",
      "26/26 [==============================] - 0s 6ms/step\n",
      "26/26 [==============================] - 0s 5ms/step\n",
      "26/26 [==============================] - 0s 6ms/step\n",
      "26/26 [==============================] - 0s 6ms/step\n"
     ]
    }
   ],
   "source": [
    "predictions_original = model.predict(x_test_original)\n",
    "perturb_test_set = x_test_original.copy()\n",
    "perturb_test_set = perturb_test_set.reshape(x_test_original.shape[0:2])\n",
    "index_0 = 30\n",
    "index_1 = 60\n",
    "x_test_rbp = np.asarray([perturb('RBP',x,index_0,index_1) for x in perturb_test_set])\n",
    "x_test_rbp = np.expand_dims(x_test_rbp, axis=-1)\n",
    "predictions_rbp = model.predict(x_test_rbp)\n",
    "\n",
    "bg = multisamplebackgroundIdentification(perturb_test_set)\n",
    "x_test_new1 = np.asarray([perturb('RBP1fast',x,index_0,index_1, bg = bg) for x in perturb_test_set])\n",
    "x_test_new1 = np.expand_dims(x_test_new1, axis=-1)\n",
    "predictions_new1 = model.predict(x_test_new1)\n",
    "\n",
    "#x_test_new2 = np.asarray([perturb('RBP2',x,400,500, global_ts = perturb_test_set) for x in perturb_test_set])\n",
    "#x_test_new2 = np.expand_dims(x_test_new2, axis=-1)\n",
    "#predictions_new2 = model.predict(x_test_new2)\n",
    "\n",
    "x_test_zero = np.asarray([perturb('zero',x,index_0,index_1) for x in perturb_test_set])\n",
    "x_test_zero = np.expand_dims(x_test_zero, axis=-1)\n",
    "predictions_zero = model.predict(x_test_zero)\n",
    "\n",
    "x_test_noise = np.asarray([perturb('noise',x,index_0,index_1) for x in perturb_test_set])\n",
    "x_test_noise = np.expand_dims(x_test_noise, axis=-1)\n",
    "predictions_noise = model.predict(x_test_noise)\n",
    "\n",
    "x_test_blur = np.asarray([perturb('blur',x,index_0,index_1) for x in perturb_test_set])\n",
    "x_test_blur = np.expand_dims(x_test_blur, axis=-1)\n",
    "predictions_blur = model.predict(x_test_blur)"
   ]
  },
  {
   "cell_type": "code",
   "execution_count": 46,
   "id": "069af343-0cfa-4787-b5d4-170f885bb59d",
   "metadata": {},
   "outputs": [
    {
     "name": "stdout",
     "output_type": "stream",
     "text": [
      "4.062573452895294\n",
      "5.123610262748145\n",
      "4.982823035558002\n",
      "10.220324201134511\n",
      "0.29620613062563506\n"
     ]
    }
   ],
   "source": [
    "def l2norm(perturb):\n",
    "    # 计算两个数组之间的差\n",
    "    difference = perturb - x_test_original\n",
    "    \n",
    "    # 计算差的平方\n",
    "    squared_difference = np.square(difference)\n",
    "    \n",
    "    # 计算平方和，沿着特征维度（axis=1），因为每个时间序列样本是一行\n",
    "    sum_of_squares = np.sum(squared_difference, axis=1)\n",
    "    \n",
    "    # 计算平方和的平方根，即l2范数\n",
    "    l2_norms = np.sqrt(sum_of_squares)\n",
    "    \n",
    "    average_l2_norm = np.mean(l2_norms)\n",
    "    \n",
    "    # l2_norms现在是一个形状为(467,)的数组，其中每个元素代表\n",
    "    # 对应时间序列样本之间的l2范数\n",
    "    print(average_l2_norm)  # 输出: (467,)\n",
    "\n",
    "l2norm(x_test_rbp)\n",
    "l2norm(x_test_new1)\n",
    "l2norm(x_test_zero)\n",
    "l2norm(x_test_noise)\n",
    "l2norm(x_test_blur)"
   ]
  },
  {
   "cell_type": "code",
   "execution_count": 47,
   "id": "b5d3f821",
   "metadata": {},
   "outputs": [],
   "source": [
    "def accuracy(predictions, labels):\n",
    "    hits = 0\n",
    "    for i in range(0,len(predictions)):\n",
    "        if predictions[i] == labels[i]:\n",
    "            hits += 1\n",
    "    return hits/len(predictions)"
   ]
  },
  {
   "cell_type": "code",
   "execution_count": 48,
   "id": "89f21d47",
   "metadata": {},
   "outputs": [],
   "source": [
    "original_accuracy = accuracy(np.argmax(predictions_original,axis=1), y_test_original)\n",
    "rbp_accuracy = accuracy(np.argmax(predictions_rbp,axis=1), y_test_original)\n",
    "new1_accuracy = accuracy(np.argmax(predictions_new1,axis=1), y_test_original)\n",
    "#new2_accuracy = accuracy(np.argmax(predictions_new2,axis=1), y_test_original)\n",
    "zero_accuracy = accuracy(np.argmax(predictions_zero,axis=1), y_test_original)\n",
    "noise_accuracy = accuracy(np.argmax(predictions_noise,axis=1), y_test_original)\n",
    "blur_accuracy = accuracy(np.argmax(predictions_blur,axis=1), y_test_original)"
   ]
  },
  {
   "cell_type": "code",
   "execution_count": 49,
   "id": "e52c9d2e",
   "metadata": {},
   "outputs": [
    {
     "name": "stdout",
     "output_type": "stream",
     "text": [
      " Original Accuracy: 0.7469135802469136\n",
      " RBP Accuracy: 0.6962962962962963\n",
      " RBP1 Accuracy: 0.5135802469135803\n",
      " Zero Accuracy: 0.6728395061728395\n",
      " Noise Accuracy: 0.49506172839506174\n",
      " Blur Accuracy: 0.7432098765432099\n",
      "\n"
     ]
    }
   ],
   "source": [
    "print(\" Original Accuracy: \" + str(original_accuracy) + \"\\n\"+\n",
    "    \" RBP Accuracy: \" + str(rbp_accuracy) + \"\\n\"+\n",
    "    \" RBP1 Accuracy: \" + str(new1_accuracy) + \"\\n\"+\n",
    "    #\" RBP2 Accuracy: \" + str(new2_accuracy) + \"\\n\"+\n",
    "      \n",
    "    \" Zero Accuracy: \" + str(zero_accuracy) + \"\\n\"+\n",
    "    \" Noise Accuracy: \" + str(noise_accuracy) + \"\\n\"+\n",
    "    \" Blur Accuracy: \" + str(blur_accuracy) + \"\\n\")"
   ]
  },
  {
   "cell_type": "code",
   "execution_count": null,
   "id": "16f40d52-f9f5-4ef3-907e-f1e289c12da1",
   "metadata": {},
   "outputs": [],
   "source": []
  }
 ],
 "metadata": {
  "kernelspec": {
   "display_name": "lime_tf",
   "language": "python",
   "name": "limetf"
  },
  "language_info": {
   "codemirror_mode": {
    "name": "ipython",
    "version": 3
   },
   "file_extension": ".py",
   "mimetype": "text/x-python",
   "name": "python",
   "nbconvert_exporter": "python",
   "pygments_lexer": "ipython3",
   "version": "3.10.13"
  }
 },
 "nbformat": 4,
 "nbformat_minor": 5
}
