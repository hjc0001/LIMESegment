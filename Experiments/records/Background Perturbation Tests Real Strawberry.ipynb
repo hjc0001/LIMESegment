{
 "cells": [
  {
   "cell_type": "code",
   "execution_count": 51,
   "id": "dd9bd814",
   "metadata": {},
   "outputs": [],
   "source": [
    "import numpy as np\n",
    "import matplotlib.pyplot as plt\n",
    "import inspect"
   ]
  },
  {
   "cell_type": "code",
   "execution_count": 52,
   "id": "2439de23",
   "metadata": {},
   "outputs": [
    {
     "name": "stdout",
     "output_type": "stream",
     "text": [
      "['/Users/gali/anaconda3/envs/LIMEtf/lib/python310.zip', '/Users/gali/anaconda3/envs/LIMEtf/lib/python3.10', '/Users/gali/anaconda3/envs/LIMEtf/lib/python3.10/lib-dynload', '', '/Users/gali/anaconda3/envs/LIMEtf/lib/python3.10/site-packages', '/Users/gali/anaconda3/envs/LIMEtf/lib/python3.10/site-packages/setuptools/_vendor', '../', '../', '../']\n"
     ]
    }
   ],
   "source": [
    "import importlib\n",
    "import sys\n",
    "sys.path.append('../')\n",
    "from Utils.perturbationsnew import RBPIndividual, RBPIndividualNew1, RBPIndividualNew1fast, RBPIndividualNew2, zeroPerturb, noisePerturb, blurPerturb,multisamplebackgroundIdentification\n",
    "from Utils.models import *\n",
    "from Utils.data import perturb, generateSynthetic, generateSyntheticPerturbReal,ReadTS\n",
    "\n",
    "print(sys.path)\n"
   ]
  },
  {
   "cell_type": "markdown",
   "id": "62b11ea0",
   "metadata": {},
   "source": [
    "## Test important content removal (accuracy decrease)"
   ]
  },
  {
   "cell_type": "markdown",
   "id": "5567ae62",
   "metadata": {},
   "source": [
    "### Load synthetic dataset and train CNN model "
   ]
  },
  {
   "cell_type": "code",
   "execution_count": 53,
   "id": "812c0d59",
   "metadata": {},
   "outputs": [
    {
     "name": "stdout",
     "output_type": "stream",
     "text": [
      "(613, 235, 1)\n"
     ]
    }
   ],
   "source": [
    "x_train, y_train,x_test_original, y_test_original = ReadTS('Strawberry')\n",
    "y_train = y_train - 1\n",
    "y_test_original = y_test_original - 1\n",
    "print(x_train.shape)\n",
    "#print(y_train)\n",
    "#print(x_train[1])"
   ]
  },
  {
   "cell_type": "code",
   "execution_count": 54,
   "id": "e74e1ca3-8fd2-4e4a-96a1-2ac583496cd7",
   "metadata": {
    "scrolled": true
   },
   "outputs": [],
   "source": [
    "from sklearn.preprocessing import StandardScaler\n",
    "def normalize(TS):\n",
    "    # 获取原始数据集的形状\n",
    "    original_shape = TS.shape\n",
    "    \n",
    "    # 将数据集reshape成二维数组\n",
    "    TS_2d = TS.reshape(original_shape[0] , original_shape[1])\n",
    "    \n",
    "    # 初始化StandardScaler\n",
    "    scaler = StandardScaler()\n",
    "    \n",
    "    # 对数据集进行标准化\n",
    "    TS_normalized = scaler.fit_transform(TS_2d)\n",
    "    \n",
    "    # 将标准化后的数据集reshape回原始形状\n",
    "    TS = TS_normalized.reshape(original_shape)\n",
    "    \n",
    "    return TS\n",
    "\n",
    "x_train = normalize(x_train)\n",
    "x_test_original = normalize(x_test_original)\n",
    "#print(x_train[1])"
   ]
  },
  {
   "cell_type": "code",
   "execution_count": 55,
   "id": "c9911722",
   "metadata": {
    "scrolled": true
   },
   "outputs": [
    {
     "name": "stdout",
     "output_type": "stream",
     "text": [
      "Epoch 1/100\n",
      "16/16 [==============================] - 1s 18ms/step - loss: 0.5417 - sparse_categorical_accuracy: 0.7102 - val_loss: 0.6609 - val_sparse_categorical_accuracy: 0.5528\n",
      "Epoch 2/100\n",
      "16/16 [==============================] - 0s 14ms/step - loss: 0.4896 - sparse_categorical_accuracy: 0.7531 - val_loss: 0.6487 - val_sparse_categorical_accuracy: 0.7967\n",
      "Epoch 3/100\n",
      "16/16 [==============================] - 0s 18ms/step - loss: 0.4629 - sparse_categorical_accuracy: 0.7490 - val_loss: 0.6384 - val_sparse_categorical_accuracy: 0.7480\n",
      "Epoch 4/100\n",
      "16/16 [==============================] - 0s 14ms/step - loss: 0.4555 - sparse_categorical_accuracy: 0.7673 - val_loss: 0.6732 - val_sparse_categorical_accuracy: 0.5285\n",
      "Epoch 5/100\n",
      "16/16 [==============================] - 0s 14ms/step - loss: 0.4505 - sparse_categorical_accuracy: 0.7694 - val_loss: 0.7035 - val_sparse_categorical_accuracy: 0.4472\n",
      "Epoch 6/100\n",
      "16/16 [==============================] - 0s 15ms/step - loss: 0.4709 - sparse_categorical_accuracy: 0.7633 - val_loss: 0.7187 - val_sparse_categorical_accuracy: 0.4472\n",
      "Epoch 7/100\n",
      "16/16 [==============================] - 0s 15ms/step - loss: 0.4549 - sparse_categorical_accuracy: 0.7694 - val_loss: 0.7311 - val_sparse_categorical_accuracy: 0.4472\n",
      "Epoch 8/100\n",
      "16/16 [==============================] - 0s 14ms/step - loss: 0.4268 - sparse_categorical_accuracy: 0.7918 - val_loss: 0.7331 - val_sparse_categorical_accuracy: 0.4472\n",
      "Epoch 9/100\n",
      "16/16 [==============================] - 0s 13ms/step - loss: 0.4359 - sparse_categorical_accuracy: 0.7714 - val_loss: 0.7919 - val_sparse_categorical_accuracy: 0.4472\n",
      "Epoch 10/100\n",
      "16/16 [==============================] - 0s 14ms/step - loss: 0.4448 - sparse_categorical_accuracy: 0.7612 - val_loss: 0.8388 - val_sparse_categorical_accuracy: 0.4472\n",
      "Epoch 11/100\n",
      "16/16 [==============================] - 0s 14ms/step - loss: 0.4404 - sparse_categorical_accuracy: 0.7755 - val_loss: 0.8405 - val_sparse_categorical_accuracy: 0.4472\n",
      "Epoch 12/100\n",
      "16/16 [==============================] - 0s 14ms/step - loss: 0.4244 - sparse_categorical_accuracy: 0.7837 - val_loss: 0.8275 - val_sparse_categorical_accuracy: 0.4472\n",
      "Epoch 13/100\n",
      "16/16 [==============================] - 0s 14ms/step - loss: 0.4305 - sparse_categorical_accuracy: 0.7898 - val_loss: 0.8643 - val_sparse_categorical_accuracy: 0.4472\n",
      "Epoch 14/100\n",
      "16/16 [==============================] - 0s 13ms/step - loss: 0.4107 - sparse_categorical_accuracy: 0.8000 - val_loss: 0.8803 - val_sparse_categorical_accuracy: 0.4472\n",
      "Epoch 15/100\n",
      "16/16 [==============================] - 0s 14ms/step - loss: 0.4275 - sparse_categorical_accuracy: 0.8000 - val_loss: 0.9593 - val_sparse_categorical_accuracy: 0.4472\n",
      "Epoch 16/100\n",
      "16/16 [==============================] - 0s 14ms/step - loss: 0.4176 - sparse_categorical_accuracy: 0.8020 - val_loss: 0.8698 - val_sparse_categorical_accuracy: 0.4472\n",
      "Epoch 17/100\n",
      "16/16 [==============================] - 0s 14ms/step - loss: 0.4172 - sparse_categorical_accuracy: 0.8122 - val_loss: 0.8982 - val_sparse_categorical_accuracy: 0.4390\n",
      "Epoch 18/100\n",
      "16/16 [==============================] - 0s 14ms/step - loss: 0.4374 - sparse_categorical_accuracy: 0.7735 - val_loss: 0.9511 - val_sparse_categorical_accuracy: 0.4472\n",
      "Epoch 19/100\n",
      "16/16 [==============================] - 0s 14ms/step - loss: 0.4046 - sparse_categorical_accuracy: 0.8163 - val_loss: 0.8677 - val_sparse_categorical_accuracy: 0.4797\n",
      "Epoch 20/100\n",
      "16/16 [==============================] - 0s 14ms/step - loss: 0.4037 - sparse_categorical_accuracy: 0.8163 - val_loss: 1.0114 - val_sparse_categorical_accuracy: 0.4472\n",
      "Epoch 21/100\n",
      "16/16 [==============================] - 0s 15ms/step - loss: 0.4157 - sparse_categorical_accuracy: 0.8020 - val_loss: 0.9667 - val_sparse_categorical_accuracy: 0.4472\n",
      "Epoch 22/100\n",
      "16/16 [==============================] - 0s 14ms/step - loss: 0.4012 - sparse_categorical_accuracy: 0.8245 - val_loss: 0.7289 - val_sparse_categorical_accuracy: 0.5691\n",
      "Epoch 23/100\n",
      "16/16 [==============================] - 0s 14ms/step - loss: 0.3938 - sparse_categorical_accuracy: 0.8020 - val_loss: 1.1035 - val_sparse_categorical_accuracy: 0.4472\n",
      "Epoch 24/100\n",
      "16/16 [==============================] - 0s 14ms/step - loss: 0.3839 - sparse_categorical_accuracy: 0.8245 - val_loss: 0.9684 - val_sparse_categorical_accuracy: 0.4797\n",
      "Epoch 25/100\n",
      "16/16 [==============================] - 0s 14ms/step - loss: 0.3806 - sparse_categorical_accuracy: 0.8429 - val_loss: 1.0724 - val_sparse_categorical_accuracy: 0.4472\n",
      "Epoch 26/100\n",
      "16/16 [==============================] - 0s 14ms/step - loss: 0.3686 - sparse_categorical_accuracy: 0.8551 - val_loss: 1.1700 - val_sparse_categorical_accuracy: 0.4472\n",
      "Epoch 27/100\n",
      "16/16 [==============================] - 0s 14ms/step - loss: 0.3865 - sparse_categorical_accuracy: 0.8143 - val_loss: 1.2180 - val_sparse_categorical_accuracy: 0.4472\n",
      "Epoch 28/100\n",
      "16/16 [==============================] - 0s 15ms/step - loss: 0.4010 - sparse_categorical_accuracy: 0.8204 - val_loss: 0.6466 - val_sparse_categorical_accuracy: 0.6504\n",
      "Epoch 29/100\n",
      "16/16 [==============================] - 0s 15ms/step - loss: 0.3788 - sparse_categorical_accuracy: 0.8429 - val_loss: 0.7151 - val_sparse_categorical_accuracy: 0.6179\n",
      "Epoch 30/100\n",
      "16/16 [==============================] - 0s 15ms/step - loss: 0.3805 - sparse_categorical_accuracy: 0.8327 - val_loss: 0.7914 - val_sparse_categorical_accuracy: 0.5691\n",
      "Epoch 31/100\n",
      "16/16 [==============================] - 0s 15ms/step - loss: 0.3811 - sparse_categorical_accuracy: 0.8082 - val_loss: 0.8757 - val_sparse_categorical_accuracy: 0.5203\n",
      "Epoch 32/100\n",
      "16/16 [==============================] - 0s 17ms/step - loss: 0.3899 - sparse_categorical_accuracy: 0.8367 - val_loss: 0.6474 - val_sparse_categorical_accuracy: 0.6504\n",
      "Epoch 33/100\n",
      "16/16 [==============================] - 0s 16ms/step - loss: 0.3912 - sparse_categorical_accuracy: 0.8224 - val_loss: 0.4596 - val_sparse_categorical_accuracy: 0.7642\n",
      "Epoch 34/100\n",
      "16/16 [==============================] - 0s 15ms/step - loss: 0.3746 - sparse_categorical_accuracy: 0.8265 - val_loss: 0.6925 - val_sparse_categorical_accuracy: 0.6260\n",
      "Epoch 35/100\n",
      "16/16 [==============================] - 0s 16ms/step - loss: 0.3841 - sparse_categorical_accuracy: 0.8347 - val_loss: 0.4476 - val_sparse_categorical_accuracy: 0.7805\n",
      "Epoch 36/100\n",
      "16/16 [==============================] - 0s 15ms/step - loss: 0.3520 - sparse_categorical_accuracy: 0.8510 - val_loss: 0.5084 - val_sparse_categorical_accuracy: 0.7236\n",
      "Epoch 37/100\n",
      "16/16 [==============================] - 0s 15ms/step - loss: 0.3672 - sparse_categorical_accuracy: 0.8408 - val_loss: 0.5688 - val_sparse_categorical_accuracy: 0.6829\n",
      "Epoch 38/100\n",
      "16/16 [==============================] - 0s 16ms/step - loss: 0.3622 - sparse_categorical_accuracy: 0.8449 - val_loss: 0.4073 - val_sparse_categorical_accuracy: 0.8537\n",
      "Epoch 39/100\n",
      "16/16 [==============================] - 0s 15ms/step - loss: 0.3474 - sparse_categorical_accuracy: 0.8571 - val_loss: 0.4740 - val_sparse_categorical_accuracy: 0.7724\n",
      "Epoch 40/100\n",
      "16/16 [==============================] - 0s 16ms/step - loss: 0.3702 - sparse_categorical_accuracy: 0.8408 - val_loss: 0.3632 - val_sparse_categorical_accuracy: 0.8455\n",
      "Epoch 41/100\n",
      "16/16 [==============================] - 0s 15ms/step - loss: 0.3570 - sparse_categorical_accuracy: 0.8449 - val_loss: 0.3787 - val_sparse_categorical_accuracy: 0.8699\n",
      "Epoch 42/100\n",
      "16/16 [==============================] - 0s 15ms/step - loss: 0.3393 - sparse_categorical_accuracy: 0.8694 - val_loss: 0.3931 - val_sparse_categorical_accuracy: 0.8862\n",
      "Epoch 43/100\n",
      "16/16 [==============================] - 0s 15ms/step - loss: 0.3360 - sparse_categorical_accuracy: 0.8510 - val_loss: 0.6214 - val_sparse_categorical_accuracy: 0.6098\n",
      "Epoch 44/100\n",
      "16/16 [==============================] - 0s 16ms/step - loss: 0.3324 - sparse_categorical_accuracy: 0.8510 - val_loss: 0.4607 - val_sparse_categorical_accuracy: 0.8293\n",
      "Epoch 45/100\n",
      "16/16 [==============================] - 0s 16ms/step - loss: 0.3394 - sparse_categorical_accuracy: 0.8694 - val_loss: 0.3727 - val_sparse_categorical_accuracy: 0.8780\n",
      "Epoch 46/100\n",
      "16/16 [==============================] - 0s 15ms/step - loss: 0.3589 - sparse_categorical_accuracy: 0.8449 - val_loss: 0.4848 - val_sparse_categorical_accuracy: 0.8211\n",
      "Epoch 47/100\n",
      "16/16 [==============================] - 0s 15ms/step - loss: 0.3353 - sparse_categorical_accuracy: 0.8673 - val_loss: 0.4077 - val_sparse_categorical_accuracy: 0.8537\n",
      "Epoch 48/100\n",
      "16/16 [==============================] - 0s 15ms/step - loss: 0.3064 - sparse_categorical_accuracy: 0.8837 - val_loss: 0.3966 - val_sparse_categorical_accuracy: 0.7886\n",
      "Epoch 49/100\n",
      "16/16 [==============================] - 0s 17ms/step - loss: 0.3526 - sparse_categorical_accuracy: 0.8551 - val_loss: 0.3390 - val_sparse_categorical_accuracy: 0.8455\n",
      "Epoch 50/100\n",
      "16/16 [==============================] - 0s 16ms/step - loss: 0.3114 - sparse_categorical_accuracy: 0.8612 - val_loss: 0.4071 - val_sparse_categorical_accuracy: 0.8211\n",
      "Epoch 51/100\n",
      "16/16 [==============================] - 0s 15ms/step - loss: 0.3219 - sparse_categorical_accuracy: 0.8714 - val_loss: 0.3979 - val_sparse_categorical_accuracy: 0.8130\n",
      "Epoch 52/100\n",
      "16/16 [==============================] - 0s 16ms/step - loss: 0.2995 - sparse_categorical_accuracy: 0.8776 - val_loss: 0.7020 - val_sparse_categorical_accuracy: 0.6667\n",
      "Epoch 53/100\n",
      "16/16 [==============================] - 0s 16ms/step - loss: 0.3055 - sparse_categorical_accuracy: 0.8878 - val_loss: 0.4054 - val_sparse_categorical_accuracy: 0.7886\n",
      "Epoch 54/100\n",
      "16/16 [==============================] - 0s 16ms/step - loss: 0.2934 - sparse_categorical_accuracy: 0.8857 - val_loss: 0.3527 - val_sparse_categorical_accuracy: 0.8374\n",
      "Epoch 55/100\n",
      "16/16 [==============================] - 0s 16ms/step - loss: 0.2730 - sparse_categorical_accuracy: 0.9041 - val_loss: 0.8475 - val_sparse_categorical_accuracy: 0.6423\n",
      "Epoch 56/100\n",
      "16/16 [==============================] - 0s 16ms/step - loss: 0.3360 - sparse_categorical_accuracy: 0.8551 - val_loss: 0.5209 - val_sparse_categorical_accuracy: 0.8130\n",
      "Epoch 57/100\n",
      "16/16 [==============================] - 0s 16ms/step - loss: 0.3604 - sparse_categorical_accuracy: 0.8184 - val_loss: 0.3439 - val_sparse_categorical_accuracy: 0.8374\n",
      "Epoch 58/100\n",
      "16/16 [==============================] - 0s 16ms/step - loss: 0.3464 - sparse_categorical_accuracy: 0.8429 - val_loss: 0.4270 - val_sparse_categorical_accuracy: 0.7886\n",
      "Epoch 59/100\n",
      "16/16 [==============================] - 0s 16ms/step - loss: 0.3364 - sparse_categorical_accuracy: 0.8612 - val_loss: 0.4098 - val_sparse_categorical_accuracy: 0.8374\n",
      "Epoch 60/100\n",
      "16/16 [==============================] - 0s 16ms/step - loss: 0.3158 - sparse_categorical_accuracy: 0.8714 - val_loss: 0.5552 - val_sparse_categorical_accuracy: 0.6911\n",
      "Epoch 61/100\n",
      "16/16 [==============================] - 0s 16ms/step - loss: 0.2883 - sparse_categorical_accuracy: 0.8918 - val_loss: 0.4594 - val_sparse_categorical_accuracy: 0.7642\n",
      "Epoch 62/100\n",
      "16/16 [==============================] - 0s 16ms/step - loss: 0.2908 - sparse_categorical_accuracy: 0.8673 - val_loss: 0.6198 - val_sparse_categorical_accuracy: 0.6585\n",
      "Epoch 63/100\n",
      "16/16 [==============================] - 0s 16ms/step - loss: 0.2746 - sparse_categorical_accuracy: 0.9000 - val_loss: 0.4165 - val_sparse_categorical_accuracy: 0.8130\n",
      "Epoch 64/100\n",
      "16/16 [==============================] - 0s 16ms/step - loss: 0.2978 - sparse_categorical_accuracy: 0.8918 - val_loss: 0.5093 - val_sparse_categorical_accuracy: 0.8130\n",
      "Epoch 65/100\n",
      "16/16 [==============================] - 0s 16ms/step - loss: 0.3272 - sparse_categorical_accuracy: 0.8490 - val_loss: 0.7885 - val_sparse_categorical_accuracy: 0.6667\n",
      "Epoch 66/100\n",
      "16/16 [==============================] - 0s 18ms/step - loss: 0.2883 - sparse_categorical_accuracy: 0.8898 - val_loss: 1.1083 - val_sparse_categorical_accuracy: 0.6341\n",
      "Epoch 67/100\n",
      "16/16 [==============================] - 0s 17ms/step - loss: 0.2721 - sparse_categorical_accuracy: 0.9041 - val_loss: 1.6799 - val_sparse_categorical_accuracy: 0.5691\n",
      "Epoch 68/100\n",
      "16/16 [==============================] - 0s 17ms/step - loss: 0.2762 - sparse_categorical_accuracy: 0.8898 - val_loss: 2.8805 - val_sparse_categorical_accuracy: 0.4634\n",
      "Epoch 69/100\n",
      "16/16 [==============================] - 0s 17ms/step - loss: 0.2397 - sparse_categorical_accuracy: 0.9163 - val_loss: 2.1726 - val_sparse_categorical_accuracy: 0.5854\n",
      "Epoch 70/100\n",
      "16/16 [==============================] - 0s 18ms/step - loss: 0.2474 - sparse_categorical_accuracy: 0.9082 - val_loss: 2.5609 - val_sparse_categorical_accuracy: 0.5285\n",
      "Epoch 71/100\n",
      "16/16 [==============================] - 0s 17ms/step - loss: 0.2616 - sparse_categorical_accuracy: 0.9082 - val_loss: 3.2846 - val_sparse_categorical_accuracy: 0.4553\n",
      "Epoch 72/100\n",
      "16/16 [==============================] - 0s 17ms/step - loss: 0.2796 - sparse_categorical_accuracy: 0.8735 - val_loss: 2.4929 - val_sparse_categorical_accuracy: 0.5772\n",
      "Epoch 73/100\n",
      "16/16 [==============================] - 0s 16ms/step - loss: 0.2647 - sparse_categorical_accuracy: 0.8796 - val_loss: 3.3111 - val_sparse_categorical_accuracy: 0.5041\n",
      "Epoch 74/100\n",
      "16/16 [==============================] - 0s 16ms/step - loss: 0.2584 - sparse_categorical_accuracy: 0.9061 - val_loss: 4.1945 - val_sparse_categorical_accuracy: 0.5203\n",
      "Epoch 75/100\n",
      "16/16 [==============================] - 0s 17ms/step - loss: 0.2578 - sparse_categorical_accuracy: 0.9000 - val_loss: 5.6682 - val_sparse_categorical_accuracy: 0.4472\n",
      "Epoch 76/100\n",
      "16/16 [==============================] - 0s 17ms/step - loss: 0.3179 - sparse_categorical_accuracy: 0.8592 - val_loss: 1.7344 - val_sparse_categorical_accuracy: 0.6260\n",
      "Epoch 77/100\n",
      "16/16 [==============================] - 0s 17ms/step - loss: 0.2624 - sparse_categorical_accuracy: 0.9122 - val_loss: 2.2000 - val_sparse_categorical_accuracy: 0.5854\n",
      "Epoch 78/100\n",
      "16/16 [==============================] - 0s 17ms/step - loss: 0.2788 - sparse_categorical_accuracy: 0.8837 - val_loss: 2.4672 - val_sparse_categorical_accuracy: 0.4553\n",
      "Epoch 79/100\n",
      "16/16 [==============================] - 0s 18ms/step - loss: 0.2575 - sparse_categorical_accuracy: 0.8939 - val_loss: 2.3623 - val_sparse_categorical_accuracy: 0.4553\n",
      "Epoch 80/100\n",
      "16/16 [==============================] - 0s 17ms/step - loss: 0.2497 - sparse_categorical_accuracy: 0.8980 - val_loss: 1.6614 - val_sparse_categorical_accuracy: 0.5285\n",
      "Epoch 81/100\n",
      "16/16 [==============================] - 0s 17ms/step - loss: 0.2645 - sparse_categorical_accuracy: 0.8857 - val_loss: 1.5055 - val_sparse_categorical_accuracy: 0.6098\n",
      "Epoch 82/100\n",
      "16/16 [==============================] - 0s 17ms/step - loss: 0.2374 - sparse_categorical_accuracy: 0.9061 - val_loss: 1.8456 - val_sparse_categorical_accuracy: 0.5285\n",
      "Epoch 83/100\n",
      "16/16 [==============================] - 0s 18ms/step - loss: 0.2523 - sparse_categorical_accuracy: 0.8939 - val_loss: 0.5867 - val_sparse_categorical_accuracy: 0.8293\n",
      "Epoch 84/100\n",
      "16/16 [==============================] - 0s 17ms/step - loss: 0.2580 - sparse_categorical_accuracy: 0.9020 - val_loss: 0.7839 - val_sparse_categorical_accuracy: 0.7480\n",
      "Epoch 85/100\n",
      "16/16 [==============================] - 0s 16ms/step - loss: 0.2662 - sparse_categorical_accuracy: 0.8857 - val_loss: 0.4034 - val_sparse_categorical_accuracy: 0.8293\n",
      "Epoch 86/100\n",
      "16/16 [==============================] - 0s 17ms/step - loss: 0.2185 - sparse_categorical_accuracy: 0.9245 - val_loss: 0.2959 - val_sparse_categorical_accuracy: 0.8862\n",
      "Epoch 87/100\n",
      "16/16 [==============================] - 0s 16ms/step - loss: 0.2195 - sparse_categorical_accuracy: 0.9224 - val_loss: 0.4826 - val_sparse_categorical_accuracy: 0.7561\n",
      "Epoch 88/100\n",
      "16/16 [==============================] - 0s 16ms/step - loss: 0.2053 - sparse_categorical_accuracy: 0.9245 - val_loss: 0.3177 - val_sparse_categorical_accuracy: 0.8699\n",
      "Epoch 89/100\n",
      "16/16 [==============================] - 0s 16ms/step - loss: 0.2189 - sparse_categorical_accuracy: 0.9265 - val_loss: 0.6950 - val_sparse_categorical_accuracy: 0.7317\n",
      "Epoch 90/100\n",
      "16/16 [==============================] - 0s 15ms/step - loss: 0.2117 - sparse_categorical_accuracy: 0.9204 - val_loss: 1.3479 - val_sparse_categorical_accuracy: 0.7317\n",
      "Epoch 91/100\n",
      "16/16 [==============================] - 0s 15ms/step - loss: 0.2511 - sparse_categorical_accuracy: 0.9000 - val_loss: 1.1694 - val_sparse_categorical_accuracy: 0.7236\n",
      "Epoch 92/100\n",
      "16/16 [==============================] - 0s 16ms/step - loss: 0.2326 - sparse_categorical_accuracy: 0.9163 - val_loss: 0.6086 - val_sparse_categorical_accuracy: 0.7480\n",
      "Epoch 93/100\n",
      "16/16 [==============================] - 0s 15ms/step - loss: 0.2271 - sparse_categorical_accuracy: 0.9102 - val_loss: 0.5800 - val_sparse_categorical_accuracy: 0.8455\n",
      "Epoch 94/100\n",
      "16/16 [==============================] - 0s 16ms/step - loss: 0.2467 - sparse_categorical_accuracy: 0.9020 - val_loss: 0.3641 - val_sparse_categorical_accuracy: 0.8293\n",
      "Epoch 95/100\n",
      "16/16 [==============================] - 0s 15ms/step - loss: 0.2100 - sparse_categorical_accuracy: 0.9163 - val_loss: 0.4607 - val_sparse_categorical_accuracy: 0.7805\n",
      "Epoch 96/100\n",
      "16/16 [==============================] - 0s 15ms/step - loss: 0.1956 - sparse_categorical_accuracy: 0.9286 - val_loss: 0.3519 - val_sparse_categorical_accuracy: 0.8130\n",
      "Epoch 97/100\n",
      "16/16 [==============================] - 0s 15ms/step - loss: 0.1959 - sparse_categorical_accuracy: 0.9265 - val_loss: 0.2982 - val_sparse_categorical_accuracy: 0.8618\n",
      "Epoch 98/100\n",
      "16/16 [==============================] - 0s 15ms/step - loss: 0.1739 - sparse_categorical_accuracy: 0.9531 - val_loss: 0.5126 - val_sparse_categorical_accuracy: 0.7642\n",
      "Epoch 99/100\n",
      "16/16 [==============================] - 0s 15ms/step - loss: 0.1893 - sparse_categorical_accuracy: 0.9286 - val_loss: 0.3279 - val_sparse_categorical_accuracy: 0.8455\n",
      "Epoch 100/100\n",
      "16/16 [==============================] - 0s 15ms/step - loss: 0.1849 - sparse_categorical_accuracy: 0.9286 - val_loss: 0.3306 - val_sparse_categorical_accuracy: 0.8130\n"
     ]
    }
   ],
   "source": [
    "model = make_CNN_model(x_train.shape[1:],num_classes = 2)\n",
    "trained_model, history = train_CNN_model(model, x_train, y_train, epochs=100, batch_size=32)"
   ]
  },
  {
   "cell_type": "code",
   "execution_count": 56,
   "id": "227e6120",
   "metadata": {},
   "outputs": [
    {
     "name": "stdout",
     "output_type": "stream",
     "text": [
      "12/12 [==============================] - 0s 4ms/step - loss: 0.3515 - sparse_categorical_accuracy: 0.8216\n",
      "Test accuracy 0.8216215968132019\n",
      "Test loss 0.3515300154685974\n"
     ]
    }
   ],
   "source": [
    "test_loss, test_acc = trained_model.evaluate(x_test_original, y_test_original)\n",
    "\n",
    "print(\"Test accuracy\", test_acc)\n",
    "print(\"Test loss\", test_loss)"
   ]
  },
  {
   "cell_type": "markdown",
   "id": "4773dace",
   "metadata": {},
   "source": [
    "### Create perturbed test sets and calculate decrease in accuracy"
   ]
  },
  {
   "cell_type": "code",
   "execution_count": 57,
   "id": "b854bfe4-2303-44a0-bef5-eb3c738da9e9",
   "metadata": {},
   "outputs": [
    {
     "name": "stdout",
     "output_type": "stream",
     "text": [
      "(370,)\n"
     ]
    }
   ],
   "source": [
    "print(y_test_original.shape)"
   ]
  },
  {
   "cell_type": "code",
   "execution_count": 58,
   "id": "ffd7c678-03f4-47ae-a1f9-45e0c185580e",
   "metadata": {},
   "outputs": [
    {
     "name": "stdout",
     "output_type": "stream",
     "text": [
      "def perturb(perturbation_strategy, ts, index0, index1, global_ts = [],bg = []):\n",
      "    if perturbation_strategy == 'RBP':\n",
      "        return RBPIndividual(ts, index0, index1)\n",
      "    if perturbation_strategy == 'zero':\n",
      "        return zeroPerturb(ts, index0, index1)\n",
      "    if perturbation_strategy == 'noise':\n",
      "        return noisePerturb(ts, index0, index1)\n",
      "    if perturbation_strategy == 'blur':\n",
      "        return blurPerturb(ts, index0, index1)\n",
      "    if perturbation_strategy == 'RBP1':\n",
      "        return RBPIndividualNew1(global_ts, ts, index0, index1) \n",
      "    if perturbation_strategy == 'RBP1fast':\n",
      "        return RBPIndividualNew1fast(bg, ts, index0, index1)  \n",
      "    if perturbation_strategy == 'RBP2':\n",
      "        return RBPIndividualNew2(global_ts, ts, index0, index1)    \n",
      "\n",
      "(perturbation_strategy, ts, index0, index1, global_ts=[], bg=[])\n"
     ]
    }
   ],
   "source": [
    "print(inspect.getsource(perturb))\n",
    "print(inspect.signature(perturb))"
   ]
  },
  {
   "cell_type": "code",
   "execution_count": 89,
   "id": "4c579fb7",
   "metadata": {},
   "outputs": [
    {
     "name": "stdout",
     "output_type": "stream",
     "text": [
      "12/12 [==============================] - 0s 4ms/step\n",
      "12/12 [==============================] - 0s 3ms/step\n",
      "12/12 [==============================] - 0s 3ms/step\n",
      "12/12 [==============================] - 0s 3ms/step\n",
      "12/12 [==============================] - 0s 3ms/step\n",
      "12/12 [==============================] - 0s 3ms/step\n"
     ]
    }
   ],
   "source": [
    "predictions_original = model.predict(x_test_original)\n",
    "perturb_test_set = x_test_original.copy()\n",
    "perturb_test_set = perturb_test_set.reshape(x_test_original.shape[0:2])\n",
    "index_0 = 0\n",
    "index_1 = 60\n",
    "x_test_rbp = np.asarray([perturb('RBP',x,index_0,index_1) for x in perturb_test_set])\n",
    "x_test_rbp = np.expand_dims(x_test_rbp, axis=-1)\n",
    "predictions_rbp = model.predict(x_test_rbp)\n",
    "\n",
    "bg = multisamplebackgroundIdentification(perturb_test_set)\n",
    "x_test_new1 = np.asarray([perturb('RBP1fast',x,index_0,index_1, bg = bg) for x in perturb_test_set])\n",
    "x_test_new1 = np.expand_dims(x_test_new1, axis=-1)\n",
    "predictions_new1 = model.predict(x_test_new1)\n",
    "\n",
    "#x_test_new2 = np.asarray([perturb('RBP2',x,400,500, global_ts = perturb_test_set) for x in perturb_test_set])\n",
    "#x_test_new2 = np.expand_dims(x_test_new2, axis=-1)\n",
    "#predictions_new2 = model.predict(x_test_new2)\n",
    "\n",
    "x_test_zero = np.asarray([perturb('zero',x,index_0,index_1) for x in perturb_test_set])\n",
    "x_test_zero = np.expand_dims(x_test_zero, axis=-1)\n",
    "predictions_zero = model.predict(x_test_zero)\n",
    "\n",
    "x_test_noise = np.asarray([perturb('noise',x,index_0,index_1) for x in perturb_test_set])\n",
    "x_test_noise = np.expand_dims(x_test_noise, axis=-1)\n",
    "predictions_noise = model.predict(x_test_noise)\n",
    "\n",
    "x_test_blur = np.asarray([perturb('blur',x,index_0,index_1) for x in perturb_test_set])\n",
    "x_test_blur = np.expand_dims(x_test_blur, axis=-1)\n",
    "predictions_blur = model.predict(x_test_blur)"
   ]
  },
  {
   "cell_type": "code",
   "execution_count": 90,
   "id": "069af343-0cfa-4787-b5d4-170f885bb59d",
   "metadata": {},
   "outputs": [
    {
     "name": "stdout",
     "output_type": "stream",
     "text": [
      "4.663350176119514\n",
      "6.740144504371028\n",
      "6.4335222157483285\n",
      "10.499258687928195\n",
      "0.4564509429210253\n"
     ]
    }
   ],
   "source": [
    "def l2norm(perturb):\n",
    "    # 计算两个数组之间的差\n",
    "    difference = perturb - x_test_original\n",
    "    \n",
    "    # 计算差的平方\n",
    "    squared_difference = np.square(difference)\n",
    "    \n",
    "    # 计算平方和，沿着特征维度（axis=1），因为每个时间序列样本是一行\n",
    "    sum_of_squares = np.sum(squared_difference, axis=1)\n",
    "    \n",
    "    # 计算平方和的平方根，即l2范数\n",
    "    l2_norms = np.sqrt(sum_of_squares)\n",
    "    \n",
    "    average_l2_norm = np.mean(l2_norms)\n",
    "    \n",
    "    # l2_norms现在是一个形状为(467,)的数组，其中每个元素代表\n",
    "    # 对应时间序列样本之间的l2范数\n",
    "    print(average_l2_norm)  # 输出: (467,)\n",
    "\n",
    "l2norm(x_test_rbp)\n",
    "l2norm(x_test_new1)\n",
    "l2norm(x_test_zero)\n",
    "l2norm(x_test_noise)\n",
    "l2norm(x_test_blur)"
   ]
  },
  {
   "cell_type": "code",
   "execution_count": 91,
   "id": "b5d3f821",
   "metadata": {},
   "outputs": [],
   "source": [
    "def accuracy(predictions, labels):\n",
    "    hits = 0\n",
    "    for i in range(0,len(predictions)):\n",
    "        if predictions[i] == labels[i]:\n",
    "            hits += 1\n",
    "    return hits/len(predictions)"
   ]
  },
  {
   "cell_type": "code",
   "execution_count": 92,
   "id": "89f21d47",
   "metadata": {},
   "outputs": [],
   "source": [
    "original_accuracy = accuracy(np.argmax(predictions_original,axis=1), y_test_original)\n",
    "rbp_accuracy = accuracy(np.argmax(predictions_rbp,axis=1), y_test_original)\n",
    "new1_accuracy = accuracy(np.argmax(predictions_new1,axis=1), y_test_original)\n",
    "#new2_accuracy = accuracy(np.argmax(predictions_new2,axis=1), y_test_original)\n",
    "zero_accuracy = accuracy(np.argmax(predictions_zero,axis=1), y_test_original)\n",
    "noise_accuracy = accuracy(np.argmax(predictions_noise,axis=1), y_test_original)\n",
    "blur_accuracy = accuracy(np.argmax(predictions_blur,axis=1), y_test_original)"
   ]
  },
  {
   "cell_type": "code",
   "execution_count": 93,
   "id": "e52c9d2e",
   "metadata": {},
   "outputs": [
    {
     "name": "stdout",
     "output_type": "stream",
     "text": [
      " Original Accuracy: 0.8216216216216217\n",
      " RBP Accuracy: 0.7783783783783784\n",
      " RBP1 Accuracy: 0.6837837837837838\n",
      " Zero Accuracy: 0.7621621621621621\n",
      " Noise Accuracy: 0.6648648648648648\n",
      " Blur Accuracy: 0.8081081081081081\n",
      "\n"
     ]
    }
   ],
   "source": [
    "print(\" Original Accuracy: \" + str(original_accuracy) + \"\\n\"+\n",
    "    \" RBP Accuracy: \" + str(rbp_accuracy) + \"\\n\"+\n",
    "    \" RBP1 Accuracy: \" + str(new1_accuracy) + \"\\n\"+\n",
    "    #\" RBP2 Accuracy: \" + str(new2_accuracy) + \"\\n\"+\n",
    "      \n",
    "    \" Zero Accuracy: \" + str(zero_accuracy) + \"\\n\"+\n",
    "    \" Noise Accuracy: \" + str(noise_accuracy) + \"\\n\"+\n",
    "    \" Blur Accuracy: \" + str(blur_accuracy) + \"\\n\")"
   ]
  },
  {
   "cell_type": "code",
   "execution_count": null,
   "id": "2deed5ed-631a-4052-80de-e9d94068cf8d",
   "metadata": {},
   "outputs": [],
   "source": []
  }
 ],
 "metadata": {
  "kernelspec": {
   "display_name": "lime_tf",
   "language": "python",
   "name": "limetf"
  },
  "language_info": {
   "codemirror_mode": {
    "name": "ipython",
    "version": 3
   },
   "file_extension": ".py",
   "mimetype": "text/x-python",
   "name": "python",
   "nbconvert_exporter": "python",
   "pygments_lexer": "ipython3",
   "version": "3.10.13"
  }
 },
 "nbformat": 4,
 "nbformat_minor": 5
}
