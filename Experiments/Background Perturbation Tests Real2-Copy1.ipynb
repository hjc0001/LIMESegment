{
 "cells": [
  {
   "cell_type": "code",
   "execution_count": 1,
   "id": "dd9bd814",
   "metadata": {},
   "outputs": [],
   "source": [
    "import numpy as np\n",
    "import matplotlib.pyplot as plt\n",
    "import inspect"
   ]
  },
  {
   "cell_type": "code",
   "execution_count": 2,
   "id": "2439de23",
   "metadata": {},
   "outputs": [
    {
     "name": "stdout",
     "output_type": "stream",
     "text": [
      "['/Users/gali/anaconda3/envs/LIMEtf/lib/python310.zip', '/Users/gali/anaconda3/envs/LIMEtf/lib/python3.10', '/Users/gali/anaconda3/envs/LIMEtf/lib/python3.10/lib-dynload', '', '/Users/gali/anaconda3/envs/LIMEtf/lib/python3.10/site-packages', '/Users/gali/anaconda3/envs/LIMEtf/lib/python3.10/site-packages/setuptools/_vendor', '../', '../']\n"
     ]
    }
   ],
   "source": [
    "import importlib\n",
    "import sys\n",
    "sys.path.append('../')\n",
    "from Utils.perturbationsnew import RBPIndividual, RBPIndividualNew1, RBPIndividualNew2, zeroPerturb, noisePerturb, blurPerturb\n",
    "from Utils.models import *\n",
    "from Utils.data import perturb, generateSynthetic, generateSyntheticPerturbReal,ReadTS\n",
    "\n",
    "print(sys.path)\n"
   ]
  },
  {
   "cell_type": "markdown",
   "id": "62b11ea0",
   "metadata": {},
   "source": [
    "## Test important content removal (accuracy decrease)"
   ]
  },
  {
   "cell_type": "markdown",
   "id": "5567ae62",
   "metadata": {},
   "source": [
    "### Load synthetic dataset and train CNN model "
   ]
  },
  {
   "cell_type": "code",
   "execution_count": 3,
   "id": "812c0d59",
   "metadata": {},
   "outputs": [
    {
     "name": "stdout",
     "output_type": "stream",
     "text": [
      "(3840, 166, 1)\n",
      "[1. 1. 0. ... 2. 2. 2.]\n"
     ]
    }
   ],
   "source": [
    "x_test_original, y_test_original,x_train, y_train = ReadTS('ChlorineConcentration')\n",
    "y_train = y_train - 1\n",
    "y_test_original = y_test_original - 1\n",
    "print(x_train.shape)\n",
    "print(y_train)"
   ]
  },
  {
   "cell_type": "code",
   "execution_count": 4,
   "id": "c9911722",
   "metadata": {},
   "outputs": [
    {
     "name": "stdout",
     "output_type": "stream",
     "text": [
      "Epoch 1/100\n"
     ]
    },
    {
     "name": "stderr",
     "output_type": "stream",
     "text": [
      "2024-11-13 20:49:36.771916: W tensorflow/tsl/platform/profile_utils/cpu_utils.cc:128] Failed to get CPU frequency: 0 Hz\n"
     ]
    },
    {
     "name": "stdout",
     "output_type": "stream",
     "text": [
      "96/96 [==============================] - 1s 8ms/step - loss: 1.0072 - sparse_categorical_accuracy: 0.5303 - val_loss: 1.0960 - val_sparse_categorical_accuracy: 0.2526\n",
      "Epoch 2/100\n",
      "96/96 [==============================] - 1s 8ms/step - loss: 0.9754 - sparse_categorical_accuracy: 0.5612 - val_loss: 1.2953 - val_sparse_categorical_accuracy: 0.2526\n",
      "Epoch 3/100\n",
      "96/96 [==============================] - 1s 8ms/step - loss: 0.9681 - sparse_categorical_accuracy: 0.5651 - val_loss: 1.0721 - val_sparse_categorical_accuracy: 0.4492\n",
      "Epoch 4/100\n",
      "96/96 [==============================] - 1s 8ms/step - loss: 0.9619 - sparse_categorical_accuracy: 0.5638 - val_loss: 0.9972 - val_sparse_categorical_accuracy: 0.5547\n",
      "Epoch 5/100\n",
      "96/96 [==============================] - 1s 9ms/step - loss: 0.9558 - sparse_categorical_accuracy: 0.5638 - val_loss: 0.9873 - val_sparse_categorical_accuracy: 0.5638\n",
      "Epoch 6/100\n",
      "96/96 [==============================] - 1s 9ms/step - loss: 0.9555 - sparse_categorical_accuracy: 0.5664 - val_loss: 0.9597 - val_sparse_categorical_accuracy: 0.5924\n",
      "Epoch 7/100\n",
      "96/96 [==============================] - 1s 9ms/step - loss: 0.9513 - sparse_categorical_accuracy: 0.5697 - val_loss: 0.9566 - val_sparse_categorical_accuracy: 0.5820\n",
      "Epoch 8/100\n",
      "96/96 [==============================] - 1s 9ms/step - loss: 0.9493 - sparse_categorical_accuracy: 0.5674 - val_loss: 1.0832 - val_sparse_categorical_accuracy: 0.3320\n",
      "Epoch 9/100\n",
      "96/96 [==============================] - 1s 9ms/step - loss: 0.9487 - sparse_categorical_accuracy: 0.5690 - val_loss: 1.0338 - val_sparse_categorical_accuracy: 0.5729\n",
      "Epoch 10/100\n",
      "96/96 [==============================] - 1s 9ms/step - loss: 0.9409 - sparse_categorical_accuracy: 0.5693 - val_loss: 0.9360 - val_sparse_categorical_accuracy: 0.5781\n",
      "Epoch 11/100\n",
      "96/96 [==============================] - 1s 10ms/step - loss: 0.9355 - sparse_categorical_accuracy: 0.5752 - val_loss: 1.2677 - val_sparse_categorical_accuracy: 0.3216\n",
      "Epoch 12/100\n",
      "96/96 [==============================] - 1s 10ms/step - loss: 0.9360 - sparse_categorical_accuracy: 0.5667 - val_loss: 0.9356 - val_sparse_categorical_accuracy: 0.5781\n",
      "Epoch 13/100\n",
      "96/96 [==============================] - 1s 10ms/step - loss: 0.9382 - sparse_categorical_accuracy: 0.5723 - val_loss: 0.9464 - val_sparse_categorical_accuracy: 0.5833\n",
      "Epoch 14/100\n",
      "96/96 [==============================] - 1s 10ms/step - loss: 0.9270 - sparse_categorical_accuracy: 0.5736 - val_loss: 1.1760 - val_sparse_categorical_accuracy: 0.3008\n",
      "Epoch 15/100\n",
      "96/96 [==============================] - 1s 10ms/step - loss: 0.9267 - sparse_categorical_accuracy: 0.5736 - val_loss: 0.9266 - val_sparse_categorical_accuracy: 0.5794\n",
      "Epoch 16/100\n",
      "96/96 [==============================] - 1s 10ms/step - loss: 0.9186 - sparse_categorical_accuracy: 0.5765 - val_loss: 0.9118 - val_sparse_categorical_accuracy: 0.5820\n",
      "Epoch 17/100\n",
      "96/96 [==============================] - 1s 11ms/step - loss: 0.9160 - sparse_categorical_accuracy: 0.5801 - val_loss: 0.9693 - val_sparse_categorical_accuracy: 0.5365\n",
      "Epoch 18/100\n",
      "96/96 [==============================] - 1s 11ms/step - loss: 0.9118 - sparse_categorical_accuracy: 0.5781 - val_loss: 0.9586 - val_sparse_categorical_accuracy: 0.5781\n",
      "Epoch 19/100\n",
      "96/96 [==============================] - 1s 11ms/step - loss: 0.9024 - sparse_categorical_accuracy: 0.5837 - val_loss: 1.7786 - val_sparse_categorical_accuracy: 0.2630\n",
      "Epoch 20/100\n",
      "96/96 [==============================] - 1s 11ms/step - loss: 0.8979 - sparse_categorical_accuracy: 0.5830 - val_loss: 1.0536 - val_sparse_categorical_accuracy: 0.5781\n",
      "Epoch 21/100\n",
      "96/96 [==============================] - 1s 10ms/step - loss: 0.8924 - sparse_categorical_accuracy: 0.5830 - val_loss: 1.0662 - val_sparse_categorical_accuracy: 0.5768\n",
      "Epoch 22/100\n",
      "96/96 [==============================] - 1s 9ms/step - loss: 0.8933 - sparse_categorical_accuracy: 0.5859 - val_loss: 1.4899 - val_sparse_categorical_accuracy: 0.2552\n",
      "Epoch 23/100\n",
      "96/96 [==============================] - 1s 9ms/step - loss: 0.8929 - sparse_categorical_accuracy: 0.5882 - val_loss: 0.8788 - val_sparse_categorical_accuracy: 0.5872\n",
      "Epoch 24/100\n",
      "96/96 [==============================] - 1s 9ms/step - loss: 0.8845 - sparse_categorical_accuracy: 0.5895 - val_loss: 1.5984 - val_sparse_categorical_accuracy: 0.3164\n",
      "Epoch 25/100\n",
      "96/96 [==============================] - 1s 10ms/step - loss: 0.8797 - sparse_categorical_accuracy: 0.5889 - val_loss: 1.1126 - val_sparse_categorical_accuracy: 0.5755\n",
      "Epoch 26/100\n",
      "96/96 [==============================] - 1s 10ms/step - loss: 0.8690 - sparse_categorical_accuracy: 0.5934 - val_loss: 1.3066 - val_sparse_categorical_accuracy: 0.5807\n",
      "Epoch 27/100\n",
      "96/96 [==============================] - 1s 10ms/step - loss: 0.8768 - sparse_categorical_accuracy: 0.5889 - val_loss: 1.3788 - val_sparse_categorical_accuracy: 0.2526\n",
      "Epoch 28/100\n",
      "96/96 [==============================] - 1s 10ms/step - loss: 0.8613 - sparse_categorical_accuracy: 0.5980 - val_loss: 1.0408 - val_sparse_categorical_accuracy: 0.5000\n",
      "Epoch 29/100\n",
      "96/96 [==============================] - 1s 10ms/step - loss: 0.8444 - sparse_categorical_accuracy: 0.6143 - val_loss: 0.8945 - val_sparse_categorical_accuracy: 0.6302\n",
      "Epoch 30/100\n",
      "96/96 [==============================] - 1s 10ms/step - loss: 0.8450 - sparse_categorical_accuracy: 0.6074 - val_loss: 1.2065 - val_sparse_categorical_accuracy: 0.5768\n",
      "Epoch 31/100\n",
      "96/96 [==============================] - 1s 11ms/step - loss: 0.8389 - sparse_categorical_accuracy: 0.6120 - val_loss: 1.0278 - val_sparse_categorical_accuracy: 0.5430\n",
      "Epoch 32/100\n",
      "96/96 [==============================] - 1s 10ms/step - loss: 0.8370 - sparse_categorical_accuracy: 0.6048 - val_loss: 1.0721 - val_sparse_categorical_accuracy: 0.3138\n",
      "Epoch 33/100\n",
      "96/96 [==============================] - 1s 10ms/step - loss: 0.8241 - sparse_categorical_accuracy: 0.6169 - val_loss: 0.9355 - val_sparse_categorical_accuracy: 0.5677\n",
      "Epoch 34/100\n",
      "96/96 [==============================] - 1s 10ms/step - loss: 0.8135 - sparse_categorical_accuracy: 0.6253 - val_loss: 1.1760 - val_sparse_categorical_accuracy: 0.3841\n",
      "Epoch 35/100\n",
      "96/96 [==============================] - 1s 11ms/step - loss: 0.8155 - sparse_categorical_accuracy: 0.6214 - val_loss: 1.1679 - val_sparse_categorical_accuracy: 0.3255\n",
      "Epoch 36/100\n",
      "96/96 [==============================] - 1s 11ms/step - loss: 0.8068 - sparse_categorical_accuracy: 0.6273 - val_loss: 1.0335 - val_sparse_categorical_accuracy: 0.5807\n",
      "Epoch 37/100\n",
      "96/96 [==============================] - 1s 11ms/step - loss: 0.7954 - sparse_categorical_accuracy: 0.6315 - val_loss: 2.8757 - val_sparse_categorical_accuracy: 0.2500\n",
      "Epoch 38/100\n",
      "96/96 [==============================] - 1s 11ms/step - loss: 0.7849 - sparse_categorical_accuracy: 0.6354 - val_loss: 1.0388 - val_sparse_categorical_accuracy: 0.4010\n",
      "Epoch 39/100\n",
      "96/96 [==============================] - 1s 11ms/step - loss: 0.7830 - sparse_categorical_accuracy: 0.6494 - val_loss: 1.7454 - val_sparse_categorical_accuracy: 0.2669\n",
      "Epoch 40/100\n",
      "96/96 [==============================] - 1s 11ms/step - loss: 0.7838 - sparse_categorical_accuracy: 0.6462 - val_loss: 1.9329 - val_sparse_categorical_accuracy: 0.2630\n",
      "Epoch 41/100\n",
      "96/96 [==============================] - 1s 11ms/step - loss: 0.7624 - sparse_categorical_accuracy: 0.6536 - val_loss: 1.4576 - val_sparse_categorical_accuracy: 0.3867\n",
      "Epoch 42/100\n",
      "96/96 [==============================] - 1s 11ms/step - loss: 0.7534 - sparse_categorical_accuracy: 0.6686 - val_loss: 1.2468 - val_sparse_categorical_accuracy: 0.5768\n",
      "Epoch 43/100\n",
      "96/96 [==============================] - 1s 11ms/step - loss: 0.7503 - sparse_categorical_accuracy: 0.6686 - val_loss: 2.3141 - val_sparse_categorical_accuracy: 0.3424\n",
      "Epoch 44/100\n",
      "96/96 [==============================] - 1s 11ms/step - loss: 0.7516 - sparse_categorical_accuracy: 0.6631 - val_loss: 1.1765 - val_sparse_categorical_accuracy: 0.3398\n",
      "Epoch 45/100\n",
      "96/96 [==============================] - 1s 11ms/step - loss: 0.7312 - sparse_categorical_accuracy: 0.6895 - val_loss: 2.6527 - val_sparse_categorical_accuracy: 0.5638\n",
      "Epoch 46/100\n",
      "96/96 [==============================] - 1s 10ms/step - loss: 0.7383 - sparse_categorical_accuracy: 0.6826 - val_loss: 2.4677 - val_sparse_categorical_accuracy: 0.5703\n",
      "Epoch 47/100\n",
      "96/96 [==============================] - 1s 11ms/step - loss: 0.7105 - sparse_categorical_accuracy: 0.7061 - val_loss: 1.3997 - val_sparse_categorical_accuracy: 0.3268\n",
      "Epoch 48/100\n",
      "96/96 [==============================] - 1s 11ms/step - loss: 0.7045 - sparse_categorical_accuracy: 0.7031 - val_loss: 1.3624 - val_sparse_categorical_accuracy: 0.5638\n",
      "Epoch 49/100\n",
      "96/96 [==============================] - 1s 12ms/step - loss: 0.7079 - sparse_categorical_accuracy: 0.7083 - val_loss: 3.6491 - val_sparse_categorical_accuracy: 0.3880\n",
      "Epoch 50/100\n",
      "96/96 [==============================] - 1s 12ms/step - loss: 0.7036 - sparse_categorical_accuracy: 0.7018 - val_loss: 1.6962 - val_sparse_categorical_accuracy: 0.5977\n",
      "Epoch 51/100\n",
      "96/96 [==============================] - 1s 12ms/step - loss: 0.6876 - sparse_categorical_accuracy: 0.7109 - val_loss: 1.3556 - val_sparse_categorical_accuracy: 0.2865\n",
      "Epoch 52/100\n",
      "96/96 [==============================] - 1s 10ms/step - loss: 0.7080 - sparse_categorical_accuracy: 0.6891 - val_loss: 0.7405 - val_sparse_categorical_accuracy: 0.6875\n",
      "Epoch 53/100\n",
      "96/96 [==============================] - 1s 10ms/step - loss: 0.6630 - sparse_categorical_accuracy: 0.7246 - val_loss: 0.7923 - val_sparse_categorical_accuracy: 0.6445\n",
      "Epoch 54/100\n",
      "96/96 [==============================] - 1s 10ms/step - loss: 0.6656 - sparse_categorical_accuracy: 0.7298 - val_loss: 0.7261 - val_sparse_categorical_accuracy: 0.6849\n",
      "Epoch 55/100\n",
      "96/96 [==============================] - 1s 10ms/step - loss: 0.6567 - sparse_categorical_accuracy: 0.7301 - val_loss: 1.7047 - val_sparse_categorical_accuracy: 0.5768\n",
      "Epoch 56/100\n",
      "96/96 [==============================] - 1s 10ms/step - loss: 0.6587 - sparse_categorical_accuracy: 0.7253 - val_loss: 2.6782 - val_sparse_categorical_accuracy: 0.2539\n",
      "Epoch 57/100\n",
      "96/96 [==============================] - 1s 10ms/step - loss: 0.6551 - sparse_categorical_accuracy: 0.7311 - val_loss: 2.4146 - val_sparse_categorical_accuracy: 0.3138\n",
      "Epoch 58/100\n",
      "96/96 [==============================] - 1s 11ms/step - loss: 0.6529 - sparse_categorical_accuracy: 0.7347 - val_loss: 2.6659 - val_sparse_categorical_accuracy: 0.2839\n",
      "Epoch 59/100\n",
      "96/96 [==============================] - 1s 10ms/step - loss: 0.6318 - sparse_categorical_accuracy: 0.7510 - val_loss: 3.8541 - val_sparse_categorical_accuracy: 0.2708\n",
      "Epoch 60/100\n",
      "96/96 [==============================] - 1s 10ms/step - loss: 0.6429 - sparse_categorical_accuracy: 0.7461 - val_loss: 3.8908 - val_sparse_categorical_accuracy: 0.2526\n",
      "Epoch 61/100\n",
      "96/96 [==============================] - 1s 11ms/step - loss: 0.6424 - sparse_categorical_accuracy: 0.7380 - val_loss: 1.6355 - val_sparse_categorical_accuracy: 0.3997\n",
      "Epoch 62/100\n",
      "96/96 [==============================] - 1s 10ms/step - loss: 0.6234 - sparse_categorical_accuracy: 0.7552 - val_loss: 1.0268 - val_sparse_categorical_accuracy: 0.5378\n",
      "Epoch 63/100\n",
      "96/96 [==============================] - 1s 10ms/step - loss: 0.6081 - sparse_categorical_accuracy: 0.7588 - val_loss: 0.9040 - val_sparse_categorical_accuracy: 0.5326\n",
      "Epoch 64/100\n",
      "96/96 [==============================] - 1s 11ms/step - loss: 0.5928 - sparse_categorical_accuracy: 0.7607 - val_loss: 0.6240 - val_sparse_categorical_accuracy: 0.7487\n",
      "Epoch 65/100\n",
      "96/96 [==============================] - 1s 10ms/step - loss: 0.5861 - sparse_categorical_accuracy: 0.7594 - val_loss: 0.7979 - val_sparse_categorical_accuracy: 0.6628\n",
      "Epoch 66/100\n",
      "96/96 [==============================] - 1s 11ms/step - loss: 0.5918 - sparse_categorical_accuracy: 0.7673 - val_loss: 7.1384 - val_sparse_categorical_accuracy: 0.2526\n",
      "Epoch 67/100\n",
      "96/96 [==============================] - 1s 11ms/step - loss: 0.5686 - sparse_categorical_accuracy: 0.7780 - val_loss: 1.4976 - val_sparse_categorical_accuracy: 0.4128\n",
      "Epoch 68/100\n",
      "96/96 [==============================] - 1s 11ms/step - loss: 0.5801 - sparse_categorical_accuracy: 0.7686 - val_loss: 2.1612 - val_sparse_categorical_accuracy: 0.2695\n",
      "Epoch 69/100\n",
      "96/96 [==============================] - 1s 11ms/step - loss: 0.5726 - sparse_categorical_accuracy: 0.7718 - val_loss: 3.8403 - val_sparse_categorical_accuracy: 0.2656\n",
      "Epoch 70/100\n",
      "96/96 [==============================] - 1s 11ms/step - loss: 0.5606 - sparse_categorical_accuracy: 0.7780 - val_loss: 2.4898 - val_sparse_categorical_accuracy: 0.3711\n",
      "Epoch 71/100\n",
      "96/96 [==============================] - 1s 12ms/step - loss: 0.5535 - sparse_categorical_accuracy: 0.7852 - val_loss: 5.1554 - val_sparse_categorical_accuracy: 0.2526\n",
      "Epoch 72/100\n",
      "96/96 [==============================] - 1s 11ms/step - loss: 0.5790 - sparse_categorical_accuracy: 0.7611 - val_loss: 1.4493 - val_sparse_categorical_accuracy: 0.3281\n",
      "Epoch 73/100\n",
      "96/96 [==============================] - 1s 11ms/step - loss: 0.5623 - sparse_categorical_accuracy: 0.7780 - val_loss: 3.3124 - val_sparse_categorical_accuracy: 0.3464\n",
      "Epoch 74/100\n",
      "96/96 [==============================] - 1s 11ms/step - loss: 0.5589 - sparse_categorical_accuracy: 0.7786 - val_loss: 1.0270 - val_sparse_categorical_accuracy: 0.6068\n",
      "Epoch 75/100\n",
      "96/96 [==============================] - 1s 11ms/step - loss: 0.5366 - sparse_categorical_accuracy: 0.7900 - val_loss: 2.8088 - val_sparse_categorical_accuracy: 0.6432\n",
      "Epoch 76/100\n",
      "96/96 [==============================] - 1s 11ms/step - loss: 0.5420 - sparse_categorical_accuracy: 0.7790 - val_loss: 2.8141 - val_sparse_categorical_accuracy: 0.5755\n",
      "Epoch 77/100\n",
      "96/96 [==============================] - 1s 11ms/step - loss: 0.5446 - sparse_categorical_accuracy: 0.7799 - val_loss: 1.4498 - val_sparse_categorical_accuracy: 0.5820\n",
      "Epoch 78/100\n",
      "96/96 [==============================] - 1s 10ms/step - loss: 0.5330 - sparse_categorical_accuracy: 0.7891 - val_loss: 0.5892 - val_sparse_categorical_accuracy: 0.7474\n",
      "Epoch 79/100\n",
      "96/96 [==============================] - 1s 11ms/step - loss: 0.5372 - sparse_categorical_accuracy: 0.7806 - val_loss: 1.1478 - val_sparse_categorical_accuracy: 0.5872\n",
      "Epoch 80/100\n",
      "96/96 [==============================] - 1s 10ms/step - loss: 0.5142 - sparse_categorical_accuracy: 0.8011 - val_loss: 1.2750 - val_sparse_categorical_accuracy: 0.4714\n",
      "Epoch 81/100\n",
      "96/96 [==============================] - 1s 10ms/step - loss: 0.5312 - sparse_categorical_accuracy: 0.7913 - val_loss: 2.3733 - val_sparse_categorical_accuracy: 0.5742\n",
      "Epoch 82/100\n",
      "96/96 [==============================] - 1s 10ms/step - loss: 0.5088 - sparse_categorical_accuracy: 0.8044 - val_loss: 1.4781 - val_sparse_categorical_accuracy: 0.3971\n",
      "Epoch 83/100\n",
      "96/96 [==============================] - 1s 10ms/step - loss: 0.4985 - sparse_categorical_accuracy: 0.8053 - val_loss: 1.3036 - val_sparse_categorical_accuracy: 0.6432\n",
      "Epoch 84/100\n",
      "96/96 [==============================] - 1s 11ms/step - loss: 0.4892 - sparse_categorical_accuracy: 0.8057 - val_loss: 1.4731 - val_sparse_categorical_accuracy: 0.4492\n",
      "Epoch 85/100\n",
      "96/96 [==============================] - 1s 11ms/step - loss: 0.4787 - sparse_categorical_accuracy: 0.8219 - val_loss: 2.7837 - val_sparse_categorical_accuracy: 0.2734\n",
      "Epoch 86/100\n",
      "96/96 [==============================] - 1s 11ms/step - loss: 0.4945 - sparse_categorical_accuracy: 0.8066 - val_loss: 1.3881 - val_sparse_categorical_accuracy: 0.3984\n",
      "Epoch 87/100\n",
      "96/96 [==============================] - 1s 11ms/step - loss: 0.4795 - sparse_categorical_accuracy: 0.8226 - val_loss: 2.6022 - val_sparse_categorical_accuracy: 0.2839\n",
      "Epoch 88/100\n",
      "96/96 [==============================] - 1s 10ms/step - loss: 0.5218 - sparse_categorical_accuracy: 0.7894 - val_loss: 2.0189 - val_sparse_categorical_accuracy: 0.6094\n",
      "Epoch 89/100\n",
      "96/96 [==============================] - 1s 10ms/step - loss: 0.4744 - sparse_categorical_accuracy: 0.8249 - val_loss: 1.8327 - val_sparse_categorical_accuracy: 0.5846\n",
      "Epoch 90/100\n",
      "96/96 [==============================] - 1s 10ms/step - loss: 0.4844 - sparse_categorical_accuracy: 0.8190 - val_loss: 3.2457 - val_sparse_categorical_accuracy: 0.2591\n",
      "Epoch 91/100\n",
      "96/96 [==============================] - 1s 10ms/step - loss: 0.4718 - sparse_categorical_accuracy: 0.8184 - val_loss: 2.4666 - val_sparse_categorical_accuracy: 0.3372\n",
      "Epoch 92/100\n",
      "96/96 [==============================] - 1s 11ms/step - loss: 0.4667 - sparse_categorical_accuracy: 0.8164 - val_loss: 3.5183 - val_sparse_categorical_accuracy: 0.2695\n",
      "Epoch 93/100\n",
      "96/96 [==============================] - 1s 10ms/step - loss: 0.4464 - sparse_categorical_accuracy: 0.8330 - val_loss: 9.6781 - val_sparse_categorical_accuracy: 0.2747\n",
      "Epoch 94/100\n",
      "96/96 [==============================] - 1s 11ms/step - loss: 0.4459 - sparse_categorical_accuracy: 0.8304 - val_loss: 5.0795 - val_sparse_categorical_accuracy: 0.2708\n",
      "Epoch 95/100\n",
      "96/96 [==============================] - 1s 11ms/step - loss: 0.4380 - sparse_categorical_accuracy: 0.8236 - val_loss: 1.5813 - val_sparse_categorical_accuracy: 0.5872\n",
      "Epoch 96/100\n",
      "96/96 [==============================] - 1s 11ms/step - loss: 0.4306 - sparse_categorical_accuracy: 0.8402 - val_loss: 2.9597 - val_sparse_categorical_accuracy: 0.2630\n",
      "Epoch 97/100\n",
      "96/96 [==============================] - 1s 11ms/step - loss: 0.4530 - sparse_categorical_accuracy: 0.8177 - val_loss: 6.2259 - val_sparse_categorical_accuracy: 0.2526\n",
      "Epoch 98/100\n",
      "96/96 [==============================] - 1s 11ms/step - loss: 0.4465 - sparse_categorical_accuracy: 0.8281 - val_loss: 1.1251 - val_sparse_categorical_accuracy: 0.6497\n",
      "Epoch 99/100\n",
      "96/96 [==============================] - 1s 11ms/step - loss: 0.4280 - sparse_categorical_accuracy: 0.8340 - val_loss: 1.3857 - val_sparse_categorical_accuracy: 0.4792\n",
      "Epoch 100/100\n",
      "96/96 [==============================] - 1s 11ms/step - loss: 0.4527 - sparse_categorical_accuracy: 0.8216 - val_loss: 3.6309 - val_sparse_categorical_accuracy: 0.3659\n"
     ]
    }
   ],
   "source": [
    "model = make_CNN_model(x_train.shape[1:],num_classes = 3)\n",
    "trained_model, history = train_CNN_model(model, x_train, y_train, epochs=100, batch_size=32)"
   ]
  },
  {
   "cell_type": "code",
   "execution_count": 5,
   "id": "227e6120",
   "metadata": {},
   "outputs": [
    {
     "name": "stdout",
     "output_type": "stream",
     "text": [
      "15/15 [==============================] - 0s 3ms/step - loss: 3.4865 - sparse_categorical_accuracy: 0.4047\n",
      "Test accuracy 0.40471091866493225\n",
      "Test loss 3.4865262508392334\n"
     ]
    }
   ],
   "source": [
    "test_loss, test_acc = trained_model.evaluate(x_test_original, y_test_original)\n",
    "\n",
    "print(\"Test accuracy\", test_acc)\n",
    "print(\"Test loss\", test_loss)"
   ]
  },
  {
   "cell_type": "markdown",
   "id": "4773dace",
   "metadata": {},
   "source": [
    "### Create perturbed test sets and calculate decrease in accuracy"
   ]
  },
  {
   "cell_type": "code",
   "execution_count": 6,
   "id": "b854bfe4-2303-44a0-bef5-eb3c738da9e9",
   "metadata": {},
   "outputs": [
    {
     "name": "stdout",
     "output_type": "stream",
     "text": [
      "(467,)\n"
     ]
    }
   ],
   "source": [
    "print(y_test_original.shape)"
   ]
  },
  {
   "cell_type": "code",
   "execution_count": 7,
   "id": "ffd7c678-03f4-47ae-a1f9-45e0c185580e",
   "metadata": {},
   "outputs": [
    {
     "name": "stdout",
     "output_type": "stream",
     "text": [
      "def perturb(perturbation_strategy, ts, index0, index1, global_ts = []):\n",
      "    if perturbation_strategy == 'RBP':\n",
      "        return RBPIndividual(ts, index0, index1)\n",
      "    if perturbation_strategy == 'zero':\n",
      "        return zeroPerturb(ts, index0, index1)\n",
      "    if perturbation_strategy == 'noise':\n",
      "        return noisePerturb(ts, index0, index1)\n",
      "    if perturbation_strategy == 'blur':\n",
      "        return blurPerturb(ts, index0, index1)\n",
      "    if perturbation_strategy == 'RBP1':\n",
      "        return RBPIndividualNew1(global_ts, ts, index0, index1)    \n",
      "    if perturbation_strategy == 'RBP2':\n",
      "        return RBPIndividualNew2(global_ts, ts, index0, index1)    \n",
      "\n",
      "(perturbation_strategy, ts, index0, index1, global_ts=[])\n"
     ]
    }
   ],
   "source": [
    "print(inspect.getsource(perturb))\n",
    "print(inspect.signature(perturb))"
   ]
  },
  {
   "cell_type": "code",
   "execution_count": 23,
   "id": "4c579fb7",
   "metadata": {},
   "outputs": [
    {
     "name": "stdout",
     "output_type": "stream",
     "text": [
      "15/15 [==============================] - 0s 4ms/step\n",
      "15/15 [==============================] - 0s 3ms/step\n",
      "15/15 [==============================] - 0s 3ms/step\n",
      "15/15 [==============================] - 0s 3ms/step\n",
      "15/15 [==============================] - 0s 3ms/step\n",
      "15/15 [==============================] - 0s 3ms/step\n"
     ]
    }
   ],
   "source": [
    "predictions_original = model.predict(x_test_original)\n",
    "perturb_test_set = x_test_original.copy()\n",
    "perturb_test_set = perturb_test_set.reshape(x_test_original.shape[0:2])\n",
    "\n",
    "x_test_rbp = np.asarray([perturb('RBP',x,60,160) for x in perturb_test_set])\n",
    "x_test_rbp = np.expand_dims(x_test_rbp, axis=-1)\n",
    "predictions_rbp = model.predict(x_test_rbp)\n",
    "\n",
    "x_test_new1 = np.asarray([perturb('RBP1',x,60,160, global_ts = perturb_test_set) for x in perturb_test_set])\n",
    "x_test_new1 = np.expand_dims(x_test_new1, axis=-1)\n",
    "predictions_new1 = model.predict(x_test_new1)\n",
    "\n",
    "#x_test_new2 = np.asarray([perturb('RBP2',x,400,500, global_ts = perturb_test_set) for x in perturb_test_set])\n",
    "#x_test_new2 = np.expand_dims(x_test_new2, axis=-1)\n",
    "#predictions_new2 = model.predict(x_test_new2)\n",
    "\n",
    "x_test_zero = np.asarray([perturb('zero',x,60,160) for x in perturb_test_set])\n",
    "x_test_zero = np.expand_dims(x_test_zero, axis=-1)\n",
    "predictions_zero = model.predict(x_test_zero)\n",
    "\n",
    "x_test_noise = np.asarray([perturb('noise',x,60,160) for x in perturb_test_set])\n",
    "x_test_noise = np.expand_dims(x_test_noise, axis=-1)\n",
    "predictions_noise = model.predict(x_test_noise)\n",
    "\n",
    "x_test_blur = np.asarray([perturb('blur',x,60,160) for x in perturb_test_set])\n",
    "x_test_blur = np.expand_dims(x_test_blur, axis=-1)\n",
    "predictions_blur = model.predict(x_test_blur)"
   ]
  },
  {
   "cell_type": "code",
   "execution_count": 24,
   "id": "b5d3f821",
   "metadata": {},
   "outputs": [],
   "source": [
    "def accuracy(predictions, labels):\n",
    "    hits = 0\n",
    "    for i in range(0,len(predictions)):\n",
    "        if predictions[i] == labels[i]:\n",
    "            hits += 1\n",
    "    return hits/len(predictions)\n",
    "\n",
    "def AveragSuccessRate(predictions, labels):\n",
    "    hits = 0\n",
    "    for i in range(0,len(predictions)):\n",
    "        if predictions[i] != labels[i]:\n",
    "            hits += 1\n",
    "    return hits/len(predictions)"
   ]
  },
  {
   "cell_type": "code",
   "execution_count": 33,
   "id": "b2c3e061-db82-4865-b464-2df276289270",
   "metadata": {},
   "outputs": [
    {
     "name": "stdout",
     "output_type": "stream",
     "text": [
      "6.93688572764402\n",
      "7.0180781941220385\n",
      "7.063526813065234\n",
      "578.1805339564735\n",
      "2.9893885717946818\n"
     ]
    }
   ],
   "source": [
    "def l2norm(perturb):\n",
    "    # 计算两个数组之间的差\n",
    "    difference = perturb - x_test_original\n",
    "    \n",
    "    # 计算差的平方\n",
    "    squared_difference = np.square(difference)\n",
    "    \n",
    "    # 计算平方和，沿着特征维度（axis=1），因为每个时间序列样本是一行\n",
    "    sum_of_squares = np.sum(squared_difference, axis=1)\n",
    "    \n",
    "    # 计算平方和的平方根，即l2范数\n",
    "    l2_norms = np.sqrt(sum_of_squares)\n",
    "    \n",
    "    average_l2_norm = np.mean(l2_norms)\n",
    "    \n",
    "    # l2_norms现在是一个形状为(467,)的数组，其中每个元素代表\n",
    "    # 对应时间序列样本之间的l2范数\n",
    "    print(average_l2_norm)  # 输出: (467,)\n",
    "\n",
    "l2norm(x_test_rbp)\n",
    "l2norm(x_test_new1)\n",
    "l2norm(x_test_zero)\n",
    "l2norm(x_test_noise)\n",
    "l2norm(x_test_blur)"
   ]
  },
  {
   "cell_type": "code",
   "execution_count": 27,
   "id": "65ccc4d0-872f-4452-b505-28ea5daa6758",
   "metadata": {},
   "outputs": [
    {
     "name": "stdout",
     "output_type": "stream",
     "text": [
      "6.93688572764402\n"
     ]
    }
   ],
   "source": [
    "# 计算两个数组之间的差\n",
    "difference = x_test_rbp - x_test_original\n",
    "\n",
    "# 计算差的平方\n",
    "squared_difference = np.square(difference)\n",
    "\n",
    "# 计算平方和，沿着特征维度（axis=1），因为每个时间序列样本是一行\n",
    "sum_of_squares = np.sum(squared_difference, axis=1)\n",
    "\n",
    "# 计算平方和的平方根，即l2范数\n",
    "l2_norms = np.sqrt(sum_of_squares)\n",
    "\n",
    "average_l2_norm = np.mean(l2_norms)\n",
    "\n",
    "# l2_norms现在是一个形状为(467,)的数组，其中每个元素代表\n",
    "# 对应时间序列样本之间的l2范数\n",
    "print(average_l2_norm)  # 输出: (467,)"
   ]
  },
  {
   "cell_type": "code",
   "execution_count": 31,
   "id": "bbf2380d-6b32-4aff-901b-8f527ed6ed49",
   "metadata": {},
   "outputs": [
    {
     "data": {
      "text/plain": [
       "0.17130620985010706"
      ]
     },
     "execution_count": 31,
     "metadata": {},
     "output_type": "execute_result"
    }
   ],
   "source": [
    "AveragSuccessRate(np.argmax(predictions_new1,axis=1), np.argmax(predictions_original,axis=1))"
   ]
  },
  {
   "cell_type": "code",
   "execution_count": 28,
   "id": "89f21d47",
   "metadata": {},
   "outputs": [],
   "source": [
    "original_accuracy = accuracy(np.argmax(predictions_original,axis=1), y_test_original)\n",
    "rbp_accuracy = accuracy(np.argmax(predictions_rbp,axis=1), y_test_original)\n",
    "new1_accuracy = accuracy(np.argmax(predictions_new1,axis=1), y_test_original)\n",
    "#new2_accuracy = accuracy(np.argmax(predictions_new2,axis=1), y_test_original)\n",
    "zero_accuracy = accuracy(np.argmax(predictions_zero,axis=1), y_test_original)\n",
    "noise_accuracy = accuracy(np.argmax(predictions_noise,axis=1), y_test_original)\n",
    "blur_accuracy = accuracy(np.argmax(predictions_blur,axis=1), y_test_original)"
   ]
  },
  {
   "cell_type": "code",
   "execution_count": 29,
   "id": "e52c9d2e",
   "metadata": {},
   "outputs": [
    {
     "name": "stdout",
     "output_type": "stream",
     "text": [
      " Original Accuracy: 0.40471092077087795\n",
      " RBP Accuracy: 0.24411134903640258\n",
      " RBP1 Accuracy: 0.24411134903640258\n",
      " Zero Accuracy: 0.24411134903640258\n",
      " Noise Accuracy: 0.24411134903640258\n",
      " Blur Accuracy: 0.24411134903640258\n",
      "\n"
     ]
    }
   ],
   "source": [
    "print(\" Original Accuracy: \" + str(original_accuracy) + \"\\n\"+\n",
    "    \" RBP Accuracy: \" + str(rbp_accuracy) + \"\\n\"+\n",
    "    \" RBP1 Accuracy: \" + str(new1_accuracy) + \"\\n\"+\n",
    "    #\" RBP2 Accuracy: \" + str(new2_accuracy) + \"\\n\"+\n",
    "      \n",
    "    \" Zero Accuracy: \" + str(zero_accuracy) + \"\\n\"+\n",
    "    \" Noise Accuracy: \" + str(noise_accuracy) + \"\\n\"+\n",
    "    \" Blur Accuracy: \" + str(blur_accuracy) + \"\\n\")"
   ]
  },
  {
   "cell_type": "code",
   "execution_count": 32,
   "id": "f2829216-47ad-4f83-a99b-3977b14f86dc",
   "metadata": {},
   "outputs": [
    {
     "name": "stdout",
     "output_type": "stream",
     "text": [
      "[0 0 0 0 0 0 0 0 0 0 0 0 0 0 0 0 0 0 0 0 0 0 0 0 0 0 0 0 0 0 0 0 0 0 0 0 0\n",
      " 0 0 0 0 0 0 0 0 0 0 0 0 0 0 0 0 0 0 0 0 0 0 0 0 0 0 0 0 0 0 0 0 0 0 0 0 0\n",
      " 0 0 0 0 0 0 0 0 0 0 0 0 0 0 0 0 0 0 0 0 0 0 0 0 0 0 0 0 0 0 0 0 0 0 0 0 0\n",
      " 0 0 0 0 0 0 0 0 0 0 0 0 0 0 0 0 0 0 0 0 0 0 0 0 0 0 0 0 0 0 0 0 0 0 0 0 0\n",
      " 0 0 0 0 0 0 0 0 0 0 0 0 0 0 0 0 0 0 0 0 0 0 0 0 0 0 0 0 0 0 0 0 0 0 0 0 0\n",
      " 0 0 0 0 0 0 0 0 0 0 0 0 0 0 0 0 0 0 0 0 0 0 0 0 0 0 0 0 0 0 0 0 0 0 0 0 0\n",
      " 0 0 0 0 0 0 0 0 0 0 0 0 0 0 0 0 0 0 0 0 0 0 0 0 0 0 0 0 0 0 0 0 0 0 0 0 0\n",
      " 0 0 0 0 0 0 0 0 0 0 0 0 0 0 0 0 0 0 0 0 0 0 0 0 0 0 0 0 0 0 0 0 0 0 0 0 0\n",
      " 0 0 0 0 0 0 0 0 0 0 0 0 0 0 0 0 0 0 0 0 0 0 0 0 0 0 0 0 0 0 0 0 0 0 0 0 0\n",
      " 0 0 0 0 0 0 0 0 0 0 0 0 0 0 0 0 0 0 0 0 0 0 0 0 0 0 0 0 0 0 0 0 0 0 0 0 0\n",
      " 0 0 0 0 0 0 0 0 0 0 0 0 0 0 0 0 0 0 0 0 0 0 0 0 0 0 0 0 0 0 0 0 0 0 0 0 0\n",
      " 0 0 0 0 0 0 0 0 0 0 0 0 0 0 0 0 0 0 0 0 0 0 0 0 0 0 0 0 0 0 0 0 0 0 0 0 0\n",
      " 0 0 0 0 0 0 0 0 0 0 0 0 0 0 0 0 0 0 0 0 0 0 0]\n",
      "[0. 2. 0. 2. 1. 0. 0. 0. 2. 2. 0. 2. 1. 2. 0. 0. 2. 2. 2. 2. 1. 2. 2. 1.\n",
      " 1. 0. 2. 2. 1. 2. 2. 0. 0. 2. 0. 2. 0. 2. 0. 2. 2. 2. 1. 1. 0. 2. 1. 1.\n",
      " 2. 2. 2. 1. 2. 2. 1. 1. 2. 1. 2. 2. 2. 0. 2. 2. 2. 0. 2. 2. 2. 2. 1. 2.\n",
      " 0. 1. 0. 1. 2. 2. 2. 2. 0. 0. 2. 2. 2. 2. 2. 2. 1. 2. 2. 2. 0. 2. 0. 0.\n",
      " 2. 2. 0. 2. 2. 0. 0. 0. 2. 2. 2. 1. 2. 2. 1. 0. 1. 2. 2. 2. 1. 0. 1. 0.\n",
      " 2. 0. 0. 2. 1. 2. 2. 1. 2. 0. 2. 2. 0. 2. 2. 2. 0. 0. 0. 2. 2. 2. 2. 2.\n",
      " 2. 0. 1. 0. 2. 1. 2. 2. 2. 0. 1. 2. 2. 1. 1. 0. 2. 0. 2. 2. 2. 0. 2. 0.\n",
      " 0. 2. 1. 0. 2. 2. 2. 2. 2. 0. 2. 0. 1. 2. 1. 2. 2. 1. 1. 2. 2. 0. 2. 2.\n",
      " 2. 2. 2. 1. 1. 2. 1. 2. 2. 2. 2. 0. 2. 2. 0. 2. 2. 2. 2. 2. 2. 1. 1. 0.\n",
      " 2. 1. 0. 2. 2. 1. 2. 0. 2. 2. 1. 0. 2. 0. 2. 1. 2. 0. 2. 1. 1. 2. 1. 2.\n",
      " 2. 2. 1. 2. 2. 0. 1. 0. 0. 0. 2. 1. 2. 1. 2. 1. 0. 2. 1. 2. 1. 2. 0. 1.\n",
      " 2. 2. 0. 1. 2. 2. 0. 2. 2. 1. 0. 2. 0. 2. 1. 2. 0. 2. 2. 2. 0. 0. 2. 1.\n",
      " 2. 1. 2. 1. 2. 2. 0. 2. 2. 0. 2. 1. 2. 0. 1. 0. 2. 2. 2. 0. 0. 0. 2. 2.\n",
      " 2. 1. 2. 0. 2. 1. 0. 0. 0. 1. 0. 0. 2. 2. 2. 2. 2. 2. 1. 1. 1. 2. 2. 1.\n",
      " 2. 2. 0. 0. 0. 2. 2. 2. 2. 0. 2. 0. 2. 2. 2. 0. 2. 2. 2. 0. 2. 2. 0. 1.\n",
      " 2. 2. 1. 1. 2. 2. 0. 2. 2. 1. 2. 2. 2. 2. 0. 1. 2. 2. 0. 2. 2. 0. 2. 2.\n",
      " 2. 2. 0. 2. 2. 2. 2. 1. 2. 1. 2. 2. 0. 2. 1. 0. 2. 2. 2. 2. 2. 2. 1. 2.\n",
      " 0. 1. 2. 0. 2. 1. 2. 2. 2. 0. 2. 0. 1. 2. 2. 2. 2. 2. 2. 2. 0. 0. 2. 2.\n",
      " 2. 2. 2. 1. 0. 1. 2. 0. 0. 0. 2. 2. 0. 2. 2. 2. 1. 1. 2. 2. 0. 1. 2. 1.\n",
      " 2. 2. 1. 0. 0. 2. 2. 2. 1. 0. 1.]\n"
     ]
    }
   ],
   "source": [
    "print(np.argmax(predictions_rbp,axis=1))\n",
    "print(y_test_original)"
   ]
  },
  {
   "cell_type": "code",
   "execution_count": 21,
   "id": "5e7bfb42-2d85-46b3-9c8b-1389d1045c20",
   "metadata": {},
   "outputs": [
    {
     "data": {
      "image/png": "[encoded data removed]",
      "text/plain": [
       "<Figure size 1000x500 with 1 Axes>"
      ]
     },
     "metadata": {},
     "output_type": "display_data"
    }
   ],
   "source": [
    "import numpy as np\n",
    "import matplotlib.pyplot as plt\n",
    "\n",
    "new1 = x_test_new1[2]\n",
    "orig = x_test_original[2]\n",
    "\n",
    "# 创建一个时间轴，对应于时间序列的索引\n",
    "time_axis = np.arange(len(new1))\n",
    "\n",
    "# 使用matplotlib绘制时间序列\n",
    "plt.figure(figsize=(10, 5))  # 设置图形的大小\n",
    "plt.plot(time_axis, new1, label='Time Series 1')  # 绘制第一个时间序列\n",
    "plt.plot(time_axis, orig, label='Time Series 2')  # 绘制第二个时间序列\n",
    "\n",
    "# 添加图例\n",
    "plt.legend()\n",
    "\n",
    "# 添加标题和轴标签\n",
    "plt.title('Time Series Visualization')\n",
    "plt.xlabel('Time')\n",
    "plt.ylabel('Value')\n",
    "\n",
    "# 显示网格\n",
    "plt.grid(True)\n",
    "\n",
    "# 显示图形\n",
    "plt.show()"
   ]
  },
  {
   "cell_type": "code",
   "execution_count": null,
   "id": "80f30ce4-22e3-4b93-8601-2d6a9cc459e0",
   "metadata": {},
   "outputs": [],
   "source": []
  }
 ],
 "metadata": {
  "kernelspec": {
   "display_name": "lime_tf",
   "language": "python",
   "name": "limetf"
  },
  "language_info": {
   "codemirror_mode": {
    "name": "ipython",
    "version": 3
   },
   "file_extension": ".py",
   "mimetype": "text/x-python",
   "name": "python",
   "nbconvert_exporter": "python",
   "pygments_lexer": "ipython3",
   "version": "3.10.13"
  }
 },
 "nbformat": 4,
 "nbformat_minor": 5
}
