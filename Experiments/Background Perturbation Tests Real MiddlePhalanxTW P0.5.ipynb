{
 "cells": [
  {
   "cell_type": "code",
   "execution_count": 1,
   "id": "dd9bd814",
   "metadata": {},
   "outputs": [],
   "source": [
    "import numpy as np\n",
    "import matplotlib.pyplot as plt\n",
    "import inspect"
   ]
  },
  {
   "cell_type": "code",
   "execution_count": 2,
   "id": "2439de23",
   "metadata": {},
   "outputs": [
    {
     "name": "stdout",
     "output_type": "stream",
     "text": [
      "['/Users/gali/anaconda3/envs/LIMEtf/lib/python310.zip', '/Users/gali/anaconda3/envs/LIMEtf/lib/python3.10', '/Users/gali/anaconda3/envs/LIMEtf/lib/python3.10/lib-dynload', '', '/Users/gali/anaconda3/envs/LIMEtf/lib/python3.10/site-packages', '/Users/gali/anaconda3/envs/LIMEtf/lib/python3.10/site-packages/setuptools/_vendor', '../', '../']\n"
     ]
    }
   ],
   "source": [
    "import importlib\n",
    "import sys\n",
    "sys.path.append('../')\n",
    "from Utils.perturbationsnew import RBPIndividual, RBPIndividualNew1, RBPIndividualNew1fast, RBPIndividualNew2, zeroPerturb, noisePerturb, blurPerturb,multisamplebackgroundIdentification\n",
    "from Utils.models import *\n",
    "from Utils.data import perturb, generateSynthetic, generateSyntheticPerturbReal,ReadTS\n",
    "\n",
    "print(sys.path)\n"
   ]
  },
  {
   "cell_type": "markdown",
   "id": "62b11ea0",
   "metadata": {},
   "source": [
    "## Test important content removal (accuracy decrease)"
   ]
  },
  {
   "cell_type": "markdown",
   "id": "5567ae62",
   "metadata": {},
   "source": [
    "### Load synthetic dataset and train CNN model "
   ]
  },
  {
   "cell_type": "code",
   "execution_count": 8,
   "id": "812c0d59",
   "metadata": {},
   "outputs": [
    {
     "name": "stdout",
     "output_type": "stream",
     "text": [
      "(399, 80, 1)\n",
      "[5. 5. 5. 5. 5. 5. 5. 5. 5. 5. 5. 5. 5. 5. 5. 5. 5. 5. 5. 5. 5. 2. 5. 5.\n",
      " 5. 5. 5. 5. 3. 5. 2. 5. 5. 5. 5. 4. 5. 2. 5. 5. 5. 5. 5. 5. 5. 5. 2. 3.\n",
      " 3. 2. 4. 5. 2. 5. 4. 5. 5. 0. 5. 5. 5. 5. 5. 1. 5. 1. 5. 2. 1. 2. 1. 5.\n",
      " 2. 0. 5. 0. 3. 4. 0. 1. 2. 0. 1. 4. 1. 3. 1. 5. 4. 0. 5. 5. 0. 4. 5. 5.\n",
      " 5. 0. 1. 0. 4. 0. 1. 5. 2. 0. 3. 1. 1. 1. 2. 1. 1. 5. 1. 1. 1. 5. 1. 4.\n",
      " 1. 2. 5. 5. 0. 3. 1. 5. 3. 5. 5. 5. 1. 0. 5. 1. 0. 1. 2. 1. 3. 0. 1. 1.\n",
      " 2. 4. 3. 1. 0. 5. 3. 5. 1. 1. 1. 5. 2. 0. 0. 5. 1. 0. 4. 5. 5. 1. 3. 0.\n",
      " 0. 0. 1. 1. 5. 1. 5. 4. 5. 3. 4. 1. 0. 5. 5. 1. 0. 3. 0. 1. 2. 1. 5. 0.\n",
      " 0. 2. 5. 1. 0. 1. 1. 5. 1. 5. 5. 2. 3. 0. 5. 5. 0. 1. 0. 5. 2. 5. 5. 5.\n",
      " 5. 5. 5. 2. 5. 2. 0. 0. 2. 1. 5. 5. 0. 5. 5. 5. 1. 1. 5. 0. 1. 1. 5. 2.\n",
      " 0. 4. 5. 1. 2. 1. 5. 4. 1. 5. 2. 5. 5. 4. 1. 5. 2. 5. 1. 5. 5. 4. 5. 3.\n",
      " 1. 5. 3. 2. 2. 5. 5. 5. 3. 1. 5. 0. 5. 4. 5. 4. 1. 5. 5. 0. 3. 1. 2. 1.\n",
      " 1. 2. 0. 5. 5. 0. 1. 5. 2. 4. 0. 3. 2. 5. 1. 5. 3. 1. 5. 3. 2. 5. 1. 0.\n",
      " 4. 5. 1. 0. 2. 0. 5. 1. 4. 5. 2. 3. 0. 1. 5. 1. 5. 1. 0. 5. 4. 0. 1. 1.\n",
      " 1. 4. 5. 5. 5. 1. 2. 3. 5. 0. 1. 2. 5. 0. 5. 5. 0. 0. 5. 5. 3. 5. 5. 5.\n",
      " 5. 3. 2. 5. 5. 2. 5. 0. 3. 3. 5. 5. 5. 5. 5. 1. 0. 1. 5. 1. 2. 5. 1. 2.\n",
      " 5. 2. 3. 1. 1. 0. 1. 1. 3. 4. 0. 0. 0. 5. 1.]\n"
     ]
    }
   ],
   "source": [
    "x_train, y_train,x_test_original, y_test_original = ReadTS('MiddlePhalanxTW')\n",
    "y_train = y_train - 3\n",
    "y_test_original = y_test_original - 3\n",
    "print(x_train.shape)\n",
    "print(y_train)"
   ]
  },
  {
   "cell_type": "code",
   "execution_count": 9,
   "id": "e74e1ca3-8fd2-4e4a-96a1-2ac583496cd7",
   "metadata": {},
   "outputs": [],
   "source": [
    "from sklearn.preprocessing import StandardScaler\n",
    "def normalize(TS):\n",
    "    # 获取原始数据集的形状\n",
    "    original_shape = TS.shape\n",
    "    \n",
    "    # 将数据集reshape成二维数组\n",
    "    TS_2d = TS.reshape(original_shape[0] , original_shape[1])\n",
    "    \n",
    "    # 初始化StandardScaler\n",
    "    scaler = StandardScaler()\n",
    "    \n",
    "    # 对数据集进行标准化\n",
    "    TS_normalized = scaler.fit_transform(TS_2d)\n",
    "    \n",
    "    # 将标准化后的数据集reshape回原始形状\n",
    "    TS = TS_normalized.reshape(original_shape)\n",
    "    \n",
    "    return TS\n",
    "\n",
    "x_train = normalize(x_train)\n",
    "x_test_original = normalize(x_test_original)\n",
    "#print(x_train)"
   ]
  },
  {
   "cell_type": "code",
   "execution_count": 10,
   "id": "c9911722",
   "metadata": {},
   "outputs": [
    {
     "name": "stdout",
     "output_type": "stream",
     "text": [
      "Epoch 1/100\n",
      "10/10 [==============================] - 0s 16ms/step - loss: 1.6110 - sparse_categorical_accuracy: 0.4044 - val_loss: 1.7635 - val_sparse_categorical_accuracy: 0.4750\n",
      "Epoch 2/100\n",
      "10/10 [==============================] - 0s 9ms/step - loss: 1.3438 - sparse_categorical_accuracy: 0.4765 - val_loss: 1.7027 - val_sparse_categorical_accuracy: 0.3875\n",
      "Epoch 3/100\n",
      "10/10 [==============================] - 0s 8ms/step - loss: 1.2619 - sparse_categorical_accuracy: 0.5204 - val_loss: 1.6525 - val_sparse_categorical_accuracy: 0.3750\n",
      "Epoch 4/100\n",
      "10/10 [==============================] - 0s 8ms/step - loss: 1.1841 - sparse_categorical_accuracy: 0.5705 - val_loss: 1.6323 - val_sparse_categorical_accuracy: 0.3750\n",
      "Epoch 5/100\n",
      "10/10 [==============================] - 0s 9ms/step - loss: 1.1502 - sparse_categorical_accuracy: 0.6050 - val_loss: 1.6148 - val_sparse_categorical_accuracy: 0.3625\n",
      "Epoch 6/100\n",
      "10/10 [==============================] - 0s 8ms/step - loss: 1.0953 - sparse_categorical_accuracy: 0.6207 - val_loss: 1.6055 - val_sparse_categorical_accuracy: 0.3875\n",
      "Epoch 7/100\n",
      "10/10 [==============================] - 0s 8ms/step - loss: 1.0655 - sparse_categorical_accuracy: 0.6426 - val_loss: 1.5973 - val_sparse_categorical_accuracy: 0.3750\n",
      "Epoch 8/100\n",
      "10/10 [==============================] - 0s 8ms/step - loss: 1.0408 - sparse_categorical_accuracy: 0.6583 - val_loss: 1.5917 - val_sparse_categorical_accuracy: 0.3750\n",
      "Epoch 9/100\n",
      "10/10 [==============================] - 0s 6ms/step - loss: 1.0140 - sparse_categorical_accuracy: 0.6708 - val_loss: 1.5926 - val_sparse_categorical_accuracy: 0.3750\n",
      "Epoch 10/100\n",
      "10/10 [==============================] - 0s 8ms/step - loss: 0.9843 - sparse_categorical_accuracy: 0.6646 - val_loss: 1.5907 - val_sparse_categorical_accuracy: 0.3750\n",
      "Epoch 11/100\n",
      "10/10 [==============================] - 0s 9ms/step - loss: 0.9712 - sparse_categorical_accuracy: 0.6552 - val_loss: 1.5762 - val_sparse_categorical_accuracy: 0.3750\n",
      "Epoch 12/100\n",
      "10/10 [==============================] - 0s 9ms/step - loss: 0.9545 - sparse_categorical_accuracy: 0.6677 - val_loss: 1.5660 - val_sparse_categorical_accuracy: 0.3750\n",
      "Epoch 13/100\n",
      "10/10 [==============================] - 0s 9ms/step - loss: 0.9219 - sparse_categorical_accuracy: 0.6771 - val_loss: 1.5607 - val_sparse_categorical_accuracy: 0.4250\n",
      "Epoch 14/100\n",
      "10/10 [==============================] - 0s 9ms/step - loss: 0.9229 - sparse_categorical_accuracy: 0.6771 - val_loss: 1.5495 - val_sparse_categorical_accuracy: 0.3750\n",
      "Epoch 15/100\n",
      "10/10 [==============================] - 0s 8ms/step - loss: 0.9110 - sparse_categorical_accuracy: 0.6834 - val_loss: 1.5374 - val_sparse_categorical_accuracy: 0.5375\n",
      "Epoch 16/100\n",
      "10/10 [==============================] - 0s 7ms/step - loss: 0.9015 - sparse_categorical_accuracy: 0.6646 - val_loss: 1.6011 - val_sparse_categorical_accuracy: 0.3625\n",
      "Epoch 17/100\n",
      "10/10 [==============================] - 0s 8ms/step - loss: 0.8985 - sparse_categorical_accuracy: 0.6803 - val_loss: 1.5154 - val_sparse_categorical_accuracy: 0.6000\n",
      "Epoch 18/100\n",
      "10/10 [==============================] - 0s 7ms/step - loss: 0.8900 - sparse_categorical_accuracy: 0.6677 - val_loss: 1.5872 - val_sparse_categorical_accuracy: 0.3625\n",
      "Epoch 19/100\n",
      "10/10 [==============================] - 0s 8ms/step - loss: 0.8750 - sparse_categorical_accuracy: 0.6771 - val_loss: 1.4518 - val_sparse_categorical_accuracy: 0.5625\n",
      "Epoch 20/100\n",
      "10/10 [==============================] - 0s 7ms/step - loss: 0.8765 - sparse_categorical_accuracy: 0.6771 - val_loss: 1.5538 - val_sparse_categorical_accuracy: 0.3750\n",
      "Epoch 21/100\n",
      "10/10 [==============================] - 0s 8ms/step - loss: 0.8471 - sparse_categorical_accuracy: 0.7022 - val_loss: 1.4464 - val_sparse_categorical_accuracy: 0.5250\n",
      "Epoch 22/100\n",
      "10/10 [==============================] - 0s 7ms/step - loss: 0.8548 - sparse_categorical_accuracy: 0.6803 - val_loss: 1.4734 - val_sparse_categorical_accuracy: 0.4375\n",
      "Epoch 23/100\n",
      "10/10 [==============================] - 0s 9ms/step - loss: 0.8420 - sparse_categorical_accuracy: 0.6865 - val_loss: 1.4143 - val_sparse_categorical_accuracy: 0.5875\n",
      "Epoch 24/100\n",
      "10/10 [==============================] - 0s 7ms/step - loss: 0.8377 - sparse_categorical_accuracy: 0.6959 - val_loss: 1.7101 - val_sparse_categorical_accuracy: 0.3625\n",
      "Epoch 25/100\n",
      "10/10 [==============================] - 0s 8ms/step - loss: 0.8259 - sparse_categorical_accuracy: 0.6803 - val_loss: 1.3676 - val_sparse_categorical_accuracy: 0.6000\n",
      "Epoch 26/100\n",
      "10/10 [==============================] - 0s 7ms/step - loss: 0.8346 - sparse_categorical_accuracy: 0.6959 - val_loss: 1.5276 - val_sparse_categorical_accuracy: 0.3875\n",
      "Epoch 27/100\n",
      "10/10 [==============================] - 0s 7ms/step - loss: 0.8193 - sparse_categorical_accuracy: 0.6928 - val_loss: 1.3906 - val_sparse_categorical_accuracy: 0.6000\n",
      "Epoch 28/100\n",
      "10/10 [==============================] - 0s 7ms/step - loss: 0.8195 - sparse_categorical_accuracy: 0.6865 - val_loss: 1.3925 - val_sparse_categorical_accuracy: 0.5250\n",
      "Epoch 29/100\n",
      "10/10 [==============================] - 0s 8ms/step - loss: 0.7959 - sparse_categorical_accuracy: 0.6991 - val_loss: 1.3587 - val_sparse_categorical_accuracy: 0.5875\n",
      "Epoch 30/100\n",
      "10/10 [==============================] - 0s 7ms/step - loss: 0.8142 - sparse_categorical_accuracy: 0.6803 - val_loss: 1.4016 - val_sparse_categorical_accuracy: 0.4375\n",
      "Epoch 31/100\n",
      "10/10 [==============================] - 0s 9ms/step - loss: 0.8049 - sparse_categorical_accuracy: 0.7022 - val_loss: 1.3259 - val_sparse_categorical_accuracy: 0.5625\n",
      "Epoch 32/100\n",
      "10/10 [==============================] - 0s 9ms/step - loss: 0.7979 - sparse_categorical_accuracy: 0.6865 - val_loss: 1.2788 - val_sparse_categorical_accuracy: 0.5375\n",
      "Epoch 33/100\n",
      "10/10 [==============================] - 0s 9ms/step - loss: 0.7803 - sparse_categorical_accuracy: 0.6959 - val_loss: 1.2601 - val_sparse_categorical_accuracy: 0.6000\n",
      "Epoch 34/100\n",
      "10/10 [==============================] - 0s 7ms/step - loss: 0.7704 - sparse_categorical_accuracy: 0.7116 - val_loss: 1.3368 - val_sparse_categorical_accuracy: 0.5000\n",
      "Epoch 35/100\n",
      "10/10 [==============================] - 0s 9ms/step - loss: 0.7799 - sparse_categorical_accuracy: 0.7053 - val_loss: 1.2083 - val_sparse_categorical_accuracy: 0.6000\n",
      "Epoch 36/100\n",
      "10/10 [==============================] - 0s 7ms/step - loss: 0.7593 - sparse_categorical_accuracy: 0.7085 - val_loss: 1.2777 - val_sparse_categorical_accuracy: 0.5875\n",
      "Epoch 37/100\n",
      "10/10 [==============================] - 0s 8ms/step - loss: 0.7626 - sparse_categorical_accuracy: 0.7022 - val_loss: 1.2489 - val_sparse_categorical_accuracy: 0.5875\n",
      "Epoch 38/100\n",
      "10/10 [==============================] - 0s 7ms/step - loss: 0.7650 - sparse_categorical_accuracy: 0.7022 - val_loss: 1.3869 - val_sparse_categorical_accuracy: 0.4875\n",
      "Epoch 39/100\n",
      "10/10 [==============================] - 0s 7ms/step - loss: 0.7560 - sparse_categorical_accuracy: 0.7053 - val_loss: 1.2437 - val_sparse_categorical_accuracy: 0.6000\n",
      "Epoch 40/100\n",
      "10/10 [==============================] - 0s 7ms/step - loss: 0.7504 - sparse_categorical_accuracy: 0.7398 - val_loss: 1.2691 - val_sparse_categorical_accuracy: 0.5875\n",
      "Epoch 41/100\n",
      "10/10 [==============================] - 0s 7ms/step - loss: 0.7496 - sparse_categorical_accuracy: 0.7210 - val_loss: 1.2752 - val_sparse_categorical_accuracy: 0.5875\n",
      "Epoch 42/100\n",
      "10/10 [==============================] - 0s 7ms/step - loss: 0.7413 - sparse_categorical_accuracy: 0.7210 - val_loss: 1.3477 - val_sparse_categorical_accuracy: 0.5875\n",
      "Epoch 43/100\n",
      "10/10 [==============================] - 0s 7ms/step - loss: 0.7239 - sparse_categorical_accuracy: 0.7429 - val_loss: 1.2392 - val_sparse_categorical_accuracy: 0.6000\n",
      "Epoch 44/100\n",
      "10/10 [==============================] - 0s 7ms/step - loss: 0.7496 - sparse_categorical_accuracy: 0.7210 - val_loss: 1.5177 - val_sparse_categorical_accuracy: 0.4125\n",
      "Epoch 45/100\n",
      "10/10 [==============================] - 0s 7ms/step - loss: 0.7658 - sparse_categorical_accuracy: 0.6959 - val_loss: 1.4172 - val_sparse_categorical_accuracy: 0.5625\n",
      "Epoch 46/100\n",
      "10/10 [==============================] - 0s 9ms/step - loss: 0.7318 - sparse_categorical_accuracy: 0.7273 - val_loss: 1.0763 - val_sparse_categorical_accuracy: 0.6000\n",
      "Epoch 47/100\n",
      "10/10 [==============================] - 0s 7ms/step - loss: 0.7202 - sparse_categorical_accuracy: 0.7210 - val_loss: 1.3397 - val_sparse_categorical_accuracy: 0.5375\n",
      "Epoch 48/100\n",
      "10/10 [==============================] - 0s 7ms/step - loss: 0.6995 - sparse_categorical_accuracy: 0.7273 - val_loss: 1.1999 - val_sparse_categorical_accuracy: 0.5500\n",
      "Epoch 49/100\n",
      "10/10 [==============================] - 0s 8ms/step - loss: 0.6926 - sparse_categorical_accuracy: 0.7461 - val_loss: 1.6092 - val_sparse_categorical_accuracy: 0.2750\n",
      "Epoch 50/100\n",
      "10/10 [==============================] - 0s 7ms/step - loss: 0.6873 - sparse_categorical_accuracy: 0.7555 - val_loss: 1.2655 - val_sparse_categorical_accuracy: 0.5500\n",
      "Epoch 51/100\n",
      "10/10 [==============================] - 0s 7ms/step - loss: 0.6779 - sparse_categorical_accuracy: 0.7492 - val_loss: 1.6977 - val_sparse_categorical_accuracy: 0.2500\n",
      "Epoch 52/100\n",
      "10/10 [==============================] - 0s 7ms/step - loss: 0.6662 - sparse_categorical_accuracy: 0.7492 - val_loss: 1.1108 - val_sparse_categorical_accuracy: 0.6250\n",
      "Epoch 53/100\n",
      "10/10 [==============================] - 0s 7ms/step - loss: 0.7015 - sparse_categorical_accuracy: 0.7367 - val_loss: 1.7122 - val_sparse_categorical_accuracy: 0.2625\n",
      "Epoch 54/100\n",
      "10/10 [==============================] - 0s 7ms/step - loss: 0.6858 - sparse_categorical_accuracy: 0.7429 - val_loss: 1.7583 - val_sparse_categorical_accuracy: 0.2750\n",
      "Epoch 55/100\n",
      "10/10 [==============================] - 0s 7ms/step - loss: 0.6742 - sparse_categorical_accuracy: 0.7461 - val_loss: 1.1662 - val_sparse_categorical_accuracy: 0.5875\n",
      "Epoch 56/100\n",
      "10/10 [==============================] - 0s 7ms/step - loss: 0.6518 - sparse_categorical_accuracy: 0.7524 - val_loss: 1.1273 - val_sparse_categorical_accuracy: 0.6000\n",
      "Epoch 57/100\n",
      "10/10 [==============================] - 0s 7ms/step - loss: 0.6402 - sparse_categorical_accuracy: 0.7712 - val_loss: 1.2285 - val_sparse_categorical_accuracy: 0.6250\n",
      "Epoch 58/100\n",
      "10/10 [==============================] - 0s 7ms/step - loss: 0.6294 - sparse_categorical_accuracy: 0.7774 - val_loss: 1.1874 - val_sparse_categorical_accuracy: 0.5875\n",
      "Epoch 59/100\n",
      "10/10 [==============================] - 0s 7ms/step - loss: 0.6200 - sparse_categorical_accuracy: 0.7806 - val_loss: 1.2740 - val_sparse_categorical_accuracy: 0.5750\n",
      "Epoch 60/100\n",
      "10/10 [==============================] - 0s 7ms/step - loss: 0.6223 - sparse_categorical_accuracy: 0.7837 - val_loss: 1.4746 - val_sparse_categorical_accuracy: 0.3750\n",
      "Epoch 61/100\n",
      "10/10 [==============================] - 0s 7ms/step - loss: 0.6186 - sparse_categorical_accuracy: 0.7837 - val_loss: 1.5041 - val_sparse_categorical_accuracy: 0.3625\n",
      "Epoch 62/100\n",
      "10/10 [==============================] - 0s 8ms/step - loss: 0.6042 - sparse_categorical_accuracy: 0.7649 - val_loss: 3.0405 - val_sparse_categorical_accuracy: 0.2375\n",
      "Epoch 63/100\n",
      "10/10 [==============================] - 0s 7ms/step - loss: 0.6176 - sparse_categorical_accuracy: 0.7586 - val_loss: 1.3898 - val_sparse_categorical_accuracy: 0.4250\n",
      "Epoch 64/100\n",
      "10/10 [==============================] - 0s 7ms/step - loss: 0.6116 - sparse_categorical_accuracy: 0.7931 - val_loss: 1.3431 - val_sparse_categorical_accuracy: 0.5500\n",
      "Epoch 65/100\n",
      "10/10 [==============================] - 0s 7ms/step - loss: 0.6145 - sparse_categorical_accuracy: 0.7712 - val_loss: 2.0318 - val_sparse_categorical_accuracy: 0.2750\n",
      "Epoch 66/100\n",
      "10/10 [==============================] - 0s 8ms/step - loss: 0.6098 - sparse_categorical_accuracy: 0.7806 - val_loss: 1.2152 - val_sparse_categorical_accuracy: 0.6000\n",
      "Epoch 67/100\n",
      "10/10 [==============================] - 0s 7ms/step - loss: 0.5898 - sparse_categorical_accuracy: 0.7555 - val_loss: 1.2232 - val_sparse_categorical_accuracy: 0.5500\n",
      "Epoch 68/100\n",
      "10/10 [==============================] - 0s 7ms/step - loss: 0.6075 - sparse_categorical_accuracy: 0.7931 - val_loss: 1.1305 - val_sparse_categorical_accuracy: 0.6000\n",
      "Epoch 69/100\n",
      "10/10 [==============================] - 0s 7ms/step - loss: 0.5869 - sparse_categorical_accuracy: 0.8025 - val_loss: 1.2394 - val_sparse_categorical_accuracy: 0.6250\n",
      "Epoch 70/100\n",
      "10/10 [==============================] - 0s 8ms/step - loss: 0.5700 - sparse_categorical_accuracy: 0.8056 - val_loss: 1.1197 - val_sparse_categorical_accuracy: 0.6125\n",
      "Epoch 71/100\n",
      "10/10 [==============================] - 0s 8ms/step - loss: 0.5518 - sparse_categorical_accuracy: 0.8119 - val_loss: 1.9887 - val_sparse_categorical_accuracy: 0.3375\n",
      "Epoch 72/100\n",
      "10/10 [==============================] - 0s 8ms/step - loss: 0.5406 - sparse_categorical_accuracy: 0.7994 - val_loss: 1.2463 - val_sparse_categorical_accuracy: 0.6125\n",
      "Epoch 73/100\n",
      "10/10 [==============================] - 0s 8ms/step - loss: 0.5666 - sparse_categorical_accuracy: 0.7837 - val_loss: 1.0922 - val_sparse_categorical_accuracy: 0.6125\n",
      "Epoch 74/100\n",
      "10/10 [==============================] - 0s 9ms/step - loss: 0.5502 - sparse_categorical_accuracy: 0.8182 - val_loss: 1.0636 - val_sparse_categorical_accuracy: 0.6000\n",
      "Epoch 75/100\n",
      "10/10 [==============================] - 0s 7ms/step - loss: 0.5417 - sparse_categorical_accuracy: 0.8088 - val_loss: 1.3283 - val_sparse_categorical_accuracy: 0.5250\n",
      "Epoch 76/100\n",
      "10/10 [==============================] - 0s 8ms/step - loss: 0.5538 - sparse_categorical_accuracy: 0.8056 - val_loss: 1.2184 - val_sparse_categorical_accuracy: 0.5625\n",
      "Epoch 77/100\n",
      "10/10 [==============================] - 0s 8ms/step - loss: 0.5611 - sparse_categorical_accuracy: 0.7962 - val_loss: 1.3773 - val_sparse_categorical_accuracy: 0.5625\n",
      "Epoch 78/100\n",
      "10/10 [==============================] - 0s 8ms/step - loss: 0.5718 - sparse_categorical_accuracy: 0.8025 - val_loss: 2.0455 - val_sparse_categorical_accuracy: 0.6000\n",
      "Epoch 79/100\n",
      "10/10 [==============================] - 0s 8ms/step - loss: 0.5484 - sparse_categorical_accuracy: 0.7994 - val_loss: 1.4888 - val_sparse_categorical_accuracy: 0.5500\n",
      "Epoch 80/100\n",
      "10/10 [==============================] - 0s 8ms/step - loss: 0.5601 - sparse_categorical_accuracy: 0.7962 - val_loss: 1.1599 - val_sparse_categorical_accuracy: 0.6375\n",
      "Epoch 81/100\n",
      "10/10 [==============================] - 0s 8ms/step - loss: 0.5238 - sparse_categorical_accuracy: 0.8182 - val_loss: 1.2338 - val_sparse_categorical_accuracy: 0.5875\n",
      "Epoch 82/100\n",
      "10/10 [==============================] - 0s 8ms/step - loss: 0.4863 - sparse_categorical_accuracy: 0.8433 - val_loss: 1.4223 - val_sparse_categorical_accuracy: 0.4625\n",
      "Epoch 83/100\n",
      "10/10 [==============================] - 0s 8ms/step - loss: 0.5131 - sparse_categorical_accuracy: 0.8213 - val_loss: 1.6066 - val_sparse_categorical_accuracy: 0.4375\n",
      "Epoch 84/100\n",
      "10/10 [==============================] - 0s 8ms/step - loss: 0.5017 - sparse_categorical_accuracy: 0.8464 - val_loss: 3.0837 - val_sparse_categorical_accuracy: 0.2750\n",
      "Epoch 85/100\n",
      "10/10 [==============================] - 0s 8ms/step - loss: 0.4980 - sparse_categorical_accuracy: 0.8245 - val_loss: 1.2470 - val_sparse_categorical_accuracy: 0.5875\n",
      "Epoch 86/100\n",
      "10/10 [==============================] - 0s 8ms/step - loss: 0.4929 - sparse_categorical_accuracy: 0.8621 - val_loss: 1.7465 - val_sparse_categorical_accuracy: 0.3750\n",
      "Epoch 87/100\n",
      "10/10 [==============================] - 0s 8ms/step - loss: 0.4687 - sparse_categorical_accuracy: 0.8401 - val_loss: 1.5097 - val_sparse_categorical_accuracy: 0.5500\n",
      "Epoch 88/100\n",
      "10/10 [==============================] - 0s 8ms/step - loss: 0.4767 - sparse_categorical_accuracy: 0.8339 - val_loss: 2.3962 - val_sparse_categorical_accuracy: 0.1375\n",
      "Epoch 89/100\n",
      "10/10 [==============================] - 0s 8ms/step - loss: 0.4730 - sparse_categorical_accuracy: 0.8495 - val_loss: 1.5182 - val_sparse_categorical_accuracy: 0.4000\n",
      "Epoch 90/100\n",
      "10/10 [==============================] - 0s 8ms/step - loss: 0.4480 - sparse_categorical_accuracy: 0.8495 - val_loss: 1.2106 - val_sparse_categorical_accuracy: 0.5500\n",
      "Epoch 91/100\n",
      "10/10 [==============================] - 0s 9ms/step - loss: 0.4283 - sparse_categorical_accuracy: 0.8997 - val_loss: 1.3140 - val_sparse_categorical_accuracy: 0.5000\n",
      "Epoch 92/100\n",
      "10/10 [==============================] - 0s 8ms/step - loss: 0.4196 - sparse_categorical_accuracy: 0.8809 - val_loss: 1.1998 - val_sparse_categorical_accuracy: 0.5625\n",
      "Epoch 93/100\n",
      "10/10 [==============================] - 0s 8ms/step - loss: 0.4246 - sparse_categorical_accuracy: 0.8652 - val_loss: 1.7133 - val_sparse_categorical_accuracy: 0.4500\n",
      "Epoch 94/100\n",
      "10/10 [==============================] - 0s 8ms/step - loss: 0.4290 - sparse_categorical_accuracy: 0.8715 - val_loss: 1.3683 - val_sparse_categorical_accuracy: 0.5500\n",
      "Epoch 95/100\n",
      "10/10 [==============================] - 0s 8ms/step - loss: 0.4236 - sparse_categorical_accuracy: 0.8871 - val_loss: 1.7689 - val_sparse_categorical_accuracy: 0.4375\n",
      "Epoch 96/100\n",
      "10/10 [==============================] - 0s 8ms/step - loss: 0.4153 - sparse_categorical_accuracy: 0.8809 - val_loss: 1.2993 - val_sparse_categorical_accuracy: 0.5875\n",
      "Epoch 97/100\n",
      "10/10 [==============================] - 0s 8ms/step - loss: 0.4122 - sparse_categorical_accuracy: 0.8683 - val_loss: 2.5365 - val_sparse_categorical_accuracy: 0.4250\n",
      "Epoch 98/100\n",
      "10/10 [==============================] - 0s 8ms/step - loss: 0.5003 - sparse_categorical_accuracy: 0.8401 - val_loss: 1.8912 - val_sparse_categorical_accuracy: 0.5625\n",
      "Epoch 99/100\n",
      "10/10 [==============================] - 0s 8ms/step - loss: 0.4713 - sparse_categorical_accuracy: 0.8558 - val_loss: 1.9855 - val_sparse_categorical_accuracy: 0.3125\n",
      "Epoch 100/100\n",
      "10/10 [==============================] - 0s 9ms/step - loss: 0.4239 - sparse_categorical_accuracy: 0.8652 - val_loss: 1.2206 - val_sparse_categorical_accuracy: 0.5125\n"
     ]
    }
   ],
   "source": [
    "model = make_CNN_model(x_train.shape[1:],num_classes = 6)\n",
    "trained_model, history = train_CNN_model(model, x_train, y_train, epochs=100, batch_size=32)"
   ]
  },
  {
   "cell_type": "code",
   "execution_count": 11,
   "id": "227e6120",
   "metadata": {},
   "outputs": [
    {
     "name": "stdout",
     "output_type": "stream",
     "text": [
      "5/5 [==============================] - 0s 3ms/step - loss: 1.4207 - sparse_categorical_accuracy: 0.4481\n",
      "Test accuracy 0.44805195927619934\n",
      "Test loss 1.420715093612671\n"
     ]
    }
   ],
   "source": [
    "test_loss, test_acc = trained_model.evaluate(x_test_original, y_test_original)\n",
    "\n",
    "print(\"Test accuracy\", test_acc)\n",
    "print(\"Test loss\", test_loss)"
   ]
  },
  {
   "cell_type": "markdown",
   "id": "4773dace",
   "metadata": {},
   "source": [
    "### Create perturbed test sets and calculate decrease in accuracy"
   ]
  },
  {
   "cell_type": "code",
   "execution_count": 12,
   "id": "b854bfe4-2303-44a0-bef5-eb3c738da9e9",
   "metadata": {},
   "outputs": [
    {
     "name": "stdout",
     "output_type": "stream",
     "text": [
      "(154,)\n"
     ]
    }
   ],
   "source": [
    "print(y_test_original.shape)"
   ]
  },
  {
   "cell_type": "code",
   "execution_count": 75,
   "id": "4c579fb7",
   "metadata": {},
   "outputs": [
    {
     "name": "stdout",
     "output_type": "stream",
     "text": [
      "5/5 [==============================] - 0s 3ms/step\n",
      "5/5 [==============================] - 0s 3ms/step\n",
      "5/5 [==============================] - 0s 3ms/step\n",
      "5/5 [==============================] - 0s 3ms/step\n",
      "5/5 [==============================] - 0s 3ms/step\n"
     ]
    }
   ],
   "source": [
    "predictions_original = model.predict(x_test_original)\n",
    "perturb_test_set = x_test_original.copy()\n",
    "perturb_test_set = perturb_test_set.reshape(x_test_original.shape[0:2])\n",
    "index_0 = 40\n",
    "index_1 = 80\n",
    "x_test_rbp = np.asarray([perturb('RBP',x,index_0,index_1) for x in perturb_test_set])\n",
    "x_test_rbp = np.expand_dims(x_test_rbp, axis=-1)\n",
    "predictions_rbp = model.predict(x_test_rbp)\n",
    "\n",
    "bg = multisamplebackgroundIdentification(perturb_test_set)\n",
    "x_test_new1 = np.asarray([perturb('RBP1fast',x,index_0,index_1, bg = bg) for x in perturb_test_set])\n",
    "x_test_new1 = np.expand_dims(x_test_new1, axis=-1)\n",
    "predictions_new1 = model.predict(x_test_new1)\n",
    "\n",
    "#x_test_new2 = np.asarray([perturb('RBP2',x,400,500, global_ts = perturb_test_set) for x in perturb_test_set])\n",
    "#x_test_new2 = np.expand_dims(x_test_new2, axis=-1)\n",
    "#predictions_new2 = model.predict(x_test_new2)\n",
    "\n",
    "x_test_zero = np.asarray([perturb('zero',x,index_0,index_1) for x in perturb_test_set])\n",
    "x_test_zero = np.expand_dims(x_test_zero, axis=-1)\n",
    "predictions_zero = model.predict(x_test_zero)\n",
    "\n",
    "#x_test_noise = np.asarray([perturb('noise',x,index_0,index_1) for x in perturb_test_set])\n",
    "#x_test_noise = np.expand_dims(x_test_noise, axis=-1)\n",
    "#predictions_noise = model.predict(x_test_noise)\n",
    "\n",
    "x_test_blur = np.asarray([perturb('blur',x,index_0,index_1) for x in perturb_test_set])\n",
    "x_test_blur = np.expand_dims(x_test_blur, axis=-1)\n",
    "predictions_blur = model.predict(x_test_blur)"
   ]
  },
  {
   "cell_type": "code",
   "execution_count": 76,
   "id": "069af343-0cfa-4787-b5d4-170f885bb59d",
   "metadata": {},
   "outputs": [
    {
     "name": "stdout",
     "output_type": "stream",
     "text": [
      "5.832988872371625\n",
      "6.166411996715758\n",
      "6.074713470761612\n",
      "1.3577834012807168\n"
     ]
    }
   ],
   "source": [
    "def l2norm(perturb):\n",
    "    # 计算两个数组之间的差\n",
    "    difference = perturb - x_test_original\n",
    "    \n",
    "    # 计算差的平方\n",
    "    squared_difference = np.square(difference)\n",
    "    \n",
    "    # 计算平方和，沿着特征维度（axis=1），因为每个时间序列样本是一行\n",
    "    sum_of_squares = np.sum(squared_difference, axis=1)\n",
    "    \n",
    "    # 计算平方和的平方根，即l2范数\n",
    "    l2_norms = np.sqrt(sum_of_squares)\n",
    "    \n",
    "    average_l2_norm = np.mean(l2_norms)\n",
    "    \n",
    "    # l2_norms现在是一个形状为(467,)的数组，其中每个元素代表\n",
    "    # 对应时间序列样本之间的l2范数\n",
    "    print(average_l2_norm)  # 输出: (467,)\n",
    "\n",
    "l2norm(x_test_rbp)\n",
    "l2norm(x_test_new1)\n",
    "l2norm(x_test_zero)\n",
    "#l2norm(x_test_noise)\n",
    "l2norm(x_test_blur)"
   ]
  },
  {
   "cell_type": "code",
   "execution_count": 77,
   "id": "b5d3f821",
   "metadata": {},
   "outputs": [],
   "source": [
    "def accuracy(predictions, labels):\n",
    "    hits = 0\n",
    "    for i in range(0,len(predictions)):\n",
    "        if predictions[i] == labels[i]:\n",
    "            hits += 1\n",
    "    return hits/len(predictions)"
   ]
  },
  {
   "cell_type": "code",
   "execution_count": 78,
   "id": "89f21d47",
   "metadata": {},
   "outputs": [],
   "source": [
    "original_accuracy = accuracy(np.argmax(predictions_original,axis=1), y_test_original)\n",
    "rbp_accuracy = accuracy(np.argmax(predictions_rbp,axis=1), y_test_original)\n",
    "new1_accuracy = accuracy(np.argmax(predictions_new1,axis=1), y_test_original)\n",
    "#new2_accuracy = accuracy(np.argmax(predictions_new2,axis=1), y_test_original)\n",
    "zero_accuracy = accuracy(np.argmax(predictions_zero,axis=1), y_test_original)\n",
    "#noise_accuracy = accuracy(np.argmax(predictions_noise,axis=1), y_test_original)\n",
    "blur_accuracy = accuracy(np.argmax(predictions_blur,axis=1), y_test_original)"
   ]
  },
  {
   "cell_type": "code",
   "execution_count": 79,
   "id": "e52c9d2e",
   "metadata": {},
   "outputs": [
    {
     "name": "stdout",
     "output_type": "stream",
     "text": [
      " Original Accuracy: 0.44805194805194803\n",
      " RBP Accuracy: 0.2597402597402597\n",
      " RBP1 Accuracy: 0.21428571428571427\n",
      " Zero Accuracy: 0.3116883116883117\n",
      " Blur Accuracy: 0.38311688311688313\n",
      "\n"
     ]
    }
   ],
   "source": [
    "print(\" Original Accuracy: \" + str(original_accuracy) + \"\\n\"+\n",
    "    \" RBP Accuracy: \" + str(rbp_accuracy) + \"\\n\"+\n",
    "    \" RBP1 Accuracy: \" + str(new1_accuracy) + \"\\n\"+\n",
    "    #\" RBP2 Accuracy: \" + str(new2_accuracy) + \"\\n\"+\n",
    "      \n",
    "    \" Zero Accuracy: \" + str(zero_accuracy) + \"\\n\"+\n",
    "    #\" Noise Accuracy: \" + str(noise_accuracy) + \"\\n\"+\n",
    "    \" Blur Accuracy: \" + str(blur_accuracy) + \"\\n\")"
   ]
  },
  {
   "cell_type": "code",
   "execution_count": null,
   "id": "05cec113-77cb-46a7-84cd-b2feadd4d9b5",
   "metadata": {},
   "outputs": [],
   "source": []
  }
 ],
 "metadata": {
  "kernelspec": {
   "display_name": "lime_tf",
   "language": "python",
   "name": "limetf"
  },
  "language_info": {
   "codemirror_mode": {
    "name": "ipython",
    "version": 3
   },
   "file_extension": ".py",
   "mimetype": "text/x-python",
   "name": "python",
   "nbconvert_exporter": "python",
   "pygments_lexer": "ipython3",
   "version": "3.10.13"
  }
 },
 "nbformat": 4,
 "nbformat_minor": 5
}
