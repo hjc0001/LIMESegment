{
 "cells": [
  {
   "cell_type": "code",
   "execution_count": 9,
   "id": "dd9bd814",
   "metadata": {},
   "outputs": [],
   "source": [
    "import numpy as np\n",
    "import matplotlib.pyplot as plt\n",
    "import inspect"
   ]
  },
  {
   "cell_type": "code",
   "execution_count": 10,
   "id": "2439de23",
   "metadata": {},
   "outputs": [
    {
     "name": "stdout",
     "output_type": "stream",
     "text": [
      "['/Users/gali/anaconda3/envs/LIMEtf/lib/python310.zip', '/Users/gali/anaconda3/envs/LIMEtf/lib/python3.10', '/Users/gali/anaconda3/envs/LIMEtf/lib/python3.10/lib-dynload', '', '/Users/gali/anaconda3/envs/LIMEtf/lib/python3.10/site-packages', '/Users/gali/anaconda3/envs/LIMEtf/lib/python3.10/site-packages/setuptools/_vendor', '../', '../', '../']\n"
     ]
    }
   ],
   "source": [
    "import importlib\n",
    "import sys\n",
    "sys.path.append('../')\n",
    "from Utils.perturbationsnew import RBPIndividual, RBPIndividualNew1, RBPIndividualNew2, zeroPerturb, noisePerturb, blurPerturb\n",
    "from Utils.models import *\n",
    "from Utils.data import perturb, generateSynthetic, generateSyntheticPerturbReal,ReadTS\n",
    "\n",
    "print(sys.path)\n"
   ]
  },
  {
   "cell_type": "markdown",
   "id": "62b11ea0",
   "metadata": {},
   "source": [
    "## Test important content removal (accuracy decrease)"
   ]
  },
  {
   "cell_type": "markdown",
   "id": "5567ae62",
   "metadata": {},
   "source": [
    "### Load synthetic dataset and train CNN model "
   ]
  },
  {
   "cell_type": "code",
   "execution_count": 11,
   "id": "812c0d59",
   "metadata": {},
   "outputs": [
    {
     "name": "stdout",
     "output_type": "stream",
     "text": [
      "(390, 300, 1)\n",
      "[11.  8. 11.  8.  8.  0.  4. 11.  5.  0.  9.  9.  0.  3. 10.  4.  6.  8.\n",
      "  6.  1.  5.  0.  4.  2.  8.  3.  6.  2.  5.  8. 11.  7. 11.  5.  1.  2.\n",
      "  4.  3.  7.  5. 11.  7.  0.  0.  2. 10.  6. 11.  7.  6.  0.  5.  8.  9.\n",
      " 10. 10.  6.  5.  5.  5.  9.  3.  1.  4. 10.  9.  1.  6.  7.  4. 10.  3.\n",
      "  4.  1.  2.  5.  5.  2.  7. 10. 11.  9.  7.  9.  0. 10.  3.  8.  5.  6.\n",
      "  6. 11.  3.  5.  6. 10.  9.  9.  6.  0.  8.  6.  2.  4. 11.  3.  0.  1.\n",
      "  8.  0. 11. 10.  4.  0. 10.  2. 10.  8. 10.  0. 11.  4.  3. 11.  6.  9.\n",
      "  7.  3.  5.  0.  8.  0. 10.  4.  1.  1.  8.  1. 10. 10.  9.  2.  8.  5.\n",
      "  3.  9.  3.  5.  8.  8.  1.  2. 11.  0.  0.  9.  2. 10.  0.  4.  4. 10.\n",
      "  1.  2.  6.  3.  3.  1.  5.  7. 11. 10.  0.  7.  7.  2. 11. 11.  1.  5.\n",
      "  6.  0.  3.  6.  4.  7.  5.  3.  3.  2.  6.  1.  3.  0.  9.  6. 10.  7.\n",
      "  3.  7.  5.  3.  6. 11.  4.  4. 10.  0.  4.  2.  0.  4.  7.  0.  9.  1.\n",
      "  2.  7.  4.  0.  6.  3. 11.  1.  7. 10.  5.  1.  3.  3.  7.  3.  2.  3.\n",
      "  5. 10.  2.  1. 10. 11.  2.  5.  1.  0.  3. 10.  6.  4.  6.  3.  8.  0.\n",
      "  9.  0.  9. 11. 11.  9. 10.  7.  7.  1.  4.  9.  9. 10. 10. 11.  6.  5.\n",
      "  5.  9. 11.  2.  6.  1.  7.  7.  2.  5. 11.  7. 10.  5.  7.  8.  8.  9.\n",
      "  1.  0.  3.  5. 10.  2.  2.  1.  3.  0.  4.  3.  3. 10.  5.  2.  7.  0.\n",
      " 11.  4.  5.  9.  1.  9.  3.  1.  6.  7.  1.  2.  0.  1.  8.  7.  2.  1.\n",
      " 10.  6.  2.  0. 11. 10.  2.  1.  6.  9.  9. 10.  3.  8.  7.  5.  4. 10.\n",
      "  8.  7. 11.  0. 11.  1.  8.  0.  5.  4.  6.  2.  8.  8.  7.  2.  5.  2.\n",
      "  5.  2.  3.  0.  2.  0. 11. 11. 10.  6.  6. 10.  9.  1.  4.  6.  6.  6.\n",
      "  3.  4. 10.  7.  9.  6.  6.  2. 10.  6. 11.  0.]\n"
     ]
    }
   ],
   "source": [
    "x_train, y_train,x_test_original, y_test_original = ReadTS('CricketX')\n",
    "y_train = y_train - 1\n",
    "y_test_original = y_test_original - 1\n",
    "print(x_train.shape)\n",
    "print(y_train)"
   ]
  },
  {
   "cell_type": "code",
   "execution_count": 12,
   "id": "c9911722",
   "metadata": {},
   "outputs": [
    {
     "name": "stdout",
     "output_type": "stream",
     "text": [
      "Epoch 1/100\n",
      "10/10 [==============================] - 1s 24ms/step - loss: 2.4873 - sparse_categorical_accuracy: 0.1282 - val_loss: 2.4775 - val_sparse_categorical_accuracy: 0.0769\n",
      "Epoch 2/100\n",
      "10/10 [==============================] - 0s 18ms/step - loss: 2.3317 - sparse_categorical_accuracy: 0.2532 - val_loss: 2.4668 - val_sparse_categorical_accuracy: 0.1410\n",
      "Epoch 3/100\n",
      "10/10 [==============================] - 0s 18ms/step - loss: 2.2496 - sparse_categorical_accuracy: 0.2917 - val_loss: 2.4529 - val_sparse_categorical_accuracy: 0.1026\n",
      "Epoch 4/100\n",
      "10/10 [==============================] - 0s 19ms/step - loss: 2.1953 - sparse_categorical_accuracy: 0.3590 - val_loss: 2.4438 - val_sparse_categorical_accuracy: 0.1410\n",
      "Epoch 5/100\n",
      "10/10 [==============================] - 0s 18ms/step - loss: 2.1342 - sparse_categorical_accuracy: 0.4006 - val_loss: 2.4322 - val_sparse_categorical_accuracy: 0.1923\n",
      "Epoch 6/100\n",
      "10/10 [==============================] - 0s 20ms/step - loss: 2.0857 - sparse_categorical_accuracy: 0.4391 - val_loss: 2.4290 - val_sparse_categorical_accuracy: 0.1923\n",
      "Epoch 7/100\n",
      "10/10 [==============================] - 0s 19ms/step - loss: 2.0525 - sparse_categorical_accuracy: 0.4391 - val_loss: 2.4286 - val_sparse_categorical_accuracy: 0.2692\n",
      "Epoch 8/100\n",
      "10/10 [==============================] - 0s 17ms/step - loss: 2.0175 - sparse_categorical_accuracy: 0.4423 - val_loss: 2.4299 - val_sparse_categorical_accuracy: 0.2949\n",
      "Epoch 9/100\n",
      "10/10 [==============================] - 0s 18ms/step - loss: 1.9687 - sparse_categorical_accuracy: 0.4583 - val_loss: 2.4426 - val_sparse_categorical_accuracy: 0.2179\n",
      "Epoch 10/100\n",
      "10/10 [==============================] - 0s 18ms/step - loss: 1.9417 - sparse_categorical_accuracy: 0.4840 - val_loss: 2.4519 - val_sparse_categorical_accuracy: 0.2179\n",
      "Epoch 11/100\n",
      "10/10 [==============================] - 0s 17ms/step - loss: 1.9227 - sparse_categorical_accuracy: 0.4712 - val_loss: 2.4875 - val_sparse_categorical_accuracy: 0.1667\n",
      "Epoch 12/100\n",
      "10/10 [==============================] - 0s 18ms/step - loss: 1.8699 - sparse_categorical_accuracy: 0.4968 - val_loss: 2.4852 - val_sparse_categorical_accuracy: 0.1667\n",
      "Epoch 13/100\n",
      "10/10 [==============================] - 0s 17ms/step - loss: 1.8387 - sparse_categorical_accuracy: 0.5192 - val_loss: 2.5544 - val_sparse_categorical_accuracy: 0.1667\n",
      "Epoch 14/100\n",
      "10/10 [==============================] - 0s 17ms/step - loss: 1.8046 - sparse_categorical_accuracy: 0.5224 - val_loss: 2.5894 - val_sparse_categorical_accuracy: 0.1667\n",
      "Epoch 15/100\n",
      "10/10 [==============================] - 0s 17ms/step - loss: 1.7745 - sparse_categorical_accuracy: 0.5449 - val_loss: 2.6597 - val_sparse_categorical_accuracy: 0.1795\n",
      "Epoch 16/100\n",
      "10/10 [==============================] - 0s 17ms/step - loss: 1.7610 - sparse_categorical_accuracy: 0.5481 - val_loss: 2.6718 - val_sparse_categorical_accuracy: 0.1667\n",
      "Epoch 17/100\n",
      "10/10 [==============================] - 0s 17ms/step - loss: 1.7139 - sparse_categorical_accuracy: 0.5288 - val_loss: 2.7213 - val_sparse_categorical_accuracy: 0.1538\n",
      "Epoch 18/100\n",
      "10/10 [==============================] - 0s 18ms/step - loss: 1.6914 - sparse_categorical_accuracy: 0.5577 - val_loss: 2.8078 - val_sparse_categorical_accuracy: 0.1410\n",
      "Epoch 19/100\n",
      "10/10 [==============================] - 0s 17ms/step - loss: 1.6751 - sparse_categorical_accuracy: 0.5641 - val_loss: 2.7956 - val_sparse_categorical_accuracy: 0.1667\n",
      "Epoch 20/100\n",
      "10/10 [==============================] - 0s 17ms/step - loss: 1.6380 - sparse_categorical_accuracy: 0.5801 - val_loss: 2.8121 - val_sparse_categorical_accuracy: 0.1667\n",
      "Epoch 21/100\n",
      "10/10 [==============================] - 0s 17ms/step - loss: 1.6138 - sparse_categorical_accuracy: 0.5769 - val_loss: 2.7665 - val_sparse_categorical_accuracy: 0.1923\n",
      "Epoch 22/100\n",
      "10/10 [==============================] - 0s 17ms/step - loss: 1.6003 - sparse_categorical_accuracy: 0.5705 - val_loss: 2.8515 - val_sparse_categorical_accuracy: 0.1795\n",
      "Epoch 23/100\n",
      "10/10 [==============================] - 0s 18ms/step - loss: 1.5637 - sparse_categorical_accuracy: 0.6122 - val_loss: 2.7507 - val_sparse_categorical_accuracy: 0.2436\n",
      "Epoch 24/100\n",
      "10/10 [==============================] - 0s 18ms/step - loss: 1.5402 - sparse_categorical_accuracy: 0.5962 - val_loss: 2.7982 - val_sparse_categorical_accuracy: 0.2051\n",
      "Epoch 25/100\n",
      "10/10 [==============================] - 0s 17ms/step - loss: 1.5410 - sparse_categorical_accuracy: 0.6186 - val_loss: 2.8019 - val_sparse_categorical_accuracy: 0.2564\n",
      "Epoch 26/100\n",
      "10/10 [==============================] - 0s 17ms/step - loss: 1.5140 - sparse_categorical_accuracy: 0.5962 - val_loss: 2.8614 - val_sparse_categorical_accuracy: 0.2308\n",
      "Epoch 27/100\n",
      "10/10 [==============================] - 0s 18ms/step - loss: 1.4877 - sparse_categorical_accuracy: 0.5994 - val_loss: 2.7182 - val_sparse_categorical_accuracy: 0.2692\n",
      "Epoch 28/100\n",
      "10/10 [==============================] - 0s 19ms/step - loss: 1.4963 - sparse_categorical_accuracy: 0.5962 - val_loss: 2.6513 - val_sparse_categorical_accuracy: 0.2692\n",
      "Epoch 29/100\n",
      "10/10 [==============================] - 0s 18ms/step - loss: 1.4522 - sparse_categorical_accuracy: 0.6538 - val_loss: 2.5684 - val_sparse_categorical_accuracy: 0.2821\n",
      "Epoch 30/100\n",
      "10/10 [==============================] - 0s 18ms/step - loss: 1.4307 - sparse_categorical_accuracy: 0.6282 - val_loss: 2.5724 - val_sparse_categorical_accuracy: 0.2821\n",
      "Epoch 31/100\n",
      "10/10 [==============================] - 0s 18ms/step - loss: 1.4222 - sparse_categorical_accuracy: 0.6442 - val_loss: 2.4504 - val_sparse_categorical_accuracy: 0.2949\n",
      "Epoch 32/100\n",
      "10/10 [==============================] - 0s 21ms/step - loss: 1.4019 - sparse_categorical_accuracy: 0.6314 - val_loss: 2.3009 - val_sparse_categorical_accuracy: 0.2821\n",
      "Epoch 33/100\n",
      "10/10 [==============================] - 0s 20ms/step - loss: 1.3780 - sparse_categorical_accuracy: 0.6410 - val_loss: 2.3996 - val_sparse_categorical_accuracy: 0.2821\n",
      "Epoch 34/100\n",
      "10/10 [==============================] - 0s 21ms/step - loss: 1.3586 - sparse_categorical_accuracy: 0.6442 - val_loss: 2.2770 - val_sparse_categorical_accuracy: 0.2949\n",
      "Epoch 35/100\n",
      "10/10 [==============================] - 0s 20ms/step - loss: 1.3583 - sparse_categorical_accuracy: 0.6378 - val_loss: 2.2278 - val_sparse_categorical_accuracy: 0.3205\n",
      "Epoch 36/100\n",
      "10/10 [==============================] - 0s 20ms/step - loss: 1.3405 - sparse_categorical_accuracy: 0.6571 - val_loss: 2.1896 - val_sparse_categorical_accuracy: 0.3205\n",
      "Epoch 37/100\n",
      "10/10 [==============================] - 0s 18ms/step - loss: 1.2965 - sparse_categorical_accuracy: 0.6635 - val_loss: 2.1941 - val_sparse_categorical_accuracy: 0.2949\n",
      "Epoch 38/100\n",
      "10/10 [==============================] - 0s 20ms/step - loss: 1.3077 - sparse_categorical_accuracy: 0.6571 - val_loss: 2.0746 - val_sparse_categorical_accuracy: 0.3077\n",
      "Epoch 39/100\n",
      "10/10 [==============================] - 0s 21ms/step - loss: 1.3072 - sparse_categorical_accuracy: 0.6442 - val_loss: 2.0135 - val_sparse_categorical_accuracy: 0.3333\n",
      "Epoch 40/100\n",
      "10/10 [==============================] - 0s 19ms/step - loss: 1.2803 - sparse_categorical_accuracy: 0.6603 - val_loss: 2.0189 - val_sparse_categorical_accuracy: 0.3590\n",
      "Epoch 41/100\n",
      "10/10 [==============================] - 0s 19ms/step - loss: 1.2564 - sparse_categorical_accuracy: 0.6635 - val_loss: 1.7820 - val_sparse_categorical_accuracy: 0.4231\n",
      "Epoch 42/100\n",
      "10/10 [==============================] - 0s 20ms/step - loss: 1.2423 - sparse_categorical_accuracy: 0.6763 - val_loss: 1.7540 - val_sparse_categorical_accuracy: 0.4103\n",
      "Epoch 43/100\n",
      "10/10 [==============================] - 0s 19ms/step - loss: 1.2290 - sparse_categorical_accuracy: 0.6763 - val_loss: 1.6873 - val_sparse_categorical_accuracy: 0.4103\n",
      "Epoch 44/100\n",
      "10/10 [==============================] - 0s 19ms/step - loss: 1.2143 - sparse_categorical_accuracy: 0.6635 - val_loss: 1.6383 - val_sparse_categorical_accuracy: 0.4744\n",
      "Epoch 45/100\n",
      "10/10 [==============================] - 0s 19ms/step - loss: 1.2150 - sparse_categorical_accuracy: 0.6346 - val_loss: 1.6275 - val_sparse_categorical_accuracy: 0.4744\n",
      "Epoch 46/100\n",
      "10/10 [==============================] - 0s 18ms/step - loss: 1.1813 - sparse_categorical_accuracy: 0.6987 - val_loss: 1.7856 - val_sparse_categorical_accuracy: 0.3590\n",
      "Epoch 47/100\n",
      "10/10 [==============================] - 0s 18ms/step - loss: 1.1854 - sparse_categorical_accuracy: 0.6699 - val_loss: 1.6390 - val_sparse_categorical_accuracy: 0.4744\n",
      "Epoch 48/100\n",
      "10/10 [==============================] - 0s 19ms/step - loss: 1.1679 - sparse_categorical_accuracy: 0.6923 - val_loss: 1.5731 - val_sparse_categorical_accuracy: 0.4615\n",
      "Epoch 49/100\n",
      "10/10 [==============================] - 0s 19ms/step - loss: 1.1597 - sparse_categorical_accuracy: 0.6987 - val_loss: 1.4867 - val_sparse_categorical_accuracy: 0.5256\n",
      "Epoch 50/100\n",
      "10/10 [==============================] - 0s 18ms/step - loss: 1.1579 - sparse_categorical_accuracy: 0.6859 - val_loss: 1.5741 - val_sparse_categorical_accuracy: 0.4103\n",
      "Epoch 51/100\n",
      "10/10 [==============================] - 0s 19ms/step - loss: 1.1306 - sparse_categorical_accuracy: 0.6859 - val_loss: 1.4368 - val_sparse_categorical_accuracy: 0.5641\n",
      "Epoch 52/100\n",
      "10/10 [==============================] - 0s 19ms/step - loss: 1.1247 - sparse_categorical_accuracy: 0.6891 - val_loss: 1.4186 - val_sparse_categorical_accuracy: 0.5641\n",
      "Epoch 53/100\n",
      "10/10 [==============================] - 0s 20ms/step - loss: 1.1228 - sparse_categorical_accuracy: 0.7051 - val_loss: 1.3810 - val_sparse_categorical_accuracy: 0.5897\n",
      "Epoch 54/100\n",
      "10/10 [==============================] - 0s 18ms/step - loss: 1.0974 - sparse_categorical_accuracy: 0.7051 - val_loss: 1.3818 - val_sparse_categorical_accuracy: 0.5769\n",
      "Epoch 55/100\n",
      "10/10 [==============================] - 0s 18ms/step - loss: 1.0929 - sparse_categorical_accuracy: 0.6859 - val_loss: 1.4875 - val_sparse_categorical_accuracy: 0.5000\n",
      "Epoch 56/100\n",
      "10/10 [==============================] - 0s 18ms/step - loss: 1.0999 - sparse_categorical_accuracy: 0.6987 - val_loss: 1.4128 - val_sparse_categorical_accuracy: 0.5385\n",
      "Epoch 57/100\n",
      "10/10 [==============================] - 0s 20ms/step - loss: 1.0586 - sparse_categorical_accuracy: 0.7051 - val_loss: 1.3074 - val_sparse_categorical_accuracy: 0.5769\n",
      "Epoch 58/100\n",
      "10/10 [==============================] - 0s 19ms/step - loss: 1.0656 - sparse_categorical_accuracy: 0.6891 - val_loss: 1.3179 - val_sparse_categorical_accuracy: 0.5641\n",
      "Epoch 59/100\n",
      "10/10 [==============================] - 0s 19ms/step - loss: 1.0235 - sparse_categorical_accuracy: 0.7083 - val_loss: 1.3204 - val_sparse_categorical_accuracy: 0.5897\n",
      "Epoch 60/100\n",
      "10/10 [==============================] - 0s 19ms/step - loss: 1.0415 - sparse_categorical_accuracy: 0.7276 - val_loss: 1.2327 - val_sparse_categorical_accuracy: 0.6154\n",
      "Epoch 61/100\n",
      "10/10 [==============================] - 0s 19ms/step - loss: 1.0417 - sparse_categorical_accuracy: 0.6891 - val_loss: 1.3795 - val_sparse_categorical_accuracy: 0.5256\n",
      "Epoch 62/100\n",
      "10/10 [==============================] - 0s 19ms/step - loss: 1.0499 - sparse_categorical_accuracy: 0.7147 - val_loss: 1.2451 - val_sparse_categorical_accuracy: 0.6282\n",
      "Epoch 63/100\n",
      "10/10 [==============================] - 0s 19ms/step - loss: 1.0001 - sparse_categorical_accuracy: 0.7244 - val_loss: 1.2361 - val_sparse_categorical_accuracy: 0.5897\n",
      "Epoch 64/100\n",
      "10/10 [==============================] - 0s 20ms/step - loss: 0.9987 - sparse_categorical_accuracy: 0.7276 - val_loss: 1.1832 - val_sparse_categorical_accuracy: 0.6282\n",
      "Epoch 65/100\n",
      "10/10 [==============================] - 0s 20ms/step - loss: 1.0159 - sparse_categorical_accuracy: 0.7179 - val_loss: 1.2937 - val_sparse_categorical_accuracy: 0.5513\n",
      "Epoch 66/100\n",
      "10/10 [==============================] - 0s 18ms/step - loss: 0.9787 - sparse_categorical_accuracy: 0.7083 - val_loss: 1.2547 - val_sparse_categorical_accuracy: 0.6026\n",
      "Epoch 67/100\n",
      "10/10 [==============================] - 0s 21ms/step - loss: 0.9825 - sparse_categorical_accuracy: 0.7340 - val_loss: 1.1800 - val_sparse_categorical_accuracy: 0.6282\n",
      "Epoch 68/100\n",
      "10/10 [==============================] - 0s 20ms/step - loss: 0.9756 - sparse_categorical_accuracy: 0.7147 - val_loss: 1.1778 - val_sparse_categorical_accuracy: 0.6410\n",
      "Epoch 69/100\n",
      "10/10 [==============================] - 0s 20ms/step - loss: 0.9646 - sparse_categorical_accuracy: 0.7276 - val_loss: 1.1688 - val_sparse_categorical_accuracy: 0.5897\n",
      "Epoch 70/100\n",
      "10/10 [==============================] - 0s 18ms/step - loss: 1.0031 - sparse_categorical_accuracy: 0.7115 - val_loss: 1.1792 - val_sparse_categorical_accuracy: 0.5897\n",
      "Epoch 71/100\n",
      "10/10 [==============================] - 0s 19ms/step - loss: 0.9796 - sparse_categorical_accuracy: 0.7179 - val_loss: 1.2428 - val_sparse_categorical_accuracy: 0.5513\n",
      "Epoch 72/100\n",
      "10/10 [==============================] - 0s 20ms/step - loss: 0.9455 - sparse_categorical_accuracy: 0.7404 - val_loss: 1.0734 - val_sparse_categorical_accuracy: 0.6154\n",
      "Epoch 73/100\n",
      "10/10 [==============================] - 0s 19ms/step - loss: 0.9529 - sparse_categorical_accuracy: 0.7179 - val_loss: 1.2346 - val_sparse_categorical_accuracy: 0.6026\n",
      "Epoch 74/100\n",
      "10/10 [==============================] - 0s 19ms/step - loss: 0.9450 - sparse_categorical_accuracy: 0.7212 - val_loss: 1.0756 - val_sparse_categorical_accuracy: 0.6410\n",
      "Epoch 75/100\n",
      "10/10 [==============================] - 0s 22ms/step - loss: 0.9173 - sparse_categorical_accuracy: 0.7404 - val_loss: 1.0669 - val_sparse_categorical_accuracy: 0.6923\n",
      "Epoch 76/100\n",
      "10/10 [==============================] - 0s 19ms/step - loss: 0.9211 - sparse_categorical_accuracy: 0.7212 - val_loss: 1.0851 - val_sparse_categorical_accuracy: 0.6410\n",
      "Epoch 77/100\n",
      "10/10 [==============================] - 0s 17ms/step - loss: 0.9230 - sparse_categorical_accuracy: 0.7276 - val_loss: 1.4401 - val_sparse_categorical_accuracy: 0.5513\n",
      "Epoch 78/100\n",
      "10/10 [==============================] - 0s 18ms/step - loss: 0.9064 - sparse_categorical_accuracy: 0.7468 - val_loss: 1.0870 - val_sparse_categorical_accuracy: 0.6667\n",
      "Epoch 79/100\n",
      "10/10 [==============================] - 0s 19ms/step - loss: 0.9019 - sparse_categorical_accuracy: 0.7564 - val_loss: 1.0965 - val_sparse_categorical_accuracy: 0.6410\n",
      "Epoch 80/100\n",
      "10/10 [==============================] - 0s 20ms/step - loss: 0.8672 - sparse_categorical_accuracy: 0.7436 - val_loss: 1.1851 - val_sparse_categorical_accuracy: 0.5897\n",
      "Epoch 81/100\n",
      "10/10 [==============================] - 0s 20ms/step - loss: 0.9003 - sparse_categorical_accuracy: 0.7340 - val_loss: 1.5037 - val_sparse_categorical_accuracy: 0.4615\n",
      "Epoch 82/100\n",
      "10/10 [==============================] - 0s 21ms/step - loss: 0.8684 - sparse_categorical_accuracy: 0.7692 - val_loss: 1.3125 - val_sparse_categorical_accuracy: 0.5641\n",
      "Epoch 83/100\n",
      "10/10 [==============================] - 0s 21ms/step - loss: 0.8848 - sparse_categorical_accuracy: 0.7212 - val_loss: 1.1137 - val_sparse_categorical_accuracy: 0.6154\n",
      "Epoch 84/100\n",
      "10/10 [==============================] - 0s 21ms/step - loss: 0.9180 - sparse_categorical_accuracy: 0.7244 - val_loss: 1.0996 - val_sparse_categorical_accuracy: 0.6410\n",
      "Epoch 85/100\n",
      "10/10 [==============================] - 0s 21ms/step - loss: 0.8727 - sparse_categorical_accuracy: 0.7404 - val_loss: 0.9968 - val_sparse_categorical_accuracy: 0.6282\n",
      "Epoch 86/100\n",
      "10/10 [==============================] - 0s 20ms/step - loss: 0.8653 - sparse_categorical_accuracy: 0.7436 - val_loss: 1.0937 - val_sparse_categorical_accuracy: 0.5769\n",
      "Epoch 87/100\n",
      "10/10 [==============================] - 0s 21ms/step - loss: 0.8264 - sparse_categorical_accuracy: 0.7628 - val_loss: 1.0543 - val_sparse_categorical_accuracy: 0.6282\n",
      "Epoch 88/100\n",
      "10/10 [==============================] - 0s 20ms/step - loss: 0.8142 - sparse_categorical_accuracy: 0.7724 - val_loss: 1.0977 - val_sparse_categorical_accuracy: 0.6026\n",
      "Epoch 89/100\n",
      "10/10 [==============================] - 0s 22ms/step - loss: 0.8409 - sparse_categorical_accuracy: 0.7788 - val_loss: 1.0882 - val_sparse_categorical_accuracy: 0.5897\n",
      "Epoch 90/100\n",
      "10/10 [==============================] - 0s 23ms/step - loss: 0.8343 - sparse_categorical_accuracy: 0.7628 - val_loss: 1.1376 - val_sparse_categorical_accuracy: 0.6410\n",
      "Epoch 91/100\n",
      "10/10 [==============================] - 0s 21ms/step - loss: 0.8111 - sparse_categorical_accuracy: 0.7660 - val_loss: 1.2574 - val_sparse_categorical_accuracy: 0.5897\n",
      "Epoch 92/100\n",
      "10/10 [==============================] - 0s 20ms/step - loss: 0.8039 - sparse_categorical_accuracy: 0.7692 - val_loss: 1.3030 - val_sparse_categorical_accuracy: 0.4872\n",
      "Epoch 93/100\n",
      "10/10 [==============================] - 0s 20ms/step - loss: 0.8057 - sparse_categorical_accuracy: 0.7724 - val_loss: 1.5766 - val_sparse_categorical_accuracy: 0.3974\n",
      "Epoch 94/100\n",
      "10/10 [==============================] - 0s 21ms/step - loss: 0.8428 - sparse_categorical_accuracy: 0.7532 - val_loss: 1.3799 - val_sparse_categorical_accuracy: 0.4231\n",
      "Epoch 95/100\n",
      "10/10 [==============================] - 0s 21ms/step - loss: 0.8166 - sparse_categorical_accuracy: 0.7628 - val_loss: 2.0905 - val_sparse_categorical_accuracy: 0.3462\n",
      "Epoch 96/100\n",
      "10/10 [==============================] - 0s 20ms/step - loss: 0.8086 - sparse_categorical_accuracy: 0.7596 - val_loss: 1.5577 - val_sparse_categorical_accuracy: 0.4872\n",
      "Epoch 97/100\n",
      "10/10 [==============================] - 0s 21ms/step - loss: 0.8004 - sparse_categorical_accuracy: 0.7628 - val_loss: 1.3355 - val_sparse_categorical_accuracy: 0.4744\n",
      "Epoch 98/100\n",
      "10/10 [==============================] - 0s 21ms/step - loss: 0.7770 - sparse_categorical_accuracy: 0.7821 - val_loss: 1.2505 - val_sparse_categorical_accuracy: 0.5256\n",
      "Epoch 99/100\n",
      "10/10 [==============================] - 0s 20ms/step - loss: 0.7780 - sparse_categorical_accuracy: 0.7853 - val_loss: 1.6322 - val_sparse_categorical_accuracy: 0.4872\n",
      "Epoch 100/100\n",
      "10/10 [==============================] - 0s 19ms/step - loss: 0.7774 - sparse_categorical_accuracy: 0.7596 - val_loss: 1.7978 - val_sparse_categorical_accuracy: 0.3846\n"
     ]
    }
   ],
   "source": [
    "model = make_CNN_model(x_train.shape[1:],num_classes = 12)\n",
    "trained_model, history = train_CNN_model(model, x_train, y_train, epochs=100, batch_size=32)"
   ]
  },
  {
   "cell_type": "code",
   "execution_count": 13,
   "id": "227e6120",
   "metadata": {},
   "outputs": [
    {
     "name": "stdout",
     "output_type": "stream",
     "text": [
      "13/13 [==============================] - 0s 5ms/step - loss: 1.5892 - sparse_categorical_accuracy: 0.4103\n",
      "Test accuracy 0.41025641560554504\n",
      "Test loss 1.5892205238342285\n"
     ]
    }
   ],
   "source": [
    "test_loss, test_acc = trained_model.evaluate(x_test_original, y_test_original)\n",
    "\n",
    "print(\"Test accuracy\", test_acc)\n",
    "print(\"Test loss\", test_loss)"
   ]
  },
  {
   "cell_type": "markdown",
   "id": "4773dace",
   "metadata": {},
   "source": [
    "### Create perturbed test sets and calculate decrease in accuracy"
   ]
  },
  {
   "cell_type": "code",
   "execution_count": 14,
   "id": "b854bfe4-2303-44a0-bef5-eb3c738da9e9",
   "metadata": {},
   "outputs": [
    {
     "name": "stdout",
     "output_type": "stream",
     "text": [
      "(390,)\n"
     ]
    }
   ],
   "source": [
    "print(y_test_original.shape)"
   ]
  },
  {
   "cell_type": "code",
   "execution_count": 15,
   "id": "ffd7c678-03f4-47ae-a1f9-45e0c185580e",
   "metadata": {},
   "outputs": [
    {
     "name": "stdout",
     "output_type": "stream",
     "text": [
      "def perturb(perturbation_strategy, ts, index0, index1, global_ts = []):\n",
      "    if perturbation_strategy == 'RBP':\n",
      "        return RBPIndividual(ts, index0, index1)\n",
      "    if perturbation_strategy == 'zero':\n",
      "        return zeroPerturb(ts, index0, index1)\n",
      "    if perturbation_strategy == 'noise':\n",
      "        return noisePerturb(ts, index0, index1)\n",
      "    if perturbation_strategy == 'blur':\n",
      "        return blurPerturb(ts, index0, index1)\n",
      "    if perturbation_strategy == 'RBP1':\n",
      "        return RBPIndividualNew1(global_ts, ts, index0, index1)    \n",
      "    if perturbation_strategy == 'RBP2':\n",
      "        return RBPIndividualNew2(global_ts, ts, index0, index1)    \n",
      "\n",
      "(perturbation_strategy, ts, index0, index1, global_ts=[])\n"
     ]
    }
   ],
   "source": [
    "print(inspect.getsource(perturb))\n",
    "print(inspect.signature(perturb))"
   ]
  },
  {
   "cell_type": "code",
   "execution_count": 17,
   "id": "4c579fb7",
   "metadata": {},
   "outputs": [
    {
     "name": "stdout",
     "output_type": "stream",
     "text": [
      "13/13 [==============================] - 0s 4ms/step\n",
      "13/13 [==============================] - 0s 4ms/step\n",
      "13/13 [==============================] - 0s 4ms/step\n",
      "13/13 [==============================] - 0s 4ms/step\n",
      "13/13 [==============================] - 0s 4ms/step\n",
      "13/13 [==============================] - 0s 4ms/step\n"
     ]
    }
   ],
   "source": [
    "predictions_original = model.predict(x_test_original)\n",
    "perturb_test_set = x_test_original.copy()\n",
    "perturb_test_set = perturb_test_set.reshape(x_test_original.shape[0:2])\n",
    "\n",
    "x_test_rbp = np.asarray([perturb('RBP',x,200,300) for x in perturb_test_set])\n",
    "x_test_rbp = np.expand_dims(x_test_rbp, axis=-1)\n",
    "predictions_rbp = model.predict(x_test_rbp)\n",
    "\n",
    "pert1 = perturb('RBP1',perturb_test_set[0],200,300, global_ts = perturb_test_set)\n",
    "x_test_new1 = np.asarray([pert1 for x in perturb_test_set])\n",
    "x_test_new1 = np.expand_dims(x_test_new1, axis=-1)\n",
    "predictions_new1 = model.predict(x_test_new1)\n",
    "\n",
    "#x_test_new2 = np.asarray([perturb('RBP2',x,400,500, global_ts = perturb_test_set) for x in perturb_test_set])\n",
    "#x_test_new2 = np.expand_dims(x_test_new2, axis=-1)\n",
    "#predictions_new2 = model.predict(x_test_new2)\n",
    "\n",
    "x_test_zero = np.asarray([perturb('zero',x,200,300) for x in perturb_test_set])\n",
    "x_test_zero = np.expand_dims(x_test_zero, axis=-1)\n",
    "predictions_zero = model.predict(x_test_zero)\n",
    "\n",
    "x_test_noise = np.asarray([perturb('noise',x,200,300) for x in perturb_test_set])\n",
    "x_test_noise = np.expand_dims(x_test_noise, axis=-1)\n",
    "predictions_noise = model.predict(x_test_noise)\n",
    "\n",
    "x_test_blur = np.asarray([perturb('blur',x,200,300) for x in perturb_test_set])\n",
    "x_test_blur = np.expand_dims(x_test_blur, axis=-1)\n",
    "predictions_blur = model.predict(x_test_blur)"
   ]
  },
  {
   "cell_type": "code",
   "execution_count": 18,
   "id": "b5d3f821",
   "metadata": {},
   "outputs": [],
   "source": [
    "def accuracy(predictions, labels):\n",
    "    hits = 0\n",
    "    for i in range(0,len(predictions)):\n",
    "        if predictions[i] == labels[i]:\n",
    "            hits += 1\n",
    "    return hits/len(predictions)"
   ]
  },
  {
   "cell_type": "code",
   "execution_count": 19,
   "id": "89f21d47",
   "metadata": {},
   "outputs": [],
   "source": [
    "original_accuracy = accuracy(np.argmax(predictions_original,axis=1), y_test_original)\n",
    "rbp_accuracy = accuracy(np.argmax(predictions_rbp,axis=1), y_test_original)\n",
    "new1_accuracy = accuracy(np.argmax(predictions_new1,axis=1), y_test_original)\n",
    "#new2_accuracy = accuracy(np.argmax(predictions_new2,axis=1), y_test_original)\n",
    "zero_accuracy = accuracy(np.argmax(predictions_zero,axis=1), y_test_original)\n",
    "noise_accuracy = accuracy(np.argmax(predictions_noise,axis=1), y_test_original)\n",
    "blur_accuracy = accuracy(np.argmax(predictions_blur,axis=1), y_test_original)"
   ]
  },
  {
   "cell_type": "code",
   "execution_count": 20,
   "id": "e52c9d2e",
   "metadata": {},
   "outputs": [
    {
     "name": "stdout",
     "output_type": "stream",
     "text": [
      " Original Accuracy: 0.41025641025641024\n",
      " RBP Accuracy: 0.36923076923076925\n",
      " RBP1 Accuracy: 0.07692307692307693\n",
      " Zero Accuracy: 0.3564102564102564\n",
      " Noise Accuracy: 0.07435897435897436\n",
      " Blur Accuracy: 0.4128205128205128\n",
      "\n"
     ]
    }
   ],
   "source": [
    "print(\" Original Accuracy: \" + str(original_accuracy) + \"\\n\"+\n",
    "    \" RBP Accuracy: \" + str(rbp_accuracy) + \"\\n\"+\n",
    "    \" RBP1 Accuracy: \" + str(new1_accuracy) + \"\\n\"+\n",
    "    #\" RBP2 Accuracy: \" + str(new2_accuracy) + \"\\n\"+\n",
    "      \n",
    "    \" Zero Accuracy: \" + str(zero_accuracy) + \"\\n\"+\n",
    "    \" Noise Accuracy: \" + str(noise_accuracy) + \"\\n\"+\n",
    "    \" Blur Accuracy: \" + str(blur_accuracy) + \"\\n\")"
   ]
  }
 ],
 "metadata": {
  "kernelspec": {
   "display_name": "lime_tf",
   "language": "python",
   "name": "limetf"
  },
  "language_info": {
   "codemirror_mode": {
    "name": "ipython",
    "version": 3
   },
   "file_extension": ".py",
   "mimetype": "text/x-python",
   "name": "python",
   "nbconvert_exporter": "python",
   "pygments_lexer": "ipython3",
   "version": "3.10.13"
  }
 },
 "nbformat": 4,
 "nbformat_minor": 5
}
